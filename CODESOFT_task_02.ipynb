{
  "nbformat": 4,
  "nbformat_minor": 0,
  "metadata": {
    "colab": {
      "provenance": []
    },
    "kernelspec": {
      "name": "python3",
      "display_name": "Python 3"
    },
    "language_info": {
      "name": "python"
    }
  },
  "cells": [
    {
      "cell_type": "markdown",
      "source": [
        "# IMPORTING LIBRARIES\n"
      ],
      "metadata": {
        "id": "cCoJ0ZmdOfOp"
      }
    },
    {
      "cell_type": "code",
      "execution_count": null,
      "metadata": {
        "id": "huHN0LskLVXy"
      },
      "outputs": [],
      "source": [
        "import pandas as pd\n",
        "import matplotlib\n",
        "import numpy as np\n",
        "import seaborn as sns\n",
        "import matplotlib.pyplot as plt\n",
        "import plotly.express as px"
      ]
    },
    {
      "cell_type": "markdown",
      "source": [
        "# LODING DATASET\n"
      ],
      "metadata": {
        "id": "_O_oNqVpOk8S"
      }
    },
    {
      "cell_type": "code",
      "source": [
        "# Try reading the file with a different encoding\n",
        "df = pd.read_csv(\"/content/IMDb Movies India.csv\", encoding='latin-1')\n",
        "# If 'latin-1' doesn't work, try other encodings like 'iso-8859-1'"
      ],
      "metadata": {
        "id": "2iRDRUKRN6pF"
      },
      "execution_count": null,
      "outputs": []
    },
    {
      "cell_type": "markdown",
      "source": [
        "# DATA OVERVIEW\n"
      ],
      "metadata": {
        "id": "WVRWaWs2OsCc"
      }
    },
    {
      "cell_type": "code",
      "source": [
        "df"
      ],
      "metadata": {
        "colab": {
          "base_uri": "https://localhost:8080/",
          "height": 527
        },
        "id": "Vz9Z4_WnN6sB",
        "outputId": "5e9fe6ef-76fe-4a12-cae4-b7a5b8e125cf"
      },
      "execution_count": null,
      "outputs": [
        {
          "output_type": "execute_result",
          "data": {
            "text/plain": [
              "                                     Name    Year Duration            Genre  \\\n",
              "0                                             NaN      NaN            Drama   \n",
              "1      #Gadhvi (He thought he was Gandhi)  (2019)  109 min            Drama   \n",
              "2                             #Homecoming  (2021)   90 min   Drama, Musical   \n",
              "3                                 #Yaaram  (2019)  110 min  Comedy, Romance   \n",
              "4                       ...And Once Again  (2010)  105 min            Drama   \n",
              "...                                   ...     ...      ...              ...   \n",
              "15504                 Zulm Ko Jala Doonga  (1988)      NaN           Action   \n",
              "15505                               Zulmi  (1999)  129 min    Action, Drama   \n",
              "15506                           Zulmi Raj  (2005)      NaN           Action   \n",
              "15507                       Zulmi Shikari  (1988)      NaN           Action   \n",
              "15508                        Zulm-O-Sitam  (1998)  130 min    Action, Drama   \n",
              "\n",
              "       Rating Votes            Director           Actor 1             Actor 2  \\\n",
              "0         NaN   NaN       J.S. Randhawa          Manmauji              Birbal   \n",
              "1         7.0     8       Gaurav Bakshi      Rasika Dugal      Vivek Ghamande   \n",
              "2         NaN   NaN  Soumyajit Majumdar      Sayani Gupta   Plabita Borthakur   \n",
              "3         4.4    35          Ovais Khan           Prateik          Ishita Raj   \n",
              "4         NaN   NaN        Amol Palekar      Rajat Kapoor  Rituparna Sengupta   \n",
              "...       ...   ...                 ...               ...                 ...   \n",
              "15504     4.6    11       Mahendra Shah  Naseeruddin Shah       Sumeet Saigal   \n",
              "15505     4.5   655          Kuku Kohli      Akshay Kumar      Twinkle Khanna   \n",
              "15506     NaN   NaN          Kiran Thej   Sangeeta Tiwari                 NaN   \n",
              "15507     NaN   NaN                 NaN               NaN                 NaN   \n",
              "15508     6.2    20        K.C. Bokadia        Dharmendra          Jaya Prada   \n",
              "\n",
              "               Actor 3  \n",
              "0      Rajendra Bhatia  \n",
              "1        Arvind Jangid  \n",
              "2           Roy Angana  \n",
              "3      Siddhant Kapoor  \n",
              "4          Antara Mali  \n",
              "...                ...  \n",
              "15504    Suparna Anand  \n",
              "15505      Aruna Irani  \n",
              "15506              NaN  \n",
              "15507              NaN  \n",
              "15508      Arjun Sarja  \n",
              "\n",
              "[15509 rows x 10 columns]"
            ],
            "text/html": [
              "\n",
              "  <div id=\"df-7e41b7df-9e1d-438c-b965-dec4006c29e4\" class=\"colab-df-container\">\n",
              "    <div>\n",
              "<style scoped>\n",
              "    .dataframe tbody tr th:only-of-type {\n",
              "        vertical-align: middle;\n",
              "    }\n",
              "\n",
              "    .dataframe tbody tr th {\n",
              "        vertical-align: top;\n",
              "    }\n",
              "\n",
              "    .dataframe thead th {\n",
              "        text-align: right;\n",
              "    }\n",
              "</style>\n",
              "<table border=\"1\" class=\"dataframe\">\n",
              "  <thead>\n",
              "    <tr style=\"text-align: right;\">\n",
              "      <th></th>\n",
              "      <th>Name</th>\n",
              "      <th>Year</th>\n",
              "      <th>Duration</th>\n",
              "      <th>Genre</th>\n",
              "      <th>Rating</th>\n",
              "      <th>Votes</th>\n",
              "      <th>Director</th>\n",
              "      <th>Actor 1</th>\n",
              "      <th>Actor 2</th>\n",
              "      <th>Actor 3</th>\n",
              "    </tr>\n",
              "  </thead>\n",
              "  <tbody>\n",
              "    <tr>\n",
              "      <th>0</th>\n",
              "      <td></td>\n",
              "      <td>NaN</td>\n",
              "      <td>NaN</td>\n",
              "      <td>Drama</td>\n",
              "      <td>NaN</td>\n",
              "      <td>NaN</td>\n",
              "      <td>J.S. Randhawa</td>\n",
              "      <td>Manmauji</td>\n",
              "      <td>Birbal</td>\n",
              "      <td>Rajendra Bhatia</td>\n",
              "    </tr>\n",
              "    <tr>\n",
              "      <th>1</th>\n",
              "      <td>#Gadhvi (He thought he was Gandhi)</td>\n",
              "      <td>(2019)</td>\n",
              "      <td>109 min</td>\n",
              "      <td>Drama</td>\n",
              "      <td>7.0</td>\n",
              "      <td>8</td>\n",
              "      <td>Gaurav Bakshi</td>\n",
              "      <td>Rasika Dugal</td>\n",
              "      <td>Vivek Ghamande</td>\n",
              "      <td>Arvind Jangid</td>\n",
              "    </tr>\n",
              "    <tr>\n",
              "      <th>2</th>\n",
              "      <td>#Homecoming</td>\n",
              "      <td>(2021)</td>\n",
              "      <td>90 min</td>\n",
              "      <td>Drama, Musical</td>\n",
              "      <td>NaN</td>\n",
              "      <td>NaN</td>\n",
              "      <td>Soumyajit Majumdar</td>\n",
              "      <td>Sayani Gupta</td>\n",
              "      <td>Plabita Borthakur</td>\n",
              "      <td>Roy Angana</td>\n",
              "    </tr>\n",
              "    <tr>\n",
              "      <th>3</th>\n",
              "      <td>#Yaaram</td>\n",
              "      <td>(2019)</td>\n",
              "      <td>110 min</td>\n",
              "      <td>Comedy, Romance</td>\n",
              "      <td>4.4</td>\n",
              "      <td>35</td>\n",
              "      <td>Ovais Khan</td>\n",
              "      <td>Prateik</td>\n",
              "      <td>Ishita Raj</td>\n",
              "      <td>Siddhant Kapoor</td>\n",
              "    </tr>\n",
              "    <tr>\n",
              "      <th>4</th>\n",
              "      <td>...And Once Again</td>\n",
              "      <td>(2010)</td>\n",
              "      <td>105 min</td>\n",
              "      <td>Drama</td>\n",
              "      <td>NaN</td>\n",
              "      <td>NaN</td>\n",
              "      <td>Amol Palekar</td>\n",
              "      <td>Rajat Kapoor</td>\n",
              "      <td>Rituparna Sengupta</td>\n",
              "      <td>Antara Mali</td>\n",
              "    </tr>\n",
              "    <tr>\n",
              "      <th>...</th>\n",
              "      <td>...</td>\n",
              "      <td>...</td>\n",
              "      <td>...</td>\n",
              "      <td>...</td>\n",
              "      <td>...</td>\n",
              "      <td>...</td>\n",
              "      <td>...</td>\n",
              "      <td>...</td>\n",
              "      <td>...</td>\n",
              "      <td>...</td>\n",
              "    </tr>\n",
              "    <tr>\n",
              "      <th>15504</th>\n",
              "      <td>Zulm Ko Jala Doonga</td>\n",
              "      <td>(1988)</td>\n",
              "      <td>NaN</td>\n",
              "      <td>Action</td>\n",
              "      <td>4.6</td>\n",
              "      <td>11</td>\n",
              "      <td>Mahendra Shah</td>\n",
              "      <td>Naseeruddin Shah</td>\n",
              "      <td>Sumeet Saigal</td>\n",
              "      <td>Suparna Anand</td>\n",
              "    </tr>\n",
              "    <tr>\n",
              "      <th>15505</th>\n",
              "      <td>Zulmi</td>\n",
              "      <td>(1999)</td>\n",
              "      <td>129 min</td>\n",
              "      <td>Action, Drama</td>\n",
              "      <td>4.5</td>\n",
              "      <td>655</td>\n",
              "      <td>Kuku Kohli</td>\n",
              "      <td>Akshay Kumar</td>\n",
              "      <td>Twinkle Khanna</td>\n",
              "      <td>Aruna Irani</td>\n",
              "    </tr>\n",
              "    <tr>\n",
              "      <th>15506</th>\n",
              "      <td>Zulmi Raj</td>\n",
              "      <td>(2005)</td>\n",
              "      <td>NaN</td>\n",
              "      <td>Action</td>\n",
              "      <td>NaN</td>\n",
              "      <td>NaN</td>\n",
              "      <td>Kiran Thej</td>\n",
              "      <td>Sangeeta Tiwari</td>\n",
              "      <td>NaN</td>\n",
              "      <td>NaN</td>\n",
              "    </tr>\n",
              "    <tr>\n",
              "      <th>15507</th>\n",
              "      <td>Zulmi Shikari</td>\n",
              "      <td>(1988)</td>\n",
              "      <td>NaN</td>\n",
              "      <td>Action</td>\n",
              "      <td>NaN</td>\n",
              "      <td>NaN</td>\n",
              "      <td>NaN</td>\n",
              "      <td>NaN</td>\n",
              "      <td>NaN</td>\n",
              "      <td>NaN</td>\n",
              "    </tr>\n",
              "    <tr>\n",
              "      <th>15508</th>\n",
              "      <td>Zulm-O-Sitam</td>\n",
              "      <td>(1998)</td>\n",
              "      <td>130 min</td>\n",
              "      <td>Action, Drama</td>\n",
              "      <td>6.2</td>\n",
              "      <td>20</td>\n",
              "      <td>K.C. Bokadia</td>\n",
              "      <td>Dharmendra</td>\n",
              "      <td>Jaya Prada</td>\n",
              "      <td>Arjun Sarja</td>\n",
              "    </tr>\n",
              "  </tbody>\n",
              "</table>\n",
              "<p>15509 rows × 10 columns</p>\n",
              "</div>\n",
              "    <div class=\"colab-df-buttons\">\n",
              "\n",
              "  <div class=\"colab-df-container\">\n",
              "    <button class=\"colab-df-convert\" onclick=\"convertToInteractive('df-7e41b7df-9e1d-438c-b965-dec4006c29e4')\"\n",
              "            title=\"Convert this dataframe to an interactive table.\"\n",
              "            style=\"display:none;\">\n",
              "\n",
              "  <svg xmlns=\"http://www.w3.org/2000/svg\" height=\"24px\" viewBox=\"0 -960 960 960\">\n",
              "    <path d=\"M120-120v-720h720v720H120Zm60-500h600v-160H180v160Zm220 220h160v-160H400v160Zm0 220h160v-160H400v160ZM180-400h160v-160H180v160Zm440 0h160v-160H620v160ZM180-180h160v-160H180v160Zm440 0h160v-160H620v160Z\"/>\n",
              "  </svg>\n",
              "    </button>\n",
              "\n",
              "  <style>\n",
              "    .colab-df-container {\n",
              "      display:flex;\n",
              "      gap: 12px;\n",
              "    }\n",
              "\n",
              "    .colab-df-convert {\n",
              "      background-color: #E8F0FE;\n",
              "      border: none;\n",
              "      border-radius: 50%;\n",
              "      cursor: pointer;\n",
              "      display: none;\n",
              "      fill: #1967D2;\n",
              "      height: 32px;\n",
              "      padding: 0 0 0 0;\n",
              "      width: 32px;\n",
              "    }\n",
              "\n",
              "    .colab-df-convert:hover {\n",
              "      background-color: #E2EBFA;\n",
              "      box-shadow: 0px 1px 2px rgba(60, 64, 67, 0.3), 0px 1px 3px 1px rgba(60, 64, 67, 0.15);\n",
              "      fill: #174EA6;\n",
              "    }\n",
              "\n",
              "    .colab-df-buttons div {\n",
              "      margin-bottom: 4px;\n",
              "    }\n",
              "\n",
              "    [theme=dark] .colab-df-convert {\n",
              "      background-color: #3B4455;\n",
              "      fill: #D2E3FC;\n",
              "    }\n",
              "\n",
              "    [theme=dark] .colab-df-convert:hover {\n",
              "      background-color: #434B5C;\n",
              "      box-shadow: 0px 1px 3px 1px rgba(0, 0, 0, 0.15);\n",
              "      filter: drop-shadow(0px 1px 2px rgba(0, 0, 0, 0.3));\n",
              "      fill: #FFFFFF;\n",
              "    }\n",
              "  </style>\n",
              "\n",
              "    <script>\n",
              "      const buttonEl =\n",
              "        document.querySelector('#df-7e41b7df-9e1d-438c-b965-dec4006c29e4 button.colab-df-convert');\n",
              "      buttonEl.style.display =\n",
              "        google.colab.kernel.accessAllowed ? 'block' : 'none';\n",
              "\n",
              "      async function convertToInteractive(key) {\n",
              "        const element = document.querySelector('#df-7e41b7df-9e1d-438c-b965-dec4006c29e4');\n",
              "        const dataTable =\n",
              "          await google.colab.kernel.invokeFunction('convertToInteractive',\n",
              "                                                    [key], {});\n",
              "        if (!dataTable) return;\n",
              "\n",
              "        const docLinkHtml = 'Like what you see? Visit the ' +\n",
              "          '<a target=\"_blank\" href=https://colab.research.google.com/notebooks/data_table.ipynb>data table notebook</a>'\n",
              "          + ' to learn more about interactive tables.';\n",
              "        element.innerHTML = '';\n",
              "        dataTable['output_type'] = 'display_data';\n",
              "        await google.colab.output.renderOutput(dataTable, element);\n",
              "        const docLink = document.createElement('div');\n",
              "        docLink.innerHTML = docLinkHtml;\n",
              "        element.appendChild(docLink);\n",
              "      }\n",
              "    </script>\n",
              "  </div>\n",
              "\n",
              "\n",
              "<div id=\"df-aaaa6012-2960-4d5e-9ca5-1c1a3242c250\">\n",
              "  <button class=\"colab-df-quickchart\" onclick=\"quickchart('df-aaaa6012-2960-4d5e-9ca5-1c1a3242c250')\"\n",
              "            title=\"Suggest charts\"\n",
              "            style=\"display:none;\">\n",
              "\n",
              "<svg xmlns=\"http://www.w3.org/2000/svg\" height=\"24px\"viewBox=\"0 0 24 24\"\n",
              "     width=\"24px\">\n",
              "    <g>\n",
              "        <path d=\"M19 3H5c-1.1 0-2 .9-2 2v14c0 1.1.9 2 2 2h14c1.1 0 2-.9 2-2V5c0-1.1-.9-2-2-2zM9 17H7v-7h2v7zm4 0h-2V7h2v10zm4 0h-2v-4h2v4z\"/>\n",
              "    </g>\n",
              "</svg>\n",
              "  </button>\n",
              "\n",
              "<style>\n",
              "  .colab-df-quickchart {\n",
              "      --bg-color: #E8F0FE;\n",
              "      --fill-color: #1967D2;\n",
              "      --hover-bg-color: #E2EBFA;\n",
              "      --hover-fill-color: #174EA6;\n",
              "      --disabled-fill-color: #AAA;\n",
              "      --disabled-bg-color: #DDD;\n",
              "  }\n",
              "\n",
              "  [theme=dark] .colab-df-quickchart {\n",
              "      --bg-color: #3B4455;\n",
              "      --fill-color: #D2E3FC;\n",
              "      --hover-bg-color: #434B5C;\n",
              "      --hover-fill-color: #FFFFFF;\n",
              "      --disabled-bg-color: #3B4455;\n",
              "      --disabled-fill-color: #666;\n",
              "  }\n",
              "\n",
              "  .colab-df-quickchart {\n",
              "    background-color: var(--bg-color);\n",
              "    border: none;\n",
              "    border-radius: 50%;\n",
              "    cursor: pointer;\n",
              "    display: none;\n",
              "    fill: var(--fill-color);\n",
              "    height: 32px;\n",
              "    padding: 0;\n",
              "    width: 32px;\n",
              "  }\n",
              "\n",
              "  .colab-df-quickchart:hover {\n",
              "    background-color: var(--hover-bg-color);\n",
              "    box-shadow: 0 1px 2px rgba(60, 64, 67, 0.3), 0 1px 3px 1px rgba(60, 64, 67, 0.15);\n",
              "    fill: var(--button-hover-fill-color);\n",
              "  }\n",
              "\n",
              "  .colab-df-quickchart-complete:disabled,\n",
              "  .colab-df-quickchart-complete:disabled:hover {\n",
              "    background-color: var(--disabled-bg-color);\n",
              "    fill: var(--disabled-fill-color);\n",
              "    box-shadow: none;\n",
              "  }\n",
              "\n",
              "  .colab-df-spinner {\n",
              "    border: 2px solid var(--fill-color);\n",
              "    border-color: transparent;\n",
              "    border-bottom-color: var(--fill-color);\n",
              "    animation:\n",
              "      spin 1s steps(1) infinite;\n",
              "  }\n",
              "\n",
              "  @keyframes spin {\n",
              "    0% {\n",
              "      border-color: transparent;\n",
              "      border-bottom-color: var(--fill-color);\n",
              "      border-left-color: var(--fill-color);\n",
              "    }\n",
              "    20% {\n",
              "      border-color: transparent;\n",
              "      border-left-color: var(--fill-color);\n",
              "      border-top-color: var(--fill-color);\n",
              "    }\n",
              "    30% {\n",
              "      border-color: transparent;\n",
              "      border-left-color: var(--fill-color);\n",
              "      border-top-color: var(--fill-color);\n",
              "      border-right-color: var(--fill-color);\n",
              "    }\n",
              "    40% {\n",
              "      border-color: transparent;\n",
              "      border-right-color: var(--fill-color);\n",
              "      border-top-color: var(--fill-color);\n",
              "    }\n",
              "    60% {\n",
              "      border-color: transparent;\n",
              "      border-right-color: var(--fill-color);\n",
              "    }\n",
              "    80% {\n",
              "      border-color: transparent;\n",
              "      border-right-color: var(--fill-color);\n",
              "      border-bottom-color: var(--fill-color);\n",
              "    }\n",
              "    90% {\n",
              "      border-color: transparent;\n",
              "      border-bottom-color: var(--fill-color);\n",
              "    }\n",
              "  }\n",
              "</style>\n",
              "\n",
              "  <script>\n",
              "    async function quickchart(key) {\n",
              "      const quickchartButtonEl =\n",
              "        document.querySelector('#' + key + ' button');\n",
              "      quickchartButtonEl.disabled = true;  // To prevent multiple clicks.\n",
              "      quickchartButtonEl.classList.add('colab-df-spinner');\n",
              "      try {\n",
              "        const charts = await google.colab.kernel.invokeFunction(\n",
              "            'suggestCharts', [key], {});\n",
              "      } catch (error) {\n",
              "        console.error('Error during call to suggestCharts:', error);\n",
              "      }\n",
              "      quickchartButtonEl.classList.remove('colab-df-spinner');\n",
              "      quickchartButtonEl.classList.add('colab-df-quickchart-complete');\n",
              "    }\n",
              "    (() => {\n",
              "      let quickchartButtonEl =\n",
              "        document.querySelector('#df-aaaa6012-2960-4d5e-9ca5-1c1a3242c250 button');\n",
              "      quickchartButtonEl.style.display =\n",
              "        google.colab.kernel.accessAllowed ? 'block' : 'none';\n",
              "    })();\n",
              "  </script>\n",
              "</div>\n",
              "\n",
              "  <div id=\"id_48965319-ef00-434c-8c8a-64c67b9dd3da\">\n",
              "    <style>\n",
              "      .colab-df-generate {\n",
              "        background-color: #E8F0FE;\n",
              "        border: none;\n",
              "        border-radius: 50%;\n",
              "        cursor: pointer;\n",
              "        display: none;\n",
              "        fill: #1967D2;\n",
              "        height: 32px;\n",
              "        padding: 0 0 0 0;\n",
              "        width: 32px;\n",
              "      }\n",
              "\n",
              "      .colab-df-generate:hover {\n",
              "        background-color: #E2EBFA;\n",
              "        box-shadow: 0px 1px 2px rgba(60, 64, 67, 0.3), 0px 1px 3px 1px rgba(60, 64, 67, 0.15);\n",
              "        fill: #174EA6;\n",
              "      }\n",
              "\n",
              "      [theme=dark] .colab-df-generate {\n",
              "        background-color: #3B4455;\n",
              "        fill: #D2E3FC;\n",
              "      }\n",
              "\n",
              "      [theme=dark] .colab-df-generate:hover {\n",
              "        background-color: #434B5C;\n",
              "        box-shadow: 0px 1px 3px 1px rgba(0, 0, 0, 0.15);\n",
              "        filter: drop-shadow(0px 1px 2px rgba(0, 0, 0, 0.3));\n",
              "        fill: #FFFFFF;\n",
              "      }\n",
              "    </style>\n",
              "    <button class=\"colab-df-generate\" onclick=\"generateWithVariable('df')\"\n",
              "            title=\"Generate code using this dataframe.\"\n",
              "            style=\"display:none;\">\n",
              "\n",
              "  <svg xmlns=\"http://www.w3.org/2000/svg\" height=\"24px\"viewBox=\"0 0 24 24\"\n",
              "       width=\"24px\">\n",
              "    <path d=\"M7,19H8.4L18.45,9,17,7.55,7,17.6ZM5,21V16.75L18.45,3.32a2,2,0,0,1,2.83,0l1.4,1.43a1.91,1.91,0,0,1,.58,1.4,1.91,1.91,0,0,1-.58,1.4L9.25,21ZM18.45,9,17,7.55Zm-12,3A5.31,5.31,0,0,0,4.9,8.1,5.31,5.31,0,0,0,1,6.5,5.31,5.31,0,0,0,4.9,4.9,5.31,5.31,0,0,0,6.5,1,5.31,5.31,0,0,0,8.1,4.9,5.31,5.31,0,0,0,12,6.5,5.46,5.46,0,0,0,6.5,12Z\"/>\n",
              "  </svg>\n",
              "    </button>\n",
              "    <script>\n",
              "      (() => {\n",
              "      const buttonEl =\n",
              "        document.querySelector('#id_48965319-ef00-434c-8c8a-64c67b9dd3da button.colab-df-generate');\n",
              "      buttonEl.style.display =\n",
              "        google.colab.kernel.accessAllowed ? 'block' : 'none';\n",
              "\n",
              "      buttonEl.onclick = () => {\n",
              "        google.colab.notebook.generateWithVariable('df');\n",
              "      }\n",
              "      })();\n",
              "    </script>\n",
              "  </div>\n",
              "\n",
              "    </div>\n",
              "  </div>\n"
            ],
            "application/vnd.google.colaboratory.intrinsic+json": {
              "type": "dataframe",
              "variable_name": "df",
              "summary": "{\n  \"name\": \"df\",\n  \"rows\": 15509,\n  \"fields\": [\n    {\n      \"column\": \"Name\",\n      \"properties\": {\n        \"dtype\": \"string\",\n        \"num_unique_values\": 13838,\n        \"samples\": [\n          \"Tumsa Nahin Dekha\",\n          \"Thanedaar\",\n          \"Farzande Hind\"\n        ],\n        \"semantic_type\": \"\",\n        \"description\": \"\"\n      }\n    },\n    {\n      \"column\": \"Year\",\n      \"properties\": {\n        \"dtype\": \"category\",\n        \"num_unique_values\": 102,\n        \"samples\": [\n          \"(1974)\",\n          \"(1963)\",\n          \"(1971)\"\n        ],\n        \"semantic_type\": \"\",\n        \"description\": \"\"\n      }\n    },\n    {\n      \"column\": \"Duration\",\n      \"properties\": {\n        \"dtype\": \"category\",\n        \"num_unique_values\": 182,\n        \"samples\": [\n          \"168 min\",\n          \"99 min\",\n          \"179 min\"\n        ],\n        \"semantic_type\": \"\",\n        \"description\": \"\"\n      }\n    },\n    {\n      \"column\": \"Genre\",\n      \"properties\": {\n        \"dtype\": \"category\",\n        \"num_unique_values\": 485,\n        \"samples\": [\n          \"Family, Mystery\",\n          \"Comedy, Fantasy, Musical\",\n          \"Action, Adventure, Crime\"\n        ],\n        \"semantic_type\": \"\",\n        \"description\": \"\"\n      }\n    },\n    {\n      \"column\": \"Rating\",\n      \"properties\": {\n        \"dtype\": \"number\",\n        \"std\": 1.3817771548659665,\n        \"min\": 1.1,\n        \"max\": 10.0,\n        \"num_unique_values\": 84,\n        \"samples\": [\n          1.4,\n          7.0,\n          2.9\n        ],\n        \"semantic_type\": \"\",\n        \"description\": \"\"\n      }\n    },\n    {\n      \"column\": \"Votes\",\n      \"properties\": {\n        \"dtype\": \"category\",\n        \"num_unique_values\": 2034,\n        \"samples\": [\n          \"837\",\n          \"101\",\n          \"2,566\"\n        ],\n        \"semantic_type\": \"\",\n        \"description\": \"\"\n      }\n    },\n    {\n      \"column\": \"Director\",\n      \"properties\": {\n        \"dtype\": \"category\",\n        \"num_unique_values\": 5938,\n        \"samples\": [\n          \"Param Hans Chitra\",\n          \"Vickram\",\n          \"Zaigham Ali Syed\"\n        ],\n        \"semantic_type\": \"\",\n        \"description\": \"\"\n      }\n    },\n    {\n      \"column\": \"Actor 1\",\n      \"properties\": {\n        \"dtype\": \"category\",\n        \"num_unique_values\": 4718,\n        \"samples\": [\n          \"Abhishek Bachchan\",\n          \"Giri Babu\",\n          \"Ajay Bafna\"\n        ],\n        \"semantic_type\": \"\",\n        \"description\": \"\"\n      }\n    },\n    {\n      \"column\": \"Actor 2\",\n      \"properties\": {\n        \"dtype\": \"category\",\n        \"num_unique_values\": 4891,\n        \"samples\": [\n          \"Bipasha Basu\",\n          \"Mukul Dev\",\n          \"Arjun Kapoor\"\n        ],\n        \"semantic_type\": \"\",\n        \"description\": \"\"\n      }\n    },\n    {\n      \"column\": \"Actor 3\",\n      \"properties\": {\n        \"dtype\": \"category\",\n        \"num_unique_values\": 4820,\n        \"samples\": [\n          \"Damandeep Singh\",\n          \"Kamini Kaushal\",\n          \"Babu\"\n        ],\n        \"semantic_type\": \"\",\n        \"description\": \"\"\n      }\n    }\n  ]\n}"
            }
          },
          "metadata": {},
          "execution_count": 4
        }
      ]
    },
    {
      "cell_type": "code",
      "source": [
        "df.head()"
      ],
      "metadata": {
        "colab": {
          "base_uri": "https://localhost:8080/",
          "height": 275
        },
        "id": "47dUKt8UN6uy",
        "outputId": "1006ed88-0de5-4711-d5c3-c13f31730463"
      },
      "execution_count": null,
      "outputs": [
        {
          "output_type": "execute_result",
          "data": {
            "text/plain": [
              "                                 Name    Year Duration            Genre  \\\n",
              "0                                         NaN      NaN            Drama   \n",
              "1  #Gadhvi (He thought he was Gandhi)  (2019)  109 min            Drama   \n",
              "2                         #Homecoming  (2021)   90 min   Drama, Musical   \n",
              "3                             #Yaaram  (2019)  110 min  Comedy, Romance   \n",
              "4                   ...And Once Again  (2010)  105 min            Drama   \n",
              "\n",
              "   Rating Votes            Director       Actor 1             Actor 2  \\\n",
              "0     NaN   NaN       J.S. Randhawa      Manmauji              Birbal   \n",
              "1     7.0     8       Gaurav Bakshi  Rasika Dugal      Vivek Ghamande   \n",
              "2     NaN   NaN  Soumyajit Majumdar  Sayani Gupta   Plabita Borthakur   \n",
              "3     4.4    35          Ovais Khan       Prateik          Ishita Raj   \n",
              "4     NaN   NaN        Amol Palekar  Rajat Kapoor  Rituparna Sengupta   \n",
              "\n",
              "           Actor 3  \n",
              "0  Rajendra Bhatia  \n",
              "1    Arvind Jangid  \n",
              "2       Roy Angana  \n",
              "3  Siddhant Kapoor  \n",
              "4      Antara Mali  "
            ],
            "text/html": [
              "\n",
              "  <div id=\"df-77722bd8-8baa-459e-9b43-efd130e8e8f2\" class=\"colab-df-container\">\n",
              "    <div>\n",
              "<style scoped>\n",
              "    .dataframe tbody tr th:only-of-type {\n",
              "        vertical-align: middle;\n",
              "    }\n",
              "\n",
              "    .dataframe tbody tr th {\n",
              "        vertical-align: top;\n",
              "    }\n",
              "\n",
              "    .dataframe thead th {\n",
              "        text-align: right;\n",
              "    }\n",
              "</style>\n",
              "<table border=\"1\" class=\"dataframe\">\n",
              "  <thead>\n",
              "    <tr style=\"text-align: right;\">\n",
              "      <th></th>\n",
              "      <th>Name</th>\n",
              "      <th>Year</th>\n",
              "      <th>Duration</th>\n",
              "      <th>Genre</th>\n",
              "      <th>Rating</th>\n",
              "      <th>Votes</th>\n",
              "      <th>Director</th>\n",
              "      <th>Actor 1</th>\n",
              "      <th>Actor 2</th>\n",
              "      <th>Actor 3</th>\n",
              "    </tr>\n",
              "  </thead>\n",
              "  <tbody>\n",
              "    <tr>\n",
              "      <th>0</th>\n",
              "      <td></td>\n",
              "      <td>NaN</td>\n",
              "      <td>NaN</td>\n",
              "      <td>Drama</td>\n",
              "      <td>NaN</td>\n",
              "      <td>NaN</td>\n",
              "      <td>J.S. Randhawa</td>\n",
              "      <td>Manmauji</td>\n",
              "      <td>Birbal</td>\n",
              "      <td>Rajendra Bhatia</td>\n",
              "    </tr>\n",
              "    <tr>\n",
              "      <th>1</th>\n",
              "      <td>#Gadhvi (He thought he was Gandhi)</td>\n",
              "      <td>(2019)</td>\n",
              "      <td>109 min</td>\n",
              "      <td>Drama</td>\n",
              "      <td>7.0</td>\n",
              "      <td>8</td>\n",
              "      <td>Gaurav Bakshi</td>\n",
              "      <td>Rasika Dugal</td>\n",
              "      <td>Vivek Ghamande</td>\n",
              "      <td>Arvind Jangid</td>\n",
              "    </tr>\n",
              "    <tr>\n",
              "      <th>2</th>\n",
              "      <td>#Homecoming</td>\n",
              "      <td>(2021)</td>\n",
              "      <td>90 min</td>\n",
              "      <td>Drama, Musical</td>\n",
              "      <td>NaN</td>\n",
              "      <td>NaN</td>\n",
              "      <td>Soumyajit Majumdar</td>\n",
              "      <td>Sayani Gupta</td>\n",
              "      <td>Plabita Borthakur</td>\n",
              "      <td>Roy Angana</td>\n",
              "    </tr>\n",
              "    <tr>\n",
              "      <th>3</th>\n",
              "      <td>#Yaaram</td>\n",
              "      <td>(2019)</td>\n",
              "      <td>110 min</td>\n",
              "      <td>Comedy, Romance</td>\n",
              "      <td>4.4</td>\n",
              "      <td>35</td>\n",
              "      <td>Ovais Khan</td>\n",
              "      <td>Prateik</td>\n",
              "      <td>Ishita Raj</td>\n",
              "      <td>Siddhant Kapoor</td>\n",
              "    </tr>\n",
              "    <tr>\n",
              "      <th>4</th>\n",
              "      <td>...And Once Again</td>\n",
              "      <td>(2010)</td>\n",
              "      <td>105 min</td>\n",
              "      <td>Drama</td>\n",
              "      <td>NaN</td>\n",
              "      <td>NaN</td>\n",
              "      <td>Amol Palekar</td>\n",
              "      <td>Rajat Kapoor</td>\n",
              "      <td>Rituparna Sengupta</td>\n",
              "      <td>Antara Mali</td>\n",
              "    </tr>\n",
              "  </tbody>\n",
              "</table>\n",
              "</div>\n",
              "    <div class=\"colab-df-buttons\">\n",
              "\n",
              "  <div class=\"colab-df-container\">\n",
              "    <button class=\"colab-df-convert\" onclick=\"convertToInteractive('df-77722bd8-8baa-459e-9b43-efd130e8e8f2')\"\n",
              "            title=\"Convert this dataframe to an interactive table.\"\n",
              "            style=\"display:none;\">\n",
              "\n",
              "  <svg xmlns=\"http://www.w3.org/2000/svg\" height=\"24px\" viewBox=\"0 -960 960 960\">\n",
              "    <path d=\"M120-120v-720h720v720H120Zm60-500h600v-160H180v160Zm220 220h160v-160H400v160Zm0 220h160v-160H400v160ZM180-400h160v-160H180v160Zm440 0h160v-160H620v160ZM180-180h160v-160H180v160Zm440 0h160v-160H620v160Z\"/>\n",
              "  </svg>\n",
              "    </button>\n",
              "\n",
              "  <style>\n",
              "    .colab-df-container {\n",
              "      display:flex;\n",
              "      gap: 12px;\n",
              "    }\n",
              "\n",
              "    .colab-df-convert {\n",
              "      background-color: #E8F0FE;\n",
              "      border: none;\n",
              "      border-radius: 50%;\n",
              "      cursor: pointer;\n",
              "      display: none;\n",
              "      fill: #1967D2;\n",
              "      height: 32px;\n",
              "      padding: 0 0 0 0;\n",
              "      width: 32px;\n",
              "    }\n",
              "\n",
              "    .colab-df-convert:hover {\n",
              "      background-color: #E2EBFA;\n",
              "      box-shadow: 0px 1px 2px rgba(60, 64, 67, 0.3), 0px 1px 3px 1px rgba(60, 64, 67, 0.15);\n",
              "      fill: #174EA6;\n",
              "    }\n",
              "\n",
              "    .colab-df-buttons div {\n",
              "      margin-bottom: 4px;\n",
              "    }\n",
              "\n",
              "    [theme=dark] .colab-df-convert {\n",
              "      background-color: #3B4455;\n",
              "      fill: #D2E3FC;\n",
              "    }\n",
              "\n",
              "    [theme=dark] .colab-df-convert:hover {\n",
              "      background-color: #434B5C;\n",
              "      box-shadow: 0px 1px 3px 1px rgba(0, 0, 0, 0.15);\n",
              "      filter: drop-shadow(0px 1px 2px rgba(0, 0, 0, 0.3));\n",
              "      fill: #FFFFFF;\n",
              "    }\n",
              "  </style>\n",
              "\n",
              "    <script>\n",
              "      const buttonEl =\n",
              "        document.querySelector('#df-77722bd8-8baa-459e-9b43-efd130e8e8f2 button.colab-df-convert');\n",
              "      buttonEl.style.display =\n",
              "        google.colab.kernel.accessAllowed ? 'block' : 'none';\n",
              "\n",
              "      async function convertToInteractive(key) {\n",
              "        const element = document.querySelector('#df-77722bd8-8baa-459e-9b43-efd130e8e8f2');\n",
              "        const dataTable =\n",
              "          await google.colab.kernel.invokeFunction('convertToInteractive',\n",
              "                                                    [key], {});\n",
              "        if (!dataTable) return;\n",
              "\n",
              "        const docLinkHtml = 'Like what you see? Visit the ' +\n",
              "          '<a target=\"_blank\" href=https://colab.research.google.com/notebooks/data_table.ipynb>data table notebook</a>'\n",
              "          + ' to learn more about interactive tables.';\n",
              "        element.innerHTML = '';\n",
              "        dataTable['output_type'] = 'display_data';\n",
              "        await google.colab.output.renderOutput(dataTable, element);\n",
              "        const docLink = document.createElement('div');\n",
              "        docLink.innerHTML = docLinkHtml;\n",
              "        element.appendChild(docLink);\n",
              "      }\n",
              "    </script>\n",
              "  </div>\n",
              "\n",
              "\n",
              "<div id=\"df-7bd810e5-e77d-4456-9755-9e8037716530\">\n",
              "  <button class=\"colab-df-quickchart\" onclick=\"quickchart('df-7bd810e5-e77d-4456-9755-9e8037716530')\"\n",
              "            title=\"Suggest charts\"\n",
              "            style=\"display:none;\">\n",
              "\n",
              "<svg xmlns=\"http://www.w3.org/2000/svg\" height=\"24px\"viewBox=\"0 0 24 24\"\n",
              "     width=\"24px\">\n",
              "    <g>\n",
              "        <path d=\"M19 3H5c-1.1 0-2 .9-2 2v14c0 1.1.9 2 2 2h14c1.1 0 2-.9 2-2V5c0-1.1-.9-2-2-2zM9 17H7v-7h2v7zm4 0h-2V7h2v10zm4 0h-2v-4h2v4z\"/>\n",
              "    </g>\n",
              "</svg>\n",
              "  </button>\n",
              "\n",
              "<style>\n",
              "  .colab-df-quickchart {\n",
              "      --bg-color: #E8F0FE;\n",
              "      --fill-color: #1967D2;\n",
              "      --hover-bg-color: #E2EBFA;\n",
              "      --hover-fill-color: #174EA6;\n",
              "      --disabled-fill-color: #AAA;\n",
              "      --disabled-bg-color: #DDD;\n",
              "  }\n",
              "\n",
              "  [theme=dark] .colab-df-quickchart {\n",
              "      --bg-color: #3B4455;\n",
              "      --fill-color: #D2E3FC;\n",
              "      --hover-bg-color: #434B5C;\n",
              "      --hover-fill-color: #FFFFFF;\n",
              "      --disabled-bg-color: #3B4455;\n",
              "      --disabled-fill-color: #666;\n",
              "  }\n",
              "\n",
              "  .colab-df-quickchart {\n",
              "    background-color: var(--bg-color);\n",
              "    border: none;\n",
              "    border-radius: 50%;\n",
              "    cursor: pointer;\n",
              "    display: none;\n",
              "    fill: var(--fill-color);\n",
              "    height: 32px;\n",
              "    padding: 0;\n",
              "    width: 32px;\n",
              "  }\n",
              "\n",
              "  .colab-df-quickchart:hover {\n",
              "    background-color: var(--hover-bg-color);\n",
              "    box-shadow: 0 1px 2px rgba(60, 64, 67, 0.3), 0 1px 3px 1px rgba(60, 64, 67, 0.15);\n",
              "    fill: var(--button-hover-fill-color);\n",
              "  }\n",
              "\n",
              "  .colab-df-quickchart-complete:disabled,\n",
              "  .colab-df-quickchart-complete:disabled:hover {\n",
              "    background-color: var(--disabled-bg-color);\n",
              "    fill: var(--disabled-fill-color);\n",
              "    box-shadow: none;\n",
              "  }\n",
              "\n",
              "  .colab-df-spinner {\n",
              "    border: 2px solid var(--fill-color);\n",
              "    border-color: transparent;\n",
              "    border-bottom-color: var(--fill-color);\n",
              "    animation:\n",
              "      spin 1s steps(1) infinite;\n",
              "  }\n",
              "\n",
              "  @keyframes spin {\n",
              "    0% {\n",
              "      border-color: transparent;\n",
              "      border-bottom-color: var(--fill-color);\n",
              "      border-left-color: var(--fill-color);\n",
              "    }\n",
              "    20% {\n",
              "      border-color: transparent;\n",
              "      border-left-color: var(--fill-color);\n",
              "      border-top-color: var(--fill-color);\n",
              "    }\n",
              "    30% {\n",
              "      border-color: transparent;\n",
              "      border-left-color: var(--fill-color);\n",
              "      border-top-color: var(--fill-color);\n",
              "      border-right-color: var(--fill-color);\n",
              "    }\n",
              "    40% {\n",
              "      border-color: transparent;\n",
              "      border-right-color: var(--fill-color);\n",
              "      border-top-color: var(--fill-color);\n",
              "    }\n",
              "    60% {\n",
              "      border-color: transparent;\n",
              "      border-right-color: var(--fill-color);\n",
              "    }\n",
              "    80% {\n",
              "      border-color: transparent;\n",
              "      border-right-color: var(--fill-color);\n",
              "      border-bottom-color: var(--fill-color);\n",
              "    }\n",
              "    90% {\n",
              "      border-color: transparent;\n",
              "      border-bottom-color: var(--fill-color);\n",
              "    }\n",
              "  }\n",
              "</style>\n",
              "\n",
              "  <script>\n",
              "    async function quickchart(key) {\n",
              "      const quickchartButtonEl =\n",
              "        document.querySelector('#' + key + ' button');\n",
              "      quickchartButtonEl.disabled = true;  // To prevent multiple clicks.\n",
              "      quickchartButtonEl.classList.add('colab-df-spinner');\n",
              "      try {\n",
              "        const charts = await google.colab.kernel.invokeFunction(\n",
              "            'suggestCharts', [key], {});\n",
              "      } catch (error) {\n",
              "        console.error('Error during call to suggestCharts:', error);\n",
              "      }\n",
              "      quickchartButtonEl.classList.remove('colab-df-spinner');\n",
              "      quickchartButtonEl.classList.add('colab-df-quickchart-complete');\n",
              "    }\n",
              "    (() => {\n",
              "      let quickchartButtonEl =\n",
              "        document.querySelector('#df-7bd810e5-e77d-4456-9755-9e8037716530 button');\n",
              "      quickchartButtonEl.style.display =\n",
              "        google.colab.kernel.accessAllowed ? 'block' : 'none';\n",
              "    })();\n",
              "  </script>\n",
              "</div>\n",
              "\n",
              "    </div>\n",
              "  </div>\n"
            ],
            "application/vnd.google.colaboratory.intrinsic+json": {
              "type": "dataframe",
              "variable_name": "df",
              "summary": "{\n  \"name\": \"df\",\n  \"rows\": 15509,\n  \"fields\": [\n    {\n      \"column\": \"Name\",\n      \"properties\": {\n        \"dtype\": \"string\",\n        \"num_unique_values\": 13838,\n        \"samples\": [\n          \"Tumsa Nahin Dekha\",\n          \"Thanedaar\",\n          \"Farzande Hind\"\n        ],\n        \"semantic_type\": \"\",\n        \"description\": \"\"\n      }\n    },\n    {\n      \"column\": \"Year\",\n      \"properties\": {\n        \"dtype\": \"category\",\n        \"num_unique_values\": 102,\n        \"samples\": [\n          \"(1974)\",\n          \"(1963)\",\n          \"(1971)\"\n        ],\n        \"semantic_type\": \"\",\n        \"description\": \"\"\n      }\n    },\n    {\n      \"column\": \"Duration\",\n      \"properties\": {\n        \"dtype\": \"category\",\n        \"num_unique_values\": 182,\n        \"samples\": [\n          \"168 min\",\n          \"99 min\",\n          \"179 min\"\n        ],\n        \"semantic_type\": \"\",\n        \"description\": \"\"\n      }\n    },\n    {\n      \"column\": \"Genre\",\n      \"properties\": {\n        \"dtype\": \"category\",\n        \"num_unique_values\": 485,\n        \"samples\": [\n          \"Family, Mystery\",\n          \"Comedy, Fantasy, Musical\",\n          \"Action, Adventure, Crime\"\n        ],\n        \"semantic_type\": \"\",\n        \"description\": \"\"\n      }\n    },\n    {\n      \"column\": \"Rating\",\n      \"properties\": {\n        \"dtype\": \"number\",\n        \"std\": 1.3817771548659665,\n        \"min\": 1.1,\n        \"max\": 10.0,\n        \"num_unique_values\": 84,\n        \"samples\": [\n          1.4,\n          7.0,\n          2.9\n        ],\n        \"semantic_type\": \"\",\n        \"description\": \"\"\n      }\n    },\n    {\n      \"column\": \"Votes\",\n      \"properties\": {\n        \"dtype\": \"category\",\n        \"num_unique_values\": 2034,\n        \"samples\": [\n          \"837\",\n          \"101\",\n          \"2,566\"\n        ],\n        \"semantic_type\": \"\",\n        \"description\": \"\"\n      }\n    },\n    {\n      \"column\": \"Director\",\n      \"properties\": {\n        \"dtype\": \"category\",\n        \"num_unique_values\": 5938,\n        \"samples\": [\n          \"Param Hans Chitra\",\n          \"Vickram\",\n          \"Zaigham Ali Syed\"\n        ],\n        \"semantic_type\": \"\",\n        \"description\": \"\"\n      }\n    },\n    {\n      \"column\": \"Actor 1\",\n      \"properties\": {\n        \"dtype\": \"category\",\n        \"num_unique_values\": 4718,\n        \"samples\": [\n          \"Abhishek Bachchan\",\n          \"Giri Babu\",\n          \"Ajay Bafna\"\n        ],\n        \"semantic_type\": \"\",\n        \"description\": \"\"\n      }\n    },\n    {\n      \"column\": \"Actor 2\",\n      \"properties\": {\n        \"dtype\": \"category\",\n        \"num_unique_values\": 4891,\n        \"samples\": [\n          \"Bipasha Basu\",\n          \"Mukul Dev\",\n          \"Arjun Kapoor\"\n        ],\n        \"semantic_type\": \"\",\n        \"description\": \"\"\n      }\n    },\n    {\n      \"column\": \"Actor 3\",\n      \"properties\": {\n        \"dtype\": \"category\",\n        \"num_unique_values\": 4820,\n        \"samples\": [\n          \"Damandeep Singh\",\n          \"Kamini Kaushal\",\n          \"Babu\"\n        ],\n        \"semantic_type\": \"\",\n        \"description\": \"\"\n      }\n    }\n  ]\n}"
            }
          },
          "metadata": {},
          "execution_count": 5
        }
      ]
    },
    {
      "cell_type": "code",
      "source": [
        "df.tail()"
      ],
      "metadata": {
        "colab": {
          "base_uri": "https://localhost:8080/",
          "height": 206
        },
        "id": "tSuGi2yLN6xk",
        "outputId": "1a2b339d-7228-4a54-a34f-17b24eaac953"
      },
      "execution_count": null,
      "outputs": [
        {
          "output_type": "execute_result",
          "data": {
            "text/plain": [
              "                      Name    Year Duration          Genre  Rating Votes  \\\n",
              "15504  Zulm Ko Jala Doonga  (1988)      NaN         Action     4.6    11   \n",
              "15505                Zulmi  (1999)  129 min  Action, Drama     4.5   655   \n",
              "15506            Zulmi Raj  (2005)      NaN         Action     NaN   NaN   \n",
              "15507        Zulmi Shikari  (1988)      NaN         Action     NaN   NaN   \n",
              "15508         Zulm-O-Sitam  (1998)  130 min  Action, Drama     6.2    20   \n",
              "\n",
              "            Director           Actor 1         Actor 2        Actor 3  \n",
              "15504  Mahendra Shah  Naseeruddin Shah   Sumeet Saigal  Suparna Anand  \n",
              "15505     Kuku Kohli      Akshay Kumar  Twinkle Khanna    Aruna Irani  \n",
              "15506     Kiran Thej   Sangeeta Tiwari             NaN            NaN  \n",
              "15507            NaN               NaN             NaN            NaN  \n",
              "15508   K.C. Bokadia        Dharmendra      Jaya Prada    Arjun Sarja  "
            ],
            "text/html": [
              "\n",
              "  <div id=\"df-e922bfbf-4082-4df4-aba4-a82a037d8877\" class=\"colab-df-container\">\n",
              "    <div>\n",
              "<style scoped>\n",
              "    .dataframe tbody tr th:only-of-type {\n",
              "        vertical-align: middle;\n",
              "    }\n",
              "\n",
              "    .dataframe tbody tr th {\n",
              "        vertical-align: top;\n",
              "    }\n",
              "\n",
              "    .dataframe thead th {\n",
              "        text-align: right;\n",
              "    }\n",
              "</style>\n",
              "<table border=\"1\" class=\"dataframe\">\n",
              "  <thead>\n",
              "    <tr style=\"text-align: right;\">\n",
              "      <th></th>\n",
              "      <th>Name</th>\n",
              "      <th>Year</th>\n",
              "      <th>Duration</th>\n",
              "      <th>Genre</th>\n",
              "      <th>Rating</th>\n",
              "      <th>Votes</th>\n",
              "      <th>Director</th>\n",
              "      <th>Actor 1</th>\n",
              "      <th>Actor 2</th>\n",
              "      <th>Actor 3</th>\n",
              "    </tr>\n",
              "  </thead>\n",
              "  <tbody>\n",
              "    <tr>\n",
              "      <th>15504</th>\n",
              "      <td>Zulm Ko Jala Doonga</td>\n",
              "      <td>(1988)</td>\n",
              "      <td>NaN</td>\n",
              "      <td>Action</td>\n",
              "      <td>4.6</td>\n",
              "      <td>11</td>\n",
              "      <td>Mahendra Shah</td>\n",
              "      <td>Naseeruddin Shah</td>\n",
              "      <td>Sumeet Saigal</td>\n",
              "      <td>Suparna Anand</td>\n",
              "    </tr>\n",
              "    <tr>\n",
              "      <th>15505</th>\n",
              "      <td>Zulmi</td>\n",
              "      <td>(1999)</td>\n",
              "      <td>129 min</td>\n",
              "      <td>Action, Drama</td>\n",
              "      <td>4.5</td>\n",
              "      <td>655</td>\n",
              "      <td>Kuku Kohli</td>\n",
              "      <td>Akshay Kumar</td>\n",
              "      <td>Twinkle Khanna</td>\n",
              "      <td>Aruna Irani</td>\n",
              "    </tr>\n",
              "    <tr>\n",
              "      <th>15506</th>\n",
              "      <td>Zulmi Raj</td>\n",
              "      <td>(2005)</td>\n",
              "      <td>NaN</td>\n",
              "      <td>Action</td>\n",
              "      <td>NaN</td>\n",
              "      <td>NaN</td>\n",
              "      <td>Kiran Thej</td>\n",
              "      <td>Sangeeta Tiwari</td>\n",
              "      <td>NaN</td>\n",
              "      <td>NaN</td>\n",
              "    </tr>\n",
              "    <tr>\n",
              "      <th>15507</th>\n",
              "      <td>Zulmi Shikari</td>\n",
              "      <td>(1988)</td>\n",
              "      <td>NaN</td>\n",
              "      <td>Action</td>\n",
              "      <td>NaN</td>\n",
              "      <td>NaN</td>\n",
              "      <td>NaN</td>\n",
              "      <td>NaN</td>\n",
              "      <td>NaN</td>\n",
              "      <td>NaN</td>\n",
              "    </tr>\n",
              "    <tr>\n",
              "      <th>15508</th>\n",
              "      <td>Zulm-O-Sitam</td>\n",
              "      <td>(1998)</td>\n",
              "      <td>130 min</td>\n",
              "      <td>Action, Drama</td>\n",
              "      <td>6.2</td>\n",
              "      <td>20</td>\n",
              "      <td>K.C. Bokadia</td>\n",
              "      <td>Dharmendra</td>\n",
              "      <td>Jaya Prada</td>\n",
              "      <td>Arjun Sarja</td>\n",
              "    </tr>\n",
              "  </tbody>\n",
              "</table>\n",
              "</div>\n",
              "    <div class=\"colab-df-buttons\">\n",
              "\n",
              "  <div class=\"colab-df-container\">\n",
              "    <button class=\"colab-df-convert\" onclick=\"convertToInteractive('df-e922bfbf-4082-4df4-aba4-a82a037d8877')\"\n",
              "            title=\"Convert this dataframe to an interactive table.\"\n",
              "            style=\"display:none;\">\n",
              "\n",
              "  <svg xmlns=\"http://www.w3.org/2000/svg\" height=\"24px\" viewBox=\"0 -960 960 960\">\n",
              "    <path d=\"M120-120v-720h720v720H120Zm60-500h600v-160H180v160Zm220 220h160v-160H400v160Zm0 220h160v-160H400v160ZM180-400h160v-160H180v160Zm440 0h160v-160H620v160ZM180-180h160v-160H180v160Zm440 0h160v-160H620v160Z\"/>\n",
              "  </svg>\n",
              "    </button>\n",
              "\n",
              "  <style>\n",
              "    .colab-df-container {\n",
              "      display:flex;\n",
              "      gap: 12px;\n",
              "    }\n",
              "\n",
              "    .colab-df-convert {\n",
              "      background-color: #E8F0FE;\n",
              "      border: none;\n",
              "      border-radius: 50%;\n",
              "      cursor: pointer;\n",
              "      display: none;\n",
              "      fill: #1967D2;\n",
              "      height: 32px;\n",
              "      padding: 0 0 0 0;\n",
              "      width: 32px;\n",
              "    }\n",
              "\n",
              "    .colab-df-convert:hover {\n",
              "      background-color: #E2EBFA;\n",
              "      box-shadow: 0px 1px 2px rgba(60, 64, 67, 0.3), 0px 1px 3px 1px rgba(60, 64, 67, 0.15);\n",
              "      fill: #174EA6;\n",
              "    }\n",
              "\n",
              "    .colab-df-buttons div {\n",
              "      margin-bottom: 4px;\n",
              "    }\n",
              "\n",
              "    [theme=dark] .colab-df-convert {\n",
              "      background-color: #3B4455;\n",
              "      fill: #D2E3FC;\n",
              "    }\n",
              "\n",
              "    [theme=dark] .colab-df-convert:hover {\n",
              "      background-color: #434B5C;\n",
              "      box-shadow: 0px 1px 3px 1px rgba(0, 0, 0, 0.15);\n",
              "      filter: drop-shadow(0px 1px 2px rgba(0, 0, 0, 0.3));\n",
              "      fill: #FFFFFF;\n",
              "    }\n",
              "  </style>\n",
              "\n",
              "    <script>\n",
              "      const buttonEl =\n",
              "        document.querySelector('#df-e922bfbf-4082-4df4-aba4-a82a037d8877 button.colab-df-convert');\n",
              "      buttonEl.style.display =\n",
              "        google.colab.kernel.accessAllowed ? 'block' : 'none';\n",
              "\n",
              "      async function convertToInteractive(key) {\n",
              "        const element = document.querySelector('#df-e922bfbf-4082-4df4-aba4-a82a037d8877');\n",
              "        const dataTable =\n",
              "          await google.colab.kernel.invokeFunction('convertToInteractive',\n",
              "                                                    [key], {});\n",
              "        if (!dataTable) return;\n",
              "\n",
              "        const docLinkHtml = 'Like what you see? Visit the ' +\n",
              "          '<a target=\"_blank\" href=https://colab.research.google.com/notebooks/data_table.ipynb>data table notebook</a>'\n",
              "          + ' to learn more about interactive tables.';\n",
              "        element.innerHTML = '';\n",
              "        dataTable['output_type'] = 'display_data';\n",
              "        await google.colab.output.renderOutput(dataTable, element);\n",
              "        const docLink = document.createElement('div');\n",
              "        docLink.innerHTML = docLinkHtml;\n",
              "        element.appendChild(docLink);\n",
              "      }\n",
              "    </script>\n",
              "  </div>\n",
              "\n",
              "\n",
              "<div id=\"df-8b65d2ef-3f92-4647-b9e2-3ef167b20a52\">\n",
              "  <button class=\"colab-df-quickchart\" onclick=\"quickchart('df-8b65d2ef-3f92-4647-b9e2-3ef167b20a52')\"\n",
              "            title=\"Suggest charts\"\n",
              "            style=\"display:none;\">\n",
              "\n",
              "<svg xmlns=\"http://www.w3.org/2000/svg\" height=\"24px\"viewBox=\"0 0 24 24\"\n",
              "     width=\"24px\">\n",
              "    <g>\n",
              "        <path d=\"M19 3H5c-1.1 0-2 .9-2 2v14c0 1.1.9 2 2 2h14c1.1 0 2-.9 2-2V5c0-1.1-.9-2-2-2zM9 17H7v-7h2v7zm4 0h-2V7h2v10zm4 0h-2v-4h2v4z\"/>\n",
              "    </g>\n",
              "</svg>\n",
              "  </button>\n",
              "\n",
              "<style>\n",
              "  .colab-df-quickchart {\n",
              "      --bg-color: #E8F0FE;\n",
              "      --fill-color: #1967D2;\n",
              "      --hover-bg-color: #E2EBFA;\n",
              "      --hover-fill-color: #174EA6;\n",
              "      --disabled-fill-color: #AAA;\n",
              "      --disabled-bg-color: #DDD;\n",
              "  }\n",
              "\n",
              "  [theme=dark] .colab-df-quickchart {\n",
              "      --bg-color: #3B4455;\n",
              "      --fill-color: #D2E3FC;\n",
              "      --hover-bg-color: #434B5C;\n",
              "      --hover-fill-color: #FFFFFF;\n",
              "      --disabled-bg-color: #3B4455;\n",
              "      --disabled-fill-color: #666;\n",
              "  }\n",
              "\n",
              "  .colab-df-quickchart {\n",
              "    background-color: var(--bg-color);\n",
              "    border: none;\n",
              "    border-radius: 50%;\n",
              "    cursor: pointer;\n",
              "    display: none;\n",
              "    fill: var(--fill-color);\n",
              "    height: 32px;\n",
              "    padding: 0;\n",
              "    width: 32px;\n",
              "  }\n",
              "\n",
              "  .colab-df-quickchart:hover {\n",
              "    background-color: var(--hover-bg-color);\n",
              "    box-shadow: 0 1px 2px rgba(60, 64, 67, 0.3), 0 1px 3px 1px rgba(60, 64, 67, 0.15);\n",
              "    fill: var(--button-hover-fill-color);\n",
              "  }\n",
              "\n",
              "  .colab-df-quickchart-complete:disabled,\n",
              "  .colab-df-quickchart-complete:disabled:hover {\n",
              "    background-color: var(--disabled-bg-color);\n",
              "    fill: var(--disabled-fill-color);\n",
              "    box-shadow: none;\n",
              "  }\n",
              "\n",
              "  .colab-df-spinner {\n",
              "    border: 2px solid var(--fill-color);\n",
              "    border-color: transparent;\n",
              "    border-bottom-color: var(--fill-color);\n",
              "    animation:\n",
              "      spin 1s steps(1) infinite;\n",
              "  }\n",
              "\n",
              "  @keyframes spin {\n",
              "    0% {\n",
              "      border-color: transparent;\n",
              "      border-bottom-color: var(--fill-color);\n",
              "      border-left-color: var(--fill-color);\n",
              "    }\n",
              "    20% {\n",
              "      border-color: transparent;\n",
              "      border-left-color: var(--fill-color);\n",
              "      border-top-color: var(--fill-color);\n",
              "    }\n",
              "    30% {\n",
              "      border-color: transparent;\n",
              "      border-left-color: var(--fill-color);\n",
              "      border-top-color: var(--fill-color);\n",
              "      border-right-color: var(--fill-color);\n",
              "    }\n",
              "    40% {\n",
              "      border-color: transparent;\n",
              "      border-right-color: var(--fill-color);\n",
              "      border-top-color: var(--fill-color);\n",
              "    }\n",
              "    60% {\n",
              "      border-color: transparent;\n",
              "      border-right-color: var(--fill-color);\n",
              "    }\n",
              "    80% {\n",
              "      border-color: transparent;\n",
              "      border-right-color: var(--fill-color);\n",
              "      border-bottom-color: var(--fill-color);\n",
              "    }\n",
              "    90% {\n",
              "      border-color: transparent;\n",
              "      border-bottom-color: var(--fill-color);\n",
              "    }\n",
              "  }\n",
              "</style>\n",
              "\n",
              "  <script>\n",
              "    async function quickchart(key) {\n",
              "      const quickchartButtonEl =\n",
              "        document.querySelector('#' + key + ' button');\n",
              "      quickchartButtonEl.disabled = true;  // To prevent multiple clicks.\n",
              "      quickchartButtonEl.classList.add('colab-df-spinner');\n",
              "      try {\n",
              "        const charts = await google.colab.kernel.invokeFunction(\n",
              "            'suggestCharts', [key], {});\n",
              "      } catch (error) {\n",
              "        console.error('Error during call to suggestCharts:', error);\n",
              "      }\n",
              "      quickchartButtonEl.classList.remove('colab-df-spinner');\n",
              "      quickchartButtonEl.classList.add('colab-df-quickchart-complete');\n",
              "    }\n",
              "    (() => {\n",
              "      let quickchartButtonEl =\n",
              "        document.querySelector('#df-8b65d2ef-3f92-4647-b9e2-3ef167b20a52 button');\n",
              "      quickchartButtonEl.style.display =\n",
              "        google.colab.kernel.accessAllowed ? 'block' : 'none';\n",
              "    })();\n",
              "  </script>\n",
              "</div>\n",
              "\n",
              "    </div>\n",
              "  </div>\n"
            ],
            "application/vnd.google.colaboratory.intrinsic+json": {
              "type": "dataframe",
              "summary": "{\n  \"name\": \"df\",\n  \"rows\": 5,\n  \"fields\": [\n    {\n      \"column\": \"Name\",\n      \"properties\": {\n        \"dtype\": \"string\",\n        \"num_unique_values\": 5,\n        \"samples\": [\n          \"Zulmi\",\n          \"Zulm-O-Sitam\",\n          \"Zulmi Raj\"\n        ],\n        \"semantic_type\": \"\",\n        \"description\": \"\"\n      }\n    },\n    {\n      \"column\": \"Year\",\n      \"properties\": {\n        \"dtype\": \"string\",\n        \"num_unique_values\": 4,\n        \"samples\": [\n          \"(1999)\",\n          \"(1998)\",\n          \"(1988)\"\n        ],\n        \"semantic_type\": \"\",\n        \"description\": \"\"\n      }\n    },\n    {\n      \"column\": \"Duration\",\n      \"properties\": {\n        \"dtype\": \"category\",\n        \"num_unique_values\": 2,\n        \"samples\": [\n          \"130 min\",\n          \"129 min\"\n        ],\n        \"semantic_type\": \"\",\n        \"description\": \"\"\n      }\n    },\n    {\n      \"column\": \"Genre\",\n      \"properties\": {\n        \"dtype\": \"category\",\n        \"num_unique_values\": 2,\n        \"samples\": [\n          \"Action, Drama\",\n          \"Action\"\n        ],\n        \"semantic_type\": \"\",\n        \"description\": \"\"\n      }\n    },\n    {\n      \"column\": \"Rating\",\n      \"properties\": {\n        \"dtype\": \"number\",\n        \"std\": 0.9539392014169459,\n        \"min\": 4.5,\n        \"max\": 6.2,\n        \"num_unique_values\": 3,\n        \"samples\": [\n          4.6,\n          4.5\n        ],\n        \"semantic_type\": \"\",\n        \"description\": \"\"\n      }\n    },\n    {\n      \"column\": \"Votes\",\n      \"properties\": {\n        \"dtype\": \"string\",\n        \"num_unique_values\": 3,\n        \"samples\": [\n          \"11\",\n          \"655\"\n        ],\n        \"semantic_type\": \"\",\n        \"description\": \"\"\n      }\n    },\n    {\n      \"column\": \"Director\",\n      \"properties\": {\n        \"dtype\": \"string\",\n        \"num_unique_values\": 4,\n        \"samples\": [\n          \"Kuku Kohli\",\n          \"K.C. Bokadia\"\n        ],\n        \"semantic_type\": \"\",\n        \"description\": \"\"\n      }\n    },\n    {\n      \"column\": \"Actor 1\",\n      \"properties\": {\n        \"dtype\": \"string\",\n        \"num_unique_values\": 4,\n        \"samples\": [\n          \"Akshay Kumar\",\n          \"Dharmendra\"\n        ],\n        \"semantic_type\": \"\",\n        \"description\": \"\"\n      }\n    },\n    {\n      \"column\": \"Actor 2\",\n      \"properties\": {\n        \"dtype\": \"string\",\n        \"num_unique_values\": 3,\n        \"samples\": [\n          \"Sumeet Saigal\",\n          \"Twinkle Khanna\"\n        ],\n        \"semantic_type\": \"\",\n        \"description\": \"\"\n      }\n    },\n    {\n      \"column\": \"Actor 3\",\n      \"properties\": {\n        \"dtype\": \"string\",\n        \"num_unique_values\": 3,\n        \"samples\": [\n          \"Suparna Anand\",\n          \"Aruna Irani\"\n        ],\n        \"semantic_type\": \"\",\n        \"description\": \"\"\n      }\n    }\n  ]\n}"
            }
          },
          "metadata": {},
          "execution_count": 6
        }
      ]
    },
    {
      "cell_type": "code",
      "source": [
        "df.shape"
      ],
      "metadata": {
        "colab": {
          "base_uri": "https://localhost:8080/"
        },
        "id": "_uLpZ0uMN60J",
        "outputId": "88a25102-7b5c-4783-da7a-dc3da9f600f3"
      },
      "execution_count": null,
      "outputs": [
        {
          "output_type": "execute_result",
          "data": {
            "text/plain": [
              "(15509, 10)"
            ]
          },
          "metadata": {},
          "execution_count": 7
        }
      ]
    },
    {
      "cell_type": "markdown",
      "source": [
        "# Column Information\n"
      ],
      "metadata": {
        "id": "S6o6KtB0PUUj"
      }
    },
    {
      "cell_type": "code",
      "source": [
        "df.info()"
      ],
      "metadata": {
        "colab": {
          "base_uri": "https://localhost:8080/"
        },
        "id": "OdBtbp55N621",
        "outputId": "03804d95-f0c4-4372-c92f-14e643893211"
      },
      "execution_count": null,
      "outputs": [
        {
          "output_type": "stream",
          "name": "stdout",
          "text": [
            "<class 'pandas.core.frame.DataFrame'>\n",
            "RangeIndex: 15509 entries, 0 to 15508\n",
            "Data columns (total 10 columns):\n",
            " #   Column    Non-Null Count  Dtype  \n",
            "---  ------    --------------  -----  \n",
            " 0   Name      15509 non-null  object \n",
            " 1   Year      14981 non-null  object \n",
            " 2   Duration  7240 non-null   object \n",
            " 3   Genre     13632 non-null  object \n",
            " 4   Rating    7919 non-null   float64\n",
            " 5   Votes     7920 non-null   object \n",
            " 6   Director  14984 non-null  object \n",
            " 7   Actor 1   13892 non-null  object \n",
            " 8   Actor 2   13125 non-null  object \n",
            " 9   Actor 3   12365 non-null  object \n",
            "dtypes: float64(1), object(9)\n",
            "memory usage: 1.2+ MB\n"
          ]
        }
      ]
    },
    {
      "cell_type": "code",
      "source": [
        "df.describe()"
      ],
      "metadata": {
        "colab": {
          "base_uri": "https://localhost:8080/",
          "height": 300
        },
        "id": "PGD1u3ecN65v",
        "outputId": "229b003f-33e5-48a2-bdef-98132f70d6b5"
      },
      "execution_count": null,
      "outputs": [
        {
          "output_type": "execute_result",
          "data": {
            "text/plain": [
              "            Rating\n",
              "count  7919.000000\n",
              "mean      5.841621\n",
              "std       1.381777\n",
              "min       1.100000\n",
              "25%       4.900000\n",
              "50%       6.000000\n",
              "75%       6.800000\n",
              "max      10.000000"
            ],
            "text/html": [
              "\n",
              "  <div id=\"df-c98ea4ee-c47d-4fdc-9717-e9c5e58e431b\" class=\"colab-df-container\">\n",
              "    <div>\n",
              "<style scoped>\n",
              "    .dataframe tbody tr th:only-of-type {\n",
              "        vertical-align: middle;\n",
              "    }\n",
              "\n",
              "    .dataframe tbody tr th {\n",
              "        vertical-align: top;\n",
              "    }\n",
              "\n",
              "    .dataframe thead th {\n",
              "        text-align: right;\n",
              "    }\n",
              "</style>\n",
              "<table border=\"1\" class=\"dataframe\">\n",
              "  <thead>\n",
              "    <tr style=\"text-align: right;\">\n",
              "      <th></th>\n",
              "      <th>Rating</th>\n",
              "    </tr>\n",
              "  </thead>\n",
              "  <tbody>\n",
              "    <tr>\n",
              "      <th>count</th>\n",
              "      <td>7919.000000</td>\n",
              "    </tr>\n",
              "    <tr>\n",
              "      <th>mean</th>\n",
              "      <td>5.841621</td>\n",
              "    </tr>\n",
              "    <tr>\n",
              "      <th>std</th>\n",
              "      <td>1.381777</td>\n",
              "    </tr>\n",
              "    <tr>\n",
              "      <th>min</th>\n",
              "      <td>1.100000</td>\n",
              "    </tr>\n",
              "    <tr>\n",
              "      <th>25%</th>\n",
              "      <td>4.900000</td>\n",
              "    </tr>\n",
              "    <tr>\n",
              "      <th>50%</th>\n",
              "      <td>6.000000</td>\n",
              "    </tr>\n",
              "    <tr>\n",
              "      <th>75%</th>\n",
              "      <td>6.800000</td>\n",
              "    </tr>\n",
              "    <tr>\n",
              "      <th>max</th>\n",
              "      <td>10.000000</td>\n",
              "    </tr>\n",
              "  </tbody>\n",
              "</table>\n",
              "</div>\n",
              "    <div class=\"colab-df-buttons\">\n",
              "\n",
              "  <div class=\"colab-df-container\">\n",
              "    <button class=\"colab-df-convert\" onclick=\"convertToInteractive('df-c98ea4ee-c47d-4fdc-9717-e9c5e58e431b')\"\n",
              "            title=\"Convert this dataframe to an interactive table.\"\n",
              "            style=\"display:none;\">\n",
              "\n",
              "  <svg xmlns=\"http://www.w3.org/2000/svg\" height=\"24px\" viewBox=\"0 -960 960 960\">\n",
              "    <path d=\"M120-120v-720h720v720H120Zm60-500h600v-160H180v160Zm220 220h160v-160H400v160Zm0 220h160v-160H400v160ZM180-400h160v-160H180v160Zm440 0h160v-160H620v160ZM180-180h160v-160H180v160Zm440 0h160v-160H620v160Z\"/>\n",
              "  </svg>\n",
              "    </button>\n",
              "\n",
              "  <style>\n",
              "    .colab-df-container {\n",
              "      display:flex;\n",
              "      gap: 12px;\n",
              "    }\n",
              "\n",
              "    .colab-df-convert {\n",
              "      background-color: #E8F0FE;\n",
              "      border: none;\n",
              "      border-radius: 50%;\n",
              "      cursor: pointer;\n",
              "      display: none;\n",
              "      fill: #1967D2;\n",
              "      height: 32px;\n",
              "      padding: 0 0 0 0;\n",
              "      width: 32px;\n",
              "    }\n",
              "\n",
              "    .colab-df-convert:hover {\n",
              "      background-color: #E2EBFA;\n",
              "      box-shadow: 0px 1px 2px rgba(60, 64, 67, 0.3), 0px 1px 3px 1px rgba(60, 64, 67, 0.15);\n",
              "      fill: #174EA6;\n",
              "    }\n",
              "\n",
              "    .colab-df-buttons div {\n",
              "      margin-bottom: 4px;\n",
              "    }\n",
              "\n",
              "    [theme=dark] .colab-df-convert {\n",
              "      background-color: #3B4455;\n",
              "      fill: #D2E3FC;\n",
              "    }\n",
              "\n",
              "    [theme=dark] .colab-df-convert:hover {\n",
              "      background-color: #434B5C;\n",
              "      box-shadow: 0px 1px 3px 1px rgba(0, 0, 0, 0.15);\n",
              "      filter: drop-shadow(0px 1px 2px rgba(0, 0, 0, 0.3));\n",
              "      fill: #FFFFFF;\n",
              "    }\n",
              "  </style>\n",
              "\n",
              "    <script>\n",
              "      const buttonEl =\n",
              "        document.querySelector('#df-c98ea4ee-c47d-4fdc-9717-e9c5e58e431b button.colab-df-convert');\n",
              "      buttonEl.style.display =\n",
              "        google.colab.kernel.accessAllowed ? 'block' : 'none';\n",
              "\n",
              "      async function convertToInteractive(key) {\n",
              "        const element = document.querySelector('#df-c98ea4ee-c47d-4fdc-9717-e9c5e58e431b');\n",
              "        const dataTable =\n",
              "          await google.colab.kernel.invokeFunction('convertToInteractive',\n",
              "                                                    [key], {});\n",
              "        if (!dataTable) return;\n",
              "\n",
              "        const docLinkHtml = 'Like what you see? Visit the ' +\n",
              "          '<a target=\"_blank\" href=https://colab.research.google.com/notebooks/data_table.ipynb>data table notebook</a>'\n",
              "          + ' to learn more about interactive tables.';\n",
              "        element.innerHTML = '';\n",
              "        dataTable['output_type'] = 'display_data';\n",
              "        await google.colab.output.renderOutput(dataTable, element);\n",
              "        const docLink = document.createElement('div');\n",
              "        docLink.innerHTML = docLinkHtml;\n",
              "        element.appendChild(docLink);\n",
              "      }\n",
              "    </script>\n",
              "  </div>\n",
              "\n",
              "\n",
              "<div id=\"df-36dfc0ab-568c-46d1-b91e-4e491c80638d\">\n",
              "  <button class=\"colab-df-quickchart\" onclick=\"quickchart('df-36dfc0ab-568c-46d1-b91e-4e491c80638d')\"\n",
              "            title=\"Suggest charts\"\n",
              "            style=\"display:none;\">\n",
              "\n",
              "<svg xmlns=\"http://www.w3.org/2000/svg\" height=\"24px\"viewBox=\"0 0 24 24\"\n",
              "     width=\"24px\">\n",
              "    <g>\n",
              "        <path d=\"M19 3H5c-1.1 0-2 .9-2 2v14c0 1.1.9 2 2 2h14c1.1 0 2-.9 2-2V5c0-1.1-.9-2-2-2zM9 17H7v-7h2v7zm4 0h-2V7h2v10zm4 0h-2v-4h2v4z\"/>\n",
              "    </g>\n",
              "</svg>\n",
              "  </button>\n",
              "\n",
              "<style>\n",
              "  .colab-df-quickchart {\n",
              "      --bg-color: #E8F0FE;\n",
              "      --fill-color: #1967D2;\n",
              "      --hover-bg-color: #E2EBFA;\n",
              "      --hover-fill-color: #174EA6;\n",
              "      --disabled-fill-color: #AAA;\n",
              "      --disabled-bg-color: #DDD;\n",
              "  }\n",
              "\n",
              "  [theme=dark] .colab-df-quickchart {\n",
              "      --bg-color: #3B4455;\n",
              "      --fill-color: #D2E3FC;\n",
              "      --hover-bg-color: #434B5C;\n",
              "      --hover-fill-color: #FFFFFF;\n",
              "      --disabled-bg-color: #3B4455;\n",
              "      --disabled-fill-color: #666;\n",
              "  }\n",
              "\n",
              "  .colab-df-quickchart {\n",
              "    background-color: var(--bg-color);\n",
              "    border: none;\n",
              "    border-radius: 50%;\n",
              "    cursor: pointer;\n",
              "    display: none;\n",
              "    fill: var(--fill-color);\n",
              "    height: 32px;\n",
              "    padding: 0;\n",
              "    width: 32px;\n",
              "  }\n",
              "\n",
              "  .colab-df-quickchart:hover {\n",
              "    background-color: var(--hover-bg-color);\n",
              "    box-shadow: 0 1px 2px rgba(60, 64, 67, 0.3), 0 1px 3px 1px rgba(60, 64, 67, 0.15);\n",
              "    fill: var(--button-hover-fill-color);\n",
              "  }\n",
              "\n",
              "  .colab-df-quickchart-complete:disabled,\n",
              "  .colab-df-quickchart-complete:disabled:hover {\n",
              "    background-color: var(--disabled-bg-color);\n",
              "    fill: var(--disabled-fill-color);\n",
              "    box-shadow: none;\n",
              "  }\n",
              "\n",
              "  .colab-df-spinner {\n",
              "    border: 2px solid var(--fill-color);\n",
              "    border-color: transparent;\n",
              "    border-bottom-color: var(--fill-color);\n",
              "    animation:\n",
              "      spin 1s steps(1) infinite;\n",
              "  }\n",
              "\n",
              "  @keyframes spin {\n",
              "    0% {\n",
              "      border-color: transparent;\n",
              "      border-bottom-color: var(--fill-color);\n",
              "      border-left-color: var(--fill-color);\n",
              "    }\n",
              "    20% {\n",
              "      border-color: transparent;\n",
              "      border-left-color: var(--fill-color);\n",
              "      border-top-color: var(--fill-color);\n",
              "    }\n",
              "    30% {\n",
              "      border-color: transparent;\n",
              "      border-left-color: var(--fill-color);\n",
              "      border-top-color: var(--fill-color);\n",
              "      border-right-color: var(--fill-color);\n",
              "    }\n",
              "    40% {\n",
              "      border-color: transparent;\n",
              "      border-right-color: var(--fill-color);\n",
              "      border-top-color: var(--fill-color);\n",
              "    }\n",
              "    60% {\n",
              "      border-color: transparent;\n",
              "      border-right-color: var(--fill-color);\n",
              "    }\n",
              "    80% {\n",
              "      border-color: transparent;\n",
              "      border-right-color: var(--fill-color);\n",
              "      border-bottom-color: var(--fill-color);\n",
              "    }\n",
              "    90% {\n",
              "      border-color: transparent;\n",
              "      border-bottom-color: var(--fill-color);\n",
              "    }\n",
              "  }\n",
              "</style>\n",
              "\n",
              "  <script>\n",
              "    async function quickchart(key) {\n",
              "      const quickchartButtonEl =\n",
              "        document.querySelector('#' + key + ' button');\n",
              "      quickchartButtonEl.disabled = true;  // To prevent multiple clicks.\n",
              "      quickchartButtonEl.classList.add('colab-df-spinner');\n",
              "      try {\n",
              "        const charts = await google.colab.kernel.invokeFunction(\n",
              "            'suggestCharts', [key], {});\n",
              "      } catch (error) {\n",
              "        console.error('Error during call to suggestCharts:', error);\n",
              "      }\n",
              "      quickchartButtonEl.classList.remove('colab-df-spinner');\n",
              "      quickchartButtonEl.classList.add('colab-df-quickchart-complete');\n",
              "    }\n",
              "    (() => {\n",
              "      let quickchartButtonEl =\n",
              "        document.querySelector('#df-36dfc0ab-568c-46d1-b91e-4e491c80638d button');\n",
              "      quickchartButtonEl.style.display =\n",
              "        google.colab.kernel.accessAllowed ? 'block' : 'none';\n",
              "    })();\n",
              "  </script>\n",
              "</div>\n",
              "\n",
              "    </div>\n",
              "  </div>\n"
            ],
            "application/vnd.google.colaboratory.intrinsic+json": {
              "type": "dataframe",
              "summary": "{\n  \"name\": \"df\",\n  \"rows\": 8,\n  \"fields\": [\n    {\n      \"column\": \"Rating\",\n      \"properties\": {\n        \"dtype\": \"number\",\n        \"std\": 2797.9713272009612,\n        \"min\": 1.1,\n        \"max\": 7919.0,\n        \"num_unique_values\": 8,\n        \"samples\": [\n          5.841621416845562,\n          6.0,\n          7919.0\n        ],\n        \"semantic_type\": \"\",\n        \"description\": \"\"\n      }\n    }\n  ]\n}"
            }
          },
          "metadata": {},
          "execution_count": 9
        }
      ]
    },
    {
      "cell_type": "code",
      "source": [
        "df.dtypes"
      ],
      "metadata": {
        "colab": {
          "base_uri": "https://localhost:8080/"
        },
        "id": "jSRA7kTPN68G",
        "outputId": "ecf37275-78d4-4aac-dd1a-5d4996959813"
      },
      "execution_count": null,
      "outputs": [
        {
          "output_type": "execute_result",
          "data": {
            "text/plain": [
              "Name         object\n",
              "Year         object\n",
              "Duration     object\n",
              "Genre        object\n",
              "Rating      float64\n",
              "Votes        object\n",
              "Director     object\n",
              "Actor 1      object\n",
              "Actor 2      object\n",
              "Actor 3      object\n",
              "dtype: object"
            ]
          },
          "metadata": {},
          "execution_count": 10
        }
      ]
    },
    {
      "cell_type": "code",
      "source": [
        "df.columns"
      ],
      "metadata": {
        "colab": {
          "base_uri": "https://localhost:8080/"
        },
        "id": "jDtv0SX9N6_H",
        "outputId": "92b4f42c-cc8d-487c-9c52-09563a8c70e1"
      },
      "execution_count": null,
      "outputs": [
        {
          "output_type": "execute_result",
          "data": {
            "text/plain": [
              "Index(['Name', 'Year', 'Duration', 'Genre', 'Rating', 'Votes', 'Director',\n",
              "       'Actor 1', 'Actor 2', 'Actor 3'],\n",
              "      dtype='object')"
            ]
          },
          "metadata": {},
          "execution_count": 11
        }
      ]
    },
    {
      "cell_type": "markdown",
      "source": [
        "## Finding Missing Values"
      ],
      "metadata": {
        "id": "kDgc67YPPom7"
      }
    },
    {
      "cell_type": "code",
      "source": [
        "df.isnull().sum()"
      ],
      "metadata": {
        "colab": {
          "base_uri": "https://localhost:8080/"
        },
        "id": "GwOLR5eyN7CX",
        "outputId": "d13296b7-2c7c-426e-d647-0ee210287b3d"
      },
      "execution_count": null,
      "outputs": [
        {
          "output_type": "execute_result",
          "data": {
            "text/plain": [
              "Name           0\n",
              "Year         528\n",
              "Duration    8269\n",
              "Genre       1877\n",
              "Rating      7590\n",
              "Votes       7589\n",
              "Director     525\n",
              "Actor 1     1617\n",
              "Actor 2     2384\n",
              "Actor 3     3144\n",
              "dtype: int64"
            ]
          },
          "metadata": {},
          "execution_count": 12
        }
      ]
    },
    {
      "cell_type": "code",
      "source": [
        "# Fill missing values for 'Year' with the mode\n",
        "df['Year'].fillna(df['Year'].mode()[0], inplace=True)"
      ],
      "metadata": {
        "id": "d4r1HpBGN7FK"
      },
      "execution_count": null,
      "outputs": []
    },
    {
      "cell_type": "code",
      "source": [
        "# Fill missing values for 'Duration' with the mode\n",
        "df['Duration'].fillna(df['Duration'].mode()[0], inplace=True)"
      ],
      "metadata": {
        "id": "VV9dNFCwN7Hw"
      },
      "execution_count": null,
      "outputs": []
    },
    {
      "cell_type": "code",
      "source": [
        "# Fill missing values for 'Genre' with the mode\n",
        "df['Genre'].fillna(df['Genre'].mode()[0], inplace=True)"
      ],
      "metadata": {
        "id": "3FhPuVG1N7LG"
      },
      "execution_count": null,
      "outputs": []
    },
    {
      "cell_type": "code",
      "source": [
        "df['Rating'].fillna(df['Rating'].mode()[0], inplace=True)\n",
        "df['Votes'].fillna(df['Votes'].mode()[0], inplace=True)\n",
        "df['Director'].fillna(df['Director'].mode()[0], inplace=True)\n",
        "df['Actor 1'].fillna(df['Actor 1'].mode()[0], inplace=True)\n",
        "df['Actor 2'].fillna(df['Actor 2'].mode()[0], inplace=True)\n",
        "df['Actor 3'].fillna(df['Actor 3'].mode()[0], inplace=True)"
      ],
      "metadata": {
        "id": "xqtm55yrL1dl"
      },
      "execution_count": null,
      "outputs": []
    },
    {
      "cell_type": "code",
      "source": [
        "df.isnull().sum()"
      ],
      "metadata": {
        "colab": {
          "base_uri": "https://localhost:8080/"
        },
        "id": "KO6AdGnFQz-y",
        "outputId": "bb6380ec-bf5d-42e3-adf8-a9a7ae6b7c7d"
      },
      "execution_count": null,
      "outputs": [
        {
          "output_type": "execute_result",
          "data": {
            "text/plain": [
              "Name        0\n",
              "Year        0\n",
              "Duration    0\n",
              "Genre       0\n",
              "Rating      0\n",
              "Votes       0\n",
              "Director    0\n",
              "Actor 1     0\n",
              "Actor 2     0\n",
              "Actor 3     0\n",
              "dtype: int64"
            ]
          },
          "metadata": {},
          "execution_count": 21
        }
      ]
    },
    {
      "cell_type": "markdown",
      "source": [
        "### Calcuclate all individual values Categories in dataset"
      ],
      "metadata": {
        "id": "hgJ5H54HRXhm"
      }
    },
    {
      "cell_type": "code",
      "source": [
        "df['Name'].value_counts()"
      ],
      "metadata": {
        "colab": {
          "base_uri": "https://localhost:8080/"
        },
        "id": "EksUWCppRtcF",
        "outputId": "31525aa8-97f5-4773-c564-8eab033b5e94"
      },
      "execution_count": null,
      "outputs": [
        {
          "output_type": "execute_result",
          "data": {
            "text/plain": [
              "Name\n",
              "Anjaam                7\n",
              "Mamta                 7\n",
              "Zindagi               6\n",
              "Musafir               6\n",
              "Albela                5\n",
              "                     ..\n",
              "Hamen Bhi Jeene Do    1\n",
              "Hamen Khelne Do       1\n",
              "Hameshaa              1\n",
              "Hamid                 1\n",
              "Zulm-O-Sitam          1\n",
              "Name: count, Length: 13838, dtype: int64"
            ]
          },
          "metadata": {},
          "execution_count": 22
        }
      ]
    },
    {
      "cell_type": "code",
      "source": [
        "df['Year'].value_counts()"
      ],
      "metadata": {
        "colab": {
          "base_uri": "https://localhost:8080/"
        },
        "id": "HoNIgBBKQz7Y",
        "outputId": "19890f43-ea31-43f5-ffe5-5b84b35d2bf9"
      },
      "execution_count": null,
      "outputs": [
        {
          "output_type": "execute_result",
          "data": {
            "text/plain": [
              "Year\n",
              "(2019)    938\n",
              "(2021)    392\n",
              "(2018)    381\n",
              "(2017)    360\n",
              "(2005)    346\n",
              "         ... \n",
              "(1917)      1\n",
              "(1913)      1\n",
              "(1926)      1\n",
              "(1914)      1\n",
              "(1924)      1\n",
              "Name: count, Length: 102, dtype: int64"
            ]
          },
          "metadata": {},
          "execution_count": 23
        }
      ]
    },
    {
      "cell_type": "code",
      "source": [
        "df['Duration'].value_counts()"
      ],
      "metadata": {
        "colab": {
          "base_uri": "https://localhost:8080/"
        },
        "id": "SGJisy4yQz4c",
        "outputId": "47c84d47-32ce-4b54-c5fd-36a1a0779b80"
      },
      "execution_count": null,
      "outputs": [
        {
          "output_type": "execute_result",
          "data": {
            "text/plain": [
              "Duration\n",
              "120 min    8509\n",
              "135 min     173\n",
              "130 min     171\n",
              "140 min     167\n",
              "150 min     154\n",
              "           ... \n",
              "201 min       1\n",
              "206 min       1\n",
              "198 min       1\n",
              "218 min       1\n",
              "250 min       1\n",
              "Name: count, Length: 182, dtype: int64"
            ]
          },
          "metadata": {},
          "execution_count": 24
        }
      ]
    },
    {
      "cell_type": "code",
      "source": [
        "df['Genre'].value_counts()"
      ],
      "metadata": {
        "colab": {
          "base_uri": "https://localhost:8080/"
        },
        "id": "aMSTO6kXQz15",
        "outputId": "10563828-38db-4d30-c6f6-5b93e2669980"
      },
      "execution_count": null,
      "outputs": [
        {
          "output_type": "execute_result",
          "data": {
            "text/plain": [
              "Genre\n",
              "Drama                         4657\n",
              "Action                        1289\n",
              "Thriller                       779\n",
              "Romance                        708\n",
              "Drama, Romance                 524\n",
              "                              ... \n",
              "Action, Musical, War             1\n",
              "Horror, Crime, Thriller          1\n",
              "Animation, Comedy                1\n",
              "Romance, Action, Crime           1\n",
              "Adventure, Fantasy, Sci-Fi       1\n",
              "Name: count, Length: 485, dtype: int64"
            ]
          },
          "metadata": {},
          "execution_count": 25
        }
      ]
    },
    {
      "cell_type": "code",
      "source": [
        "df['Rating'].value_counts()"
      ],
      "metadata": {
        "colab": {
          "base_uri": "https://localhost:8080/"
        },
        "id": "cqg2L0IsQzy-",
        "outputId": "a97b98f6-3a43-4328-a74a-61b5cc84cace"
      },
      "execution_count": null,
      "outputs": [
        {
          "output_type": "execute_result",
          "data": {
            "text/plain": [
              "Rating\n",
              "6.2     7859\n",
              "6.8      264\n",
              "6.5      254\n",
              "6.6      239\n",
              "6.7      227\n",
              "        ... \n",
              "9.6        1\n",
              "1.4        1\n",
              "9.7        1\n",
              "10.0       1\n",
              "1.1        1\n",
              "Name: count, Length: 84, dtype: int64"
            ]
          },
          "metadata": {},
          "execution_count": 26
        }
      ]
    },
    {
      "cell_type": "code",
      "source": [
        "df['Votes'].value_counts()"
      ],
      "metadata": {
        "colab": {
          "base_uri": "https://localhost:8080/"
        },
        "id": "iHdqNhwxQzwa",
        "outputId": "a5906f22-2513-4aaa-d763-f62acbdf4752"
      },
      "execution_count": null,
      "outputs": [
        {
          "output_type": "execute_result",
          "data": {
            "text/plain": [
              "Votes\n",
              "8        7816\n",
              "7         224\n",
              "9         221\n",
              "6         213\n",
              "10        175\n",
              "         ... \n",
              "1,754       1\n",
              "1,208       1\n",
              "1,148       1\n",
              "1,277       1\n",
              "1,496       1\n",
              "Name: count, Length: 2034, dtype: int64"
            ]
          },
          "metadata": {},
          "execution_count": 27
        }
      ]
    },
    {
      "cell_type": "code",
      "source": [
        "df['Director'].value_counts()"
      ],
      "metadata": {
        "colab": {
          "base_uri": "https://localhost:8080/"
        },
        "id": "QoLUSuihQzto",
        "outputId": "8e2623e1-1301-43a3-c3a6-af85fe2a30f7"
      },
      "execution_count": null,
      "outputs": [
        {
          "output_type": "execute_result",
          "data": {
            "text/plain": [
              "Director\n",
              "Jayant Desai        583\n",
              "Kanti Shah           57\n",
              "Babubhai Mistry      50\n",
              "Mahesh Bhatt         48\n",
              "Master Bhagwan       47\n",
              "                   ... \n",
              "Naeem Siddiqui        1\n",
              "Shadaab Khan          1\n",
              "Mystelle Brabbee      1\n",
              "Kunal Shivdasani      1\n",
              "Kiran Thej            1\n",
              "Name: count, Length: 5938, dtype: int64"
            ]
          },
          "metadata": {},
          "execution_count": 28
        }
      ]
    },
    {
      "cell_type": "code",
      "source": [
        "df['Actor 1'].value_counts()"
      ],
      "metadata": {
        "colab": {
          "base_uri": "https://localhost:8080/"
        },
        "id": "xFpWGFraQzq4",
        "outputId": "1c520fa4-16d7-4c9d-b02b-f1e1555f4643"
      },
      "execution_count": null,
      "outputs": [
        {
          "output_type": "execute_result",
          "data": {
            "text/plain": [
              "Actor 1\n",
              "Ashok Kumar           1775\n",
              "Dharmendra             140\n",
              "Jeetendra              140\n",
              "Mithun Chakraborty     133\n",
              "Amitabh Bachchan       129\n",
              "                      ... \n",
              "Vatsal Sheth             1\n",
              "Ujala Baboria            1\n",
              "Dimple Sewak             1\n",
              "Komal Leels              1\n",
              "Sangeeta Tiwari          1\n",
              "Name: count, Length: 4718, dtype: int64"
            ]
          },
          "metadata": {},
          "execution_count": 29
        }
      ]
    },
    {
      "cell_type": "code",
      "source": [
        "df['Actor 2'].value_counts()"
      ],
      "metadata": {
        "colab": {
          "base_uri": "https://localhost:8080/"
        },
        "id": "b_0pzhuyQzns",
        "outputId": "a2985d44-8856-4f52-dab2-bc6a7668ce6b"
      },
      "execution_count": null,
      "outputs": [
        {
          "output_type": "execute_result",
          "data": {
            "text/plain": [
              "Actor 2\n",
              "Rekha                 2467\n",
              "Hema Malini             72\n",
              "Mithun Chakraborty      63\n",
              "Dharmendra              61\n",
              "Helen                   48\n",
              "                      ... \n",
              "Paris Keswani            1\n",
              "Shubhangi Latkar         1\n",
              "Amit Ghosh               1\n",
              "Ayushi Singh             1\n",
              "Sarah Jane Dias          1\n",
              "Name: count, Length: 4891, dtype: int64"
            ]
          },
          "metadata": {},
          "execution_count": 30
        }
      ]
    },
    {
      "cell_type": "code",
      "source": [
        "df['Actor 3'].value_counts()"
      ],
      "metadata": {
        "colab": {
          "base_uri": "https://localhost:8080/"
        },
        "id": "jmLzXhDnQzk6",
        "outputId": "98e7e4e6-384e-4bf9-c92f-49cf15912e68"
      },
      "execution_count": null,
      "outputs": [
        {
          "output_type": "execute_result",
          "data": {
            "text/plain": [
              "Actor 3\n",
              "Pran             3235\n",
              "Shakti Kapoor      65\n",
              "Anupam Kher        64\n",
              "Jeevan             59\n",
              "Prem Chopra        52\n",
              "                 ... \n",
              "Kayamali            1\n",
              "Kirit Shah          1\n",
              "Sanil Khosla        1\n",
              "Anup Grover         1\n",
              "Suparna Anand       1\n",
              "Name: count, Length: 4820, dtype: int64"
            ]
          },
          "metadata": {},
          "execution_count": 31
        }
      ]
    },
    {
      "cell_type": "markdown",
      "source": [
        "# Plotting HistPlot"
      ],
      "metadata": {
        "id": "cUY5f9UqTEcT"
      }
    },
    {
      "cell_type": "code",
      "source": [
        "df.hist(figsize=(10,10),color='red')\n",
        "plt.show()"
      ],
      "metadata": {
        "colab": {
          "base_uri": "https://localhost:8080/",
          "height": 853
        },
        "id": "85Lp5ZPrQzc1",
        "outputId": "981f53ad-d8e9-46f4-8e6d-a76811444146"
      },
      "execution_count": null,
      "outputs": [
        {
          "output_type": "display_data",
          "data": {
            "text/plain": [
              "<Figure size 1000x1000 with 1 Axes>"
            ],
            "image/png": "[encoded data removed]"
          },
          "metadata": {}
        }
      ]
    },
    {
      "cell_type": "markdown",
      "source": [
        "# Plotting Pairplot"
      ],
      "metadata": {
        "id": "6PlZ5CTrTMHM"
      }
    },
    {
      "cell_type": "code",
      "source": [
        "sns.pairplot(df,hue='Genre',palette='PuRd_r')\n",
        "plt.show()"
      ],
      "metadata": {
        "colab": {
          "base_uri": "https://localhost:8080/",
          "height": 268
        },
        "id": "XXmngmRRQzZ-",
        "outputId": "9984dbe6-3595-459a-de6d-c82a615c12e6"
      },
      "execution_count": null,
      "outputs": [
        {
          "output_type": "display_data",
          "data": {
            "text/plain": [
              "<Figure size 303.111x250 with 2 Axes>"
            ],
            "image/png": "[encoded data removed]"
          },
          "metadata": {}
        }
      ]
    },
    {
      "cell_type": "markdown",
      "source": [
        "# Droping Columns"
      ],
      "metadata": {
        "id": "NYCBiPGXmrWp"
      }
    },
    {
      "cell_type": "code",
      "source": [
        "#we are removing one of the colum from edution to reducary we need remove education because machine canoot recogonice all the\n",
        "#catogriacal values into numerical values for machine learning\n",
        "#redundant info to remove\n",
        "df=df.drop(columns=['Name'])"
      ],
      "metadata": {
        "id": "oB8U-DHAmoqO"
      },
      "execution_count": null,
      "outputs": []
    },
    {
      "cell_type": "code",
      "source": [
        "df.head(3)"
      ],
      "metadata": {
        "colab": {
          "base_uri": "https://localhost:8080/",
          "height": 143
        },
        "id": "jKS3hbAmmom2",
        "outputId": "bc8ee80c-37b6-46bc-9a87-e2c54c847218"
      },
      "execution_count": null,
      "outputs": [
        {
          "output_type": "execute_result",
          "data": {
            "text/plain": [
              "     Year Duration           Genre  Rating Votes            Director  \\\n",
              "0  (2019)  120 min           Drama     6.2     8       J.S. Randhawa   \n",
              "1  (2019)  109 min           Drama     7.0     8       Gaurav Bakshi   \n",
              "2  (2021)   90 min  Drama, Musical     6.2     8  Soumyajit Majumdar   \n",
              "\n",
              "        Actor 1            Actor 2          Actor 3  \n",
              "0      Manmauji             Birbal  Rajendra Bhatia  \n",
              "1  Rasika Dugal     Vivek Ghamande    Arvind Jangid  \n",
              "2  Sayani Gupta  Plabita Borthakur       Roy Angana  "
            ],
            "text/html": [
              "\n",
              "  <div id=\"df-4e8b900b-5659-4a98-baa5-82ac8d15e02b\" class=\"colab-df-container\">\n",
              "    <div>\n",
              "<style scoped>\n",
              "    .dataframe tbody tr th:only-of-type {\n",
              "        vertical-align: middle;\n",
              "    }\n",
              "\n",
              "    .dataframe tbody tr th {\n",
              "        vertical-align: top;\n",
              "    }\n",
              "\n",
              "    .dataframe thead th {\n",
              "        text-align: right;\n",
              "    }\n",
              "</style>\n",
              "<table border=\"1\" class=\"dataframe\">\n",
              "  <thead>\n",
              "    <tr style=\"text-align: right;\">\n",
              "      <th></th>\n",
              "      <th>Year</th>\n",
              "      <th>Duration</th>\n",
              "      <th>Genre</th>\n",
              "      <th>Rating</th>\n",
              "      <th>Votes</th>\n",
              "      <th>Director</th>\n",
              "      <th>Actor 1</th>\n",
              "      <th>Actor 2</th>\n",
              "      <th>Actor 3</th>\n",
              "    </tr>\n",
              "  </thead>\n",
              "  <tbody>\n",
              "    <tr>\n",
              "      <th>0</th>\n",
              "      <td>(2019)</td>\n",
              "      <td>120 min</td>\n",
              "      <td>Drama</td>\n",
              "      <td>6.2</td>\n",
              "      <td>8</td>\n",
              "      <td>J.S. Randhawa</td>\n",
              "      <td>Manmauji</td>\n",
              "      <td>Birbal</td>\n",
              "      <td>Rajendra Bhatia</td>\n",
              "    </tr>\n",
              "    <tr>\n",
              "      <th>1</th>\n",
              "      <td>(2019)</td>\n",
              "      <td>109 min</td>\n",
              "      <td>Drama</td>\n",
              "      <td>7.0</td>\n",
              "      <td>8</td>\n",
              "      <td>Gaurav Bakshi</td>\n",
              "      <td>Rasika Dugal</td>\n",
              "      <td>Vivek Ghamande</td>\n",
              "      <td>Arvind Jangid</td>\n",
              "    </tr>\n",
              "    <tr>\n",
              "      <th>2</th>\n",
              "      <td>(2021)</td>\n",
              "      <td>90 min</td>\n",
              "      <td>Drama, Musical</td>\n",
              "      <td>6.2</td>\n",
              "      <td>8</td>\n",
              "      <td>Soumyajit Majumdar</td>\n",
              "      <td>Sayani Gupta</td>\n",
              "      <td>Plabita Borthakur</td>\n",
              "      <td>Roy Angana</td>\n",
              "    </tr>\n",
              "  </tbody>\n",
              "</table>\n",
              "</div>\n",
              "    <div class=\"colab-df-buttons\">\n",
              "\n",
              "  <div class=\"colab-df-container\">\n",
              "    <button class=\"colab-df-convert\" onclick=\"convertToInteractive('df-4e8b900b-5659-4a98-baa5-82ac8d15e02b')\"\n",
              "            title=\"Convert this dataframe to an interactive table.\"\n",
              "            style=\"display:none;\">\n",
              "\n",
              "  <svg xmlns=\"http://www.w3.org/2000/svg\" height=\"24px\" viewBox=\"0 -960 960 960\">\n",
              "    <path d=\"M120-120v-720h720v720H120Zm60-500h600v-160H180v160Zm220 220h160v-160H400v160Zm0 220h160v-160H400v160ZM180-400h160v-160H180v160Zm440 0h160v-160H620v160ZM180-180h160v-160H180v160Zm440 0h160v-160H620v160Z\"/>\n",
              "  </svg>\n",
              "    </button>\n",
              "\n",
              "  <style>\n",
              "    .colab-df-container {\n",
              "      display:flex;\n",
              "      gap: 12px;\n",
              "    }\n",
              "\n",
              "    .colab-df-convert {\n",
              "      background-color: #E8F0FE;\n",
              "      border: none;\n",
              "      border-radius: 50%;\n",
              "      cursor: pointer;\n",
              "      display: none;\n",
              "      fill: #1967D2;\n",
              "      height: 32px;\n",
              "      padding: 0 0 0 0;\n",
              "      width: 32px;\n",
              "    }\n",
              "\n",
              "    .colab-df-convert:hover {\n",
              "      background-color: #E2EBFA;\n",
              "      box-shadow: 0px 1px 2px rgba(60, 64, 67, 0.3), 0px 1px 3px 1px rgba(60, 64, 67, 0.15);\n",
              "      fill: #174EA6;\n",
              "    }\n",
              "\n",
              "    .colab-df-buttons div {\n",
              "      margin-bottom: 4px;\n",
              "    }\n",
              "\n",
              "    [theme=dark] .colab-df-convert {\n",
              "      background-color: #3B4455;\n",
              "      fill: #D2E3FC;\n",
              "    }\n",
              "\n",
              "    [theme=dark] .colab-df-convert:hover {\n",
              "      background-color: #434B5C;\n",
              "      box-shadow: 0px 1px 3px 1px rgba(0, 0, 0, 0.15);\n",
              "      filter: drop-shadow(0px 1px 2px rgba(0, 0, 0, 0.3));\n",
              "      fill: #FFFFFF;\n",
              "    }\n",
              "  </style>\n",
              "\n",
              "    <script>\n",
              "      const buttonEl =\n",
              "        document.querySelector('#df-4e8b900b-5659-4a98-baa5-82ac8d15e02b button.colab-df-convert');\n",
              "      buttonEl.style.display =\n",
              "        google.colab.kernel.accessAllowed ? 'block' : 'none';\n",
              "\n",
              "      async function convertToInteractive(key) {\n",
              "        const element = document.querySelector('#df-4e8b900b-5659-4a98-baa5-82ac8d15e02b');\n",
              "        const dataTable =\n",
              "          await google.colab.kernel.invokeFunction('convertToInteractive',\n",
              "                                                    [key], {});\n",
              "        if (!dataTable) return;\n",
              "\n",
              "        const docLinkHtml = 'Like what you see? Visit the ' +\n",
              "          '<a target=\"_blank\" href=https://colab.research.google.com/notebooks/data_table.ipynb>data table notebook</a>'\n",
              "          + ' to learn more about interactive tables.';\n",
              "        element.innerHTML = '';\n",
              "        dataTable['output_type'] = 'display_data';\n",
              "        await google.colab.output.renderOutput(dataTable, element);\n",
              "        const docLink = document.createElement('div');\n",
              "        docLink.innerHTML = docLinkHtml;\n",
              "        element.appendChild(docLink);\n",
              "      }\n",
              "    </script>\n",
              "  </div>\n",
              "\n",
              "\n",
              "<div id=\"df-b6344dde-7d4b-4c05-ad03-8aee19cf3b7f\">\n",
              "  <button class=\"colab-df-quickchart\" onclick=\"quickchart('df-b6344dde-7d4b-4c05-ad03-8aee19cf3b7f')\"\n",
              "            title=\"Suggest charts\"\n",
              "            style=\"display:none;\">\n",
              "\n",
              "<svg xmlns=\"http://www.w3.org/2000/svg\" height=\"24px\"viewBox=\"0 0 24 24\"\n",
              "     width=\"24px\">\n",
              "    <g>\n",
              "        <path d=\"M19 3H5c-1.1 0-2 .9-2 2v14c0 1.1.9 2 2 2h14c1.1 0 2-.9 2-2V5c0-1.1-.9-2-2-2zM9 17H7v-7h2v7zm4 0h-2V7h2v10zm4 0h-2v-4h2v4z\"/>\n",
              "    </g>\n",
              "</svg>\n",
              "  </button>\n",
              "\n",
              "<style>\n",
              "  .colab-df-quickchart {\n",
              "      --bg-color: #E8F0FE;\n",
              "      --fill-color: #1967D2;\n",
              "      --hover-bg-color: #E2EBFA;\n",
              "      --hover-fill-color: #174EA6;\n",
              "      --disabled-fill-color: #AAA;\n",
              "      --disabled-bg-color: #DDD;\n",
              "  }\n",
              "\n",
              "  [theme=dark] .colab-df-quickchart {\n",
              "      --bg-color: #3B4455;\n",
              "      --fill-color: #D2E3FC;\n",
              "      --hover-bg-color: #434B5C;\n",
              "      --hover-fill-color: #FFFFFF;\n",
              "      --disabled-bg-color: #3B4455;\n",
              "      --disabled-fill-color: #666;\n",
              "  }\n",
              "\n",
              "  .colab-df-quickchart {\n",
              "    background-color: var(--bg-color);\n",
              "    border: none;\n",
              "    border-radius: 50%;\n",
              "    cursor: pointer;\n",
              "    display: none;\n",
              "    fill: var(--fill-color);\n",
              "    height: 32px;\n",
              "    padding: 0;\n",
              "    width: 32px;\n",
              "  }\n",
              "\n",
              "  .colab-df-quickchart:hover {\n",
              "    background-color: var(--hover-bg-color);\n",
              "    box-shadow: 0 1px 2px rgba(60, 64, 67, 0.3), 0 1px 3px 1px rgba(60, 64, 67, 0.15);\n",
              "    fill: var(--button-hover-fill-color);\n",
              "  }\n",
              "\n",
              "  .colab-df-quickchart-complete:disabled,\n",
              "  .colab-df-quickchart-complete:disabled:hover {\n",
              "    background-color: var(--disabled-bg-color);\n",
              "    fill: var(--disabled-fill-color);\n",
              "    box-shadow: none;\n",
              "  }\n",
              "\n",
              "  .colab-df-spinner {\n",
              "    border: 2px solid var(--fill-color);\n",
              "    border-color: transparent;\n",
              "    border-bottom-color: var(--fill-color);\n",
              "    animation:\n",
              "      spin 1s steps(1) infinite;\n",
              "  }\n",
              "\n",
              "  @keyframes spin {\n",
              "    0% {\n",
              "      border-color: transparent;\n",
              "      border-bottom-color: var(--fill-color);\n",
              "      border-left-color: var(--fill-color);\n",
              "    }\n",
              "    20% {\n",
              "      border-color: transparent;\n",
              "      border-left-color: var(--fill-color);\n",
              "      border-top-color: var(--fill-color);\n",
              "    }\n",
              "    30% {\n",
              "      border-color: transparent;\n",
              "      border-left-color: var(--fill-color);\n",
              "      border-top-color: var(--fill-color);\n",
              "      border-right-color: var(--fill-color);\n",
              "    }\n",
              "    40% {\n",
              "      border-color: transparent;\n",
              "      border-right-color: var(--fill-color);\n",
              "      border-top-color: var(--fill-color);\n",
              "    }\n",
              "    60% {\n",
              "      border-color: transparent;\n",
              "      border-right-color: var(--fill-color);\n",
              "    }\n",
              "    80% {\n",
              "      border-color: transparent;\n",
              "      border-right-color: var(--fill-color);\n",
              "      border-bottom-color: var(--fill-color);\n",
              "    }\n",
              "    90% {\n",
              "      border-color: transparent;\n",
              "      border-bottom-color: var(--fill-color);\n",
              "    }\n",
              "  }\n",
              "</style>\n",
              "\n",
              "  <script>\n",
              "    async function quickchart(key) {\n",
              "      const quickchartButtonEl =\n",
              "        document.querySelector('#' + key + ' button');\n",
              "      quickchartButtonEl.disabled = true;  // To prevent multiple clicks.\n",
              "      quickchartButtonEl.classList.add('colab-df-spinner');\n",
              "      try {\n",
              "        const charts = await google.colab.kernel.invokeFunction(\n",
              "            'suggestCharts', [key], {});\n",
              "      } catch (error) {\n",
              "        console.error('Error during call to suggestCharts:', error);\n",
              "      }\n",
              "      quickchartButtonEl.classList.remove('colab-df-spinner');\n",
              "      quickchartButtonEl.classList.add('colab-df-quickchart-complete');\n",
              "    }\n",
              "    (() => {\n",
              "      let quickchartButtonEl =\n",
              "        document.querySelector('#df-b6344dde-7d4b-4c05-ad03-8aee19cf3b7f button');\n",
              "      quickchartButtonEl.style.display =\n",
              "        google.colab.kernel.accessAllowed ? 'block' : 'none';\n",
              "    })();\n",
              "  </script>\n",
              "</div>\n",
              "\n",
              "    </div>\n",
              "  </div>\n"
            ],
            "application/vnd.google.colaboratory.intrinsic+json": {
              "type": "dataframe",
              "variable_name": "df",
              "summary": "{\n  \"name\": \"df\",\n  \"rows\": 15509,\n  \"fields\": [\n    {\n      \"column\": \"Year\",\n      \"properties\": {\n        \"dtype\": \"category\",\n        \"num_unique_values\": 102,\n        \"samples\": [\n          \"(1974)\",\n          \"(1963)\",\n          \"(1971)\"\n        ],\n        \"semantic_type\": \"\",\n        \"description\": \"\"\n      }\n    },\n    {\n      \"column\": \"Duration\",\n      \"properties\": {\n        \"dtype\": \"category\",\n        \"num_unique_values\": 182,\n        \"samples\": [\n          \"168 min\",\n          \"99 min\",\n          \"179 min\"\n        ],\n        \"semantic_type\": \"\",\n        \"description\": \"\"\n      }\n    },\n    {\n      \"column\": \"Genre\",\n      \"properties\": {\n        \"dtype\": \"category\",\n        \"num_unique_values\": 485,\n        \"samples\": [\n          \"Family, Mystery\",\n          \"Comedy, Fantasy, Musical\",\n          \"Action, Adventure, Crime\"\n        ],\n        \"semantic_type\": \"\",\n        \"description\": \"\"\n      }\n    },\n    {\n      \"column\": \"Rating\",\n      \"properties\": {\n        \"dtype\": \"number\",\n        \"std\": 1.003464880060585,\n        \"min\": 1.1,\n        \"max\": 10.0,\n        \"num_unique_values\": 84,\n        \"samples\": [\n          1.4,\n          6.2,\n          2.9\n        ],\n        \"semantic_type\": \"\",\n        \"description\": \"\"\n      }\n    },\n    {\n      \"column\": \"Votes\",\n      \"properties\": {\n        \"dtype\": \"category\",\n        \"num_unique_values\": 2034,\n        \"samples\": [\n          \"837\",\n          \"101\",\n          \"2,566\"\n        ],\n        \"semantic_type\": \"\",\n        \"description\": \"\"\n      }\n    },\n    {\n      \"column\": \"Director\",\n      \"properties\": {\n        \"dtype\": \"category\",\n        \"num_unique_values\": 5938,\n        \"samples\": [\n          \"Param Hans Chitra\",\n          \"Vickram\",\n          \"Zaigham Ali Syed\"\n        ],\n        \"semantic_type\": \"\",\n        \"description\": \"\"\n      }\n    },\n    {\n      \"column\": \"Actor 1\",\n      \"properties\": {\n        \"dtype\": \"category\",\n        \"num_unique_values\": 4718,\n        \"samples\": [\n          \"Abhishek Bachchan\",\n          \"Giri Babu\",\n          \"Ajay Bafna\"\n        ],\n        \"semantic_type\": \"\",\n        \"description\": \"\"\n      }\n    },\n    {\n      \"column\": \"Actor 2\",\n      \"properties\": {\n        \"dtype\": \"category\",\n        \"num_unique_values\": 4891,\n        \"samples\": [\n          \"Gunjan Bakshi\",\n          \"Neil Nitin Mukesh\",\n          \"Arjun Kapoor\"\n        ],\n        \"semantic_type\": \"\",\n        \"description\": \"\"\n      }\n    },\n    {\n      \"column\": \"Actor 3\",\n      \"properties\": {\n        \"dtype\": \"category\",\n        \"num_unique_values\": 4820,\n        \"samples\": [\n          \"Damandeep Singh\",\n          \"Kamini Kaushal\",\n          \"Babu\"\n        ],\n        \"semantic_type\": \"\",\n        \"description\": \"\"\n      }\n    }\n  ]\n}"
            }
          },
          "metadata": {},
          "execution_count": 38
        }
      ]
    },
    {
      "cell_type": "markdown",
      "source": [
        "# Data Pre Processing"
      ],
      "metadata": {
        "id": "HFoVO0IRPVP1"
      }
    },
    {
      "cell_type": "code",
      "source": [
        "# Replacing the brackets from year column\n",
        "df[\"Year\"] =df[\"Year\"].str.replace(r'[()]', '', regex=True).astype(int)"
      ],
      "metadata": {
        "id": "zdaUldG2PZ8f"
      },
      "execution_count": null,
      "outputs": []
    },
    {
      "cell_type": "code",
      "source": [
        "df[\"Duration\"] = pd.to_numeric(df[\"Duration\"].str.replace('min', '').str.strip())"
      ],
      "metadata": {
        "id": "ML_Pfm0ZPgm8"
      },
      "execution_count": null,
      "outputs": []
    },
    {
      "cell_type": "code",
      "source": [
        "df['Genre'] = df['Genre'].str.split(', ')\n",
        "df = df.explode('Genre')\n",
        "df[\"Genre\"].fillna(df[\"Genre\"].mode()[0], inplace=True)"
      ],
      "metadata": {
        "id": "mBPzyC5lPgjg"
      },
      "execution_count": null,
      "outputs": []
    },
    {
      "cell_type": "code",
      "source": [
        "# Remove non-numeric characters and convert to numeric\n",
        "df['Votes'] = df['Votes'].str.replace(r'\\D', '', regex=True).astype(float)"
      ],
      "metadata": {
        "id": "OZakEQqmPghB"
      },
      "execution_count": null,
      "outputs": []
    },
    {
      "cell_type": "code",
      "source": [
        "df.info()"
      ],
      "metadata": {
        "colab": {
          "base_uri": "https://localhost:8080/"
        },
        "id": "6eP-nBOPPgeO",
        "outputId": "cf47fd7b-8f7b-48c3-90c6-30ce714f92cd"
      },
      "execution_count": null,
      "outputs": [
        {
          "output_type": "stream",
          "name": "stdout",
          "text": [
            "<class 'pandas.core.frame.DataFrame'>\n",
            "Index: 24950 entries, 0 to 15508\n",
            "Data columns (total 9 columns):\n",
            " #   Column    Non-Null Count  Dtype  \n",
            "---  ------    --------------  -----  \n",
            " 0   Year      24950 non-null  int64  \n",
            " 1   Duration  24950 non-null  int64  \n",
            " 2   Genre     24950 non-null  object \n",
            " 3   Rating    24950 non-null  float64\n",
            " 4   Votes     24950 non-null  float64\n",
            " 5   Director  24950 non-null  object \n",
            " 6   Actor 1   24950 non-null  object \n",
            " 7   Actor 2   24950 non-null  object \n",
            " 8   Actor 3   24950 non-null  object \n",
            "dtypes: float64(2), int64(2), object(5)\n",
            "memory usage: 1.9+ MB\n"
          ]
        }
      ]
    },
    {
      "cell_type": "markdown",
      "source": [
        "# Data Visualizing"
      ],
      "metadata": {
        "id": "MJUG8wvvQBNo"
      }
    },
    {
      "cell_type": "code",
      "source": [
        "year = px.histogram(df,x='Year',histnorm='probability density',nbins=30)\n",
        "year.show()"
      ],
      "metadata": {
        "id": "DbsErgHMPgbr",
        "colab": {
          "base_uri": "https://localhost:8080/",
          "height": 542
        },
        "outputId": "081c3814-b470-4d01-cc4d-ac952f0fdf6b"
      },
      "execution_count": 45,
      "outputs": [
        {
          "output_type": "display_data",
          "data": {
            "text/html": [
              "<html>\n",
              "<head><meta charset=\"utf-8\" /></head>\n",
              "<body>\n",
              "    <div>            <script src=\"https://cdnjs.cloudflare.com/ajax/libs/mathjax/2.7.5/MathJax.js?config=TeX-AMS-MML_SVG\"></script><script type=\"text/javascript\">if (window.MathJax && window.MathJax.Hub && window.MathJax.Hub.Config) {window.MathJax.Hub.Config({SVG: {font: \"STIX-Web\"}});}</script>                <script type=\"text/javascript\">window.PlotlyConfig = {MathJaxConfig: 'local'};</script>\n",
              "        <script charset=\"utf-8\" src=\"https://cdn.plot.ly/plotly-2.24.1.min.js\"></script>                <div id=\"2f9e41b1-e10a-4b99-ba38-391637db5f89\" class=\"plotly-graph-div\" style=\"height:525px; width:100%;\"></div>            <script type=\"text/javascript\">                                    window.PLOTLYENV=window.PLOTLYENV || {};                                    if (document.getElementById(\"2f9e41b1-e10a-4b99-ba38-391637db5f89\")) {                    Plotly.newPlot(                        \"2f9e41b1-e10a-4b99-ba38-391637db5f89\",                        [{\"alignmentgroup\":\"True\",\"bingroup\":\"x\",\"histnorm\":\"probability density\",\"hovertemplate\":\"Year=%{x}\\u003cbr\\u003eprobability density=%{y}\\u003cextra\\u003e\\u003c\\u002fextra\\u003e\",\"legendgroup\":\"\",\"marker\":{\"color\":\"#636efa\",\"pattern\":{\"shape\":\"\"}},\"name\":\"\",\"nbinsx\":30,\"offsetgroup\":\"\",\"orientation\":\"v\",\"showlegend\":false,\"x\":[2019,2019,2021,2021,2019,2019,2010,1997,1997,1997,2005,2005,2005,2008,2012,2012,2012,2014,2014,2014,2004,2016,1991,1991,1991,2012,2012,2012,1990,2018,2018,2019,1987,1987,1987,2010,2010,2010,1948,2021,2021,2021,1958,1958,1958,2021,2021,2019,2021,2017,2017,2010,2020,2009,2009,2009,2021,2005,2002,1993,2002,2002,2014,1946,1946,2004,2019,2019,2019,2008,2008,2008,2016,2016,2012,2012,2012,2018,2018,2018,1994,1994,1994,2007,2007,2007,2019,2017,2014,2019,2019,2013,2013,2012,2012,2012,2003,2003,2003,2005,2014,2014,2014,2018,2018,1998,1998,1998,2018,2018,2017,2019,2018,1979,1979,2019,2002,2002,2002,1998,1951,1956,1956,2008,1974,2014,2014,2012,2012,2020,2003,2003,2019,2009,2009,2009,2009,2020,2018,2015,2015,2004,2016,2015,2015,2015,2009,2006,2006,2006,1981,1981,1974,1974,1974,2020,2020,2019,1985,2013,2013,2013,2019,2016,2019,2019,2019,2011,2011,2011,2016,2009,2009,2012,2012,2012,2011,2012,1974,1974,2001,2018,2007,2007,2002,2011,2011,2011,1967,2020,2002,2014,2007,2011,2019,2019,2019,2005,2005,1988,1995,1995,2016,2016,2006,2011,2011,2011,1987,1987,1987,2019,2019,2019,2019,2019,2019,2019,2018,2008,2009,2009,2009,2021,2021,2021,2021,2021,2021,2003,2003,2017,2019,2011,2011,2011,2009,2009,2009,2019,2019,2005,2005,2016,2016,2016,2016,2016,2016,2019,2016,2016,2016,2021,2014,2014,2014,2017,2016,2016,2016,2015,2015,2005,2005,2010,2010,2010,2016,2016,2016,2020,2020,2017,2017,2019,2019,1959,2013,1996,2021,2013,1970,2019,2019,2020,2016,2021,1997,1976,2019,2019,2019,2000,2011,2005,2005,2017,2019,2021,2021,2002,2017,2017,2017,2008,2008,2008,2017,1999,1999,1999,2018,2021,2021,2009,2009,2009,1973,1973,1973,1994,1994,2017,2016,1999,2004,1956,1968,1968,1968,1943,1953,1953,1943,2007,1986,2018,2002,2020,1983,1989,1982,1982,1982,1977,2019,2004,1982,1996,2013,2013,2013,1990,1991,1957,1950,1950,1999,1957,1986,1992,1968,1968,1993,1993,1993,1991,2001,1969,1969,1969,1993,1993,2009,1977,1977,2016,1977,1977,2021,2021,2021,1948,1948,1967,1967,1994,1994,1994,1994,1994,1990,1994,1970,1970,1970,1990,1986,1986,1986,2001,1998,1975,1975,1975,1987,1990,1953,1953,1990,1990,2002,2002,1993,1988,1988,2001,1991,1991,1990,1989,2011,2011,2011,1947,1972,1943,1988,2001,1987,2009,2009,2009,2000,2000,2000,2000,1953,1953,1982,1953,1953,1953,1971,1935,1950,1978,1978,1992,2020,2020,1996,1946,1960,1993,1993,1977,1944,1944,2019,2004,2004,1987,1947,1947,1963,1963,2004,1935,2003,1990,1990,1990,1985,1985,1948,1993,1992,1992,2001,2001,1992,2006,1940,1991,2004,2006,1976,1976,1995,2000,2000,2000,1992,2000,2000,1995,1991,1991,1997,1976,1984,1984,1934,1988,1988,1990,1985,1984,1984,1984,1955,1991,1979,1940,1988,1976,1948,1992,1992,1973,1993,1993,1968,1994,2000,2002,1993,2007,2007,2007,1994,1994,1968,1968,1994,1994,1993,2019,1984,2000,2000,2000,1985,1986,1986,1986,1988,1988,1989,1989,1989,1989,1989,1989,2004,1991,1993,1975,1975,1975,1978,1958,2004,1936,1975,1989,1989,1989,1977,1980,1980,2002,1979,1979,1966,2003,1994,1981,1981,1978,1974,1988,1949,1999,1977,1990,1990,1997,2016,1975,1975,1975,2001,1988,1980,1980,1980,2010,2010,2010,1998,1998,1998,2012,2001,2001,1962,1962,2007,2018,2018,2001,2001,2001,2008,2008,2008,2013,1967,1967,1967,1982,1982,1982,2009,2018,1984,1972,1956,1970,1970,1970,2004,2004,2004,2003,1980,1980,1980,1960,1960,1968,1993,1975,1975,1948,1964,1964,1964,1985,1952,1990,1959,1959,1973,1973,1979,1979,2019,1933,1943,1972,2021,2021,1942,2004,1993,1993,1993,1950,1950,2002,2002,2002,2021,1978,1972,1972,2005,1953,1970,1970,1970,1936,1993,1983,2003,1984,2021,1964,1964,1964,1983,1994,2009,2009,2009,1971,1971,1971,1976,1976,1948,2003,1988,1980,1986,1974,1974,1977,1977,1977,2006,2006,1939,1964,1964,1964,1946,2002,2002,2002,1994,1978,1980,1980,1980,2009,1981,1981,2003,2003,2003,1992,1985,2004,1997,2011,2011,1951,1976,1957,1979,1982,1974,1954,1954,1954,1962,1962,1962,1945,2007,2007,2007,1992,2019,2019,2019,1988,1999,1999,1953,1978,1983,1961,1961,1981,1957,1957,1980,1980,1980,1983,2010,1986,1974,1974,1974,1993,1962,2001,2001,2001,2005,2005,2005,1977,1995,1990,1990,1990,2013,2013,2013,2011,2011,1968,2014,2018,2018,2018,2009,1952,1952,1984,1984,1965,1992,1992,1992,1993,1966,1966,2016,2019,2019,2019,1997,1996,1996,1995,1995,1995,1999,2006,2006,2006,2019,1979,1994,1994,1994,2006,2006,2006,2013,2013,2013,1978,2004,2021,1998,1998,1974,1974,1956,1990,1990,2018,2018,2018,1994,1964,1964,1964,1999,1999,2021,1966,1966,1980,2011,2011,2011,1995,1995,1995,1984,1990,2010,1957,2012,1995,1995,2002,2002,2002,1977,1977,2002,1989,1983,2004,2004,2004,2015,2015,2015,1994,1994,1995,2004,2004,2004,2005,2021,2004,2004,1989,2013,2013,1968,1960,1980,1980,1980,1933,1955,1955,1955,1938,1995,1992,1970,1977,1977,1977,1989,2005,2019,1968,1968,1938,1957,1957,1957,1973,1973,1980,1991,1991,1991,1989,1989,1989,2019,1970,1970,1986,2011,1988,1996,1948,1941,1940,1984,1943,2019,1990,1990,1990,1931,1965,2010,2010,2010,1973,1973,1998,1998,1998,1988,1988,1950,1972,1983,1940,1936,1936,1936,2009,2009,2009,1989,2019,2019,2019,1971,2014,2014,2014,2004,2010,2010,2010,1950,1948,1939,2010,2010,2010,1951,2019,1948,1958,1958,1958,1976,1976,1976,1943,1989,1955,1937,1977,1945,1992,1992,1992,2006,1965,1965,1965,1938,1954,1954,1954,1986,1986,1986,1971,2020,2020,2001,2001,2004,1995,1982,1990,2007,1940,1992,1995,2004,1939,2000,2010,2010,2010,1977,1983,1983,1998,2015,1955,2022,2022,2022,1990,1990,1990,1997,1997,1997,1955,1978,1934,2010,2010,2020,2020,2020,2017,2017,2017,1983,2019,1978,1980,1980,1980,1965,1985,1985,1985,2011,2011,2011,2016,2016,2016,2021,2008,2004,2004,2004,1934,2019,1997,1997,1997,1937,1951,1961,2021,1954,1939,1986,1986,1966,1966,1951,1951,2001,2001,1991,1991,1950,1950,2017,2019,2014,2014,1933,1979,2019,1992,1983,1983,1977,1972,1972,1972,1980,1983,1988,1977,1977,1977,2012,2012,2012,1999,2007,2007,1985,1985,1989,1988,1988,1988,1997,1990,1990,1990,1990,1990,1990,2012,2012,2012,1997,2001,2004,2004,2004,1981,1981,1996,2003,1973,1996,1996,1996,1997,1985,2000,2002,2002,2002,2019,1957,1957,1957,1980,1980,1980,2009,2009,2009,2019,2019,2021,1995,1999,2019,2019,2019,1979,1979,1946,1949,1981,1981,2006,2006,1987,1979,1979,1999,1936,1960,1946,2016,2016,2019,1971,2006,2006,2006,1986,1986,2015,2003,2010,2010,2010,1996,1996,2009,2009,2009,1985,1985,2004,2004,2004,2018,2018,2018,1949,2012,2012,2012,2012,2009,2009,2009,2017,1934,1947,1974,1974,1996,1996,1996,2021,2021,2021,2016,2021,2021,1992,1989,1989,1989,1952,1958,1958,1958,1948,2017,2001,2001,2001,1966,1998,1989,1991,1991,1991,1991,1991,1991,2004,2004,2020,2020,2020,1990,2013,2013,2005,2005,2005,2018,1984,1984,1984,1966,1988,1953,1958,1965,1934,2013,1991,1991,1991,1979,1979,1979,1941,1963,2019,1975,2014,1995,1999,1999,1963,1963,1994,1981,2002,2002,1989,1989,2019,1936,2019,2001,2001,2001,2006,2006,2006,2017,2017,2017,1958,1958,1958,2019,2019,1977,1977,1952,1952,1933,1933,1937,2009,2009,2009,1985,1985,1985,2006,2006,2006,2019,1989,1950,1975,1940,1973,1956,1979,1979,1979,2001,2001,2001,1951,1951,1951,1971,1989,1989,1986,1967,1955,1955,1974,1944,2019,1980,1980,1980,2019,2019,2019,2019,1945,1976,1976,1976,1966,1966,1966,1932,2019,1976,1940,1954,1954,1954,2004,2004,2004,2018,1932,1977,1977,2019,2015,2010,2017,1933,1953,2015,2015,1974,2014,2014,2014,2020,2015,2015,2019,2016,2016,2021,2015,2015,2015,2020,1984,1984,2009,2009,2009,2019,2019,2019,2011,1995,1936,1936,1955,1957,1957,2010,2010,2010,1997,1986,1986,2002,2015,2009,2009,2009,2021,2021,2011,2011,2011,1936,1943,1977,1977,1994,1994,2017,2017,2017,1967,1967,1967,2016,1955,1955,2021,1975,1975,1954,1954,1954,1958,1958,1979,1979,2005,1936,1984,1967,1949,2020,1954,1936,1948,1960,1972,1972,1972,2020,1958,1961,1946,1946,1974,1955,1958,1959,1936,1978,1978,1978,1977,1978,1982,1977,1977,1977,1956,2019,2019,2019,1979,1990,1990,1976,1934,2016,1980,1980,1980,1952,1952,1952,1985,2013,1934,1954,1985,1945,2001,2001,2001,1974,1974,2016,1990,1934,2014,2014,2002,2002,1986,2001,2001,2001,2021,2021,2001,1980,1952,2013,2013,2013,1945,1966,1966,2021,1986,1986,1941,1941,1961,1999,1999,1987,2005,1978,2020,2012,2018,1967,1967,1967,2018,1968,2016,2016,2015,2019,2015,1986,1992,1992,1992,2019,2021,1986,2017,1949,1986,1973,1973,1973,2008,2008,2008,1971,1971,1941,1984,1984,1984,1953,1977,1952,1952,1952,1977,1977,1931,1985,1991,1940,1961,1959,1959,1959,1993,1993,1993,1975,1975,1999,1935,1953,1953,1953,1937,2016,2016,1944,2002,1967,2003,2003,2003,1984,1984,1949,1949,1949,1971,1971,1994,1994,1994,1994,1994,1994,1986,1986,2019,2019,2019,2018,1990,1990,1993,1993,1985,1985,1985,1991,1983,1983,1987,1987,2018,2018,2018,1990,1990,1955,1955,1943,1975,1975,1975,1994,1994,1994,1936,1991,1986,1986,2001,1984,1984,1947,1951,1951,1975,1995,1995,1995,2021,1991,2002,1974,1974,1992,1992,1992,1980,1980,1998,2002,1996,1996,1998,1998,1998,1986,1986,1986,1977,1977,1975,1975,1975,1954,1975,2011,2011,1982,2005,1943,2003,2015,1943,1995,1995,1995,2020,2020,2015,2015,2014,2019,1960,1960,1960,1952,1952,1952,1973,1973,1973,2022,2022,1967,1967,1967,1985,1940,1952,1968,1968,1978,1978,1978,1987,1994,1994,2007,1988,2005,2005,1974,1974,1969,2010,2010,2010,2000,1992,1989,2005,1957,1991,1941,1998,1969,1969,1969,2019,1975,1978,1978,2003,2003,2003,2009,2009,2009,1948,1948,2012,1985,2006,2006,2006,1956,1932,1978,1978,1962,1962,1962,1968,1968,1968,2013,2013,1997,2013,2013,1989,1974,1986,1986,2005,1993,1993,1993,1946,1946,1946,1969,1969,1965,1950,1950,1982,1978,1978,2016,2016,1952,1972,1972,1971,1992,1992,2002,2002,2002,2019,1975,1975,1975,1995,2003,1989,1982,1988,1972,1986,1956,1972,1985,2000,2000,1934,1948,1986,1978,2006,1948,1948,1948,1973,1973,2003,1995,1995,1995,1986,1934,1972,1972,1968,1968,1968,1949,2019,1962,1962,1962,1978,2002,2002,2002,1969,1969,1986,2019,2019,2008,2008,1991,2021,2020,1994,2006,2006,1993,2021,1971,1986,1986,1986,2009,2009,2003,2021,2015,1966,1966,1972,1956,1956,1960,1960,1940,2014,2018,2018,2006,2006,1977,1977,2007,2007,2007,2015,2015,2015,2019,2019,1985,1997,1997,1997,1949,1993,2005,2005,2005,1949,1935,2021,2010,2010,2010,1961,1982,1990,1990,1990,2007,2007,2001,1982,1982,1962,1984,1972,1972,1972,1989,1989,1989,1973,1942,1989,1989,1989,1960,1960,1968,1960,1996,1978,1978,1978,1969,1941,2006,2006,2006,1977,1977,1947,2007,2007,2021,1987,1987,1987,1989,1989,1996,1996,1975,1975,1975,1964,1964,1980,1980,1980,1982,1975,1975,1950,1978,1952,1940,1972,1972,1972,1992,1992,1992,1949,1949,1949,1974,1935,2000,1957,1982,1992,1964,1964,1964,2002,1961,2012,2012,1968,1956,1961,1979,1979,1979,1964,1946,1946,1969,1969,1969,1994,2004,2004,2004,1974,1974,2005,1983,1983,1959,1959,2016,1985,1985,1985,1993,2001,2001,2001,1976,1976,1999,1999,1999,2019,2019,2009,2012,2012,2012,1953,1953,1942,2003,2003,2003,1981,1996,1996,1996,2010,2010,2010,1967,1967,1983,1983,1957,1957,2017,2017,2016,2016,2016,1982,1982,1982,1981,2019,2019,2019,1978,1988,1988,2006,2006,2006,2017,2017,1942,1950,1950,1965,1965,1965,2015,2004,2004,2004,1984,2012,2012,2007,2007,2007,2016,2018,2018,2001,2009,2009,1948,2012,1984,1984,1984,1993,1993,1982,1982,1982,1998,1952,1952,1936,1973,1943,2017,2010,2018,2001,2001,2001,2011,1983,1994,1993,1991,2017,1937,1990,1986,1962,1962,1962,1974,1989,1989,1989,1935,1995,1941,1936,1978,2021,1956,2000,2020,1992,1992,2009,2013,2013,2013,2012,2012,2018,2020,2005,2005,2005,2011,2007,2016,1990,1990,1978,1978,2021,2021,2021,2020,2010,2020,2020,2021,1937,1985,1989,1979,2021,2021,2021,1983,2016,2021,2021,2013,2013,2013,1946,1990,1978,2013,2012,1990,1987,1968,1968,1954,1954,1993,1979,1998,1998,1998,1991,1991,1996,1979,1979,1979,2007,1990,2013,2013,2013,1945,1940,1953,1953,1953,1967,1967,1998,1992,1989,1996,1996,1933,1984,1984,1933,1999,1937,2000,2003,1985,1954,1954,1988,2002,2001,1998,2018,2018,2016,2016,2010,1997,1997,1997,1999,1978,1987,1987,1987,2011,2020,2020,2001,2001,2001,1986,1986,1986,2017,2017,1983,1951,1951,1951,1990,1984,1984,1984,1942,1963,1985,1985,1964,1964,1964,1975,1967,2002,2002,2002,1932,1956,1989,1989,1990,2007,2007,2007,2020,2013,2013,2016,2019,2019,1969,1969,1982,2019,2019,2019,2005,1993,1993,2018,1964,1964,1991,2007,2019,1956,2000,2000,2000,2001,1991,1999,2016,1955,1955,1955,1978,1978,1978,1990,1990,2010,1940,1935,1968,1948,1974,1974,1936,1951,1948,1978,1940,2016,2016,2016,2012,2017,2019,2018,2012,2012,2012,2017,2021,2021,1985,2018,2018,2018,2009,2009,2009,2006,2006,2006,2020,1985,1985,1954,1954,1999,1999,1999,2017,2017,2017,2000,2000,2000,2016,2016,2016,2001,2018,2018,2020,2020,2020,2019,2019,2019,2000,1975,1993,1993,1990,1990,1990,2001,2017,2019,1973,1994,1994,1994,2018,1972,2015,1959,1959,1954,1996,2003,1990,1990,1990,1955,1955,1955,1968,2016,2016,2016,2017,2017,1957,1957,1957,1993,2018,2012,2012,2012,1986,2013,2013,1962,1962,1962,1991,1982,1953,1953,1953,1992,1992,1992,1936,2003,2003,2018,2018,2018,1951,1951,1951,1968,1968,1968,1984,1995,1995,1995,1993,1993,1993,1959,1972,1972,1972,1938,1997,1997,1978,2017,2022,2022,1960,1960,1951,1953,2021,2014,2014,2014,1950,1985,1985,2000,2016,2017,2017,1989,1950,1986,1972,1972,1985,1985,2017,2017,2017,2015,2015,2008,2008,2008,2010,2022,1982,1982,1946,1983,1950,2015,2009,2009,1949,1949,2005,2005,2005,2008,2008,2008,1970,1970,1970,1963,1945,2015,2017,2022,2022,1984,1984,2020,2020,2003,2005,2005,2009,2009,2009,1961,1996,2005,1957,1957,1998,1998,1973,1973,1973,1951,1951,1966,1966,1966,2000,2000,2000,1956,1978,1978,1943,1992,1983,1983,1983,1999,1999,1999,1960,1960,1960,1989,1993,1998,1998,1998,1951,1957,2021,2018,2018,2002,2002,2002,1937,1974,1987,1944,1950,1937,1993,1993,1951,1951,1939,1969,1969,1969,1945,1945,1974,1974,1986,1943,1974,2004,2004,2019,2019,2019,1980,1980,1994,2000,1987,2018,1991,1987,2005,2015,2015,2015,2014,1982,1982,1973,1986,1991,2010,2010,2010,1998,2019,2002,2016,2016,1969,2015,2015,1979,1997,1975,1975,1975,2020,1990,2019,2000,1991,1991,1991,1952,1971,1971,1971,1990,1946,1980,2017,2017,2017,1967,1967,1954,1954,1954,1964,1964,1964,2005,2013,1934,1989,1961,1982,1982,1971,1968,1938,2003,2003,1952,1952,1960,1934,1946,1946,1946,1955,1955,1956,1956,1956,1967,1967,1967,1962,1962,1939,1953,1953,1964,1964,1964,1965,1956,1963,1963,1958,1958,1958,1936,2019,1979,1979,1960,1990,1944,1953,1977,1935,1966,1948,1978,1938,1960,1947,1939,1971,1942,1951,1988,1935,1966,1966,1991,1967,1967,1968,1972,2019,1941,1935,1999,1955,1955,1967,1967,1967,1992,1965,1965,1953,1982,1985,1964,1989,1989,1989,1950,1950,1940,1940,1954,1954,1954,2020,2020,2020,1990,1952,1952,1952,2021,2021,1976,1976,2020,2020,2020,2017,2013,2013,2013,1962,2015,2015,2015,2018,2019,1956,1976,2015,2015,2015,1980,1950,2003,1996,1996,2009,2015,2017,1956,1974,1982,2019,1934,1936,2005,1969,1991,1975,1974,1974,2012,2012,2012,2020,1949,1996,2000,1985,1985,1935,1971,1962,1992,1992,1976,1976,1976,2012,2017,2016,1993,1968,1992,1992,2014,1958,1996,1996,1980,1980,1980,1936,1936,1960,1934,1941,1935,1968,1968,1968,1941,2020,1938,1945,2006,2006,2009,2019,1997,1973,1973,1962,2010,2010,2010,1963,1988,2019,2019,2021,1972,1966,1990,1990,1990,1984,1997,2000,1956,1940,1940,1998,1998,1998,1969,1969,1969,1985,1985,1988,1988,1983,1983,1985,1987,1973,1973,1992,2019,1957,1957,1978,1978,1978,1963,1963,1963,1996,1996,1955,1955,1955,1969,1980,1980,1980,1994,1994,1994,2013,2013,2013,1989,2018,2006,1944,2013,2014,2014,2014,2019,2015,2015,2019,1991,1991,1948,1960,1960,2016,2016,2016,2008,2017,2017,2017,1959,1959,1992,1969,1938,1962,2019,2019,1980,1987,1971,1971,1943,1936,1957,1949,1972,1972,2021,1948,1950,1978,1962,2005,1960,1955,1955,2009,2009,2009,2021,1975,1988,1942,1942,1954,2005,2005,2004,2004,2004,1951,2015,2015,2015,2012,2012,2012,1987,1949,1949,1959,1973,2019,2015,2015,2013,1960,1960,1976,1976,1976,1998,1998,1998,1998,2019,2019,1982,1935,1949,1949,1949,1995,1995,1981,1981,1960,1960,1960,1998,1948,2006,2006,2006,2001,2001,2001,1999,2000,2000,2000,2003,2003,2003,1942,1942,1960,1960,1960,1956,1956,1956,1956,2000,2000,2000,2002,1992,1992,2019,1949,1981,1981,1956,2003,2003,2003,1973,2019,2019,2019,1979,1979,2019,2018,2019,2022,2018,2018,1989,1989,1961,1961,2005,2000,1972,1972,1972,1950,1950,2021,1979,1985,1985,1985,1949,1949,1982,1982,1974,2014,2004,1954,1983,1988,1988,2005,2020,2017,1999,2002,1989,1950,1979,2011,2011,2011,1993,1993,1993,2000,2000,2000,1984,2019,2007,1944,2018,2018,1965,1965,1986,1982,1959,1959,1959,1993,1993,1951,1992,2019,2006,1988,2013,1963,1962,1962,1962,1989,1989,1972,1947,2017,2016,2016,2016,2019,2019,2019,2020,2020,1963,1963,1945,2017,2017,2017,1985,2019,1991,1991,1991,1937,1957,1957,1970,2019,2019,2019,2017,2005,1959,1946,1971,2016,2016,2016,1972,1972,1981,1983,1983,1965,1965,1983,1992,1992,1992,1947,2019,2002,2002,2021,2021,2012,2012,2012,1982,1982,1940,1974,1974,1974,1999,1999,1999,1991,1991,1991,1992,1964,1964,1932,2001,2001,2010,2010,2010,2010,1985,1985,1996,1996,1996,1950,1980,1980,1980,1969,1980,1980,1980,1980,2008,2008,1987,1981,1981,1981,1978,1978,2013,2013,2013,1990,2016,2005,1992,1992,1982,1994,1983,1983,1952,1997,1997,1994,1994,1941,1969,1957,1982,1964,1964,1964,2000,2000,2000,1969,2014,1952,1952,1999,1993,1998,1998,1995,1995,2005,2005,1985,1985,1992,2017,2014,2014,2014,1960,2013,2013,2013,2015,2015,2015,2013,2013,2013,2015,2017,2017,1982,1982,2015,2015,1962,2018,2015,2015,2015,2013,2013,2013,2018,2019,2014,1972,1991,1991,1991,1957,1972,2005,1961,1961,2018,2018,1938,1938,2013,1956,1956,1956,2006,2006,2006,1978,1978,1981,1981,1981,1980,2002,2012,2012,2001,2005,2005,2005,2005,2005,1985,1985,1985,2001,1943,1986,1986,1959,1970,1976,1976,1976,1950,1985,1985,1985,2012,2012,1955,1981,2015,2015,2015,1944,1953,1953,1994,1997,1997,1944,1982,1969,1969,1950,1970,1970,1970,1997,1972,1972,1972,2003,1986,2000,1954,2000,2000,1947,1959,1959,1956,1943,2021,2001,1994,1994,1994,1996,1996,1996,1961,1961,2016,2016,2016,2006,1957,1959,1959,1960,1960,1960,1948,1936,1964,1947,1947,1947,1983,1948,1923,1942,1934,1961,1946,1932,1934,1967,1934,1949,1952,1943,1980,1980,1980,1942,1943,1939,1975,1979,1979,1979,1958,1976,1976,1943,1989,1989,1989,2001,2001,2017,1948,2017,2017,2020,2020,2020,1944,1976,1976,1947,2021,2017,2019,2019,2019,2002,2002,2002,1972,2000,1936,1936,1965,1994,1972,1972,1935,1980,1942,1942,1942,1965,1965,1965,1931,1932,1996,1963,1963,1963,1940,1981,1981,2003,1956,1944,1932,1944,2021,2021,2017,1932,1984,1988,1947,1984,1985,1985,1985,2018,2018,2018,1991,1984,2010,2010,2010,1981,1981,2018,1998,1988,2003,2019,2019,2001,2000,1988,1988,1949,1949,1946,1946,1955,1934,1938,1980,2022,2022,1991,1991,1991,1982,1965,1965,1965,1973,2007,2007,2011,2011,2017,1984,1984,1984,2015,2005,1935,2018,1989,2015,2011,2011,2011,1996,1996,1937,2016,2012,2012,2012,2005,1978,1978,1978,2004,1951,1933,1958,1950,1936,1949,1949,2001,2001,1940,1940,1991,2018,1984,2001,1958,1958,1993,1993,1993,1946,1978,1978,1978,2005,1984,2007,2007,2007,2021,2021,1933,1949,1965,1976,1976,1976,2009,2017,2017,2017,1981,1981,1981,2003,2003,2003,2010,2010,2010,1999,2018,1997,1965,1965,1965,2000,2018,1999,2005,2003,2004,1974,2021,2000,2012,2012,2012,2019,2019,2020,2020,2020,2020,2000,2014,2014,2014,2019,2019,2008,2008,2008,1963,2000,2001,2000,2018,1999,2014,2011,2011,2011,2018,2016,2008,2008,2008,1989,1989,1989,2018,1993,2011,2011,2011,2021,2021,2021,1981,1981,1985,1952,1952,2016,1977,2010,2010,1932,1969,1969,1943,1948,2000,2000,2000,1974,1974,1974,2021,1935,1937,2007,2007,2007,1949,1955,2017,1987,2013,1988,2000,1991,1939,1972,1962,1962,2012,1971,1971,1971,1935,1951,2021,2008,1989,1989,1989,2000,1982,1982,1982,2019,2019,2019,1938,1949,2006,1989,1989,1989,2009,2009,2018,1954,1954,1932,1979,1963,1963,1963,2011,2011,2011,1980,2013,1979,1979,1999,1999,1999,1946,1955,1955,1978,1972,2003,1984,1984,2001,1960,2017,2006,1966,1954,1935,1973,2010,2018,1950,1950,1948,1993,1972,1964,2004,1965,2020,1937,1983,1986,2001,1945,2017,2017,2017,2014,2019,2012,1950,1950,2002,1966,2001,2002,1988,1988,2000,2001,2001,2003,1975,1975,2003,1999,1999,1999,2000,2004,1981,1981,2005,2015,2008,2008,2008,1946,1946,2011,1965,1965,2019,2019,2019,1959,1959,1959,1981,1981,1981,2021,1994,2019,2019,2004,2004,2004,2019,2015,2015,2016,1947,1947,2021,1971,1971,1971,1942,2015,1960,1960,1960,2021,2020,1961,1960,2019,2019,2019,2019,2019,2019,1973,1973,1973,2005,2005,2005,2018,2018,2009,1959,2019,2019,2001,2019,2019,2020,2019,2012,2012,2012,2015,2020,2019,2019,2013,2013,2017,2009,2009,2009,2017,2017,2017,2000,2009,2013,2013,2013,1963,2005,2005,2005,2019,2019,2019,1973,1973,1973,2020,2020,2020,2014,2014,2014,2005,2021,2011,2011,2011,2010,2017,2017,2019,2019,1954,2012,2012,1992,1992,1992,2006,2017,2021,2021,2021,2016,2016,2014,2021,2011,2021,2021,2009,2009,2009,1942,2020,2011,2011,1993,1993,1960,1960,1960,2019,2019,2019,1949,1980,1980,1998,1998,1998,1969,1969,1942,1960,2001,2002,1981,1983,1983,2021,2001,2001,1962,1962,1992,1980,1992,1965,1965,2019,2019,2019,2019,2018,2018,2013,2008,2008,2008,1972,1972,1972,1975,2015,2015,2015,1990,1935,1985,1985,1985,2001,2001,1993,2019,2003,2003,2015,2015,2001,2001,2001,1967,1967,1967,2019,1954,1954,1954,1997,1997,1997,2003,2003,2002,2021,2019,1989,2013,2013,2013,2016,2021,1965,1984,1984,1984,2019,1961,1961,1993,2018,2018,2013,1994,1994,1994,1971,1968,1968,1968,1938,1991,1991,2021,2021,2021,2019,1939,2010,2010,2010,2011,2011,2011,2018,2015,2015,2015,2018,2019,2019,2019,2020,2004,2004,2004,2005,2019,1982,2003,1989,2016,2009,2019,2019,2019,2018,2018,2018,2015,2015,2015,2019,2001,2011,2017,2017,2017,1986,1936,2016,2016,2007,1971,1971,1971,2017,1959,2019,2019,2019,2016,2016,2016,1966,1966,1966,2000,2000,1945,2020,2020,2020,2018,2019,2019,2019,2020,2014,1941,1941,1941,1932,1936,1934,1933,2013,2013,2013,1937,1976,1976,1976,2005,2005,2013,2013,2013,1993,1981,1981,1981,2017,2016,2012,2010,2010,2010,2015,1976,1976,1976,2020,1990,1972,1972,2020,2020,2020,2020,2020,2005,2005,2005,2021,1982,2019,1962,1959,1994,1976,2018,2006,1951,1951,2005,2005,2020,2020,2019,2019,2019,2008,2008,2008,2005,2005,2005,1956,1956,1956,1990,1990,1967,1967,1967,1959,1959,1986,1999,2019,2019,2019,2013,1938,2003,2003,2003,2015,2000,2000,2000,2017,1974,1974,1974,2019,2005,2019,2000,2000,1981,2018,2007,2007,2007,1964,1984,1999,1960,1978,1937,1940,1940,1957,1957,1986,1986,2019,2019,2019,1991,1991,1963,1996,2020,2020,2020,1986,1944,1971,1971,1971,1956,2009,2009,2020,2019,2019,2019,1955,2003,2011,2011,2015,2007,2007,2007,2019,2009,2009,2009,2015,2012,2001,1964,1964,1996,1996,2005,2005,2005,2001,2005,1980,1989,1989,1989,2003,2002,2022,1970,2012,2012,1977,1977,1989,1994,1994,1994,1977,2015,2015,2012,2012,1985,2016,2014,2014,1937,1938,1959,1977,1977,1977,1953,1953,1959,1997,1997,1997,2004,1971,1971,2019,2019,1993,1993,1989,2019,2019,2011,2019,2004,2019,2007,2007,2007,1975,2007,2007,2007,2005,2017,2017,2017,2017,1977,1977,1977,1984,1949,1981,2013,2012,1954,1954,1964,2012,2012,2012,1996,1978,1978,1978,1958,2014,1944,2009,2009,2009,2009,2019,2015,2018,2018,2018,1996,2000,2000,2012,2012,1977,1977,1977,2011,2011,1973,1973,1973,2005,1936,1969,2003,1966,1976,1953,1953,1953,1946,2016,1996,1937,1964,2012,2011,2011,2008,2008,2002,2002,2002,1968,2011,2005,1934,1977,1977,1958,2003,2003,1976,1976,1947,1940,1958,1958,1958,1982,2002,1957,1946,2020,2020,1978,1992,1992,1992,1986,1982,1982,1999,1980,1980,1979,1979,1979,2019,2003,2018,1986,1986,1986,1952,2008,2008,2008,1945,1957,1957,2000,2000,2000,2000,1999,2019,2019,2019,1946,2005,2005,2005,2010,2010,2010,2008,2008,1966,2004,1959,1944,1965,1965,1965,2005,2005,1945,2006,1959,1959,1959,1960,1960,1960,1967,1967,1967,2005,1948,1945,1969,1948,1998,1998,1999,1941,1958,1958,1958,1971,1967,1975,2001,2005,1964,1957,1957,1977,1977,1934,2021,1953,1989,1989,1989,1942,2001,2001,2001,2001,1954,1954,1946,1949,1949,1948,1993,1993,1993,1934,2007,2007,2007,1947,1933,1956,1960,1960,1959,1935,1947,1963,1984,2019,2019,2019,2002,1958,1957,1957,1957,1980,2016,1946,1932,1965,1953,1953,1964,1964,1997,1949,2000,1961,1961,1956,2002,1956,1956,1955,1955,1955,1989,1989,1977,1977,1975,1988,1988,1988,1976,1976,1976,2004,2004,2004,2011,2011,1973,1974,1974,2004,2015,2006,1941,1959,2010,2010,2010,2019,1939,2013,2013,1981,1981,1981,1989,2006,2015,1983,1932,1988,2021,2021,1961,1961,2005,2019,2019,1974,1974,1963,2011,2011,2011,2019,1958,2017,1994,1994,1994,2014,1942,2018,1978,2004,2019,2019,2019,2007,2007,2007,2008,2008,2021,1994,1994,2017,2017,2017,2015,1946,2001,1999,2005,2021,2021,2021,1981,1981,1981,2000,1992,2000,2013,1965,1965,1957,2013,2013,2013,2004,1958,1987,1970,2005,1980,2005,1981,1981,1981,1955,1960,1960,1967,1967,1977,1977,1977,2020,2020,1987,2002,2002,2002,2020,2020,1960,1960,1973,1952,1952,1945,2020,2020,2019,2018,1934,2007,1979,1979,1979,1976,1934,1952,1952,2019,2018,1961,1961,2016,1936,2018,2018,1943,2019,2019,1947,2012,2012,2012,2007,2007,2018,2019,1956,2015,2015,2015,1981,2019,1986,1977,1966,1966,2012,2012,2012,2013,2016,2013,2013,2013,2013,2013,2019,2019,2019,2015,1998,1998,1998,1968,1996,1957,1957,1961,1961,1961,1998,1938,1974,1974,1996,1996,1996,1959,1994,1994,1971,1971,1977,1950,1965,1952,1943,1976,1976,2001,2004,1967,1967,1939,1981,1973,1973,1965,2001,2001,2001,2016,2016,2016,2019,2005,2005,2005,2018,2018,2018,2019,2016,1993,2002,2019,2008,2014,2014,2014,2011,2011,2011,2008,2000,1973,1998,1998,1998,1962,1962,1962,2015,2006,1940,1971,1955,1993,1990,1959,2006,2006,2006,1931,1988,1988,2009,2009,2020,2020,2010,2010,2010,2016,2019,1969,1969,1969,1943,1959,1959,1955,1991,2005,2018,1981,1976,1976,2011,2011,2011,2019,2018,1964,1964,1941,1941,1941,1954,2012,2012,2012,1947,2005,2005,2005,2020,2003,1982,2000,2015,1993,2019,2019,1950,1993,1993,1993,2015,1954,1954,1974,1974,1974,1975,1975,2013,2013,2013,1965,1978,1978,1978,1978,1978,1978,2002,2002,2002,1974,1974,1974,2018,1990,1990,1983,1983,1983,1977,1977,1977,1954,1956,1956,1956,2003,2003,2003,1972,1972,2001,2001,2001,1975,1975,1975,1982,1982,1970,2002,1980,2015,1960,1990,1975,1975,2004,2004,2004,2003,2004,2020,2004,1990,2019,2019,1978,1978,1978,2019,1974,2019,2020,2014,2014,2016,1994,1997,2005,2000,1999,2016,2016,1998,1942,1980,1980,2015,1948,2006,2006,2006,1975,1975,1975,2003,2003,2003,1997,1997,1997,2000,2003,2003,2003,1968,2015,1946,1979,1934,2020,1943,1941,1959,1959,1959,1946,1959,1958,1950,2022,2015,2002,2014,2014,2016,2014,2010,2010,1993,2020,2020,2020,1986,2005,2012,1989,1989,1989,2010,2010,2010,2020,2020,2020,2013,2016,2016,2016,2000,2015,2021,2021,1980,1963,1963,1963,2012,2012,2012,2007,2007,2019,2019,2015,1957,2009,2011,2019,1960,1960,1978,1990,1935,2019,2001,1944,2019,2019,2018,2008,2008,2008,2006,2021,2020,2020,2019,2019,1981,1959,1988,1988,1988,2013,2013,2013,2017,2017,2017,2019,2019,2019,2004,1963,2002,2002,2002,2018,1974,1974,1974,2019,2019,2015,1986,2018,2019,2021,2021,2020,2008,2008,2008,2020,2009,2009,1983,1983,1983,1995,1995,1995,1991,1991,1991,2020,2020,2020,2006,2017,2019,1936,2019,1992,1992,1992,2014,2020,2000,2012,2019,2011,2015,2011,2011,2011,2020,2016,2016,2014,2014,2014,1989,2000,1994,1994,1994,2010,2010,2010,2018,2016,2016,2016,1992,2019,2011,2011,2011,1937,2020,2019,2019,2005,2005,2005,2021,2021,2021,2019,1997,1997,1997,1966,1966,1966,1953,1952,1952,2004,1973,1973,1973,2002,1999,1999,1999,2000,2017,1959,1959,1959,1975,1975,2000,1986,1964,1964,2012,2005,1973,1973,1978,1996,1996,1996,1964,1964,1964,2005,2005,2018,2018,1944,1981,1981,2002,1946,1989,1989,1997,1997,1997,2019,2014,2014,2014,1998,1997,2010,2010,2010,2018,2010,2010,2010,2012,2012,2012,2019,2019,2019,2019,2003,1987,1987,2000,1999,2016,2016,1966,1966,1966,1979,1979,1979,1949,1999,2021,1987,1987,1987,1980,1980,2017,2017,2017,2009,2009,2017,1980,1975,1975,2001,2016,1970,1947,1936,1932,2015,2015,2015,1998,1950,1981,1999,1999,1999,2007,2007,2007,2019,2019,1986,1986,1981,2000,2019,1988,1954,1954,1987,1947,1947,1974,1965,2007,2007,1934,1972,1955,1975,1978,1977,1977,1992,2001,1960,1986,1987,2000,2000,2000,1987,1987,2001,1935,2000,1933,1954,1954,2000,1966,1966,1971,1971,1961,1991,1987,2000,2000,2000,2000,2000,1987,1984,1984,1984,2000,2001,1993,1993,2000,2000,2000,1936,1980,2011,2011,2011,1951,1978,1985,2011,2011,2011,1951,1951,2001,1993,1993,2010,2010,2010,2021,1976,1985,1953,1989,1989,1989,2003,2003,1987,1987,1987,2015,2019,1997,1997,1995,1995,1995,1991,1991,1991,1986,2019,2021,2013,2013,2019,2019,1998,2008,1990,2016,2016,2016,2015,2005,2002,2002,2002,2018,2018,1937,2021,2021,2021,2019,2012,2012,2012,2003,2019,2019,1954,1969,2005,2018,1980,1996,1996,1996,1987,1972,1964,1964,1964,1997,2020,2019,1955,2020,2020,1947,1947,1947,1981,1981,1981,1982,1990,1935,1934,1953,1953,1983,1983,2019,2019,2016,2016,1977,2005,1992,1988,2019,2001,2014,1961,2019,1993,2019,2007,2007,2007,1977,2021,1997,2003,2006,1949,1949,1949,1941,1970,1970,1949,1993,1993,1993,2014,2014,2014,1941,1954,1954,1978,2002,2006,2006,2006,1942,2020,1951,2000,2008,2008,1956,1944,1956,2018,2018,1972,1972,1972,1973,1996,1996,1970,1950,1950,1950,1974,2020,1991,1991,2021,2021,2008,2008,2001,1997,1997,1997,2013,1958,2001,1982,1982,1982,1937,1931,1982,1983,1947,1990,2002,1992,1992,1992,1989,1982,2013,2013,2013,1974,2016,1949,1975,1956,1988,1988,1988,2017,2016,2013,2013,2009,2009,2009,2019,2019,2019,2018,2010,2008,2008,2008,2016,2016,2006,2006,2019,2016,2016,2017,2017,2018,2014,2014,2016,2016,1915,1987,1936,1962,2019,2018,2018,2014,2014,2014,2014,1992,1992,1951,1951,1970,1982,1982,1979,2020,1996,2021,1959,1959,1959,1963,1940,2001,2001,2021,1976,1976,1976,1975,1975,1975,1952,1992,1992,1992,1950,1992,2005,1998,1998,1998,2013,2013,2013,1997,1997,1990,1990,1990,1987,1987,2000,2000,1991,2005,2005,2005,2004,2002,2002,2002,2002,1955,2007,1947,2021,2021,1991,2013,2021,2009,2009,2009,1957,1957,2021,2021,2014,1939,1960,2013,1963,1985,1985,2019,1961,2018,2011,2011,2011,2009,2018,1956,1949,1935,2012,2011,2011,1960,1935,2018,2012,2012,2012,2009,2007,2007,2012,2017,2020,2020,2012,2012,2012,1981,1978,1978,2007,2007,2007,2021,2002,1940,1935,1935,2002,1980,2008,2008,1989,1972,1982,1982,1982,1948,1991,1991,1991,2011,2011,2014,2021,2021,2004,2019,2017,2017,1936,2021,1958,2015,2015,2015,2009,2009,2009,2004,1955,1955,1955,1946,1963,2019,2019,2009,2009,1995,1934,2005,2020,1966,1966,1966,1946,1958,1986,1978,1978,1938,2002,2002,2002,1936,1936,1955,1955,1955,1945,1970,1970,2002,2002,2002,1992,2019,1989,1931,2001,2006,1986,2005,2004,2004,2004,2019,2019,2019,2019,2007,2014,2014,2014,1956,1956,1998,1952,2018,2000,2000,2021,1997,1997,1992,1998,2018,2018,2000,2000,1946,2006,2006,2006,2019,2007,2007,2007,2017,1956,1956,2005,2007,2007,2007,1980,1980,2021,2021,1973,1973,1973,2005,2005,1945,1980,2007,2007,2021,2004,1941,1997,1945,2004,1993,1993,1993,1948,1937,1946,1981,1981,1981,1948,2018,2008,2008,2016,1997,1993,1982,1982,1991,1975,1975,1991,1991,2015,2004,1988,1988,1988,1977,1977,1977,1988,1988,1988,1996,1934,1992,1992,2002,1972,1972,1972,1945,1986,1986,1986,1984,1984,1984,1973,1973,1973,1940,1997,1997,1935,1953,2021,1989,1935,1975,1975,1975,1937,1961,1970,1970,1970,1946,2011,2011,2011,1943,1969,1969,1971,1950,1950,1987,1938,1993,1993,1983,2020,2020,2020,2017,2017,2001,2001,2020,1942,1952,2010,2019,1984,1946,2007,2007,2007,2007,2007,2007,1956,1951,1951,1979,1979,1979,1959,2004,2004,2004,2006,2006,2006,2013,2013,2013,2008,2008,2008,1949,1949,1985,1953,1953,1998,1998,1998,2009,2009,2003,2019,1935,1954,1977,2020,1975,2006,1983,1933,1938,1989,1989,1953,2013,1981,1994,1974,1974,2019,2002,2002,2002,1996,1973,1973,1973,2003,2003,2003,2021,2015,2019,2019,2019,1935,2021,1982,1982,1982,2001,2001,2019,1961,1940,1940,2002,2020,2012,2013,2019,1948,1948,1959,1989,1989,2021,1991,1990,1990,1990,1946,2001,1992,1992,1993,1960,1960,1978,1978,1978,1968,1977,1977,2020,2020,2020,2004,2004,2014,1960,1960,2009,2009,2009,2019,2019,2019,2001,2001,2001,2002,1972,1972,1959,1959,2015,2015,2015,1974,1974,1966,1966,1966,2006,2006,2006,2007,2007,2007,1978,1963,1963,1963,1985,1937,1993,1993,1993,1991,1991,1991,2002,2002,1982,1982,1963,1963,1963,1992,1992,2005,2005,2017,2018,2018,1936,1995,1992,1992,1972,1972,2003,2003,2003,1982,2014,2014,2014,1979,2008,2008,1997,1997,2005,2005,1944,1993,1993,1949,2005,2000,2000,1949,1949,1949,1935,1993,1973,1973,1997,1997,1997,1999,1999,1999,1989,1989,2018,2004,2004,2002,1992,2004,2004,2001,2001,2001,1966,1966,1967,1967,2003,2003,2000,2016,1978,2006,2003,1998,1998,1993,1993,1993,1962,1962,1996,1996,1997,1997,1997,2011,2011,2011,2016,2016,1987,2002,2002,2002,1982,1934,1936,1984,1984,1966,1994,1994,2021,1977,1977,1977,1947,1982,1982,1953,1979,1981,1957,1948,1960,1968,1987,1987,1996,1996,1996,1935,1947,1947,1942,1978,1978,1999,1999,1999,1966,1966,1966,2013,1992,1962,1958,1958,1958,2021,2015,2015,2020,2019,1967,1950,1950,1950,1987,1986,1986,1986,1994,1994,1994,2015,2015,2015,1995,1995,1980,1992,1951,2019,1975,1990,1990,1990,2015,1940,1940,2016,2016,2016,2020,2020,2020,1947,1947,2016,2016,2014,2018,2015,1982,1982,1982,2015,1990,1990,1990,2014,2014,2016,2016,2016,2016,2016,2016,2019,1935,2002,1984,1984,2005,2002,1993,1993,1940,1956,2003,1967,1967,1997,2010,1934,1947,1992,1995,1995,1995,2019,2017,1960,1974,1974,1976,1957,1957,1957,1997,1980,1980,1980,1937,1949,1972,1966,1966,1932,1959,1959,1947,1947,1961,1961,1969,1969,1969,1994,1953,1971,1971,1974,1977,1977,2015,1966,1947,1947,1981,2010,2010,2010,1966,1985,1993,1977,1982,1982,1936,2010,2010,1968,1968,1960,1960,1955,1967,1967,1967,1994,1972,1935,1983,1983,1959,1959,1982,1974,1992,1979,2020,1975,1975,1975,1999,1974,1968,1968,1968,1948,1976,1983,2009,2009,1979,1979,1976,2016,2016,2016,1958,1991,1966,1978,1978,1978,1947,1974,1974,1998,1944,2009,1991,1958,1958,1974,1974,1974,1980,1980,1989,1989,1969,1969,1952,1952,1971,1997,1997,2000,1957,1957,1957,1983,1976,1976,1956,1979,1979,1979,1977,1951,1951,1975,1975,1975,1970,1959,1959,1959,1982,1988,2018,1972,1984,2014,1952,2018,2018,2017,2017,2021,2004,2004,1940,2019,2021,1972,2019,2019,2019,1969,1969,1947,1998,1998,2002,2015,2015,2019,2019,1934,1950,2019,2019,2006,2006,2006,1978,1978,1978,2011,2011,2011,2019,2008,2008,2016,2016,2016,2019,2013,2006,2006,2006,1990,1990,1990,2007,1964,1964,1985,2016,2017,1946,1983,1964,1964,1971,1964,1991,1980,2020,2020,1989,1979,1979,1977,1977,1977,2004,1982,1982,1991,1983,1983,1947,1947,1974,1974,2006,1974,1933,1940,2007,2007,2007,1944,1974,1954,1989,1944,1971,1989,1989,2005,2021,1964,1964,1964,1946,1986,1986,2002,2019,1993,1993,2019,2005,2005,2011,1938,1972,1972,2005,2011,2011,2011,1999,2018,1987,2015,2003,2014,1978,1947,1947,1947,1944,1935,2000,1960,1962,1959,1999,2013,1931,1944,1952,2014,2014,2016,1977,1977,2019,2019,2016,2016,2016,2017,2010,2014,2014,2009,2009,2009,2013,1990,2002,2015,2015,2015,2019,2019,2019,2000,1994,1994,1992,1992,1992,1995,2017,2011,2011,2011,2005,2003,1994,1994,1943,1983,2004,2004,1942,1974,1988,1937,1948,1934,1994,1994,1994,2015,1949,1949,1982,1982,1964,1964,1964,2010,2010,2010,1938,1943,1974,1958,1999,1999,1999,1999,2016,2016,2016,2005,1967,1967,1967,2000,2000,2000,1977,1977,1977,1998,2003,2003,2003,2005,2016,2015,2015,2015,2011,2011,2011,2000,2007,2007,2007,1968,1968,1949,1949,1984,1984,1943,1946,1942,1955,1966,1960,1960,1960,1974,1974,1997,2017,1938,1971,1979,1979,1937,1959,1959,1959,1967,1987,1957,1957,1942,1996,1996,1948,1977,1978,2015,2015,2010,2010,2019,1998,1998,1998,2003,2002,1973,1983,1983,1983,1939,1989,2002,2002,1959,1962,1954,2019,1985,1985,1986,1986,2020,2020,1996,1956,1956,1956,1996,1997,2007,1966,1966,1966,1976,1976,1976,2010,2010,1998,1998,1998,1990,1990,1938,1957,1950,1991,1981,1981,1981,1996,1992,1992,2002,1995,1995,1995,1984,1971,2004,2021,2021,1986,1973,1973,1973,2009,2009,2009,1956,2019,2021,2021,2021,1938,1998,1998,1998,2014,2012,2012,1932,2001,2001,1987,2019,2019,2013,2013,1994,1994,1994,1982,2011,1989,1989,1989,1991,1981,2001,2001,1970,1954,2006,2019,2019,2019,1946,1946,2007,2007,2010,2010,2010,2005,1988,2018,1987,2000,2019,1972,2005,2005,2005,2000,2003,1996,1996,1996,2000,2017,1959,1959,1959,2002,1991,1981,1981,1993,1987,2005,2001,2005,1987,2004,2001,2004,2005,1982,1996,1986,1986,2019,2002,1995,1948,1978,1978,1978,1998,1983,1980,1980,1980,2010,1980,2004,2003,1972,1972,2020,1972,1972,2019,2004,1999,2019,1986,1983,2007,2007,2007,2002,1985,1987,1998,1985,1978,1963,1963,1963,2003,1971,1971,1989,2005,1983,1964,1964,1964,1945,1945,2011,2011,1971,1953,1991,1980,1990,1990,2021,1981,1981,1981,2007,1942,1957,1975,1991,1987,2019,2019,2019,2000,1980,1980,1980,1968,1975,2017,1972,1972,1972,2004,2004,2004,1994,1940,1981,1981,1981,2005,2000,1988,1988,1988,1939,1977,1993,2003,1992,1992,1983,1983,1957,1957,1982,1995,2016,2004,1985,1968,1968,1968,2018,2018,1960,1960,2018,2018,2005,2005,2005,1972,1972,2019,2007,2007,2002,1973,1973,1973,1992,1992,2004,1974,2019,2019,2019,1961,2001,2005,1975,1975,1986,2012,2012,2012,2005,1969,1986,1973,1987,1962,1962,1962,1973,1973,2004,1973,1991,1984,1970,1973,1973,1973,2000,1971,1971,2021,2004,1984,1988,1972,1972,1951,1951,1990,1990,1990,1971,1971,1971,2015,2015,2015,1986,2001,2005,2006,1960,1960,1960,1969,1969,1969,1968,1968,1997,2008,2019,2019,1942,1968,1968,1968,2017,2000,2000,2004,1963,2003,1963,2013,2013,2005,1957,1957,1957,1965,1965,1965,1991,2020,2020,1965,1965,1965,1985,1976,1976,1976,2004,2004,1985,1985,1985,2009,2009,2009,2006,2010,2010,2010,1956,1956,1956,1969,1969,2000,2003,1968,1984,1949,1963,2015,1998,2018,2018,1951,1996,1996,2012,2012,2012,2013,2013,2013,1994,1949,2009,2009,1999,2005,2022,2022,2008,2008,2007,1984,2009,2009,2009,1955,1956,2012,2012,1994,1994,1994,2018,2014,2007,2007,2007,2019,2019,2019,2019,1994,1994,1994,1971,1971,1971,2005,2005,1947,1961,2019,2017,2008,2008,2008,1984,1984,2005,2005,2005,2002,2002,2009,2019,2013,2013,2013,2020,2020,2012,2012,2012,2016,1991,2019,2003,2003,2003,2006,2006,1974,1974,2019,2001,2007,2007,2007,2018,1946,2001,2001,2001,2021,2021,2020,2020,2020,2017,1947,2015,2015,2015,2015,2019,1990,2007,2011,2011,2020,2020,1985,1985,2020,2019,2019,2019,1965,1965,1965,1947,1988,1988,1988,2005,1995,2013,2013,2013,1937,1976,1976,1976,1962,2013,2013,2013,1988,1988,1988,2019,2019,2019,2019,2019,2019,2006,2006,2006,2017,2016,2016,2016,2006,2006,2006,1939,1987,1975,1975,1975,1965,1965,1995,1955,1983,1983,1989,1988,1953,1968,1968,1968,1996,1996,1996,2005,2005,1983,1935,1931,1958,1958,1958,1968,1984,1988,1977,1977,1991,1991,1991,1997,1942,1964,1953,2005,1967,1967,1967,2001,2001,1947,1982,1982,1978,1981,1989,1983,1999,1934,1936,1943,1957,1957,2008,2008,2000,1935,1938,1959,1959,1974,1974,1974,2009,2009,2009,2019,2019,1933,1933,1943,2019,2019,1991,2019,2016,2021,2012,2012,2012,2014,2014,1994,2010,2021,1995,1995,1995,1976,2021,1963,1963,1963,1936,1965,2001,1985,1992,2019,2019,2019,2007,1994,2016,2016,2016,2021,2012,2012,2012,2019,1954,1954,2016,2016,2004,2004,2004,1981,1981,1981,1956,1956,2006,2006,2022,2022,2022,2022,2022,1972,1956,2019,2019,2019,2002,2002,1983,1983,1983,2005,1976,2020,2012,2019,2019,2004,2014,2014,2014,2008,2008,2008,2017,2017,2018,1953,1996,1996,2013,2013,2021,2010,2013,2013,2015,2015,2019,2019,2014,2014,1991,1990,1990,1990,2009,2009,1986,2016,2016,2000,2000,2000,2021,2014,2011,2017,2017,2017,2019,1961,2019,2021,2021,2012,1961,1965,2016,1963,2007,1955,1947,2008,2008,1946,1946,1939,1959,2007,2007,2007,1953,1953,1953,2021,2020,2020,2020,2003,2003,2003,1984,2013,2013,2017,2011,2011,2011,2016,2016,2016,2013,2013,2013,2005,2006,1959,2019,2017,2017,2007,1959,2015,2015,2015,2012,2009,2009,2009,2019,2019,2016,2016,2016,2016,2014,2006,2006,2019,2019,2014,2018,1978,1980,1980,1980,2008,2008,2008,2012,2012,2007,2009,2009,2009,2018,2018,2016,2016,2014,2014,1952,2013,2013,2013,2020,2020,2020,2017,2019,1960,1960,1960,2021,2005,1956,1956,2020,2012,2019,2017,2017,2017,2017,1934,1973,1973,1974,1944,1944,2021,1966,1966,1966,2015,2015,2015,1976,2007,2001,2001,2001,1973,1995,1995,1995,2021,2021,2021,2009,2006,2019,1999,1999,1989,1989,1989,2002,1958,2000,2000,2004,1948,1948,1991,2012,2012,2012,1989,1989,1989,2001,2001,1985,1990,2009,2021,2011,2011,1978,2021,2004,2004,2004,1960,1971,1971,1971,1995,1995,1995,1993,1993,1993,2011,2011,2011,2007,2007,2007,2017,2017,2017,2013,2018,2022,2022,1979,1979,1979,1982,1982,1982,2012,2012,2012,2011,2011,2011,2019,2007,2007,2007,2016,2016,2016,1986,1986,1986,2008,2008,1973,2000,2000,2000,2014,2014,2016,2006,2006,2006,1974,1986,1979,1994,1980,1992,1992,1979,2000,2012,1980,2004,1991,1992,1978,1985,1975,1975,1998,1964,1978,1978,1986,1981,1997,1998,1955,1983,1978,1978,1978,1971,1988,1985,1988,1988,1988,2003,2003,2003,1937,2019,2002,2013,2013,2007,2007,2007,2019,2019,2021,2017,2012,2012,2012,1994,1994,1994,2006,2006,2006,1962,1962,2021,2021,2021,1984,1984,1992,2019,1970,1970,1970,1947,2018,1972,1972,1972,1945,1953,1991,2005,1995,1955,2004,2002,1990,1980,1972,1972,1972,2005,2006,2003,2018,2018,1981,1993,1993,1993,1942,1939,1934,1936,1949,1989,2002,2009,2009,2009,1974,1957,1957,2005,2005,1957,1957,1957,2011,1953,1950,2014,2021,1943,1968,1968,1956,1958,2007,2007,2007,2016,1979,1979,1979,2002,1967,1979,1989,1954,1954,1954,2004,2004,2004,1977,1936,1944,1944,1970,1970,1970,1992,1968,1975,1975,1975,1964,1964,1964,1982,1947,1986,1992,1940,1978,1988,2000,1974,1974,1974,1993,1954,1963,1963,1963,1996,1971,1971,1971,1981,1981,1980,1980,1973,1973,1973,2005,2019,2002,2002,2002,2002,1986,2018,2018,1989,1989,1989,1937,1960,1985,1985,2019,2019,2019,2000,2000,2000,2002,2002,2002,1989,2008,2008,2008,2009,1943,1955,1981,2008,2013,2013,2013,2017,2020,1978,1978,1945,1988,1993,1993,1993,1963,1963,1998,1998,1998,2017,1985,1984,1988,1959,1959,1988,1988,1970,1970,1947,1947,1955,1955,1955,1958,1958,2004,2004,1990,1992,1992,1935,1989,1967,1995,2018,1987,1987,1947,1948,1948,1994,1994,1979,1993,1941,1960,1960,1931,1990,1940,1944,2001,1996,1988,1988,1988,2009,2009,1991,2021,1986,1986,1942,1958,1958,2000,1961,1961,1961,1989,1977,1977,1953,1973,1998,1988,1976,1976,2017,2007,1996,1996,1974,2008,2008,1995,1995,1995,1951,1990,1990,1990,2016,2016,2016,1988,1988,1988,1982,1982,1982,1992,1992,1985,2002,2019,2019,2020,1997,1997,1997,2012,2019,2019,2020,2020,2020,2022,2022,1998,1998,1998,1973,1973,1956,1956,1997,1997,1997,1985,1985,1945,1960,1960,1946,1938,1952,1983,1983,1981,1981,2007,1984,2005,2017,1976,1976,1976,2020,2020,2020,2013,2013,2016,2016,1992,1991,1949,1947,1960,2007,2004,1962,1949,2000,2020,2016,2007,2007,2007,2013,2013,2013,2019,2019,2019,1968,1968,2018,2019,1995,2019,2019,2007,2008,2008,2008,2020,1963,1983,2003,2016,1999,1999,1999,1966,2019,2019,2019,1985,1959,1954,2021,2017,2017,2017,1936,1989,1989,1989,2018,2018,2018,2004,2007,1968,1968,1968,1998,1940,2010,2010,2010,2019,2010,2010,2019,2019,2019,2017,2017,2017,2017,2008,2008,2008,2006,2006,2006,1972,1972,1978,2019,2019,2007,2007,2021,2021,2021,2008,2008,2018,2019,2022,2022,2019,2019,2008,2008,2008,2014,2014,2014,1989,1989,1989,1952,1952,1974,1974,1974,1959,1959,2013,2013,2013,1965,1965,1965,1938,1979,2014,2014,1994,1970,1970,1970,1994,1994,1994,1958,1982,1982,1948,1972,1972,1972,1976,1942,1987,1987,1938,1992,1978,2003,2000,2013,2013,2013,1953,1964,1964,1964,2021,1957,1957,2015,2015,1993,1993,1993,2017,1949,2001,2001,1972,1984,1963,1963,1948,1948,1936,1981,1938,2013,2013,2013,2019,2019,2019,2016,2016,2016,1991,2012,2021,2020,2020,1979,1979,1959,2019,1934,2017,1971,1971,1971,1995,1995,2015,2015,2015,1997,1997,1997,1947,1968,1959,1980,1999,2017,2021,2021,1965,1965,1965,2021,2020,2020,1937,1954,2012,2020,2020,2020,1953,1953,1934,1934,2014,2014,1986,2009,2009,2009,2012,1990,2020,2020,1936,1983,1932,1963,1947,1956,2020,2019,2019,2019,2019,2019,2019,2019,1932,1935,1965,1965,1965,2005,1983,2008,2008,2019,2019,2019,2001,2001,1948,1963,1963,1976,1976,1993,1993,1993,1988,1982,1960,2019,1993,1993,2002,2002,2002,1978,1953,1970,1970,1979,1991,1967,1990,1988,1970,1988,2001,1969,1969,1969,1998,1998,1998,1992,1995,1995,2014,2014,2014,1996,1980,1939,1986,1995,1936,1967,1967,1992,1991,1991,1982,1972,1961,1961,1961,1948,2020,2020,2020,2020,1934,1934,2019,2019,1974,1999,1947,1998,1975,1997,1997,1997,2005,2016,2016,1989,1980,1980,1980,2003,2007,2010,2010,1973,1960,1989,1937,1956,1979,1979,1979,2018,2002,2002,1988,1988,2010,1981,1981,2016,1950,2015,1993,1993,1993,1969,2022,2016,2021,2015,2015,2015,1954,2010,2010,1946,2019,1977,1977,1962,1957,1961,1955,1983,1983,2008,2008,2002,2002,2002,1940,1954,1972,1990,1990,1990,2003,2003,2003,2011,1974,1974,2002,1973,1995,1971,1971,1971,2021,1982,1982,1982,1995,1995,1995,1986,1986,1986,1990,1990,1990,2019,1994,1979,1978,2020,2012,2000,2000,2001,2001,2001,1991,2004,1998,2014,1996,1996,1996,2000,2016,2015,1946,1999,1991,1991,1984,2014,2014,2014,2011,2011,1984,1984,1984,1977,1977,1977,1998,1989,1988,1990,2020,2020,2020,1956,1956,1956,2011,2021,2009,2017,2017,2021,2021,1962,1962,1962,2018,2018,2008,2008,1954,1988,1996,1996,1956,1978,2020,2005,1970,1941,1941,1975,2000,2000,2000,2000,1950,1964,1957,1988,1988,2009,1945,1985,2018,2018,2018,1956,1967,2009,2009,1979,2015,2015,1943,1982,1982,1950,1950,1936,1952,1987,1970,1949,1949,2018,2003,1990,1990,1951,1961,1961,1964,1962,1962,1997,1997,1997,2018,1954,2003,1967,1967,1967,1963,1963,1944,1944,1974,1974,1974,2021,2004,2004,2004,2019,1979,1979,2012,2019,1950,1994,1994,1994,1984,1950,1950,1950,1973,1973,1978,2005,1951,1951,2005,1969,2017,2017,1954,1960,1974,2018,2019,2019,2016,2016,2014,2014,2020,2020,2011,2011,2014,2014,2014,2018,2017,2017,2017,1981,1946,1964,1964,1964,1964,1964,1985,1985,1995,1995,1995,1991,2000,2000,2000,2002,1990,1968,1968,1979,1979,1979,1974,1950,2002,2018,1990,2005,2015,2015,2020,2020,2020,2014,1967,1967,1967,1974,1971,1971,1976,1976,1976,1934,1982,1953,1981,2004,2004,2008,2008,2008,2022,1958,2000,2000,1956,1958,1931,1963,1970,1962,1962,1962,1981,2000,2016,2005,2014,2014,2021,2021,2021,2005,2002,1990,1955,2018,1994,1999,1999,1999,1968,1968,1968,2006,1991,2004,2000,1971,1971,1971,1996,2001,1990,1942,1986,1946,1993,1998,1993,2012,2012,2014,2014,2015,2015,2018,2018,2018,1967,2019,2019,1932,1958,1989,1989,2002,2002,2002,1956,1956,1933,1933,1933,1947,1947,1955,2007,2007,2007,1988,1988,1988,1995,1998,2004,2004,2004,1977,1977,1998,1989,1989,1989,2019,1991,2011,2011,2011,2020,2020,2019,2016,2019,1984,2004,2011,1985,1985,1985,1970,2019,1999,2003,2003,2003,1962,1962,1962,2003,2019,2014,2014,2014,1991,1946,2015,2015,1987,1987,1987,1974,1974,1974,2004,2004,2004,1990,2002,2016,2000,1997,2003,2003,2021,2021,2021,1968,1992,1998,1978,1957,1953,2003,1959,2010,2019,2013,2013,2014,2014,2014,2003,1956,1970,1970,1970,1992,1992,1931,1948,1947,1973,1973,1973,1999,1999,1999,1959,1973,2000,1978,1978,1979,1970,2019,1982,2019,2018,2008,2008,1999,1999,1999,2021,2010,2010,1998,2001,2010,2010,2001,2016,2019,2016,2016,2016,2010,2010,2010,2010,1991,1991,1991,1946,1946,2002,1976,1976,1976,2000,2000,2000,1964,2018,1944,1983,1983,1983,2015,2015,2015,1998,1998,1998,1988,1988,1988,1997,1997,1997,1959,2000,2008,2008,2008,2012,1979,2001,2001,2014,2014,2021,2015,2015,2015,1985,2000,2000,2000,2018,2007,2007,1999,2014,2018,2018,2010,2010,2010,1987,1987,1973,1973,1973,2018,2014,2014,2014,2007,2004,2008,2008,1957,1938,1965,1965,1965,1997,1997,1975,1975,1975,1995,1970,1970,1970,1996,1996,1996,1941,1987,1987,1987,1935,1935,1996,1996,1983,1983,1983,1998,2013,2013,2013,1947,1974,2015,1940,2017,2017,1935,1935,1996,1978,1936,2017,2017,1932,2004,1940,1950,1973,1973,1973,2002,2015,1984,1984,1977,1987,1987,1987,1937,1964,2018,2018,2018,1989,1989,2010,2010,2010,2015,2015,2019,2016,1988,1988,1988,2006,2006,2006,2005,2005,2004,2004,2004,2019,2015,2015,1999,1999,1999,1985,1985,1940,1970,1970,2006,2006,2006,1963,2014,2014,2003,2003,2021,2005,2005,2020,2016,2016,1982,2017,2017,2018,1973,1973,1973,1960,1960,1992,1992,2007,2007,2007,1962,1936,1934,1936,1955,1932,2018,2018,2018,2007,2015,2015,2009,2017,2013,2012,2012,2004,1985,1985,1985,1943,2011,2011,2011,2018,2005,2005,2006,2006,1999,1999,1999,1981,1981,1956,2017,2018,2018,2018,2018,2018,2016,2016,1934,2004,2019,2019,1991,1955,1955,2021,2021,2015,2015,2000,2000,2009,2010,2010,2012,2012,2012,2016,2016,2016,2019,2019,2019,2019,1958,1958,1961,1936,1999,1948,1964,1987,1987,1954,1996,1996,1951,1995,1995,1995,1971,1971,1971,2004,2004,2004,2008,2008,1991,1991,1991,1999,1999,1994,1994,1994,1984,2015,1948,1989,1989,1989,1959,1991,1979,1958,2019,2001,1999,1999,1999,1965,2011,2011,2011,2011,1995,1967,1984,1984,1985,1985,1985,1961,1961,1961,1995,1995,1995,2005,2005,1946,1969,1969,1982,1988,1988,2013,2013,2014,1994,1994,1994,2002,1993,1993,1993,1994,1996,1984,1984,1984,1996,2002,2002,1993,1993,1993,1960,1960,2001,2001,2001,2021,1989,1989,1973,1966,2004,2004,2004,2002,2002,2002,1977,1977,1977,1951,1961,1961,1985,1980,1980,1980,1985,1985,1982,1980,1980,1957,2003,2003,2009,2009,2002,2002,1984,1999,1999,1995,1995,1995,1973,1973,1973,1968,2015,1965,1965,1981,1981,1983,1984,1990,1990,1990,2008,1979,1988,2000,2000,2000,2004,2004,2004,2010,2010,2010,2005,1971,2015,2015,1999,1999,1999,2011,2011,2011,2002,2002,2000,1981,1942,1945,1945,1953,1981,1984,2018,2016,2019,2019,2019,2003,1970,1970,1970,1980,1980,1980,2006,2006,2006,2006,1992,1992,2007,1991,2014,2014,2014,2002,2002,2002,1953,1953,1968,1968,1968,1998,1998,2004,1983,1995,1992,1992,1992,1974,1974,1974,2014,2014,2014,1971,2003,2003,2003,2019,1978,2007,2017,2015,2015,1959,1972,1977,1943,2019,2019,1961,1937,1939,2018,2018,2018,2021,1966,1966,2002,1956,2006,1991,1953,1953,1966,1933,2003,2001,2004,2006,1998,1998,1998,2004,2004,1952,2006,2019,2004,2004,2004,2010,2010,2010,2019,2019,2021,2010,2010,2010,2015,2015,2018,2021,2020,2020,2017,2015,2018,2018,2018,2019,2005,2013,2010,2010,2010,2020,2015,2015,2019,2019,2019,2002,2015,2015,1992,1992,1985,1989,2004,2006,2006,2006,2011,2009,2013,2013,2013,2012,1954,2020,2015,2000,2000,2018,2018,1932,1964,1976,1988,2019,2014,2014,2014,2017,2017,2010,2010,2018,2022,2017,1994,1994,1989,1989,1986,2018,2018,1986,1986,2007,1954,1954,1954,1970,1970,1970,2007,1974,1987,1987,1987,1977,1977,2011,2011,2011,1939,1994,1994,1994,1949,1974,1974,1998,2010,1994,1994,1991,2017,2017,2019,2016,2016,2016,2021,2012,2017,2017,2015,2003,2003,2003,1955,1987,1987,2019,2019,1999,1999,2019,2020,2010,2010,2021,2007,2001,2001,2001,2019,2019,2019,2003,2003,2012,2012,1940,2018,2015,2015,2015,2015,2015,2015,2019,2019,2019,1996,1934,2020,2020,1956,1956,2021,1991,1991,1958,1932,1932,1952,1989,1989,2020,2017,2017,1970,2007,2013,1977,1977,1943,2013,2013,2013,2011,2011,2019,1984,1984,1984,1935,1956,1984,1975,1987,1987,1937,1966,1966,1966,1994,1994,1991,1991,1990,1978,1984,1984,1986,1986,1992,2006,2006,1988,1993,1985,1985,1985,1990,1997,1997,1997,2004,2004,1982,1982,1982,1944,1952,1978,1973,1970,1992,1959,1959,1959,1933,1974,1974,1969,1969,1980,1980,1958,1988,1988,1987,1987,1934,2005,2005,2005,1985,1994,1994,1994,1955,1955,1955,1988,1993,1993,1987,1997,2012,1957,1970,1991,1991,1991,1991,1991,1979,2018,2004,2004,2004,1991,1988,1973,1997,1933,1969,1969,1984,1984,2003,2003,2003,1999,1992,1992,1992,1988,2001,2001,1999,1995,1995,1986,1986,2004,2004,2018,2018,1974,1974,1999,1999,1999,1947,1973,1990,2002,2002,2005,2005,1979,1979,2006,2006,1991,2017,2017,1971,2017,2017,2017,1949,1934,2004,1990,2001,1996,1996,2019,1964,2008,2006,2012,2012,2012,1943,2013,1974,1974,2013,2013,1997,1997,1997,1993,2016,2018,2016,2004,2008,2004,2017,2017,1992,2003,2015,2015,2017,1992,1994,2006,2015,1970,2004,2016,2018,2018,2018,2019,2003,2003,2019,2015,2018,2018,2010,2010,2010,1935,1983,1951,1992,1992,1992,2010,2010,2010,2017,2019,2017,1973,2019,1998,1998,1998,2020,2015,1944,2013,2013,2019,1962,1962,2003,2003,2003,2015,2010,1987,1987,1997,1997,1997,1986,1981,1981,2009,2007,2007,2014,2014,2014,2012,2021,1969,1969,1969,2001,2001,2001,2017,2017,2017,1989,1937,1968,1968,1952,1991,1991,1986,2005,1991,1993,1990,1990,1990,2017,1988,2009,2004,1989,1989,2019,2019,2019,2010,1984,1984,2004,2004,2004,1985,1987,1993,1993,2021,1952,1952,1986,1986,1986,1967,1967,1967,2017,2003,1969,1959,2003,2003,2003,1960,1960,1960,1999,1996,1996,1996,1968,1988,1987,1975,1985,1991,1990,2001,2001,1934,2001,1991,1991,1991,1992,1992,1992,1995,1992,1992,2017,2017,2017,2001,2011,2006,2006,2006,1992,1999,1999,1936,1979,1979,1979,2005,1983,1983,1983,2019,2019,2006,2006,2006,1998,1998,1998,2010,2010,2010,2018,2008,2008,2008,1971,1979,1979,1979,1983,1983,1976,1976,1976,2006,2006,2006,1990,1990,1990,1983,1983,1983,1957,1979,1979,1979,2002,2002,2002,2015,2015,2012,1985,1985,1985,1999,1999,1999,1982,1982,1982,2008,1972,1972,1972,1986,2022,2015,1989,1989,1980,1980,1974,1974,1974,2017,2017,2017,1989,1965,1965,1978,1985,1961,1961,1961,1991,1963,1963,2012,2012,2016,2007,2007,2007,1967,1967,2019,2019,2019,2018,2018,2013,2013,2002,2019,1948,1951,1951,1966,1962,1988,1988,1972,1961,1961,1961,2000,1992,1974,1974,1974,1986,1986,1986,1940,1977,1977,1954,1946,1942,1962,1965,1941,1941,1948,1935,1935,1935,1944,1946,1947,1947,1946,1977,1955,1978,1978,1996,2006,2006,2006,1937,1940,1959,1959,2017,2017,2017,1952,1975,2004,1996,1959,1984,1984,1984,1990,2001,2001,2001,1937,2019,1936,1955,1955,1955,1977,1977,1964,2007,2007,2007,1968,1969,1969,1965,1965,1965,1999,1935,1957,2003,1957,1977,1983,1983,1979,1976,2010,1971,1986,1936,1995,2000,1961,1949,2011,1977,2019,1961,1961,1993,1996,1977,1978,1978,2001,2016,2016,1948,1973,1995,2019,2019,2014,2014,1992,1962,2015,2015,2007,2007,2007,1963,1976,1992,2015,2015,2015,1971,1971,1971,1972,2000,1992,1988,1994,1994,2000,1994,1994,1994,2008,2008,2008,1994,1984,1955,1979,1951,1951,1976,1997,1947,2003,2020,2020,2020,1974,1975,1975,2006,2006,2000,2000,2000,1951,1990,2014,2014,2014,2004,2004,2004,1940,2009,2009,2009,1995,2009,2004,1947,1981,1981,1938,1958,1958,2005,1973,1973,1989,1989,1977,1977,1977,2003,2003,2003,2013,1971,1971,1980,1947,1998,1948,1978,1978,1978,1956,2018,2018,1995,1995,1956,2000,2000,2004,1994,1977,1953,1952,2012,2012,2012,1948,2001,1995,1973,1950,1955,2002,1987,1987,2005,2005,2002,1990,1990,1981,2005,2005,2019,2021,2021,1978,2019,1950,1950,2019,2019,2019,1988,1988,1988,1957,1957,1965,1977,1995,1995,1994,1994,2006,2006,2003,2003,2003,1947,1994,1972,1986,1986,1958,1972,1972,2016,2021,2012,2012,2012,1973,1936,1949,1950,1949,1957,2012,2012,2012,2018,2008,2008,2008,2017,1979,1979,1979,1964,1964,1964,1965,1965,1958,1985,1985,1985,1955,2009,2009,2009,1955,1955,1947,1983,2019,1973,2017,1985,1985,1984,1984,1984,2020,2020,2001,2003,1970,1970,1970,1942,1995,1995,1995,1955,1955,1955,1968,1987,1991,1960,1982,1937,1982,1991,2005,1942,1966,1966,1966,1987,1971,1971,1942,1991,1972,1972,1972,1934,2006,2006,2006,1992,1988,2003,1989,1941,1988,1989,1987,1992,2003,1951,1981,2005,1991,1935,1935,1959,1990,1986,1994,1988,1988,1987,1989,1968,1939,1989,1990,1990,1996,2013,2013,2013,1955,2021,2020,1956,1956,2015,2015,2015,2015,1994,1980,1997,1978,2015,2016,1995,2012,2012,2012,1983,2017,1982,1992,1992,1995,2002,2002,1991,2013,2013,2013,2008,1979,1990,1990,1981,1969,1969,1991,1984,2005,2002,1982,1982,1997,1997,1997,1996,1996,1949,1949,1972,1972,1972,1986,1983,1952,2012,1988,1988,1949,2001,1986,1986,1986,1944,1991,1982,1982,1990,1990,1937,1976,1976,1993,1993,1993,1936,1970,1970,1970,1977,1935,1936,1937,1974,1939,1949,1957,1984,1968,1936,1974,1974,1983,1937,1946,1946,1997,1997,1997,1953,1988,1964,2021,2021,1992,1967,1967,1967,2018,2018,2008,2019,1953,2019,2019,2019,2015,1964,1955,1955,1955,1986,1986,1986,2003,2003,2003,1942,1953,1953,1953,2012,2016,1948,1973,1973,2019,2019,2017,1941,1962,1962,2007,2007,2007,1973,1979,1979,1979,1998,1998,2010,2010,2010,2019,2001,1985,1948,1991,1991,2005,1995,1996,1946,1961,1961,1961,2021,2021,2021,1984,1984,1940,1964,1964,1945,2017,1938,1938,1949,2000,2014,1991,1991,1969,2006,2017,2008,2008,2008,1946,1949,1949,2000,2000,2000,1960,1960,1960,1980,2003,2003,2003,2012,2012,2012,2019,1991,2003,2005,2005,2005,1989,2004,1958,1960,1982,1991,1998,1969,1981,1981,2005,2005,2005,2002,2011,2011,2011,2011,2011,1960,1992,1992,1992,2020,2020,2020,2008,2008,2008,1999,2007,2007,2012,2012,2012,2003,2001,2001,1950,1950,1950,1950,2003,2003,1978,1970,2005,2005,2021,2021,2019,1967,1967,1967,1966,1966,1966,1971,1934,1951,1965,1965,1965,2013,2013,2013,1984,1984,1984,1980,1980,1980,2007,2007,2007,1970,1957,1957,1982,1982,1970,1970,1970,1973,1984,2000,1949,2012,2012,2012,2013,2013,2017,2017,2019,1972,1972,1955,1955,2000,2000,2000,2019,2000,2000,2000,1981,1939,1935,1935,2001,1973,1973,1989,1989,1989,1943,2007,2007,2007,1999,2011,2004,2021,2007,2007,2007,1994,1994,1968,1997,1997,1997,1980,1980,1997,1997,2005,2019,2019,2019,1997,1997,1997,2017,2017,2021,2009,2009,1939,2016,1973,1973,1973,1947,1947,1947,2015,1975,1975,1975,2004,2004,2017,2017,2017,1991,2003,2019,1998,1986,2019,2021,1996,1996,1996,2000,2000,2000,1968,1989,1989,1935,2003,2000,2000,2000,1991,1991,1963,2019,2019,2002,2002,1992,1992,1955,1953,1938,2004,2004,1989,1988,1992,1959,1990,1990,1969,1967,2003,1946,1991,1936,2001,2001,2001,1959,2007,1998,1994,1992,1990,2019,1942,1958,1956,1936,1991,1991,1986,2015,2015,1991,1961,1961,1961,1997,2019,2019,2019,1993,1993,1993,1995,1989,2001,2001,1990,1963,2004,2001,2021,2017,1979,1992,1992,1992,2002,2017,2016,2016,1990,1990,1990,2005,2005,2005,1974,1974,1974,1979,1979,1996,1989,1989,2019,2007,2007,2007,1956,1946,1973,1973,1983,1983,1983,2000,2021,1981,2004,1938,1971,1971,1986,1986,1986,2000,1936,1980,1980,1980,2000,2000,1944,1944,1973,1973,2019,1973,1969,1969,1981,1980,1980,1980,1988,1990,2019,2019,2021,2021,2021,2019,2017,2017,2017,2002,2021,2021,2021,1987,1987,1990,1990,2007,1968,2013,2013,2021,2021,2021,2015,1959,2017,1975,1965,1965,1965,1992,2005,2005,2005,1985,1992,1988,1988,2018,2018,1978,1978,2000,1979,1979,1979,1995,1999,1999,1999,1975,1975,2018,2018,1951,2020,1960,2020,2020,2020,2000,2000,2000,2000,2000,1981,1981,1997,2019,2010,2010,2010,2001,2000,2000,2005,2001,2004,2000,2003,2001,2005,2004,2004,2005,1975,1999,1999,1987,1987,2008,2008,2008,1982,1982,1972,1999,1991,2001,2006,1984,1986,1986,2014,2014,2014,2020,2013,1989,1989,2005,1998,2002,2002,2002,1981,1981,1990,1987,2015,2009,2014,2003,2018,1959,1988,1985,1970,1970,1970,2021,2014,2018,2016,2016,2016,1982,1976,1976,1976,1985,1985,2006,2006,1958,1958,2019,2019,2019,1971,1971,1992,2021,1994,1994,1994,2008,2001,2001,2001,2004,1998,1998,1998,1999,1999,2008,2014,1976,1976,2002,2002,2002,2019,2019,2019,2003,1963,1963,1988,2000,2006,2006,2006,1961,2021,2021,1988,1988,1988,2011,2011,1977,1999,1999,1999,1982,2000,1987,1987,2006,2006,1993,2004,1998,2019,2019,2019,1936,1981,2017,2017,2017,1944,1976,1976,1991,1996,1996,1996,1998,1998,2019,2017,1990,1981,1952,2003,2003,2012,2012,2016,2016,2008,2008,1946,1989,1939,2003,2003,1980,2017,1986,1986,1981,1984,1949,1981,1981,2014,1971,1973,1973,2001,1973,1973,1999,2017,2000,2001,1981,2007,1971,1971,1971,1968,1968,1968,1968,2014,2014,2014,1963,2000,2000,2000,1975,1975,1984,1984,2013,2013,2004,1962,1999,2007,2007,2007,1964,1945,2003,2003,1995,1983,1983,1993,2015,1948,2013,2010,2010,2010,2013,2019,2021,2012,2012,2012,1971,1971,1971,1959,1981,1981,2016,2003,2003,2003,1992,1937,1992,2009,2009,2009,1958,1987,1978,2005,2005,2005,1960,1960,1960,1989,1989,1960,1960,1960,1975,1937,1962,1956,1993,1993,1993,1984,1986,1986,1963,1963,1963,1933,1963,1939,1934,1933,1958,1958,1958,1980,1944,2022,2014,1962,1985,1985,1935,1934,1983,1983,1977,1977,1977,1993,1993,1993,1954,1942,1951,1979,2019,2019,1993,1993,1993,2004,2012,2012,2012,1985,1985,1987,1990,1951,1951,1980,1980,1980,1977,1977,2002,1959,1959,1935,1935,2018,1976,1976,1976,1998,1931,1931,1931,1996,1982,1983,1935,1996,1996,2021,2004,1960,1948,2019,1997,1940,1993,1981,2005,2005,2005,2013,2004,1987,1999,1995,1995,1983,2001,2001,1999,2004,2012,2012,2001,2004,1949,1950,1950,2013,2013,2009,2009,2009,2019,1989,2000,2000,2009,2009,2009,2020,1958,1984,1989,1992,1935,1992,1990,1991,1996,1997,1963,1963,1963,1928,1999,1999,1972,1961,1961,1941,1955,1982,2019,2019,1949,1949,1939,1939,1959,1971,1959,1959,1959,1981,1981,1981,1950,2019,1994,1994,2000,1943,1960,1960,1960,1994,1994,1989,1989,1989,1981,1981,1992,1989,1989,1989,2001,1987,1980,1988,2000,2000,1990,1990,1984,1984,1995,2019,2019,1988,1988,1982,1934,1923,1968,1968,2017,1939,2017,2017,2013,2013,2013,2016,2016,2016,1956,1956,2005,2005,2005,1993,1993,1993,1986,2004,1994,1995,1995,1995,2014,1983,1983,1983,2019,2005,1998,1998,1958,2018,1990,1990,1985,1985,1982,1984,1984,2014,2014,2015,1977,1977,1989,1986,1986,1986,2021,2021,1935,1938,2009,2008,2008,2008,1978,1978,1995,1980,2020,1992,1992,1985,1928,1928,1928,1922,1922,1922,2021,2021,2006,2000,2000,1936,1936,1995,1995,1995,1979,1979,2004,2010,2010,2010,1999,1999,1988,2014,2014,2006,1978,1978,1978,1978,1978,1978,2018,2018,2018,1935,1949,1982,1980,1980,1980,1991,2002,2002,2002,2008,2008,2008,2019,1992,1992,2005,1988,1988,1988,2001,2001,1976,1976,1976,1949,1981,1990,1990,1990,1984,1990,1991,1992,1977,1977,1984,1984,1989,1989,1989,2001,1993,1993,2005,1989,1989,1974,1974,1941,1991,2003,2003,2003,1973,1973,1973,1934,1951,2019,2018,2018,1964,1964,1964,1946,1983,1990,1978,1978,1978,2001,2001,2001,2019,2005,1954,1980,1957,1957,1983,1983,2019,1989,1989,2018,2018,1971,1971,2019,1970,1970,1970,1935,1980,1980,1980,1981,1981,1981,2013,2013,2006,2000,2015,2015,2015,2012,1963,1963,1994,2004,1983,1947,2005,1970,1987,1987,1991,1991,1991,2002,1939,2015,2015,2015,1987,1987,2017,1947,1997,1997,1997,1997,1997,1972,1999,1999,1983,2019,1970,1954,1959,1959,1972,1999,2005,2012,1983,1983,2004,1993,1993,1993,1966,2018,2018,1959,1973,1946,1998,1998,1998,1935,1935,2019,2019,1983,1988,2020,2020,2002,2002,2002,2016,2019,2019,2019,2012,2012,2012,2020,2020,2020,1976,1976,1976,2020,1984,2019,2006,2006,2006,1954,1995,2018,2001,1934,1965,1965,1965,2004,2004,2004,1993,1993,1993,1976,1976,1976,2007,2007,2007,2008,2008,2019,2019,1993,1993,1993,2004,2002,2019,2019,1986,1986,1949,2017,1946,1950,2005,2005,1970,1970,1942,2019,2019,1996,1996,1996,2015,2015,2015,1937,2006,2006,2006,1942,1942,1955,1955,1979,1979,2019,2019,1965,1965,1947,1984,1980,2003,2007,2011,2011,1981,2016,2009,2000,1978,1988,2017,2018,1990,1990,1990,1991,1991,1988,1988,2001,1978,1978,2010,2010,2010,2000,2000,2000,2004,2000,1981,1989,1989,2001,1951,1951,1987,1987,1987,1958,1941,1943,1943,1986,2018,1992,1992,1992,1950,2003,2003,2003,1992,1989,1989,2019,1975,1975,1975,2019,1977,1977,1977,2019,2019,2019,1986,1981,1981,2016,2016,2008,2008,2010,2010,2010,2010,2010,1948,1991,1991,1991,1945,1950,1961,1992,1992,1992,2021,2000,2000,2000,2012,2012,1997,1996,1996,1996,1968,1968,1996,1996,1970,1970,1970,1942,1995,1995,1981,2000,1991,2006,1998,1953,1971,1989,1989,2017,2017,2017,2012,2012,1989,1989,2004,1999,1999,1999,2014,2014,1959,2003,2002,1981,1981,1985,1988,1988,1988,1988,1978,1978,1986,1991,1991,1991,1966,1981,1993,1993,1980,1973,1973,1973,1979,1974,1974,1978,1978,1978,1996,1998,1981,1977,1977,1946,2004,1988,2001,1987,1991,1999,1988,2000,1986,2004,2000,2000,1936,1974,2005,1964,1943,1987,1998,1987,1986,1989,1999,1991,1991,2004,1970,2000,2002,2000,2001,2001,2001,2000,1999,2006,2006,2006,2015,2015,1958,1974,1974,1974,1998,1955,1955,2002,2015,2007,2007,1980,1980,1980,1933,1952,1947,2005,1932,1992,1992,1992,2020,2020,2020,2019,2019,1983,1957,1957,1981,1981,1981,2010,2010,2010,1931,2010,1935,1994,1937,2020,1982,1982,1994,1994,1994,1987,1964,1964,1964,1956,2005,1992,1989,2005,1935,1939,2020,1978,1946,1982,1982,1982,1964,1949,1975,1975,1954,2004,2008,2008,2008,2003,2003,2003,1986,1997,2014,2014,2014,1980,1980,1980,1937,2020,2003,2003,2003,1934,2016,2016,2019,2014,2014,2014,2019,2013,2014,2014,2015,2008,2008,2008,2020,2004,2014,2014,2014,2018,1992,1992,1992,2018,1936,1977,1977,1963,1963,2002,1933,1962,1962,1962,1963,1993,1993,1993,2014,2014,2019,1944,2008,1986,1986,2019,1972,2019,2019,2009,2009,2009,1942,1995,1984,2004,2004,2004,2015,2015,2017,1938,2009,2009,2009,1974,1974,1974,1937,1990,1990,1990,1950,1942,2005,2005,2002,1942,1948,1937,1969,1969,1969,1995,1995,1995,2004,2004,1946,1934,2008,2008,2008,1992,1943,1956,1980,1980,1980,1956,1956,1956,1934,2012,2012,2012,1961,1986,1986,1947,2005,2005,2005,2004,1990,1999,1989,1978,2009,2009,2009,2019,2019,2019,1983,1983,1977,2019,1965,2010,2010,2010,1957,1957,2002,2002,1976,2006,2006,2006,2004,2003,2010,2010,2010,2012,1989,2011,2011,1960,1960,1960,1993,1993,1964,1964,1964,1991,1999,1999,1999,2005,2005,2005,2008,1970,2003,2003,2006,1985,2021,1976,1976,1997,1997,1997,2005,2005,2002,2002,2002,1986,2021,2003,2003,2003,1994,1937,2020,2014,1986,1986,1978,2021,2021,2021,1973,1973,1974,2003,2003,1974,1974,1974,2020,2020,1972,1943,2015,2000,1995,2021,2001,2020,2020,2020,1977,1977,1977,2014,2014,1997,1997,1997,2012,1981,1981,1981,2002,2002,1994,1994,1994,1997,1997,1997,1999,1994,1994,1994,2010,2010,2010,2008,2008,2008,2018,2017,1993,1996,1996,1996,1997,1934,1934,1934,2012,2012,2012,1968,1968,1968,1944,2004,2004,1952,1946,1933,1945,1957,1979,2000,1964,1986,2002,1932,2020,2020,2020,1990,1990,1990,2000,2000,2000,2019,1988,1981,1981,1981,1961,1961,1961,2006,2006,2006,2013,2013,2013,2019,2019,2019,1993,1993,1993,2011,1974,2019,1963,2011,2003,2003,2014,2018,2001,2007,2001,2001,2001,1998,1998,1998,2015,2015,2011,2003,2003,2003,2018,2004,2002,2002,2002,2018,2004,2010,2010,2010,2005,2005,2006,1981,1981,1981,1998,1998,1998,1987,1984,1980,1985,2014,2014,1945,1946,2017,2017,2017,1937,2018,1940,2021,2021,2014,1955,1955,1993,1993,2004,2016,2000,2000,2000,1942,1974,1974,1973,2007,1966,2001,1996,2003,1991,1991,1991,2009,2009,2009,1943,2000,2000,2000,1933,1945,1977,1977,1977,2021,2021,2021,2008,2008,2008,2005,2010,2019,2019,2018,1964,2021,2017,2019,1956,2014,2014,2014,2016,2000,2000,2007,2007,2007,2019,2018,2006,2011,2011,2011,1959,2002,2002,2002,2002,2003,2005,2005,2016,2012,2001,2001,2001,2005,2005,2003,1952,2013,2004,2004,2004,2021,1994,1994,1966,1966,1954,1954,2001,2011,2007,2007,2007,1990,1963,2005,2005,2015,2015,2015,2001,2019,2019,2019,1991,2016,2016,2016,1996,2019,2017,2017,2017,1998,1992,1992,1992,2010,2010,2010,1946,1946,1981,1981,1981,1999,1999,1999,1966,1980,1966,1989,1989,1989,1943,1981,1981,1981,2004,2002,2014,1990,1939,1997,1981,2006,2011,2011,2011,1966,2001,1979,1979,1979,1953,1989,1991,1976,1977,2001,1971,1971,1971,1966,1966,1954,1949,1949,1949,2003,1995,2000,1993,1972,1968,1968,1968,1995,1995,1960,1960,1946,1946,1990,1990,1995,1975,1975,2019,2010,2010,2010,2020,1999,1976,2001,2001,2001,1955,1941,1971,1971,1948,2005,2006,2006,2006,2019,2001,1936,1936,2013,2017,2017,2017,1953,1944,1944,1935,1941,1936,1937,1990,1997,1997,1949,2010,2010,2010,2021,2021,2021,1938,1953,1990,1979,1979,1989,1991,1991,1991,1980,1968,1984,1984,1954,2005,2005,1931,1953,1945,1945,2018,2018,1931,1982,2020,1950,2001,2001,2001,2019,1958,1958,1942,2014,2014,2004,2004,2013,2018,1954,1954,1997,1979,1979,1979,1945,2019,1984,1984,1984,1971,1971,1947,1955,1991,2016,1991,1982,2014,1951,1979,1979,1979,2004,2004,2004,1999,1999,1966,1957,1947,2015,1938,1935,1983,1983,1948,1948,1956,1944,1944,1978,1952,1952,1959,1954,1954,1971,1960,2002,2002,2002,2012,1958,1958,1948,1983,1983,1960,1972,1941,1947,1933,2019,2019,1956,2001,1944,1972,1972,1972,1985,1985,1985,2018,1956,1956,1956,1960,1967,1967,1992,1992,1992,2010,2010,2010,1991,1991,1991,2016,2011,2011,2011,1917,1917,1917,1952,1933,1981,1981,2007,1981,2018,1989,1989,1989,2010,2018,2019,2019,2019,2019,2019,2017,2015,2013,2013,2013,2018,1988,1994,1967,1967,1967,2019,1951,1997,1997,1997,1974,1985,1985,2010,1950,1993,2016,1967,1967,1967,1937,2019,2015,1957,1957,1940,1957,2020,2020,2020,2000,2012,2012,2012,2012,2017,2017,1964,1964,1964,1939,1939,2008,2008,1947,2018,2018,2021,2014,2014,1949,1949,1990,1990,1990,2016,2016,2016,2020,2002,2002,2002,2004,2004,2004,2014,2014,2014,2009,2009,2009,2004,2019,2019,2019,2017,2017,2013,2013,2013,1988,2017,2017,2017,1944,2010,2007,2007,2007,2014,2014,2017,2012,2012,2007,2007,2019,2019,2014,2018,2012,2012,2012,1939,1939,2012,2012,2021,2012,1958,2019,2019,2019,2019,2019,2007,2007,2019,2019,2019,2006,2019,2014,2014,2014,2016,2016,2015,2016,2016,2013,2008,2019,2006,2006,2019,2019,2014,2001,2001,2001,2020,2020,2014,2020,1999,1996,1996,1996,1973,1973,1950,2003,2003,2003,2005,1986,1986,2015,2015,1982,2012,2012,1999,1987,1987,1987,1997,2019,1990,2007,2007,1979,1979,1979,1995,1951,2004,2019,2019,2019,2019,2005,2005,2005,2009,2009,2009,2020,2020,2020,2009,2009,1968,2012,2014,2014,2014,2017,2017,2017,1996,2021,2021,2021,2011,2011,2011,2020,2020,2013,2013,1965,1965,1965,1990,1993,1993,1993,1980,1980,1972,1984,2019,2019,2009,2009,2009,2004,1991,1991,1991,1994,2002,1986,1986,2016,2020,2020,2009,2009,2009,2019,2016,2019,1966,1966,1966,2017,2017,2017,1990,2003,2003,1997,2011,2011,2011,2019,2016,2019,2019,2019,2015,2011,2011,2009,2016,2016,2008,2021,2021,2020,2019,2019,2019,2019,1983,2009,2009,2006,2006,2006,2003,1976,2004,2004,2004,1960,1960,1960,1984,1966,1966,1966,2009,2009,2006,2016,2001,2001,2001,2009,2009,2009,1989,1989,1996,1984,1984,1959,2018,2018,2020,2020,2012,2020,2020,2020,2016,2016,2018,2021,2021,2021,1981,1981,1981,2008,2008,2008,1998,2018,2014,2011,2011,2017,2018,2018,2018,2017,2001,2019,2019,2019,2021,2021,2012,2012,2012,2012,2012,2016,2018,2018,1985,1985,1983,1983,1983,2016,2016,2008,2012,2010,2010,2010,2019,2019,2019,2021,2021,1982,1982,1982,2019,2019,2019,2009,2009,2009,2009,2015,2017,2017,2017,2015,2017,2011,2014,1961,2005,2005,2005,2020,2020,2020,2019,2019,2019,2006,2018,2018,2018,2018,1985,1991,1938,1955,1968,2011,2011,2007,2007,2012,2017,2012,2015,2015,2012,2012,2019,2014,2014,2014,2014,2014,2014,2014,2016,2016,2016,2014,1976,1962,1962,1962,1992,1992,1957,1957,1976,1976,1968,1978,1970,1944,1960,1960,1987,1946,1974,1986,2005,1999,1970,1970,2004,2004,2004,2019,2019,1949,1985,1999,1990,1959,1959,1982,1989,1936,1936,1995,1986,1986,1996,1990,2019,2003,2004,1990,2002,2002,1989,2005,2005,1996,1996,1996,1996,1964,2019,2019,2019,2018,2020,1972,1972,1972,1954,1980,1980,1979,2008,2008,2008,1981,1984,2011,1986,1984,1995,1995,1995,1988,2019,1992,2021,1987,2018,1971,1986,1984,1984,1988,2017,2000,2013,2013,2013,2021,2021,2019,2019,2000,1990,1989,1989,1989,1990,2014,2017,2017,2017,2016,2001,2019,2011,2011,2016,2016,2016,1987,1987,1987,2021,1936,2001,1994,1994,1994,1959,1959,1959,1962,1962,1935,1961,1959,1959,2019,2019,2010,2019,2019,2019,1955,1955,2018,2018,1969,1969,2009,2009,1974,1974,1974,1951,1951,1951,1994,2004,2004,2004,1959,2000,1978,1978,2006,1950,1981,1958,1958,1958,1938,1938,1990,1955,2002,1933,1932,1941,1975,1981,2016,2016,2009,2009,2009,2015,2015,1953,2021,2013,2013,2013,1990,2004,1996,1998,1946,1963,1964,1934,1935,1950,1979,1977,1977,1977,1991,1976,1976,1976,1981,1954,1985,1990,1985,1985,1985,1994,1994,1994,1987,1987,1989,1989,1983,1983,1983,1997,1997,1997,1969,1981,1981,1981,1965,1965,1965,1933,2013,2013,2013,2013,2013,2013,1984,1937,1985,1985,1985,2019,1988,2001,1944,1944,1944,1942,1942,1942,1949,1949,1949,1989,1970,1970,1970,2002,1988,1936,2013,2013,2013,1987,1975,2001,2001,2001,1998,1998,1998,1970,1946,1965,1946,2012,2012,1934,1934,1957,1946,2008,2008,2008,1944,1944,1944,1987,2018,1990,1990,1990,1943,1964,1964,1979,1973,1973,1973,1955,1985,1985,1985,1947,1980,1994,1972,1967,2009,2009,2009,1953,1998,1990,1995,1954,1943,1962,1988,2019,2019,2019,2016,1998,2007,1942,2017,2015,1981,1981,1981,2002,2003,1977,1959,2005,1969,1969,2017,2013,2013,1957,1957,2021,2021,2021,1995,1995,1967,2021,1981,2000,1949,2005,2005,2005,2015,2015,2015,1961,1981,1981,1980,2014,2014,1987,1983,1983,1989,1986,2014,2014,1965,2005,1976,1985,1962,1962,2001,2019,2019,1940,1987,2011,1965,2003,2019,2001,2003,2003,2004,1992,2000,1965,2019,2020,2004,2001,2001,2004,2004,2004,2004,2001,2015,2001,2002,1992,1980,1995,1982,1982,2001,1994,1994,1985,1985,2020,2000,2013,2013,2013,1945,2003,2003,2021,1959,1959,1959,1998,1991,2003,2003,2003,1990,1984,2007,2007,1962,1998,1998,1964,1964,1971,1971,1971,1994,1989,1989,1989,2014,2014,2014,1988,1988,1999,1978,1978,2017,1978,1966,2019,2019,1988,2002,2005,2005,2005,1994,2002,2002,1959,1959,1982,1982,2019,2005,2005,2005,2017,2019,2003,1987,2017,1948,1948,1989,1964,1964,1948,1948,1991,1954,1986,2021,1967,2021,2001,1935,2021,2021,2021,1998,1998,1998,2001,2001,2001,2015,2019,2019,2014,1956,1956,1956,1941,1948,2019,2019,2019,2006,1942,2020,2020,2020,1933,1951,1951,1951,1944,1958,1958,2010,2010,2010,1947,1956,1954,1953,2001,2001,1962,1998,2010,2010,2010,1953,1977,1977,1977,1942,1942,1989,1989,2020,1994,1936,1936,1966,1966,1952,1965,1942,1977,2019,2005,1994,1972,1972,1979,1950,1950,1969,1969,1970,1944,1944,1971,1971,2004,2005,2005,1980,1980,2005,1971,1971,2019,1989,2004,1991,1972,1972,1953,1999,1973,1973,1973,1943,1962,1999,1999,2019,2019,2021,2019,2019,2019,1983,1983,2017,1937,1948,1977,2001,1986,1986,2017,2017,2019,2019,1983,1983,1983,2005,2005,2005,1979,2013,2013,1947,1981,1981,1972,1951,1994,1992,2019,2019,1954,1970,2019,2019,2019,2007,2007,2007,2019,2019,2019,1934,1947,2015,2015,2015,1992,2014,2014,1947,1976,1976,1976,1962,1962,1936,1998,2017,2006,2006,2006,1955,2019,1954,1954,2008,1980,1980,1944,2007,2007,2007,1974,1974,1974,2003,2006,2006,2006,2020,1946,2000,2019,1941,2008,2012,2012,2012,2018,2018,2017,2017,2002,1989,1989,1989,2021,1960,1960,1979,1979,1979,1974,1949,1949,1986,2003,2003,2003,1984,1984,1988,1985,1985,1985,2019,1998,1936,1988,1987,2018,2018,2014,2014,2014,2019,2019,2019,1988,1988,2005,1983,1983,1983,1935,1987,1988,1988,1988,2009,2009,2009,2014,2021,1988,2007,2007,2007,2019,1955,1955,1955,2019,2019,2019,2020,2003,2003,2019,2002,2002,2002,2020,2019,2017,2012,2002,1987,1987,2016,2019,2019,2009,2009,2009,1964,2014,2014,2014,1971,1971,2015,2017,2014,2014,1990,2002,2002,2002,1950,1984,1984,1984,1953,2005,2005,2005,1992,1992,2020,2020,2020,2009,2009,2009,2021,2021,1983,1960,1941,1996,1996,1996,2000,1986,1999,1999,1999,2014,1934,1991,1991,1991,1955,1955,2005,1977,1977,1977,1954,1954,1970,1970,1970,1936,2010,1955,2005,2007,2001,1938,1985,1985,1985,2004,2004,2004,2005,2011,2011,2011,2003,2000,2017,2016,2013,2013,2019,1942,1968,2020,2002,2020,1985,1985,1948,1989,1936,1961,1948,2013,2013,1949,2003,2017,2017,1934,2020,1958,1947,1947,1936,1947,2003,2001,1943,1944,1978,1975,1975,2011,2011,2011,1978,2018,1983,1958,1998,1985,1985,1985,2003,2001,2001,1982,1935,1990,1990,2003,1986,2004,1987,2001,1989,1989,1991,1989,2001,2000,1991,2018,1990,1983,1983,2005,2002,2012,2012,2012,2019,2019,2019,2001,1993,1993,1993,1961,1961,1936,1936,1949,1958,1958,1932,1984,1972,1962,1962,1962,1933,1951,1960,1960,1932,1975,1963,1949,1944,1944,1957,1967,2022,2022,1976,1976,1983,1954,1954,1954,2005,2005,2005,1991,2005,2005,1943,1975,1934,1945,1983,1983,1976,1975,1996,1986,1986,1986,2009,2009,2009,2018,2020,2010,2010,1944,1950,1991,1981,1942,2019,2019,1954,2004,2004,2004,1981,1981,1981,1979,1979,1947,1992,1992,1976,1976,1947,2008,2008,2008,2016,2015,2015,1991,1991,1938,2005,1985,1985,1991,1935,2018,1996,1945,1985,2021,1947,1991,1993,2005,1982,1950,1971,1971,1971,1992,1954,1954,1976,1976,2008,2008,1965,2020,1957,1960,1960,1972,1973,1973,1973,1953,1972,1998,1958,1958,1983,1983,1983,1962,1962,1962,1982,1982,1967,2019,2019,2019,2018,2004,2001,2001,2001,2014,2014,2014,1948,1948,1948,1971,1971,2000,2000,2000,1997,1997,1956,1956,1956,1961,1961,1964,1964,2010,1995,1971,2002,2008,2006,2006,2011,2001,2013,2013,1985,1967,1967,1989,1995,1995,1998,1973,1986,1986,1976,2006,2006,1992,1969,1969,1969,1977,1984,2005,1989,1992,1942,1971,1971,1992,1946,1960,1960,1939,1986,1934,2000,1985,2019,1985,1976,1995,1987,2003,1944,1938,1987,1987,1987,1948,1967,1967,1988,1968,1968,1970,1970,1989,1993,1990,1990,1940,1935,1994,1964,1978,1978,1978,2019,2020,1985,1966,1966,1966,2001,2002,1957,1981,1988,1973,2003,1947,1947,1961,1987,1987,1977,1969,1969,1969,1987,1984,1985,1985,2000,1971,1963,1988,2008,2008,2008,1947,1972,1972,2011,2011,2011,2013,2013,2013,1994,2021,1998,2012,2015,2019,1973,2016,1968,1968,1968,2013,2013,1970,1970,1968,1968,1972,1972,1972,2006,2006,2006,2021,2009,2009,2009,1966,1966,1937,1948,1992,1963,1963,1963,1995,2018,1995,1941,2019,1986,1941,1992,1992,1975,1975,1965,1965,1997,1997,1997,1975,1975,1975,2002,2002,2002,2020,2020,2020,1993,1993,1993,1939,2005,1981,1981,1981,1984,1984,2001,2005,1950,1944,1962,1969,1969,1937,2004,2004,2004,1979,1979,2001,2001,2003,2003,2001,2001,1984,1931,2001,1992,1985,1985,2000,1948,1982,1941,1990,2009,2009,2006,2006,2006,1995,2018,2009,2009,2000,2002,2001,2017,2017,2017,1990,1993,2018,2013,1963,1963,1963,1989,1989,1989,1982,2005,2013,1982,1978,2004,2011,2011,2013,2013,2022,1972,2018,2018,2018,1939,2012,2015,2014,2015,2015,2015,2014,2013,2015,1989,1989,1937,1967,1967,1967,1995,1995,1995,1958,1947,1991,1989,1967,1967,2019,2019,1955,1955,1972,1972,1972,1984,2010,2010,2020,2011,2011,2011,1975,1975,1975,1998,2021,2021,1998,2011,2021,1999,1999,1959,2021,2021,2021,1977,2005,2019,2017,2010,2010,2010,1986,1986,2004,2017,2017,2017,1954,1954,1954,2017,1989,1947,1947,1933,1957,2016,2016,2016,2001,1985,1935,1935,1949,1949,2009,1933,1933,1998,1998,1998,1958,2007,1957,1957,1957,1972,1961,1955,1936,1960,1988,1959,1957,2003,2016,2002,2012,2012,2012,1954,1954,1935,1957,2019,1989,1958,2015,2015,2015,2016,1980,1958,2005,2005,2018,2018,2018,2016,2012,1991,2008,2008,2008,2000,2000,2000,2019,2019,2019,2019,2004,2016,2005,2008,2019,1987,2000,2008,2008,2008,2002,1955,2018,2010,1947,2001,2001,2004,1989,1989,1968,1937,1948,1960,1960,2018,2006,2006,1997,1960,1960,1996,1936,2012,2016,2014,2011,2011,2011,2019,2005,1961,1937,2009,2017,2019,2019,2019,2019,2016,2016,2016,1989,1989,1985,1997,1997,1943,1998,1967,1967,1982,1965,1965,1984,1991,1988,1988,1997,1997,1984,1994,1994,1994,1960,1943,1986,1986,1978,1991,1962,1966,1966,1966,1995,2000,2000,2000,1995,2019,2015,2015,1947,1984,2014,2009,1959,1959,2016,2016,2016,1957,1957,1947,1940,1913,1990,1994,1994,1994,1987,1987,2019,2001,2001,2001,2013,2013,2017,2017,2017,1972,1972,1972,2022,2022,2022,2000,2002,2016,2019,2008,2008,2011,2011,2011,2020,2020,2012,2012,2015,2015,2015,2013,2013,2013,2001,2001,2001,2020,2015,1970,1970,1970,2020,2020,2006,1945,2019,2019,2011,2021,1980,1980,1980,1952,2021,2021,2021,2004,2004,2009,2021,2020,2015,1999,1999,1957,1957,1957,1938,2019,1993,1937,1952,1952,1952,1987,1942,2016,2016,2016,1995,1995,1995,1995,1975,1975,2018,2007,2007,2007,2019,2012,2004,2014,2014,2014,2019,2004,2005,2005,2005,1955,1955,1955,1997,1997,1997,2006,2006,1937,1936,1994,1994,1994,1996,1992,1992,1992,1956,2007,2007,2007,1987,1987,1987,1961,1961,1961,1943,1959,1959,2017,1956,2014,2014,2019,1969,1979,1979,1979,2019,1958,1958,1958,2002,1996,1996,1996,1974,1974,1952,2010,1963,2008,2008,2008,1957,1957,1957,1938,1987,2015,2015,2015,1964,1964,1964,2004,2017,1975,1977,2000,1997,1997,1997,1997,1997,2020,2020,2021,2015,2015,2020,2020,2020,2019,2015,2015,2015,2016,2016,2016,2015,2015,2015,2017,2017,2017,2017,2012,1960,1960,2019,2019,2018,2003,2020,1986,1986,1986,1991,2021,2021,2009,2009,1932,2019,2020,1989,1995,1983,1983,1963,1963,1963,2014,2005,1985,1985,2001,2001,2001,2001,2001,1969,1984,1984,1984,1983,1983,1999,1992,2011,2011,2011,2004,2004,1989,1989,1944,1958,1958,1965,1986,2008,2008,2008,2017,1988,1977,1977,1977,1960,1998,1937,2002,2002,1948,1993,2018,1963,1963,1988,2016,2016,2016,2010,2014,2014,2014,2015,2016,2008,2008,2014,2014,2017,2005,2005,2005,2004,2011,2011,2011,2003,2003,2008,2003,2013,2013,2013,2021,2021,2007,2007,2003,2003,2003,2012,2005,2021,2021,2021,2012,2020,2020,2011,2011,2011,1963,1963,2011,2011,1944,1944,1957,1983,2018,2018,2018,1955,1955,1955,1972,2008,1954,1969,2003,2003,2014,2017,2017,2017,1975,1999,1999,1999,2005,2014,1942,1979,1979,1979,1993,1993,1993,1970,2005,1941,1978,1996,1990,1996,1978,1978,1950,1990,1987,1987,1987,1978,1978,2002,1983,1946,1961,2016,2016,1999,1976,1985,2000,2004,2004,2004,2011,2011,2011,2013,2013,2013,2019,2019,1971,1970,2018,1935,2010,2010,2010,2019,2019,1957,1940,1986,2004,2004,2004,1955,1955,2019,2009,2018,2016,2019,2019,2019,2020,2004,2004,1943,1992,1992,2017,2010,2010,2010,1993,1993,1996,1995,1995,1995,1975,2013,2013,2017,2015,2019,2010,2010,2018,2005,2005,2020,2020,2013,2013,2013,2006,2021,1984,1984,1984,2005,2000,2018,1975,2006,2006,2006,2016,1974,2007,2008,2008,2010,2010,2010,2020,2011,2011,2011,2017,2021,2010,1970,2008,2008,2008,2010,2019,2011,2019,2019,2019,2018,1993,2013,2013,2009,2005,2005,2005,2020,2012,2018,2018,2004,2015,2015,2015,1988,2015,2010,2010,1938,2011,2002,2002,2002,1971,1949,2004,2004,2004,1959,1992,1976,1986,1986,1958,1976,1962,1962,1962,2004,1963,2001,1957,1970,2003,1966,1957,1957,1987,2004,1973,1963,1963,1989,1989,1957,1972,1972,1972,1953,1953,1971,2001,1990,1991,1980,1987,1995,1995,1990,1990,1990,2001,2018,1992,1979,1979,1986,1986,1986,2021,2005,2005,2016,2016,1987,1987,2017,2017,1991,1991,1977,1994,1994,1994,2019,1981,2013,2013,2005,1986,1955,1955,1955,2003,1947,1947,2005,1954,1954,1954,2013,1953,2021,1960,1989,1991,1991,2017,1951,1943,1971,2003,2003,2000,2002,1984,1968,1934,1962,1982,1982,1948,1990,1990,1973,1987,1989,1989,1989,1992,1978,2016,2016,1943,2000,2000,1934,1966,1935,2020,1955,1954,1954,1954,1976,1976,1976,2021,2021,1992,1992,1987,1966,1979,1979,1979,1988,1988,1988,1986,1986,1951,1951,1951,1945,1945,1945,2014,1947,1950,1934,1942,1973,1981,1943,1960,1960,1946,1959,1959,1990,1948,1941,1967,1967,1965,1965,1965,1951,1943,1969,2021,1986,1953,1973,1973,2005,2005,2005,1998,1989,1989,1979,1979,1943,1951,2005,1960,1981,1981,1981,2019,1933,1962,1962,2006,2006,2006,2010,2010,2010,1988,1933,2004,2004,2009,2009,2009,1996,1996,1996,1947,1982,1982,1982,1973,1978,1943,2018,2018,2018,2019,1965,2007,2007,2007,2018,1982,1982,2005,1991,1994,2010,2010,2010,1949,1949,1988,1988,2020,2014,1934,1948,1934,2015,1938,1998,1951,1981,1971,2007,2007,2007,1952,1971,2018,1980,1969,1969,1969,1973,2018,2018,2018,1948,2021,2007,2007,2007,1955,1989,1989,1956,1949,1948,1933,1933,2004,1949,1972,1972,1989,1991,2004,1981,1981,1991,1991,1991,1949,2017,2020,1946,1942,1981,2014,1936,2011,1940,1957,1985,1963,1940,1965,1978,1978,1981,1981,1981,1997,1997,1997,1986,1986,1992,2014,2014,2013,2013,2019,2019,2019,2016,2001,2002,2005,1986,1945,1936,1986,1986,1985,1983,1983,1954,1954,1954,1975,2005,1947,1969,1969,2015,2009,2000,2000,1991,2017,1952,1952,1957,1957,1957,2011,2011,1962,2006,2019,1951,1967,1947,1943,1983,1983,1983,1999,1955,1955,1979,1979,1978,1978,1953,1953,1967,1967,1967,1957,1957,1957,2013,2013,2013,1934,1953,2005,1983,1937,1939,1935,2004,1959,1959,1959,1955,1955,1997,1978,1967,2018,2018,2000,1956,1998,1956,1986,1986,1986,1979,2003,2013,2013,2013,1957,1957,1957,1978,1978,1978,1974,1974,1953,1953,2001,2007,2007,2007,1984,1984,1984,1958,2000,1965,1965,1990,2004,1973,1973,1973,1998,1986,1958,1967,1953,1982,1976,1941,1959,1959,1985,1992,1988,1943,1991,1991,1991,1971,1971,1935,1957,1943,1939,1990,2005,2001,2001,2001,2003,1990,2005,1995,1995,1995,1936,2020,1952,1996,1951,1961,1961,1961,1987,1942,1978,1980,2012,2021,2005,2005,2005,1970,2003,1946,1947,1947,1947,1968,1968,1968,1957,2002,1935,1965,1965,1945,1952,1952,2003,2019,1962,1975,1975,1958,1966,1966,2016,2016,2016,1984,1980,1980,1946,1976,1976,1976,2007,2007,2007,1990,2014,1932,1948,1934,1959,1982,1949,1934,2017,2009,2009,2009,2004,1994,1982,2005,2005,2005,1966,1966,1991,2020,2019,1956,1956,1956,1986,1986,1994,1937,2009,2009,2009,2017,2017,2015,2000,2000,2015,2015,1978,1983,1989,1989,1989,1935,2005,2000,2017,2017,1961,1958,1958,2005,2019,1967,1967,1967,2006,2006,1992,2019,2021,2005,2019,2019,2019,2015,2015,1950,2018,1996,1996,1996,1993,1993,2007,1950,1950,1950,1938,1940,2013,2013,1996,1996,1941,1950,1973,1973,2018,2018,2018,1935,1949,2017,2017,1978,1974,1987,2019,1938,2012,1979,1997,1997,1997,1983,2019,2011,1983,1983,1983,2005,2007,1965,1949,1952,1950,1950,1980,1980,1995,1995,1946,1989,1989,1989,1937,1975,1975,1992,1992,1992,2004,2019,1932,1977,2005,2005,2005,2020,2020,2020,2021,2021,2021,2018,2018,2011,2011,2011,2006,2010,2010,2010,2007,2007,2007,2019,2015,2015,1998,2019,2018,2021,2021,2017,2017,2017,1976,1931,1934,1965,1965,1954,1933,1934,1976,1978,1936,1935,1935,1979,1979,1979,1967,1967,1967,2014,2019,2017,2017,2011,2011,2011,2021,2021,2019,2019,2019,2013,2011,2011,2020,2019,2019,2019,2018,2018,2018,1991,1991,1991,1932,1989,1990,2021,1999,2020,2020,2020,2015,2020,2020,1959,2014,2014,2013,2012,2018,2015,2017,2008,2002,2018,2018,2019,2017,2017,2001,2001,2001,2019,2019,2006,1980,1980,1995,2003,2021,2019,2008,2008,2017,2017,2018,2018,2007,2003,2003,1986,2021,2021,2012,1988,2002,2002,1982,1995,2007,2007,2007,2021,1946,2019,2017,2017,2017,2012,2012,2012,2006,2006,2006,2020,2020,2019,2019,2019,2011,2018,2018,2019,2019,2019,2015,2010,2010,2010,2013,2013,2013,2001,2001,2001,2014,2014,2014,2009,1971,1971,2019,2019,2019,2004,2012,2012,2016,2019,2018,2016,2016,2020,2020,2008,2008,2017,2017,2017,1999,1999,1961,1961,1961,1989,1989,1985,1985,1965,1965,1965,1955,1955,2013,2013,2013,1977,1977,2003,2003,1955,1961,1961,1961,1968,1968,2020,2020,2020,2005,2005,2014,2014,2014,2016,2017,1977,1985,1985,1985,2003,2017,2022,2015,2003,2003,2003,2021,2018,2021,2021,2021,2019,2019,2012,2019,2008,2008,2008,2015,2015,2019,2019,2019,2009,2009,2000,2001,2018,2012,2012,2012,2003,2003,1974,1973,1973,1973,1988,1988,1985,1989,1995,1981,1981,1965,1983,1995,1995,2019,2019,2019,2019,2003,2003,2003,1974,1974,1989,1989,1989,1991,1991,1988,1988,1988,1990,1989,1982,1988,1991,1943,1977,1977,1977,2013,1995,1990,1991,1984,1985,1995,1995,1984,2010,2010,1992,1992,1992,1985,1986,1984,2018,2018,1973,2011,2011,1985,2018,2018,2018,2005,1948,1968,1968,1968,1941,2019,1971,1988,1940,2019,1991,2019,2019,1947,2014,2014,2018,2018,2005,2021,2021,1970,1970,1950,2020,1974,1974,1974,1943,1944,1964,1936,1964,1945,1945,2019,2019,2019,1947,1977,1977,2005,2005,2005,1953,1954,1954,1954,2008,1986,1959,1959,1988,2019,2019,2019,1983,2018,1957,1941,1970,1971,1956,2015,2013,2004,2004,2004,1969,1969,1969,1985,1985,1985,1986,1974,1974,1931,1940,1957,2005,2012,1984,2018,1959,1978,1978,1978,2019,2019,2019,2009,2019,1986,1986,1967,1967,1967,2016,2016,1977,1977,2018,2018,2018,1954,1992,1992,1974,1974,1974,2018,2010,2010,2010,2008,2008,1958,1958,1944,2017,1986,1986,1973,1933,2013,2000,2000,2000,1992,1992,1992,1977,1977,1977,1992,2020,2020,2007,2007,2010,2010,2010,2020,1943,2003,1946,2019,2019,2019,2019,2010,1944,1944,1956,1945,1996,1975,2000,2011,1993,1953,1953,1996,1996,2021,1948,2010,2010,2010,2015,1977,1977,2019,2019,2019,2017,1948,1944,1937,1981,1987,1987,1987,1996,1995,1994,1994,1994,1993,1993,1993,1986,2019,2014,2014,1949,1971,1971,1963,1963,1963,1992,1992,1992,2003,2003,1971,1971,1989,1989,2001,1946,1999,1952,1952,1988,1988,1944,2015,1989,1952,1952,2020,1972,1949,1992,1992,1992,1971,1997,1997,1997,1950,1950,1970,1957,1957,1957,1970,1941,1993,1998,1998,1998,1948,1937,1933,2002,1935,1958,2019,2020,1963,2018,2018,2019,2018,2018,2018,2021,1954,1972,1972,1972,1986,1989,1986,1989,1989,1989,2019,2019,1945,2005,2005,2005,1968,1957,1944,1987,1987,1956,1956,1956,1968,1968,1949,1972,1996,2018,2019,2018,2018,2018,1978,1978,1978,1951,1985,2016,1934,2007,2007,2007,1984,2019,1958,1958,1977,1977,1977,2007,1971,1971,1947,1947,2003,2003,2003,1941,1993,1993,1993,2005,2005,1983,1980,2020,2020,1979,1982,1956,1936,1961,1961,2018,2018,2018,1985,1985,1985,1963,1957,2010,1993,1960,1960,1960,2011,1971,1971,1971,1949,1949,2017,1962,1962,2019,2019,2019,1990,1990,1990,1994,1994,1985,1932,2004,1987,1990,1990,1958,1958,1966,1966,1966,1939,2019,2019,1990,1990,1978,1978,2019,2019,1999,2014,2011,2011,1933,1955,1953,1980,1959,1965,1948,2004,2018,1970,1956,1956,2013,2003,1974,1974,2000,1985,1985,1969,1969,1969,1984,1991,1991,1991,1967,1967,1967,1982,1980,1980,1980,1944,1972,1986,1986,1984,1970,2019,1980,1957,1961,1948,1957,1957,1980,1968,1968,1968,1954,1939,1939,2010,2010,2010,1957,1957,1957,2009,2009,2008,2008,2019,2019,2019,1995,1995,2012,2012,1960,2021,1986,1986,2021,2021,2021,1968,2019,2010,2010,1982,1992,1993,1993,1993,2005,1946,1970,1970,1970,1950,1950,1981,1988,1981,1988,1993,1993,1993,1994,1994,1994,1958,2001,2012,1944,1968,1955,1955,1955,1957,2008,1996,1959,1989,2001,2019,1979,2019,2018,1954,2021,2021,2021,2020,2017,2017,2017,1999,1999,1999,1987,1987,1987,1977,1957,2020,1988,1988,1984,1984,2005,1978,1978,1943,1990,1990,1985,1958,1958,1958,1973,1973,1973,2018,2018,2018,1978,1978,2015,2015,2015,1934,2010,2010,2010,2013,2013,2019,2011,2011,2011,2017,2017,2017,2019,2017,1985,2001,1973,1970,1968,1971,1971,1946,2000,2000,2000,2017,2017,1976,2006,2006,1974,1999,1999,2008,2008,1942,2004,2018,1958,1958,2008,1993,1993,2019,1998,2005,1963,1963,1980,1980,1980,2016,2016,2016,2021,2021,1945,1993,1999,1999,1999,1993,1993,1998,1976,1991,1991,1991,1948,1960,1980,1966,1966,1966,1963,1963,1991,1991,1998,1998,1999,1978,1978,2001,1993,1951,1964,1964,1946,2008,2008,2008,2010,2010,2010,2013,2019,2019,2014,2017,2017,2019,1984,1984,2019,1989,1962,1946,1966,1964,1964,1964,2014,2013,2013,1985,1985,1985,2016,2016,2015,2015,1954,1990,2003,1972,1966,1966,2016,2016,2016,2016,2017,2021,2017,2008,2008,2008,1991,2002,2002,1992,1994,1994,2021,2021,1947,1972,1972,1972,1997,1936,1958,1958,1958,1945,1985,1961,1934,1934,1958,2014,2014,2014,2014,2018,2018,2014,2014,2014,2004,2004,2004,1993,1993,1993,1995,2018,1976,2012,2012,2012,2019,1981,2019,2019,2015,2015,1956,1956,1956,1974,1974,1974,1958,1944,1992,1992,1992,1995,1960,1960,1960,2005,2004,2004,2004,1996,1989,1995,1992,1995,1995,1995,1992,1990,1990,1995,1997,1991,1959,1993,2013,2013,2013,1995,1995,1975,1975,1975,2022,2022,2022,2004,2004,1940,1954,1954,1988,1964,1964,1964,1981,1952,1967,1965,1965,1965,1999,1943,2017,2017,2017,1938,2019,2019,2019,2004,2004,2004,1958,1958,1955,1984,2017,2017,2017,2021,2019,2019,2019,1941,1973,2014,1945,1936,1955,2003,2017,2017,2017,2013,2013,2013,1991,1991,1991,1931,2017,1990,2000,2003,2003,1974,1974,1974,2019,2019,2019,2008,2008,2019,2004,1943,1969,2001,2019,2019,1993,1993,2006,2002,2002,2002,1993,1948,1990,1990,1937,1937,1937,1984,2020,2020,2020,2019,1993,1943,1975,1975,1975,1987,1987,1987,1991,1991,1991,1991,1936,1945,1977,1993,2010,2010,1981,1980,1994,2005,2002,2000,1996,1977,1992,1945,1971,1971,1971,1966,1984,1971,1971,1942,1985,1986,1995,1995,1995,1998,1998,1981,1936,1979,1979,1979,2002,1992,1992,1992,1992,1981,2001,1995,2001,1991,1985,1933,2010,2010,1937,1937,1937,1975,1975,1975,1936,1936,1946,1971,1939,1935,1936,2012,2005,1940,1974,1974,1974,1989,1934,1973,1973,1994,1962,1962,1989,1989,1935,1970,1970,1970,1991,1991,1981,2015,2015,2015,1936,1982,1982,1982,1939,2004,1938,1988,1943,1994,1994,1994,1994,1974,1974,1999,2005,1983,1983,2002,2003,2003,2003,1979,1979,1994,1994,1985,1992,1992,1992,2021,2021,2021,1998,1998,2001,1996,1996,1996,2005,1978,1933,1980,2001,1984,1937,1997,2004,2004,2004,1969,1969,2010,2010,2010,2011,2011,2011,1958,1954,1978,1942,2015,1997,1997,1997,1938,1943,2021,2021,2021,1946,1933,2021,1962,1997,1983,1962,1962,2016,1970,2019,1994,2005,2005,2005,1978,1978,1978,1973,1973,1973,1962,1962,1962,1968,1994,1981,1981,1981,1938,1966,2021,2021,2021,2016,1998,2018,2017,2016,2016,2016,1991,2019,2019,2019,2003,2003,2003,1948,1946,1969,1936,1935,1983,1983,1983,1983,1983,1983,2010,2010,2010,2015,1940,1940,1964,1938,2008,2012,1936,1937,1939,1986,1986,1986,2009,2009,2009,1970,1970,2019,1933,1984,1984,1984,1978,1978,1978,1989,2014,2014,1998,1971,1970,1970,1970,1948,2021,2018,2018,2018,1997,1965,1965,2018,2017,2021,2021,2021,1970,1970,2001,2017,1999,1999,1999,1972,1940,2020,1985,1972,2002,2002,2002,2015,2015,2010,2010,2001,2001,2001,2019,1989,1989,2011,2011,2011,2015,2015,2015,1973,1961,1961,1961,1991,1986,1986,1993,1993,1990,1990,2010,2010,1987,1987,2019,1987,1987,1982,2006,2006,2006,1961,1961,1948,1948,1935,1950,2009,1949,2003,2003,1998,1998,1998,1963,1963,1963,1999,1999,1999,1999,1999,1999,1982,1982,2005,2005,2005,1988,1988,2019,1998,1998,1998,2001,2001,2001,2014,2001,2001,2001,1982,1955,1980,1985,1985,1982,1956,1957,1957,1957,2002,2002,1994,1990,2003,2005,1981,1981,2002,1985,1954,2003,2001,1988,2003,1965,1986,1992,1973,2004,2004,1983,1950,1969,1968,1991,1991,1992,2019,1992,1995,2019,1969,1986,1992,1992,1993,1985,1985,2000,1963,1963,1963,1990,1990,1990,2003,1976,1990,1988,1988,1969,1969,1969,1992,2001,1994,1994,1994,1969,1969,1969,1991,1991,2000,1992,1996,1995,1986,1986,1989,1987,1987,1987,2002,1990,1990,1990,2002,1967,1951,2001,1978,1991,2002,2002,1993,1987,1987,1987,1962,1971,1971,2003,1981,1991,1986,2004,1961,1998,1959,1986,1998,1986,1986,1966,1966,2020,2020,2004,2020,1966,1966,1966,1988,1993,1993,1993,2018,2018,2013,1981,1994,1982,1982,1943,2006,2006,2006,1985,1985,1985,1989,1941,1992,1990,2003,1984,1993,1989,1981,1991,1998,1990,1990,2005,2002,1998,1991,1990,2004,2003,1990,1990,1999,1992,1969,1969,1969,2002,2017,2017,1991,1978,1989,1997,1997,1997,1975,1975,1975,1992,1992,1940,1957,1984,1984,1959,1959,2021,2021,2021,2017,2017,2012,1988,2005,1988,1988,1988,1960,1960,1944,1970,1986,1986,1986,1998,2001,1989,2001,1990,1990,1990,1999,1991,2004,1986,1986,1935,1964,1983,1983,1983,2012,2012,1990,1995,1988,1988,1988,2003,2003,2003,1937,1956,1998,1998,1998,2012,2013,2013,2013,2001,2021,2011,2011,2009,2009,2009,1980,1980,1980,1991,1991,2001,2000,2017,2013,2013,2013,2011,2011,2011,2017,2017,2017,1979,1979,2021,2017,2017,2017,2017,1952,1958,1958,1987,1987,1987,2019,1987,1984,1984,1975,1975,1979,1965,1965,1965,1984,2001,1989,1989,1989,1982,2007,2007,2007,1949,1976,1979,1979,1979,1972,1972,2013,2013,2004,2003,1995,1995,1983,1972,1972,1982,1982,1992,2020,2020,2020,1967,1967,1967,2021,2021,2004,2009,2009,2000,1987,1987,1986,1994,2000,1959,1959,1959,2002,1935,2000,2001,2001,1935,1949,2000,1969,1970,1984,1984,2010,2010,2010,1967,1967,1981,1981,1981,2002,2002,2002,2012,2012,2012,2002,1962,2002,2016,2016,2016,2009,2009,2009,2018,2018,2018,2008,2008,2008,2013,2013,2017,2008,2008,2008,2013,2013,2013,2018,2018,2018,1983,2018,1997,1992,1992,1933,1954,2019,1932,2021,2021,2021,1932,1941,1999,2009,2009,2009,1948,1976,2017,2017,2017,1990,1976,2008,2008,2008,2006,2006,2006,1975,2009,1955,1955,2014,2021,2021,2003,2017,2003,2003,1995,1995,1945,2011,2011,2011,2014,1935,1945,2005,2015,2015,2000,1945,1983,1985,2017,1943,1943,1969,1943,1953,1985,1970,1978,1964,2001,2019,2018,2018,2018,1936,1953,2016,2016,1955,1955,1955,2019,2019,1988,2005,2005,2005,2015,2015,2004,2004,1981,1936,1988,1955,1956,1956,1956,1955,1982,1982,1963,1946,1950,1950,1950,1935,1962,2019,1936,1958,1936,1950,1956,1953,1958,1958,1935,1959,1995,1995,1995,1963,1943,1999,2018,1984,1984,1984,1996,1996,1968,1968,1968,1994,1994,1994,1958,2005,2003,2003,1938,1952,1979,1979,1996,1996,1996,1972,1972,1972,1983,1974,1974,2000,2000,2000,1997,1997,2000,2000,2000,1999,1999,1999,1987,2014,2014,1973,1973,1942,1949,1978,1978,1995,1995,1995,1969,1994,1995,1957,1993,1999,1999,1983,2017,1956,1993,2019,2013,2013,2013,1972,1993,2013,2013,1996,1996,1996,1944,1964,1964,1964,1973,1938,1955,1979,2003,1987,1987,1945,2018,2018,2018,2019,2019,2010,2010,2010,1974,1974,1967,1992,1982,1982,1982,1951,1951,1936,1946,1952,1933,1962,1992,1992,1992,2000,2000,2000,2013,2019,1954,2021,2001,1962,1962,1972,1972,1972,1969,2004,2004,2010,2010,2010,2010,2010,2010,2012,1971,1971,1971,1989,1994,2019,1981,1981,2021,2021,1977,1996,1996,1984,1984,1984,1994,2017,1992,1968,1967,1967,1967,1996,1996,1996,1980,1980,1980,2005,1948,1948,1948,1958,1958,1977,1950,2007,2007,2007,1957,1995,1995,1995,1951,1978,1992,1984,2019,1989,1989,1989,1957,1961,1923,1986,1956,2008,1930,1943,1943,1943,1967,2019,1926,2017,2019,1995,1995,2020,1984,1985,1985,1985,1985,1949,1988,1988,1988,2008,2008,2008,2010,2010,2010,2017,2017,2013,2013,2013,2018,1988,1988,1988,1933,1934,1981,1960,2010,2010,2010,1945,2003,1948,1990,1933,1969,1969,2019,2019,1941,1968,1947,1947,2001,1995,1991,1991,1991,1986,2005,2005,2005,1985,2001,2013,2013,2013,1954,1982,2017,2019,2019,1993,1988,1944,1956,2015,1961,1980,1971,1996,1996,1996,1991,2019,2019,2019,2019,2019,2019,2000,2015,1991,1991,1935,2017,1993,1993,1983,2006,2006,2006,1948,1948,2002,1962,1982,1982,1975,1975,1975,1991,1996,1946,1935,2012,2001,1995,1995,1995,1997,2000,2003,2002,1996,1960,2019,2013,2013,2013,1975,1990,1947,2003,2015,1953,1940,1938,1935,1936,1949,1933,1944,1952,1976,1956,2017,2017,2017,2019,2013,2013,1952,1943,1973,1975,1975,1975,1993,1993,1968,1995,1972,2000,1959,1959,1940,2019,1985,2010,2010,2010,2015,2015,2015,2019,2016,2016,2016,2014,2014,2014,1974,2015,2015,2015,1986,1986,2019,2007,2007,2007,2013,2013,2013,1932,2012,2012,2015,2015,2015,2005,2011,2011,2011,1935,1934,2021,2019,2019,2001,2018,2018,2018,1962,1962,1962,1946,1954,1999,1968,1944,1944,1972,1955,1951,1951,1979,1979,1955,1945,2004,1998,2019,2019,2019,1987,1993,1949,1995,1995,1995,2019,2019,1999,1999,1988,1982,1961,2018,2018,2018,2011,2011,2011,2019,2018,2016,2016,2017,2009,2009,2009,2013,2016,2016,2006,2021,2021,2021,2019,1980,1980,1980,1941,2019,2007,2007,2007,2007,2007,2007,2017,2018,2021,2000,2000,2000,1948,2020,1946,2006,2001,2001,2019,1943,1983,2005,2007,2007,2019,1947,1960,1960,1946,1962,1962,1962,2019,1952,1974,1974,1995,1971,1971,1971,2002,1990,1961,1940,2015,1949,2021,2002,2007,2007,2007,1996,1996,1972,1960,1960,1960,2017,1988,1962,1942,2021,2006,2006,2018,2005,2001,1971,2014,2014,2014,1987,1987,2016,2016,2017,2017,1973,1990,2007,1986,1986,1951,2016,2016,2016,1938,1958,2010,2010,2010,1988,1954,1979,1938,1960,1949,1986,2015,2013,2013,2013,1954,1954,1983,1983,1992,1992,1965,1965,2002,2002,2005,2014,2007,2007,2007,2019,2021,2018,2014,2014,1954,1972,1959,1947,2012,2012,2012,1955,2014,2019,2020,2021,2002,1960,1960,1960,2003,2009,2009,1969,2009,2009,2009,2008,2008,2008,2019,2014,2014,2014,2016,1995,1995,1995,2016,2016,2008,2008,2014,2014,1962,1962,1962,2009,2009,1963,1963,2021,2021,1999,1999,2011,2011,2011,1981,1981,2006,2006,2006,2016,2016,2016,1973,2019,2005,2005,2005,2004,2004,2004,2010,2010,2010,2015,1988,1983,2021,1936,2019,2019,2019,2020,1975,2017,2019,1944,2010,2019,2019,2019,1991,2021,2021,1981,1981,1981,1980,1946,1961,2015,1949,1933,1955,1949,1961,1993,1993,1993,1934,1956,1949,1949,1947,1948,1968,1964,1972,1972,1962,1970,1970,1970,2016,2004,1932,1988,2018,2018,2002,2015,1974,2019,2019,2006,1974,1974,1974,1942,1950,1974,1974,1974,1990,1990,1990,2016,2001,1992,1992,2017,2012,2012,2012,2015,2015,2015,1938,1963,2009,2021,2021,2008,2008,2008,1993,2019,1989,2021,2004,2004,2004,1989,1989,1989,1997,2017,2017,1955,1955,1955,2019,1988,2010,1991,1946,2003,2003,2004,2004,2004,2013,2015,2020,2020,2020,1962,1962,1962,2017,2017,2009,2009,2009,2001,1950,2017,1991,1991,1991,2012,2012,2009,1982,2016,2016,2016,1966,1966,1967,1967,1967,1963,1963,1965,1964,1964,1964,1985,1972,1972,1972,1992,2012,1994,1994,1969,2019,2009,2019,1985,1985,1951,2005,1979,1985,1988,1991,1991,1991,1947,1978,1978,1978,1996,1996,1994,1995,1995,1995,1995,1981,1981,2005,1980,1980,2019,2019,2019,2019,2019,2016,2016,2016,2000,1959,1991,2000,1979,1979,2019,2019,2017,2017,2008,2016,2016,1984,2013,2013,2015,2008,2008,1970,1970,1969,1969,1969,1989,1998,1998,2002,2010,2010,2010,1965,1965,1965,1947,1971,1971,1971,2016,1982,1968,1968,1938,1991,1991,1991,1946,2005,2002,2002,2002,1992,2015,2006,2006,2006,2007,2007,2007,1961,1989,2003,2003,2003,2001,1959,1966,1966,1966,1971,1988,1975,1975,1975,1998,1965,2005,2020,1987,2019,2019,1973,1950,1996,2015,2015,1980,1980,1994,1994,2017,2000,2000,1995,1995,1995,1984,1955,1976,1972,1972,2002,2003,1979,1979,1979,1951,1989,1939,1970,1970,1970,1969,1969,1969,1989,1989,1950,1992,1942,1958,1958,1989,1989,1962,2017,2017,2019,2017,2006,1986,1991,1991,1991,2020,2020,1987,1987,2012,2012,2012,1939,1958,1993,2019,2012,2012,2012,1968,1968,2004,1991,2010,2010,1983,1983,1954,1948,1981,2021,2021,1970,1970,1946,1999,1999,1999,1977,1977,1977,1978,1978,1978,1966,1966,1966,1951,1988,1974,1974,1974,1943,1958,1958,2015,1996,1996,1996,2013,2013,1974,2011,2011,2011,2018,2018,2018,2013,2013,2013,1992,1992,1992,1965,1981,2011,2011,2011,1977,1962,1962,1993,1993,1954,2018,2001,2017,1936,1956,1956,1990,1990,2019,2021,2021,2021,1993,1993,1993,2002,2002,1933,1993,1934,1958,1951,1951,1951,1991,1969,1969,1969,1995,1948,1985,1997,1997,1997,1940,1956,1935,1941,1976,1986,1978,1982,1982,1982,2019,2019,1955,1955,1934,1969,1962,2019,2019,2021,1957,1998,1998,1975,1975,2007,2007,1988,1988,1955,1961,1961,1979,1979,1979,2005,2005,2005,2017,2007,2007,2007,1994,2022,1983,2000,1946,2001,2001,1989,1989,2017,1997,2019,1952,1954,2009,2019,2021,2019,1997,2013,2013,2013,1972,1980,1950,1972,1972,1972,1954,1995,1934,1947,1970,1972,1978,1949,1998,1999,1999,1959,1959,1959,1975,1969,1986,2003,2003,2003,1969,1969,2004,2003,2017,1981,1981,1973,1973,2001,1979,1971,1983,1983,1983,1996,1973,1973,1973,1961,1961,1961,1978,1981,2001,1970,1970,1982,1982,1982,2009,2009,2009,1954,1954,2014,2014,1947,1958,1958,1958,1945,1945,1953,1964,1964,2019,1999,1999,1999,1986,1986,1986,1957,1956,2021,2021,2019,1972,2021,2021,2005,1951,1951,1951,1997,1997,1997,1992,1991,1991,1995,1995,2009,2009,2016,2016,2018,1992,1992,2005,1982,1982,1982,2009,2009,2009,2016,2016,2016,2003,2017,2005,2021,2021,2021,1952,1940,1944,1991,2003,1975,1982,1985,2018,2018,2018,2006,2006,1964,1964,1964,1941,1954,1954,1994,2002,2014,2014,2019,2019,2019,1976,1976,1983,1952,1952,1952,1967,1936,1994,1994,1981,1989,2021,1992,1992,1978,1962,1962,1962,1950,1999,1999,1999,1993,1976,1976,1976,1965,1965,1950,1993,1993,1995,2018,1964,1964,1980,1985,1943,1943,1961,1961,1961,1972,1972,1972,1985,2018,2018,2018,2005,1975,2011,2009,2009,2009,1968,2009,2009,1976,1976,1981,1981,1966,2019,1981,1971,1971,1987,1969,1996,1940,1958,1958,1952,1952,1991,1940,1940,1964,1982,1982,1949,1957,2007,1983,1941,1984,1937,1965,1939,1934,2016,2016,2016,1993,1993,1946,1959,1989,1989,1955,2002,2002,1945,1945,1945,1975,1999,2005,1974,1939,1961,2006,1952,1952,1952,1969,1980,1990,1992,1992,1961,1988,1991,1991,1991,1968,1985,1992,1996,1996,1996,1952,1952,1937,1999,2020,1999,1998,1998,1969,1961,2018,1959,1936,1961,1961,1961,1966,1966,1966,1975,1968,1968,2016,2016,2016,2016,2016,1940,1993,1993,1993,1967,1967,1955,2021,2021,2021,1939,1939,1996,1972,1972,1972,1985,1999,1999,1964,2019,1999,2014,1979,1979,1950,1950,2018,2017,1970,1970,1970,1960,2006,2006,2021,1995,1995,1995,1966,2005,1951,2005,2005,2005,2017,2017,2017,2008,2008,2008,1979,1979,2020,1937,2019,1992,2020,1946,1932,1970,1998,1986,2000,1941,1961,1961,1961,1984,1984,2017,2017,2017,1980,2019,2019,1959,2008,2008,1977,1977,1977,1949,1934,1956,1933,1974,1982,1982,1955,1932,1933,1956,1983,1983,1983,1965,1950,1957,1932,1964,1981,1982,1933,1946,1981,1932,2002,1969,1969,1969,1947,1935,1989,1959,1948,2019,2011,2011,2011,2003,2003,1959,1982,1982,1982,1998,1998,1998,2013,2013,2013,2004,2007,2007,2013,1982,1982,1969,1978,1978,1987,1987,2000,2000,2018,2018,2018,2021,2021,2021,2019,1914,1948,2016,1931,1991,1991,1980,2004,2004,1955,1966,1966,1989,1970,1940,1934,1933,1974,1974,1995,2006,1951,1973,1973,1991,1991,1991,1942,1950,1942,1961,1991,1991,1991,2000,2001,2020,1999,1962,1962,1996,1985,1989,1954,1991,2019,1958,1958,1942,1972,1986,1937,1961,1944,1995,1982,1982,1982,1984,1945,1959,1949,1949,1970,1970,1970,1978,1978,1966,1966,1979,1979,1979,2007,2007,2012,2019,2019,2020,2020,2020,1980,1951,1951,1972,1972,1981,1981,1959,2019,2021,2017,2019,2004,2017,2017,2017,1999,2013,1943,1958,1959,2016,2020,2019,1959,2006,2006,2019,2000,2019,2021,2021,2021,2019,2015,2015,2019,2012,2019,2019,1991,2020,2000,2019,2019,2019,2021,2021,2021,2017,2017,2020,1938,2007,2021,2021,2021,2008,2008,2008,2019,2019,2019,2019,2019,2021,2018,2018,2008,2017,2017,2018,1971,1971,1971,1971,1971,1955,1984,1934,1972,1972,1972,1992,1948,1933,1973,2010,2010,2010,1994,1994,2005,2005,2005,1994,1963,1963,1985,1935,1995,1961,2007,2007,1996,2020,2020,1939,2019,1987,1932,1939,1999,2019,1942,1975,2002,2002,2009,1941,1962,1962,1962,2017,1991,2017,2004,1978,2006,2006,2006,1972,2019,1992,2014,2014,2017,2017,2005,1992,2006,2006,2006,1989,2018,2021,2021,1993,1980,1980,1980,1950,1950,2017,2017,2017,1995,2015,2015,2015,1936,2021,2010,2010,2010,2018,1979,2021,1954,1954,2005,2005,1979,1979,1951,1951,1949,1949,1949,1964,1964,1964,1993,2001,2005,2005,2005,1990,2011,2011,2011,2015,2020,2020,1935,1950,1947,1980,1982,2009,2009,2009,1990,1990,1990,1967,1967,1967,2011,2011,2011,1953,1989,1935,1955,1972,1995,1934,1948,1948,1965,1965,1965,1963,1963,2020,2018,2001,1954,2002,2002,2002,1936,1984,2020,1946,1988,1988,1953,1943,1944,2017,1934,1957,1955,1961,1946,1934,1976,1935,1965,1955,1965,1965,2012,2012,1946,1946,1946,2006,1947,1948,2018,2010,2010,1957,1955,2020,1941,1977,1949,1974,1974,1974,2018,2011,2011,2011,2019,2019,1936,1999,2002,1979,1979,1979,1999,1999,1999,1998,1993,1999,2006,1990,2000,1999,1998,1994,2011,2011,2011,2007,2007,2007,1947,2020,2020,1965,1965,1981,2002,2002,1982,1982,1982,1948,1999,1972,1993,1993,1993,1931,1931,1932,1947,2020,2020,1978,1978,1978,1946,1998,1998,1946,1946,1981,1981,1981,1961,1961,1961,1954,1954,1937,2004,2004,2019,2015,2000,2003,1967,1967,2021,2021,1940,1953,1935,1936,1971,1989,1974,1974,1990,1990,1990,1933,1958,1960,2012,2012,2012,1995,1976,1987,1977,1966,1966,1966,1979,1979,1979,1943,1976,1976,1976,1999,1965,1965,1965,1991,1932,1984,1947,1991,1991,1991,1984,1997,1976,1984,1984,1984,1964,1964,1964,1960,1982,1957,1957,1957,1970,1970,1976,2015,2015,2015,1937,1984,1959,1972,1944,2002,2002,2002,1990,1945,1942,1942,1981,1981,1997,1973,1973,1973,1938,1960,2019,2019,2021,1971,1971,1971,1969,1969,1954,1954,1986,1986,1986,2004,2004,2021,1932,1996,1996,2019,2019,2019,1993,1993,1993,1993,1956,1956,1969,1969,1946,1974,1986,1986,1986,1993,1949,1982,2004,2016,2016,1992,2008,2008,2008,1949,1972,1951,1992,2014,1967,1997,2001,1990,2004,2004,1950,1986,1952,2005,2005,2005,1984,1984,1984,1954,1985,2011,1981,1981,1981,1964,2019,2019,2019,1964,1964,1947,2020,2020,1989,1972,1972,1942,1942,1956,1956,1956,2019,1932,2017,1983,1938,2020,1990,1990,1954,1954,1965,1935,1966,1971,2021,2002,1936,1962,1998,1987,1999,1966,1990,1990,1985,1946,1957,1947,1997,1937,1988,1988,2021,1983,1957,1957,2021,2021,1988,1957,1990,1990,1990,2019,1996,1996,2004,2004,2004,2000,2000,1968,1968,1955,2001,2020,2020,2020,2000,2000,2000,1932,1963,1963,1963,1946,1981,1991,1991,1953,1948,2005,2016,1979,1979,1974,1958,1974,2020,2020,1952,2012,1977,1977,2001,2001,1956,1956,1956,1931,1931,1931,1945,2012,1952,1952,1972,1955,1982,1988,1954,1952,1962,1995,1990,1991,1991,1991,1954,1952,1980,1993,1993,1989,1989,1989,2006,2006,2006,1991,1985,1985,1985,2003,1987,2004,1988,1988,1988,2016,2016,2016,2013,2011,2011,1992,2019,2019,2015,1954,2004,2004,2012,2012,2005,1981,2021,2019,1956,1996,1996,2018,1936,1951,2001,1961,1961,1992,1992,1992,2002,1961,1961,2004,2004,2004,1975,1975,1975,1993,1993,1993,1953,1999,1999,1999,2006,2020,1988,2021,2021,2021,2019,2018,2019,2007,2007,2007,2013,2013,2013,1972,2010,2010,2016,2016,2013,2013,2013,2016,2016,2016,2009,2009,2013,2021,2021,2021,2019,2007,2007,2007,2019,2019,2005,2011,2000,1981,1981,2008,1984,1984,1948,1932,1960,2013,2013,1955,1955,1955,1962,1962,1962,1955,1973,1971,1971,1971,2008,1985,1965,1965,1962,1975,1990,2017,1993,1993,1965,1965,1965,1954,1988,1985,1985,2005,1951,1950,1950,1955,1945,1945,1945,1993,1950,1971,1971,1971,2021,1982,1955,1950,1975,1943,1935,1997,2007,2007,2007,1951,1951,1960,1960,1960,1982,1982,1982,2000,1968,1968,1956,1952,1952,2013,2013,1974,1974,1974,1983,1983,2017,2017,2020,2020,2020,2013,2013,2013,2017,2017,2017,2012,2011,2011,2011,1953,2020,2021,1944,2004,2004,2004,1988,1988,1993,1993,2014,2019,2020,2020,2011,2011,1957,1932,2019,1953,1979,1990,2019,2013,2009,2009,2009,2019,1976,2009,2009,2009,1965,1965,1965,1993,1999,1999,1989,1989,1976,1988,2020,2004,2015,2021,2021,2019,1984,2005,1981,1981,1981,1999,1999,1999,2018,2018,1935,1957,1946,1958,1951,1951,2002,2002,1969,1969,1969,2018,2018,2018,2017,2017,2017,2019,1952,1965,1965,1965,1952,2019,2019,2019,1947,1987,1987,1982,1984,1996,2002,2001,1982,1949,1949,1960,1960,2015,2015,2008,2008,2008,2013,2013,2011,2011,2011,2019,2019,2014,2014,2014,1986,1986,1986,2021,2016,2016,2016,1937,1960,1934,2005,2005,2005,1936,1941,1945,1948,1936,1949,1956,2018,2018,1993,1993,1993,2020,2018,2007,2008,1991,2005,2005,1983,1980,2018,2019,1924,1976,1976,1976,1982,1982,2005,1958,1985,1954,1934,1987,1987,2021,1955,1938,1980,1980,2020,1999,1999,1999,1958,1958,2019,2007,2007,2007,2006,2012,2011,2016,2001,2013,2013,2013,2012,2006,1988,1992,1992,2020,2021,2021,2021,2019,1973,1973,2019,2019,2019,2019,2004,1977,1996,1996,1966,1966,1959,2009,2000,2000,2000,1940,1999,1999,1936,2013,2013,2013,2000,2000,2002,2002,2002,2010,2010,2010,2005,2005,2005,1989,2001,1955,1942,1987,2011,1940,1948,1948,1985,1985,1985,1946,1933,1958,1958,1990,1977,1977,1977,2000,2014,2010,2010,1998,1998,1998,1969,2019,1958,1958,1958,1979,1988,1956,1956,1956,2021,2021,2021,1955,2009,2009,2012,1964,1962,2012,2012,1958,2019,1946,2013,2013,2013,1973,2014,2014,2021,2018,2011,2011,2011,2019,2019,2019,1978,1935,1948,1958,1958,1992,1978,1994,1992,1988,1988,2019,2019,2019,2018,2018,2011,2012,2012,2012,1989,1989,1989,2018,2018,1983,2013,1995,2020,1962,1962,2018,2018,2018,1988,1999,1999,2021,2021,1994,2008,2008,2008,2015,2013,2015,2013,2014,2015,2010,2010,2010,2019,2019,2011,2011,2008,2008,1983,1983,1983,1989,1989,2006,2013,1982,2014,2003,2003,2013,2013,2013,2007,2007,2007,1947,2018,2010,2010,1999,1999,1996,2018,2018,1966,1966,1968,1968,1968,2020,2020,2020,2020,2020,2020,1977,1977,1977,1975,1975,2004,2004,2019,2019,2019,1977,1977,1977,1968,1986,1960,1960,2019,2020,2003,2003,2005,2005,2005,1951,2012,2011,2011,2011,2011,2011,2011,1982,1982,1938,1961,2021,1989,1989,1989,2022,2022,2022,2018,2018,2014,2014,2014,1942,1956,1956,2007,2007,2012,2021,2010,2010,2010,1991,1991,2019,2004,2004,2019,2009,2009,2019,2007,2007,2007,2019,2019,2020,1961,1938,2018,2018,1975,2000,2020,2020,1995,2009,2009,2009,1938,1966,1966,2010,2010,2010,2006,2006,2021,2014,1936,2006,2019,2019,2012,2012,2012,2019,2019,2019,2003,2003,2003,1944,1947,1994,1994,1994,2018,2001,2001,2001,2017,1972,1972,1988,1954,1944,1983,1977,1996,2014,1946,1963,1932,1974,1971,1971,1971,1966,1966,1966,1966,2005,2005,2005,1947,1956,2005,2005,2005,2005,2000,2000,2000,1982,1982,1982,1979,1979,1979,1994,1994,1994,1987,2001,1968,1968,1974,1958,1961,1953,1954,1954,1942,1942,1986,1964,1964,1948,1996,1970,1970,2018,2018,1960,1960,2020,2020,1994,1942,1942,1994,1984,1946,2014,2014,2004,2004,2004,1933,2000,2000,2016,2016,2016,1956,1982,1979,1934,1937,1972,1982,1956,2000,1982,1982,1982,2008,2008,2008,2018,2018,2017,2019,1983,1990,1982,1982,1982,1958,2006,2006,1979,1979,1979,2003,1936,1997,2008,2008,2008,1993,2017,2017,2017,2020,1980,1936,1975,1975,1949,1966,1968,1968,1968,2013,2013,2013,1938,1966,1963,1939,2017,2017,1984,1984,2009,2004,2004,2004,2004,2005,2016,1976,2003,2003,2003,2014,2019,2019,2016,2016,2016,2013,2013,2013,2014,2014,2014,1994,1994,1960,1960,1987,1987,1987,2008,2008,2008,2002,2002,2002,1990,1985,1985,1985,1982,1982,1987,2008,2014,1966,1966,1966,1997,1973,1973,1980,1998,2020,1950,1992,1979,1979,1979,1995,1995,1995,1993,2014,2014,2014,1985,1985,1985,2004,2004,1969,2019,1989,1989,1933,1997,1992,1992,1977,1963,1987,2019,2019,1987,1957,1957,1957,1983,2004,1946,2010,2010,2010,1977,1941,2007,1993,2012,2012,2012,1982,1982,1955,1942,1942,1980,2003,1986,1937,1990,2003,1991,1991,1935,1978,1978,1978,1945,1959,1991,1991,1991,1944,1986,1939,2019,1997,1986,1991,1980,1980,1980,1973,1983,1983,2021,2014,2014,2012,1999,2017,2017,2017,1981,2021,2021,2018,2007,2007,2007,2019,2019,2019,1999,1999,1999,2021,2020,2020,2001,1994,2018,2018,1982,1982,1995,1995,2005,1989,2011,2004,2004,2004,1999,2013,2013,2013,2003,1990,2021,2005,1982,2004,2004,2004,2005,1945,1945,1993,1993,2005,2019,1992,1992,1992,1986,1986,1986,2001,1993,1993,2020,2020,1956,1956,2019,1956,1941,2003,2003,2003,2005,2005,2005,1957,1981,1981,2016,2015,2019,2019,2019,2019,2019,1995,1995,1995,1980,1956,1958,1938,1957,2012,2012,2012,2003,2003,2003,1996,1996,1983,1941,1969,1969,1935,2019,2009,2009,2009,2009,1934,1934,2020,2020,2020,2015,2015,2015,1938,1956,1946,1988,1988,2014,2014,1969,1969,1998,1942,1988,1952,1942,2015,2015,2015,2001,1999,1999,2005,1986,1972,1972,1972,1955,1955,2005,2005,2005,1961,1972,1972,1991,2020,2020,2020,1987,2021,2016,1943,1943,1943,2003,2011,2011,2011,2015,2015,2015,1988,1976,1976,2021,2000,1970,1984,1983,1983,1983,1967,1967,1958,1958,1982,1982,1991,2002,1990,1990,1990,1995,1939,1995,1995,1995,1948,1944,2019,1994,1934,2022,2013,1945,1979,1979,1951,1951,2018,1984,1952,1937,1997,1997,1997,2003,1995,1984,1984,1984,2000,2000,1995,1995,2019,1984,1970,1965,1987,1964,1965,1965,1965,1964,1964,1964,1963,1966,1963,1966,1965,1965,1968,1966,1962,2002,2002,2002,2008,2008,2008,2019,2019,1943,1966,1996,2019,1940,1940,1955,1968,2013,2008,2008,2006,2006,2006,2019,2019,2004,2004,2021,2021,2003,2017,1985,1985,1985,1948,1988,1958,1980,1980,1954,1954,1973,1944,1944,2021,2006,2006,2006,1958,1977,1977,1977,2016,2016,2016,2009,2009,2019,2019,2019,2018,1968,1953,1955,1979,1973,1973,1973,1965,1965,1964,1980,1980,1980,1963,2010,2010,2010,1965,1965,1965,1955,1938,2016,1954,2011,2011,2020,1961,1961,1961,1995,1954,1960,1955,1955,1955,1958,2010,2010,1955,1965,1965,1965,1994,1994,1986,1976,2013,2013,2013,1982,1982,2006,2006,2006,1966,1966,1966,1966,1966,1966,2003,2003,1990,1990,2019,1994,1994,1961,1961,1961,2019,1985,2019,2011,2011,2011,2005,2005,2005,1958,2019,2016,2017,2017,2000,2000,1987,2009,2009,2009,2019,2019,2019,2019,2001,2015,1988,2006,2002,2019,2016,2016,2016,2010,2010,2016,1989,1964,1963,1963,1963,2015,2010,2015,2015,2001,2001,2001,1984,1984,1984,2011,2011,2011,1971,1971,1996,1996,1996,2012,2012,2012,1978,2009,2009,1986,1984,2018,2018,2014,2020,2020,2020,1995,1982,2019,1982,1985,1985,1985,2012,2012,2012,1999,1978,1993,1993,1985,1990,1990,1990,1968,1968,1968,2009,2016,2016,2016,2018,1958,1991,2015,2015,2015,1988,1988,1988,2013,2016,2016,2012,2012,2012,2019,2019,1999,1999,1999,1993,1966,2019,2019,2002,2002,1990,1990,1990,1994,1983,1983,1982,2021,2011,2009,2009,2020,2019,2010,2010,2010,1951,1951,2016,2001,2001,2001,1979,1979,2019,2019,2019,2019,2019,2019,2019,2019,2013,2005,2015,2015,1989,2014,2014,2014,2011,2012,2012,2013,2013,2013,2011,2014,2014,2014,2021,2021,2021,2019,2019,2019,2016,2016,2016,2012,2012,2021,2021,2021,2021,2021,2014,2014,2020,2005,2005,2005,2016,2016,2019,2019,2019,2019,2019,2019,2019,2017,2017,2017,2020,2013,2016,2016,2016,1980,1980,2020,2010,2010,1997,2021,1974,2019,1977,1977,1977,1976,2016,2017,1995,1970,2021,2021,2019,2012,2018,2019,2012,2019,1941,2019,2017,2011,2007,2007,2007,2021,2021,2021,2014,2018,2019,2021,2021,1939,2019,1988,1988,1988,2020,2019,2019,2019,2013,2014,2011,2011,2011,2013,1995,1995,2017,2017,2019,2019,2019,2020,2020,2000,2009,1953,1953,2018,2018,2018,2007,2005,2005,2005,2010,2010,2010,2010,2010,2010,2017,2008,2015,2009,2009,2009,2017,2021,2019,1994,1994,2017,2017,2017,2021,2021,2021,2014,2014,2014,1984,1984,2016,2016,2016,1939,2013,1999,1979,1979,1979,2007,2019,2019,2019,2019,2011,2011,2011,2019,2019,2019,2002,2017,2017,2019,2012,2019,2019,2002,2020,2020,2017,2004,2021,2009,2009,2009,2014,2014,2014,2003,2003,2003,2020,2019,2019,2019,2017,2010,2004,2017,2021,2021,2013,2013,2013,2020,2014,2014,2017,2011,2011,2016,2019,2019,2019,2015,2010,2020,2021,2021,2018,2022,2022,2022,2012,2012,2019,2019,2019,2017,2018,2020,2018,2016,2016,2016,2019,2021,2006,2006,2006,2009,2019,2021,1969,2012,2019,2014,2019,2019,2019,2019,2020,2020,2019,2019,2021,2020,2016,1983,2014,2014,2014,2019,2002,2002,2002,2008,2008,2008,2018,2012,2011,2011,2021,2019,2019,1931,1931,2013,2013,2021,2017,2014,2014,2014,2012,2012,2021,2015,2015,2015,2013,2013,2016,2012,2015,2019,2019,2019,2019,2019,2019,2019,2002,2000,1935,1994,1994,1995,2017,2020,2011,2011,2001,2001,2019,2000,1980,1970,1970,2018,2013,2007,2007,2007,2020,2020,2020,2016,1998,2019,2019,2019,2018,2018,2015,2019,2019,2019,2019,2019,2019,2016,2021,2021,2021,2017,2004,2009,2018,2000,2000,2000,1935,1935,2021,2020,2017,2019,2017,2017,2017,2021,2012,2012,1992,2019,2004,2005,2016,2019,2019,2019,2020,2003,2000,1970,2021,2021,2012,2021,2019,2014,1975,1975,1975,1932,2008,2012,1952,1952,1952,2015,2015,2015,2021,2021,2012,1992,1992,2013,2014,2020,2016,2019,2019,2019,2015,2015,2015,2015,1968,1968,2019,2019,2022,2022,2022,2017,2020,2015,2015,2015,1996,1996,1996,1935,2009,2009,2009,2019,2014,2017,2019,2019,2019,2001,2021,2019,1960,1960,1960,1969,1969,1969,2020,2020,2015,1980,1980,2017,1970,1970,1970,2011,2007,2007,2007,2017,2017,2017,2018,2002,2004,2015,2017,2013,2010,2010,2010,2014,2019,2019,2014,2014,2014,2015,2015,2010,2010,2010,2001,2001,2019,2019,2002,2002,2002,2009,2005,2021,2021,2021,2021,2021,2018,2018,2017,2012,2013,2013,2019,2019,2019,2015,2015,2014,2014,2017,1967,1967,1967,2019,2019,2019,1981,1981,1981,1971,1977,1987,1987,2016,2016,1992,2012,2015,2015,2008,2008,2008,2004,2004,1990,1990,1990,2008,2019,2017,2017,1980,1939,1953,1953,1974,1974,1974,2004,2004,1983,2017,2018,2015,2019,2019,2021,2016,2005,2019,2009,2009,2009,1990,1978,1978,1978,2018,2018,2007,1969,1939,2018,2013,2013,2016,2016,2017,2017,2017,2014,1948,1959,2017,1992,1962,1946,1954,1996,2004,2015,2015,2015,2005,2021,2021,2019,2015,2019,2022,2022,2022,1959,1977,1959,1992,1992,1992,1998,1998,1998,2018,2018,2014,2014,2014,2014,2014,2016,2016,2016,2000,2000,2000,2013,2013,2013,2018,2018,2010,2010,1984,1984,1947,1988,1988,2017,2017,2021,2006,2006,2006,2021,2014,2014,2019,2018,2021,2021,2021,1989,1989,1975,1975,1969,1940,1951,1975,1956,1956,1987,1934,1955,2021,1966,1966,1946,1985,1937,1937,1978,1934,1937,1947,1947,1959,1937,2021,2021,2010,2010,2010,1947,1980,1954,1978,1948,1994,2016,1936,1936,2005,2005,2004,2020,2020,2020,2009,2009,2009,2019,2019,2019,2014,2014,2014,2019,1997,1989,1989,2018,2018,1962,1962,1962,1999,2011,2011,2011,2016,2016,2016,2007,2019,2015,1984,2015,2015,2015,1998,1998,2016,2016,2019,2019,2019,2011,2011,2011,2016,2021,2021,2019,1989,1989,1989,1985,1986,1986,1980,1974,1974,2019,1995,1995,1991,2019,2014,2014,2018,2018,2018,1972,1988,1999,1999,1999,1978,1978,2011,1978,1978,1978,2019,2019,1985,1985,1985,1935,1994,1958,2007,1970,2017,2010,2010,2010,1960,2020,2022,2022,2007,2003,1996,1996,1996,1997,1976,1999,1965,1976,2003,1991,1980,1987,1989,1960,1960,2018,2019,1996,2017,2017,2021,2021,2021,2014,2014,2014,2003,1989,2019,2005,2005,2005,2001,2015,2015,2018,1941,1971,1971,2008,1992,1954,1954,1954,1946,2016,2016,2001,2001,1970,1970,2011,2011,2011,2011,2002,2003,2010,1993,1983,1990,1990,1990,2005,2005,2009,2009,2010,2010,1985,2002,2002,2002,2005,2004,2004,2004,2018,2018,2018,1975,1975,1982,1982,1978,1978,1948,1948,1978,2017,2017,2002,2002,2002,1957,1957,2004,2004,1969,1969,1969,2000,2000,2000,1996,1996,1933,2011,2011,2011,2018,2018,2018,2018,2017,1990,2016,2016,2019,2019,2019,2012,2005,2013,2016,2019,1937,1977,1977,1978,1992,2016,2016,2016,2017,1935,2008,2008,2011,2005,2017,1997,1997,1997,2010,1976,2018,1988,2019,2021,2021,1986,1949,1994,2021,2021,2021,1976,1976,2019,2019,2019,1981,2016,2016,2016,2004,2002,2000,1997,1997,1997,2013,2013,2013,2008,2008,2016,1959,1959,1959,1942,1974,1974,2019,1978,1994,1942,1975,2001,1985,2017,1942,2019,2019,2019,2019,1970,1970,1944,1989,1989,2006,2006,2006,1992,1992,1992,1975,1975,1982,1962,2020,2019,2019,2019,2014,2014,1941,1941,2006,2006,2015,2015,1990,1990,1984,1984,2015,2015,2015,2015,2019,2007,2007,1980,2021,2019,2014,2014,2014,2019,2014,2014,2014,1996,1996,2017,2011,2011,2011,2007,2005,2020,2020,2018,2019,2019,2019,2006,2006,2006,2020,2020,2018,2018,2021,2019,2019,2021,2021,2021,2022,2019,2019,2021,2021,2021,2021,2019,2021,2021,2019,2019,2019,2019,2019,1971,1971,1998,2019,1971,1967,1967,1967,2019,1987,2019,1955,1955,1955,1976,2018,2018,2018,2014,2018,2019,2019,1935,1940,1949,1952,1985,1966,1970,1939,1960,1960,1960,1974,1974,1974,1944,1989,1957,1957,1969,1969,1969,1990,1972,1971,1982,1982,1982,1963,1963,1963,1998,1998,2020,2015,1993,2015,1984,1984,1984,2011,2011,1987,1987,1946,1985,1988,2006,2006,2006,1989,2004,2004,2015,2015,2000,2020,2020,2020,2019,2019,2019,2005,2005,2005,2009,1994,1994,1994,2005,2005,2005,1968,1968,1968,1988,1988,1999,1999,1999,2004,2004,1938,1955,1974,1974,2018,2018,2018,1974,1974,2002,2002,2017,2001,1984,2018,1988,1988,1988,1983,2004,2004,1992,1995,1982,1982,1943,1943,2003,2012,2012,1987,1962,1962,1962,2006,2006,2006,1946,1991,1934,2000,2018,1990,1975,2021,2021,1999,2019,2019,1941,1952,1937,2021,1992,1992,1992,2013,1995,1986,2022,1975,1989,1989,1989,2004,2019,1995,1938,1935,1967,1942,1934,1934,1981,1952,1991,1988,1988,2013,1934,2001,1994,1982,1982,2019,2011,2011,1948,1995,2010,2010,2010,1931,1931,1931,1970,1970,1970,1952,1977,2005,1950,1934,1966,1938,1968,1934,1964,1950,1986,1986,1971,1960,1960,1987,1949,1949,1949,1970,2020,1938,1935,1932,1945,1930,1978,1934,1955,2001,2001,2008,2008,2008,1994,1994,2009,2010,2010,2017,2017,2017,1988,1988,1988,1947,1934,2016,2016,2016,1994,2018,2018,2018,2016,1995,1995,2019,1993,1990,1990,1990,1975,2004,2004,2004,2008,2008,2008,2011,2011,2019,2019,2019,2011,1935,2019,1998,1989,1989,1989,1989,2019,2019,2019,2008,2008,2008,2018,2017,2017,2017,2021,1989,1989,2012,2012,2021,2009,2009,2009,1972,1972,1972,2007,2007,2007,2017,2017,2017,2009,2009,1977,1977,1977,1986,1982,1982,2020,2013,2006,1990,1986,1948,1948,1964,1966,1952,2018,2005,2009,1988,1988,1988,1942,2010,1940,1940,1940,1943,1938,1948,2017,2003,1954,1994,1994,1994,2005,1982,1996,2011,2011,2011,2018,2018,2018,1986,1986,1986,1986,1986,1986,1991,2004,1933,1949,1986,1945,2021,2021,2021,1973,1940,2009,2009,2020,2019,2020,1998,1998,1998,1974,2017,2021,2019,2019,2006,1997,1997,1997,2020,2020,2010,1992,1958,2005,2005,2008,2008,2008,1943,1943,1943,1936,1987,1987,2018,1991,1934,1973,1973,1973,2004,2003,1991,1991,1991,1932,2011,2011,2011,1933,1998,1952,1978,1978,1978,2013,2013,2018,2018,1969,1969,1969,1943,2005,1977,1977,1977,1996,1992,1992,1992,1997,2006,2006,2006,1991,2019,1985,1998,1998,2022,2022,2018,2018,2010,2010,2010,2012,2020,2014,2014,2014,2019,2019,2019,2019,2002,2002,2002,1986,1988,1969,1950,1972,1972,1972,2008,2008,2008,1990,1985,1985,1977,2016,1937,1967,1967,1967,1987,1937,2018,1971,2015,2015,2019,2016,2016,2016,2004,1998,1998,1998,2013,2009,2009,2009,2020,2007,2017,1955,1935,2009,2009,2009,1961,1984,1984,1984,2020,2020,1969,1969,1943,1943,2019,1965,1965,1993,1993,1993,1992,2005,1987,2005,1982,1989,1988,1988,1988,1981,1981,1981,1984,1984,1984,1984,2005,2005,2005,1982,1982,1982,2019,2019,2019,2020,2002,2002,2013,2013,1981,1981,1969,1969,1954,1954,2013,2013,1975,1975,1961,2019,2016,2016,1945,2019,1954,1938,1938,1994,1978,1939,1987,1987,1987,1968,1968,1968,2021,2005,2018,1940,2016,2016,2016,2010,2010,2010,2019,2006,2017,2019,2017,2015,2015,2019,2019,2021,2007,2007,2015,2015,2015,2015,2015,2015,2020,2020,2020,2018,2018,2018,2020,2019,2012,2012,2012,2018,2018,2008,2008,2019,2009,2019,2019,2002,2006,2013,2013,2013,2013,2021,2009,2009,2009,2013,2013,2008,2008,1989,1989,1989,2018,1998,1998,1998,2019,2017,2016,2016,2016,2020,2004,2018,2018,2017,2018,2011,2011,2019,2019,2004,2004,2004,2019,2018,2018,2012,2018,2018,2003,2003,2003,2016,2016,2016,2020,1965,2006,2006,2004,2018,2018,2019,2004,2004,2004,2013,2021,1983,1983,2019,2019,2019,2000,1987,1971,1971,2003,1983,1935,2001,1964,1964,1964,1967,1967,1967,2021,2006,2006,2006,1974,1988,1988,1988,1988,1981,2004,1947,1989,1967,1973,1986,1986,2013,2013,2020,2019,2021,2013,2013,2008,2008,2008,2022,2009,2009,2009,2007,2015,2021,2004,2003,2003,1959,2019,2019,2019,2020,2015,2015,2015,2010,2003,2019,2019,2008,2008,2008,2014,2014,2014,1942,1940,1992,1992,2005,2001,2001,2001,1970,1970,1970,1984,1984,1984,1947,1990,1984,2014,2014,2018,1982,1994,1994,1985,1972,1972,1972,2008,2008,2008,2020,2020,2020,1991,1991,1991,2015,2004,1981,1981,1981,1976,2014,2014,1977,1996,1987,1988,1985,2015,2016,2020,1983,1984,1984,2013,1958,1958,1958,1956,1957,1933,1933,1969,1969,1969,2005,2005,2018,2012,2012,2012,2019,2018,2019,1992,1992,1992,2014,2001,2001,2013,2013,2018,2018,2018,1998,1998,2021,1938,1995,1995,1995,1989,1980,1980,1996,2015,1975,1975,1975,1991,1974,1955,1955,1935,1935,1945,1988,1988,2006,1952,1973,1973,1973,2005,2017,1992,2018,2016,2019,2021,2010,2010,2019,2011,2016,2016,2016,1991,2020,1961,1974,1984,1984,2003,2003,2002,2002,1994,1963,1963,2014,2014,2014,1994,1994,1994,2011,2011,2003,2011,2011,2011,1972,1972,2004,2014,2014,2003,1993,2017,2017,2017,2002,2002,2002,2016,2009,2009,1999,1999,1999,2018,2000,2001,1947,1984,2004,1999,1998,1997,1984,2015,2015,2013,2013,2013,2012,1984,1994,1985,1980,1981,2018,2003,2004,2000,2002,2002,2002,1999,1970,2012,2002,2002,2005,2004,2004,2004,1996,1996,2013,2002,2002,1998,1982,1982,1986,1986,1991,2000,1988,1968,1984,2001,2001,2001,2006,2006,2006,2002,1992,1966,1966,1966,1963,1963,1963,1981,1981,2019,2019,2019,2011,2011,2011,2001,2001,1988,2019,2010,1982,1982,1982,1982,1982,1982,1987,2001,2001,1966,1966,1966,2005,1977,1977,2005,2005,2005,2016,1934,1997,1997,1997,1997,1997,1997,2014,1991,1991,2002,2016,2016,2016,2017,2006,2014,2014,1949,2001,2001,2018,2016,2018,2019,2019,1985,1985,1985,1992,1992,1992,2022,2021,2021,2021,1993,1993,1993,1998,1994,1994,2016,2016,2004,2004,2004,2017,1979,1979,1979,2008,2008,2008,1994,1994,1936,1962,1962,1962,1943,1985,1985,2008,1933,2019,2019,1985,2001,1990,1990,1998,1989,1989,1975,1975,1975,1982,1982,1944,1988,1988,1994,1994,1994,1983,1991,1990,2004,1993,1984,1984,1990,2001,1995,1981,1990,1990,1990,1993,1993,1993,1980,1980,1980,2017,1980,1980,1947,1960,1932,1941,1960,1952,1952,1988,1988,1935,1995,1995,1995,1977,1977,1977,2021,2021,2021,1981,1981,1938,1985,1985,1985,1957,1961,1952,1994,1994,1994,1976,1939,1987,2003,2003,2003,1943,1946,1972,1972,1972,1984,1984,1980,1937,1999,1960,1960,1975,1975,2005,2005,1997,1943,1937,1936,1977,1973,1973,1973,1998,1947,2013,2013,2013,1988,1993,1993,1993,1959,1959,2013,1983,1983,1983,2020,1963,1932,1956,1972,2001,1979,2014,1977,1945,1945,1986,2018,1933,2005,2005,2005,2002,1974,1974,1977,1977,1977,2018,2018,2018,1942,1987,1987,1987,1949,1968,1970,1945,1976,1994,1994,2014,2014,2014,1964,1964,1997,1997,1948,1986,2013,2013,2013,1958,1958,1958,1999,1999,1966,1959,1960,1990,1990,2006,2006,2006,1937,1975,1975,1947,2005,1988,1986,1986,2006,2006,1964,1964,1964,1940,1976,1976,1956,2000,1942,2013,2013,2016,1962,1961,1965,2002,1975,1992,1988,1988,1988,2013,1984,1956,2002,2002,2020,2011,2011,2019,2012,2019,2021,1958,2000,1972,1972,2021,2021,2021,1963,1935,2011,2011,2011,2018,2009,2009,2009,1998,1998,1998,1996,1975,1975,1975,2015,2001,2001,2001,1983,1986,1996,1985,1985,1985,1995,1993,1992,1992,1992,1979,1989,1989,1989,1988,1999,1999,2005,1988,1998,1998],\"xaxis\":\"x\",\"yaxis\":\"y\",\"type\":\"histogram\"}],                        {\"template\":{\"data\":{\"histogram2dcontour\":[{\"type\":\"histogram2dcontour\",\"colorbar\":{\"outlinewidth\":0,\"ticks\":\"\"},\"colorscale\":[[0.0,\"#0d0887\"],[0.1111111111111111,\"#46039f\"],[0.2222222222222222,\"#7201a8\"],[0.3333333333333333,\"#9c179e\"],[0.4444444444444444,\"#bd3786\"],[0.5555555555555556,\"#d8576b\"],[0.6666666666666666,\"#ed7953\"],[0.7777777777777778,\"#fb9f3a\"],[0.8888888888888888,\"#fdca26\"],[1.0,\"#f0f921\"]]}],\"choropleth\":[{\"type\":\"choropleth\",\"colorbar\":{\"outlinewidth\":0,\"ticks\":\"\"}}],\"histogram2d\":[{\"type\":\"histogram2d\",\"colorbar\":{\"outlinewidth\":0,\"ticks\":\"\"},\"colorscale\":[[0.0,\"#0d0887\"],[0.1111111111111111,\"#46039f\"],[0.2222222222222222,\"#7201a8\"],[0.3333333333333333,\"#9c179e\"],[0.4444444444444444,\"#bd3786\"],[0.5555555555555556,\"#d8576b\"],[0.6666666666666666,\"#ed7953\"],[0.7777777777777778,\"#fb9f3a\"],[0.8888888888888888,\"#fdca26\"],[1.0,\"#f0f921\"]]}],\"heatmap\":[{\"type\":\"heatmap\",\"colorbar\":{\"outlinewidth\":0,\"ticks\":\"\"},\"colorscale\":[[0.0,\"#0d0887\"],[0.1111111111111111,\"#46039f\"],[0.2222222222222222,\"#7201a8\"],[0.3333333333333333,\"#9c179e\"],[0.4444444444444444,\"#bd3786\"],[0.5555555555555556,\"#d8576b\"],[0.6666666666666666,\"#ed7953\"],[0.7777777777777778,\"#fb9f3a\"],[0.8888888888888888,\"#fdca26\"],[1.0,\"#f0f921\"]]}],\"heatmapgl\":[{\"type\":\"heatmapgl\",\"colorbar\":{\"outlinewidth\":0,\"ticks\":\"\"},\"colorscale\":[[0.0,\"#0d0887\"],[0.1111111111111111,\"#46039f\"],[0.2222222222222222,\"#7201a8\"],[0.3333333333333333,\"#9c179e\"],[0.4444444444444444,\"#bd3786\"],[0.5555555555555556,\"#d8576b\"],[0.6666666666666666,\"#ed7953\"],[0.7777777777777778,\"#fb9f3a\"],[0.8888888888888888,\"#fdca26\"],[1.0,\"#f0f921\"]]}],\"contourcarpet\":[{\"type\":\"contourcarpet\",\"colorbar\":{\"outlinewidth\":0,\"ticks\":\"\"}}],\"contour\":[{\"type\":\"contour\",\"colorbar\":{\"outlinewidth\":0,\"ticks\":\"\"},\"colorscale\":[[0.0,\"#0d0887\"],[0.1111111111111111,\"#46039f\"],[0.2222222222222222,\"#7201a8\"],[0.3333333333333333,\"#9c179e\"],[0.4444444444444444,\"#bd3786\"],[0.5555555555555556,\"#d8576b\"],[0.6666666666666666,\"#ed7953\"],[0.7777777777777778,\"#fb9f3a\"],[0.8888888888888888,\"#fdca26\"],[1.0,\"#f0f921\"]]}],\"surface\":[{\"type\":\"surface\",\"colorbar\":{\"outlinewidth\":0,\"ticks\":\"\"},\"colorscale\":[[0.0,\"#0d0887\"],[0.1111111111111111,\"#46039f\"],[0.2222222222222222,\"#7201a8\"],[0.3333333333333333,\"#9c179e\"],[0.4444444444444444,\"#bd3786\"],[0.5555555555555556,\"#d8576b\"],[0.6666666666666666,\"#ed7953\"],[0.7777777777777778,\"#fb9f3a\"],[0.8888888888888888,\"#fdca26\"],[1.0,\"#f0f921\"]]}],\"mesh3d\":[{\"type\":\"mesh3d\",\"colorbar\":{\"outlinewidth\":0,\"ticks\":\"\"}}],\"scatter\":[{\"fillpattern\":{\"fillmode\":\"overlay\",\"size\":10,\"solidity\":0.2},\"type\":\"scatter\"}],\"parcoords\":[{\"type\":\"parcoords\",\"line\":{\"colorbar\":{\"outlinewidth\":0,\"ticks\":\"\"}}}],\"scatterpolargl\":[{\"type\":\"scatterpolargl\",\"marker\":{\"colorbar\":{\"outlinewidth\":0,\"ticks\":\"\"}}}],\"bar\":[{\"error_x\":{\"color\":\"#2a3f5f\"},\"error_y\":{\"color\":\"#2a3f5f\"},\"marker\":{\"line\":{\"color\":\"#E5ECF6\",\"width\":0.5},\"pattern\":{\"fillmode\":\"overlay\",\"size\":10,\"solidity\":0.2}},\"type\":\"bar\"}],\"scattergeo\":[{\"type\":\"scattergeo\",\"marker\":{\"colorbar\":{\"outlinewidth\":0,\"ticks\":\"\"}}}],\"scatterpolar\":[{\"type\":\"scatterpolar\",\"marker\":{\"colorbar\":{\"outlinewidth\":0,\"ticks\":\"\"}}}],\"histogram\":[{\"marker\":{\"pattern\":{\"fillmode\":\"overlay\",\"size\":10,\"solidity\":0.2}},\"type\":\"histogram\"}],\"scattergl\":[{\"type\":\"scattergl\",\"marker\":{\"colorbar\":{\"outlinewidth\":0,\"ticks\":\"\"}}}],\"scatter3d\":[{\"type\":\"scatter3d\",\"line\":{\"colorbar\":{\"outlinewidth\":0,\"ticks\":\"\"}},\"marker\":{\"colorbar\":{\"outlinewidth\":0,\"ticks\":\"\"}}}],\"scattermapbox\":[{\"type\":\"scattermapbox\",\"marker\":{\"colorbar\":{\"outlinewidth\":0,\"ticks\":\"\"}}}],\"scatterternary\":[{\"type\":\"scatterternary\",\"marker\":{\"colorbar\":{\"outlinewidth\":0,\"ticks\":\"\"}}}],\"scattercarpet\":[{\"type\":\"scattercarpet\",\"marker\":{\"colorbar\":{\"outlinewidth\":0,\"ticks\":\"\"}}}],\"carpet\":[{\"aaxis\":{\"endlinecolor\":\"#2a3f5f\",\"gridcolor\":\"white\",\"linecolor\":\"white\",\"minorgridcolor\":\"white\",\"startlinecolor\":\"#2a3f5f\"},\"baxis\":{\"endlinecolor\":\"#2a3f5f\",\"gridcolor\":\"white\",\"linecolor\":\"white\",\"minorgridcolor\":\"white\",\"startlinecolor\":\"#2a3f5f\"},\"type\":\"carpet\"}],\"table\":[{\"cells\":{\"fill\":{\"color\":\"#EBF0F8\"},\"line\":{\"color\":\"white\"}},\"header\":{\"fill\":{\"color\":\"#C8D4E3\"},\"line\":{\"color\":\"white\"}},\"type\":\"table\"}],\"barpolar\":[{\"marker\":{\"line\":{\"color\":\"#E5ECF6\",\"width\":0.5},\"pattern\":{\"fillmode\":\"overlay\",\"size\":10,\"solidity\":0.2}},\"type\":\"barpolar\"}],\"pie\":[{\"automargin\":true,\"type\":\"pie\"}]},\"layout\":{\"autotypenumbers\":\"strict\",\"colorway\":[\"#636efa\",\"#EF553B\",\"#00cc96\",\"#ab63fa\",\"#FFA15A\",\"#19d3f3\",\"#FF6692\",\"#B6E880\",\"#FF97FF\",\"#FECB52\"],\"font\":{\"color\":\"#2a3f5f\"},\"hovermode\":\"closest\",\"hoverlabel\":{\"align\":\"left\"},\"paper_bgcolor\":\"white\",\"plot_bgcolor\":\"#E5ECF6\",\"polar\":{\"bgcolor\":\"#E5ECF6\",\"angularaxis\":{\"gridcolor\":\"white\",\"linecolor\":\"white\",\"ticks\":\"\"},\"radialaxis\":{\"gridcolor\":\"white\",\"linecolor\":\"white\",\"ticks\":\"\"}},\"ternary\":{\"bgcolor\":\"#E5ECF6\",\"aaxis\":{\"gridcolor\":\"white\",\"linecolor\":\"white\",\"ticks\":\"\"},\"baxis\":{\"gridcolor\":\"white\",\"linecolor\":\"white\",\"ticks\":\"\"},\"caxis\":{\"gridcolor\":\"white\",\"linecolor\":\"white\",\"ticks\":\"\"}},\"coloraxis\":{\"colorbar\":{\"outlinewidth\":0,\"ticks\":\"\"}},\"colorscale\":{\"sequential\":[[0.0,\"#0d0887\"],[0.1111111111111111,\"#46039f\"],[0.2222222222222222,\"#7201a8\"],[0.3333333333333333,\"#9c179e\"],[0.4444444444444444,\"#bd3786\"],[0.5555555555555556,\"#d8576b\"],[0.6666666666666666,\"#ed7953\"],[0.7777777777777778,\"#fb9f3a\"],[0.8888888888888888,\"#fdca26\"],[1.0,\"#f0f921\"]],\"sequentialminus\":[[0.0,\"#0d0887\"],[0.1111111111111111,\"#46039f\"],[0.2222222222222222,\"#7201a8\"],[0.3333333333333333,\"#9c179e\"],[0.4444444444444444,\"#bd3786\"],[0.5555555555555556,\"#d8576b\"],[0.6666666666666666,\"#ed7953\"],[0.7777777777777778,\"#fb9f3a\"],[0.8888888888888888,\"#fdca26\"],[1.0,\"#f0f921\"]],\"diverging\":[[0,\"#8e0152\"],[0.1,\"#c51b7d\"],[0.2,\"#de77ae\"],[0.3,\"#f1b6da\"],[0.4,\"#fde0ef\"],[0.5,\"#f7f7f7\"],[0.6,\"#e6f5d0\"],[0.7,\"#b8e186\"],[0.8,\"#7fbc41\"],[0.9,\"#4d9221\"],[1,\"#276419\"]]},\"xaxis\":{\"gridcolor\":\"white\",\"linecolor\":\"white\",\"ticks\":\"\",\"title\":{\"standoff\":15},\"zerolinecolor\":\"white\",\"automargin\":true,\"zerolinewidth\":2},\"yaxis\":{\"gridcolor\":\"white\",\"linecolor\":\"white\",\"ticks\":\"\",\"title\":{\"standoff\":15},\"zerolinecolor\":\"white\",\"automargin\":true,\"zerolinewidth\":2},\"scene\":{\"xaxis\":{\"backgroundcolor\":\"#E5ECF6\",\"gridcolor\":\"white\",\"linecolor\":\"white\",\"showbackground\":true,\"ticks\":\"\",\"zerolinecolor\":\"white\",\"gridwidth\":2},\"yaxis\":{\"backgroundcolor\":\"#E5ECF6\",\"gridcolor\":\"white\",\"linecolor\":\"white\",\"showbackground\":true,\"ticks\":\"\",\"zerolinecolor\":\"white\",\"gridwidth\":2},\"zaxis\":{\"backgroundcolor\":\"#E5ECF6\",\"gridcolor\":\"white\",\"linecolor\":\"white\",\"showbackground\":true,\"ticks\":\"\",\"zerolinecolor\":\"white\",\"gridwidth\":2}},\"shapedefaults\":{\"line\":{\"color\":\"#2a3f5f\"}},\"annotationdefaults\":{\"arrowcolor\":\"#2a3f5f\",\"arrowhead\":0,\"arrowwidth\":1},\"geo\":{\"bgcolor\":\"white\",\"landcolor\":\"#E5ECF6\",\"subunitcolor\":\"white\",\"showland\":true,\"showlakes\":true,\"lakecolor\":\"white\"},\"title\":{\"x\":0.05},\"mapbox\":{\"style\":\"light\"}}},\"xaxis\":{\"anchor\":\"y\",\"domain\":[0.0,1.0],\"title\":{\"text\":\"Year\"}},\"yaxis\":{\"anchor\":\"x\",\"domain\":[0.0,1.0],\"title\":{\"text\":\"probability density\"}},\"legend\":{\"tracegroupgap\":0},\"margin\":{\"t\":60},\"barmode\":\"relative\"},                        {\"responsive\": true}                    ).then(function(){\n",
              "                            \n",
              "var gd = document.getElementById('2f9e41b1-e10a-4b99-ba38-391637db5f89');\n",
              "var x = new MutationObserver(function (mutations, observer) {{\n",
              "        var display = window.getComputedStyle(gd).display;\n",
              "        if (!display || display === 'none') {{\n",
              "            console.log([gd, 'removed!']);\n",
              "            Plotly.purge(gd);\n",
              "            observer.disconnect();\n",
              "        }}\n",
              "}});\n",
              "\n",
              "// Listen for the removal of the full notebook cells\n",
              "var notebookContainer = gd.closest('#notebook-container');\n",
              "if (notebookContainer) {{\n",
              "    x.observe(notebookContainer, {childList: true});\n",
              "}}\n",
              "\n",
              "// Listen for the clearing of the current output cell\n",
              "var outputEl = gd.closest('.output');\n",
              "if (outputEl) {{\n",
              "    x.observe(outputEl, {childList: true});\n",
              "}}\n",
              "\n",
              "                        })                };                            </script>        </div>\n",
              "</body>\n",
              "</html>"
            ]
          },
          "metadata": {}
        }
      ]
    },
    {
      "cell_type": "code",
      "source": [
        "# Group data by Year and Genre, calculate average rating\n",
        "avg_rating_by_year = df.groupby(['Year', 'Genre'])['Rating'].mean().reset_index()\n",
        "\n",
        "# Get the top 10 genres\n",
        "top_genres = df['Genre'].value_counts().head(10).index\n",
        "\n",
        "# Filter the data to include only the top 3 genres\n",
        "average_rating_by_year = avg_rating_by_year[avg_rating_by_year['Genre'].isin(top_genres)]\n",
        "\n",
        "fig = px.line(average_rating_by_year, x='Year', y='Rating', color='Genre',\n",
        "              title=\"Average Rating by Year for Top Genres\",\n",
        "              labels={'Year': 'Year', 'Rating': 'Average Rating', 'Genre': 'Genre'})\n",
        "\n",
        "# Updating the details into chart like title and axis labels\n",
        "fig.update_layout(title=\"Average Rating by Year for Top Genres\",xaxis_title='Year', yaxis_title=\"Average Rating\")\n",
        "\n",
        "# Show the plot\n",
        "fig.show()"
      ],
      "metadata": {
        "id": "oVXNaubsPgY8",
        "colab": {
          "base_uri": "https://localhost:8080/",
          "height": 542
        },
        "outputId": "ce89cd3c-2996-4d90-e3e0-8c3a69f1a044"
      },
      "execution_count": 46,
      "outputs": [
        {
          "output_type": "display_data",
          "data": {
            "text/html": [
              "<html>\n",
              "<head><meta charset=\"utf-8\" /></head>\n",
              "<body>\n",
              "    <div>            <script src=\"https://cdnjs.cloudflare.com/ajax/libs/mathjax/2.7.5/MathJax.js?config=TeX-AMS-MML_SVG\"></script><script type=\"text/javascript\">if (window.MathJax && window.MathJax.Hub && window.MathJax.Hub.Config) {window.MathJax.Hub.Config({SVG: {font: \"STIX-Web\"}});}</script>                <script type=\"text/javascript\">window.PlotlyConfig = {MathJaxConfig: 'local'};</script>\n",
              "        <script charset=\"utf-8\" src=\"https://cdn.plot.ly/plotly-2.24.1.min.js\"></script>                <div id=\"6c79e43e-fadf-4dfb-b4c2-31c675fc9979\" class=\"plotly-graph-div\" style=\"height:525px; width:100%;\"></div>            <script type=\"text/javascript\">                                    window.PLOTLYENV=window.PLOTLYENV || {};                                    if (document.getElementById(\"6c79e43e-fadf-4dfb-b4c2-31c675fc9979\")) {                    Plotly.newPlot(                        \"6c79e43e-fadf-4dfb-b4c2-31c675fc9979\",                        [{\"hovertemplate\":\"Genre=Drama\\u003cbr\\u003eYear=%{x}\\u003cbr\\u003eAverage Rating=%{y}\\u003cextra\\u003e\\u003c\\u002fextra\\u003e\",\"legendgroup\":\"Drama\",\"line\":{\"color\":\"#636efa\",\"dash\":\"solid\"},\"marker\":{\"symbol\":\"circle\"},\"mode\":\"lines\",\"name\":\"Drama\",\"orientation\":\"v\",\"showlegend\":true,\"x\":[1913,1914,1915,1917,1922,1923,1924,1926,1928,1930,1931,1932,1933,1934,1935,1936,1937,1938,1939,1940,1941,1942,1943,1944,1945,1946,1947,1948,1949,1950,1951,1952,1953,1954,1955,1956,1957,1958,1959,1960,1961,1962,1963,1964,1965,1966,1967,1968,1969,1970,1971,1972,1973,1974,1975,1976,1977,1978,1979,1980,1981,1982,1983,1984,1985,1986,1987,1988,1989,1990,1991,1992,1993,1994,1995,1996,1997,1998,1999,2000,2001,2002,2003,2004,2005,2006,2007,2008,2009,2010,2011,2012,2013,2014,2015,2016,2017,2018,2019,2020,2021,2022],\"xaxis\":\"x\",\"y\":[6.2,6.2,6.2,6.7,6.2,6.2,6.2,6.2,6.2,6.2,6.1625000000000005,6.074509803921569,6.147457627118644,6.225714285714286,6.184210526315789,6.210810810810811,6.220731707317073,6.245205479452055,6.114,6.269565217391305,6.2403508771929825,6.230120481927711,6.205747126436782,6.219178082191781,6.1234375000000005,6.2807692307692315,6.265048543689321,6.314285714285714,6.3,6.467816091954023,6.39375,6.501470588235295,6.439130434782609,6.288888888888889,6.383132530120482,6.333333333333333,6.472619047619048,6.3,6.340845070422535,6.3500000000000005,6.377777777777778,6.224137931034483,6.248214285714285,6.42,6.465,6.3981818181818175,6.419642857142857,6.354838709677419,6.316417910447761,6.481428571428571,6.3975,6.262886597938144,6.264705882352941,6.433,6.37,6.360256410256411,6.292631578947368,6.3,6.256626506024096,6.196385542168674,6.285858585858586,6.238333333333333,6.2745098039215685,6.172173913043478,6.140186915887851,6.0038167938931295,5.970103092783505,6.0233333333333325,5.7875,5.5278846153846155,5.609243697478991,5.721153846153846,5.654716981132076,5.463725490196078,5.45,5.690789473684211,5.653164556962025,5.817808219178082,5.7272727272727275,5.642222222222222,5.687,5.483333333333333,5.534042553191489,5.592173913043479,5.70969696969697,5.566990291262136,5.763963963963963,5.402752293577981,5.614925373134328,5.551470588235294,5.614503816793893,6.160638297872341,6.031428571428571,6.024242424242424,6.016546762589928,6.228301886792453,6.131693989071038,6.381372549019607,6.297446808510639,6.4301775147928995,6.343850267379679,6.2],\"yaxis\":\"y\",\"type\":\"scatter\"},{\"hovertemplate\":\"Genre=Adventure\\u003cbr\\u003eYear=%{x}\\u003cbr\\u003eAverage Rating=%{y}\\u003cextra\\u003e\\u003c\\u002fextra\\u003e\",\"legendgroup\":\"Adventure\",\"line\":{\"color\":\"#EF553B\",\"dash\":\"solid\"},\"marker\":{\"symbol\":\"circle\"},\"mode\":\"lines\",\"name\":\"Adventure\",\"orientation\":\"v\",\"showlegend\":true,\"x\":[1917,1931,1932,1933,1934,1935,1936,1937,1938,1939,1940,1941,1942,1943,1944,1945,1946,1947,1948,1949,1950,1951,1952,1953,1954,1955,1956,1957,1958,1959,1960,1961,1962,1963,1964,1965,1966,1967,1968,1969,1970,1971,1972,1973,1974,1975,1976,1977,1978,1979,1980,1981,1982,1983,1984,1985,1986,1987,1988,1989,1990,1991,1992,1993,1994,1995,1996,1997,1998,1999,2000,2001,2002,2003,2004,2005,2006,2007,2008,2009,2010,2011,2012,2013,2014,2015,2016,2017,2018,2019,2020,2021],\"xaxis\":\"x\",\"y\":[6.7,6.2,6.2,6.2,2.7,5.233333333333333,4.9,3.4,6.4,5.833333333333333,6.15,6.2,6.6,6.2,5.5,4.699999999999999,5.066666666666666,5.975,7.2,4.9,6.2,6.2,6.1000000000000005,6.15,6.2,6.15,6.133333333333334,6.659999999999999,5.35,6.2,5.742857142857143,6.6000000000000005,6.3375,6.1,5.982352941176471,6.370588235294117,6.05,5.928571428571429,5.833333333333333,6.16,6.5,6.840000000000001,6.65,6.166666666666667,7.6,6.12,6.9,6.411111111111111,5.8,6.26875,5.733333333333333,6.25,6.15,6.533333333333334,6.7,5.688888888888889,5.9875,5.466666666666666,5.483333333333333,4.65,5.4,5.483333333333333,5.642857142857143,6.25,7.25,6.2,6.0,6.033333333333334,5.466666666666666,5.8999999999999995,5.12,6.15,5.466666666666666,4.914285714285714,4.033333333333333,5.333333333333333,6.0375,5.725,3.75,4.975,5.1,4.425,6.064285714285715,6.4111111111111105,5.66,6.166666666666667,6.152941176470589,5.8,6.5,6.074358974358974,6.433333333333334,6.246153846153846],\"yaxis\":\"y\",\"type\":\"scatter\"},{\"hovertemplate\":\"Genre=Action\\u003cbr\\u003eYear=%{x}\\u003cbr\\u003eAverage Rating=%{y}\\u003cextra\\u003e\\u003c\\u002fextra\\u003e\",\"legendgroup\":\"Action\",\"line\":{\"color\":\"#00cc96\",\"dash\":\"solid\"},\"marker\":{\"symbol\":\"circle\"},\"mode\":\"lines\",\"name\":\"Action\",\"orientation\":\"v\",\"showlegend\":true,\"x\":[1922,1928,1931,1933,1934,1935,1936,1937,1938,1939,1940,1941,1942,1943,1944,1945,1946,1947,1948,1949,1950,1951,1952,1953,1954,1955,1956,1957,1958,1959,1960,1961,1962,1963,1964,1965,1966,1967,1968,1969,1970,1971,1972,1973,1974,1975,1976,1977,1978,1979,1980,1981,1982,1983,1984,1985,1986,1987,1988,1989,1990,1991,1992,1993,1994,1995,1996,1997,1998,1999,2000,2001,2002,2003,2004,2005,2006,2007,2008,2009,2010,2011,2012,2013,2014,2015,2016,2017,2018,2019,2020,2021,2022],\"xaxis\":\"x\",\"y\":[6.2,6.2,6.2,6.2,6.2,5.86,6.2,6.2,6.2,6.25,6.1875,6.2,6.2,6.2,6.0600000000000005,5.5,6.142857142857143,6.2,6.4,5.983333333333333,6.2,6.375,6.7,5.8999999999999995,6.21,6.207692307692308,6.163636363636363,6.2272727272727275,6.1937500000000005,6.055555555555555,6.146428571428571,6.15925925925926,6.180000000000001,6.125,6.023076923076923,6.2620689655172415,6.174074074074074,6.1952380952380945,6.196000000000001,6.109677419354839,6.054545454545455,6.016666666666667,5.904999999999999,6.223529411764706,6.2696969696969695,6.1499999999999995,6.016666666666667,5.897916666666667,6.124444444444445,6.0636363636363635,5.972131147540984,6.059615384615385,5.817543859649123,5.929545454545454,5.706779661016949,5.8625,5.872307692307692,5.663492063492064,5.524358974358974,5.372340425531915,5.477906976744186,5.235869565217391,5.6755555555555555,5.435164835164835,5.188461538461539,5.345454545454545,5.426666666666667,5.431818181818182,5.278787878787878,5.5042857142857144,5.454945054945055,5.557142857142857,5.356470588235294,5.185714285714285,5.596703296703297,5.573913043478261,4.941463414634146,5.430952380952381,5.085,5.089583333333334,5.256521739130435,5.302439024390244,5.685294117647059,5.430188679245283,5.261904761904762,5.668181818181818,5.718181818181818,5.982222222222222,5.865217391304348,6.023809523809524,5.842424242424243,6.157407407407407,6.2],\"yaxis\":\"y\",\"type\":\"scatter\"},{\"hovertemplate\":\"Genre=Musical\\u003cbr\\u003eYear=%{x}\\u003cbr\\u003eAverage Rating=%{y}\\u003cextra\\u003e\\u003c\\u002fextra\\u003e\",\"legendgroup\":\"Musical\",\"line\":{\"color\":\"#ab63fa\",\"dash\":\"solid\"},\"marker\":{\"symbol\":\"circle\"},\"mode\":\"lines\",\"name\":\"Musical\",\"orientation\":\"v\",\"showlegend\":true,\"x\":[1931,1932,1936,1937,1940,1941,1942,1943,1944,1945,1946,1947,1948,1949,1950,1951,1952,1953,1954,1955,1956,1957,1958,1959,1960,1961,1962,1963,1964,1965,1966,1967,1968,1969,1970,1971,1972,1973,1974,1975,1977,1978,1979,1980,1981,1982,1983,1984,1985,1986,1987,1988,1989,1990,1991,1992,1993,1994,1995,1996,1997,1998,1999,2000,2001,2002,2003,2004,2005,2006,2007,2008,2009,2010,2011,2012,2013,2014,2015,2016,2017,2018,2019,2020,2021,2022],\"xaxis\":\"x\",\"y\":[6.2,6.0,6.5,6.2,6.2,6.2,6.5,6.85,5.3,6.2,6.475,6.779999999999999,6.642857142857143,6.76,6.866666666666667,7.0,6.5,6.975,6.585714285714286,6.8,7.133333333333333,7.516666666666667,6.845454545454545,6.942857142857143,6.8500000000000005,7.028571428571429,7.1,6.688888888888889,7.0,6.516666666666667,6.6000000000000005,6.7555555555555555,6.9,6.8,6.427272727272728,6.866666666666667,6.62,6.566666666666666,6.644444444444444,6.8,6.779999999999999,6.340000000000001,6.75,5.942857142857143,6.785714285714286,6.528571428571429,6.05,5.65,6.8428571428571425,6.35,6.040000000000001,7.8,6.4,6.58,6.12,5.6571428571428575,5.633333333333333,6.414285714285714,5.375,6.033333333333334,5.492857142857143,5.571428571428571,5.775,5.458333333333333,5.12,5.283333333333333,5.053846153846154,4.9411764705882355,5.266666666666667,5.1625,4.516666666666667,3.54,5.3875,5.8,6.2,5.585714285714286,5.914285714285714,5.471428571428571,5.083333333333333,5.833333333333333,5.54,5.35,6.105882352941176,6.25,5.4125,6.2],\"yaxis\":\"y\",\"type\":\"scatter\"},{\"hovertemplate\":\"Genre=Romance\\u003cbr\\u003eYear=%{x}\\u003cbr\\u003eAverage Rating=%{y}\\u003cextra\\u003e\\u003c\\u002fextra\\u003e\",\"legendgroup\":\"Romance\",\"line\":{\"color\":\"#FFA15A\",\"dash\":\"solid\"},\"marker\":{\"symbol\":\"circle\"},\"mode\":\"lines\",\"name\":\"Romance\",\"orientation\":\"v\",\"showlegend\":true,\"x\":[1931,1932,1933,1935,1936,1937,1938,1939,1940,1941,1943,1944,1945,1946,1947,1948,1949,1950,1951,1952,1953,1954,1955,1956,1957,1958,1959,1960,1961,1962,1963,1964,1965,1966,1967,1968,1969,1970,1971,1972,1973,1974,1975,1976,1977,1978,1979,1980,1981,1982,1983,1984,1985,1986,1987,1988,1989,1990,1991,1992,1993,1994,1995,1996,1997,1998,1999,2000,2001,2002,2003,2004,2005,2006,2007,2008,2009,2010,2011,2012,2013,2014,2015,2016,2017,2018,2019,2020,2021,2022],\"xaxis\":\"x\",\"y\":[6.2,6.0,6.2,6.2,6.3,5.9,5.7,6.300000000000001,6.2,6.2,7.5,6.314285714285715,6.2,6.8,6.3625,6.730769230769231,6.633333333333334,6.946153846153846,6.663157894736842,6.742857142857143,6.633333333333333,6.233333333333333,6.752941176470588,6.01,6.855555555555556,6.552941176470589,6.4,6.643478260869566,6.235,6.563157894736842,6.509523809523809,6.4409090909090905,6.847368421052631,6.496774193548387,6.533333333333333,6.472,6.37037037037037,6.6461538461538465,6.39375,6.214814814814815,6.258620689655173,6.4512820512820515,6.682608695652173,6.279166666666666,6.566666666666666,6.284848484848485,6.7368421052631575,6.276923076923077,6.385365853658537,6.241463414634146,6.254545454545455,5.99375,6.056410256410256,5.937837837837837,6.228571428571429,5.785714285714286,5.972222222222222,5.753333333333333,5.734146341463415,5.686153846153847,5.3196078431372555,5.365853658536586,5.1761904761904765,5.788235294117648,5.25,5.718181818181818,5.36923076923077,5.38421052631579,5.506521739130435,5.05,5.397872340425532,5.163265306122449,5.005454545454546,5.241176470588235,5.2153846153846155,5.078378378378378,5.216,5.35945945945946,5.3839999999999995,5.2444444444444445,5.586046511627907,5.51,5.624561403508772,4.995,5.663414634146341,5.93,6.165591397849462,6.027906976744186,6.235714285714287,6.2],\"yaxis\":\"y\",\"type\":\"scatter\"},{\"hovertemplate\":\"Genre=Comedy\\u003cbr\\u003eYear=%{x}\\u003cbr\\u003eAverage Rating=%{y}\\u003cextra\\u003e\\u003c\\u002fextra\\u003e\",\"legendgroup\":\"Comedy\",\"line\":{\"color\":\"#19d3f3\",\"dash\":\"solid\"},\"marker\":{\"symbol\":\"circle\"},\"mode\":\"lines\",\"name\":\"Comedy\",\"orientation\":\"v\",\"showlegend\":true,\"x\":[1933,1936,1940,1941,1942,1943,1944,1945,1946,1947,1948,1949,1950,1951,1952,1953,1954,1955,1956,1957,1958,1959,1960,1961,1962,1963,1964,1965,1966,1967,1968,1969,1970,1971,1972,1973,1974,1975,1976,1977,1978,1979,1980,1981,1982,1983,1984,1985,1986,1987,1988,1989,1990,1991,1992,1993,1994,1995,1996,1997,1998,1999,2000,2001,2002,2003,2004,2005,2006,2007,2008,2009,2010,2011,2012,2013,2014,2015,2016,2017,2018,2019,2020,2021,2022],\"xaxis\":\"x\",\"y\":[6.0,6.2,6.2,6.2,6.2,6.375,4.966666666666667,6.35,6.3,5.75,6.2,6.228571428571429,6.425,6.55,6.0200000000000005,6.45,6.566666666666666,6.7,6.464705882352941,6.561538461538461,6.536363636363637,6.771428571428571,6.655555555555555,6.40625,6.46,6.7299999999999995,6.6,6.1875,6.775,6.463636363636363,6.2153846153846155,6.154545454545455,6.269230769230769,6.64,6.245,6.566666666666666,6.655555555555555,6.607142857142857,6.736363636363635,6.528571428571429,6.447826086956522,6.306666666666667,6.3933333333333335,6.641666666666667,6.561538461538461,6.352380952380953,6.223529411764706,6.263636363636365,6.2266666666666675,6.163636363636363,5.933333333333334,5.666666666666667,5.906666666666666,5.5,6.005,5.70625,5.426666666666667,5.6899999999999995,5.942105263157895,5.591304347826087,5.661538461538461,5.272,5.113043478260869,5.54074074074074,5.088,5.4868421052631575,5.389743589743589,5.525,5.615,5.613207547169812,5.128846153846154,5.416949152542373,5.4603174603174605,5.311594202898551,5.511111111111111,5.4271186440677965,5.449206349206349,5.478082191780822,5.408163265306122,5.932894736842105,5.858904109589041,6.0851851851851855,5.912698412698413,6.2379310344827585,6.2],\"yaxis\":\"y\",\"type\":\"scatter\"},{\"hovertemplate\":\"Genre=Crime\\u003cbr\\u003eYear=%{x}\\u003cbr\\u003eAverage Rating=%{y}\\u003cextra\\u003e\\u003c\\u002fextra\\u003e\",\"legendgroup\":\"Crime\",\"line\":{\"color\":\"#FF6692\",\"dash\":\"solid\"},\"marker\":{\"symbol\":\"circle\"},\"mode\":\"lines\",\"name\":\"Crime\",\"orientation\":\"v\",\"showlegend\":true,\"x\":[1933,1935,1936,1937,1939,1943,1946,1947,1949,1950,1951,1952,1953,1954,1955,1956,1957,1958,1959,1960,1961,1962,1963,1965,1966,1967,1968,1969,1970,1971,1972,1973,1974,1975,1976,1977,1978,1979,1980,1981,1982,1983,1984,1985,1986,1987,1988,1989,1990,1991,1992,1993,1994,1995,1996,1997,1998,1999,2000,2001,2002,2003,2004,2005,2006,2007,2008,2009,2010,2011,2012,2013,2014,2015,2016,2017,2018,2019,2020,2021,2022],\"xaxis\":\"x\",\"y\":[6.2,6.2,6.2,6.2,6.2,6.2,6.2,6.2,7.066666666666666,7.1,7.3,7.2,7.55,6.2,6.3125,6.675,6.785714285714286,6.8428571428571425,6.372727272727272,6.533333333333333,5.914285714285714,5.885714285714286,6.659999999999999,6.26,6.316666666666666,6.527272727272727,6.392307692307692,6.363636363636363,5.9,6.0875,6.014285714285714,6.0625,6.253333333333333,5.913333333333333,6.1125,6.035294117647059,6.057142857142857,6.3090909090909095,6.133333333333334,6.32,6.254545454545454,6.5200000000000005,5.964285714285714,5.8,6.199999999999999,5.492307692307692,5.926666666666667,5.361363636363636,5.248275862068965,5.228571428571429,5.641176470588236,5.648,4.885714285714286,4.841176470588235,5.126666666666667,5.376923076923077,5.706666666666666,5.8125,5.176923076923076,5.039130434782609,5.377272727272727,5.718181818181818,5.596428571428571,5.630769230769231,5.09,5.157575757575757,5.47027027027027,5.4,5.5473684210526315,5.478947368421053,5.707999999999999,5.413793103448276,5.903333333333333,6.376923076923077,6.257894736842106,6.120689655172414,6.046153846153846,6.291304347826087,6.566666666666667,6.008571428571429,6.2],\"yaxis\":\"y\",\"type\":\"scatter\"},{\"hovertemplate\":\"Genre=Family\\u003cbr\\u003eYear=%{x}\\u003cbr\\u003eAverage Rating=%{y}\\u003cextra\\u003e\\u003c\\u002fextra\\u003e\",\"legendgroup\":\"Family\",\"line\":{\"color\":\"#B6E880\",\"dash\":\"solid\"},\"marker\":{\"symbol\":\"circle\"},\"mode\":\"lines\",\"name\":\"Family\",\"orientation\":\"v\",\"showlegend\":true,\"x\":[1934,1936,1937,1938,1940,1942,1943,1944,1945,1947,1948,1949,1950,1951,1952,1953,1954,1955,1956,1957,1958,1959,1960,1961,1962,1963,1964,1965,1966,1967,1968,1969,1970,1971,1972,1973,1974,1975,1976,1977,1978,1979,1980,1981,1982,1983,1984,1985,1986,1987,1988,1989,1990,1991,1992,1993,1994,1995,1996,1997,1998,1999,2000,2001,2002,2003,2004,2005,2006,2007,2008,2009,2010,2011,2012,2013,2014,2015,2016,2017,2018,2019,2020,2021,2022],\"xaxis\":\"x\",\"y\":[6.2,6.2,5.9,6.3,6.2,6.114285714285714,6.7,6.2,6.2,6.21,6.4,6.418181818181818,6.67,6.459999999999999,6.199999999999999,6.388888888888889,6.2894736842105265,6.6461538461538465,6.8500000000000005,6.5875,6.36875,6.177777777777778,6.027272727272727,6.418181818181818,6.3,5.8999999999999995,6.414285714285714,6.2727272727272725,6.428571428571429,6.327272727272727,6.428571428571429,6.3533333333333335,6.292857142857143,6.5,6.385714285714285,6.34,6.614285714285715,6.3125,6.6375,6.373333333333333,6.473684210526316,6.152380952380952,6.066666666666666,6.338095238095238,6.104347826086957,6.308333333333334,5.9941176470588236,5.93076923076923,6.390909090909091,6.1,5.242857142857143,5.735294117647059,4.711111111111111,5.0,5.86,5.614285714285714,5.6,4.5,4.74,6.175,4.6,6.2,5.83,5.709090909090909,5.585714285714286,4.7,6.111111111111111,5.954545454545454,6.1125,6.315384615384615,5.275,6.257142857142857,6.176923076923076,6.3307692307692305,6.278571428571429,6.638461538461538,5.938888888888889,5.946153846153846,6.56,6.0687500000000005,6.2368421052631575,6.5075,6.675000000000001,6.513333333333334,6.2],\"yaxis\":\"y\",\"type\":\"scatter\"},{\"hovertemplate\":\"Genre=Horror\\u003cbr\\u003eYear=%{x}\\u003cbr\\u003eAverage Rating=%{y}\\u003cextra\\u003e\\u003c\\u002fextra\\u003e\",\"legendgroup\":\"Horror\",\"line\":{\"color\":\"#FF97FF\",\"dash\":\"solid\"},\"marker\":{\"symbol\":\"circle\"},\"mode\":\"lines\",\"name\":\"Horror\",\"orientation\":\"v\",\"showlegend\":true,\"x\":[1935,1937,1940,1949,1957,1962,1963,1965,1971,1972,1973,1974,1977,1978,1979,1980,1981,1983,1984,1985,1986,1987,1988,1989,1990,1991,1992,1993,1994,1995,1996,1997,1998,1999,2000,2001,2002,2003,2004,2005,2006,2007,2008,2009,2010,2011,2012,2013,2014,2015,2016,2017,2018,2019,2020,2021,2022],\"xaxis\":\"x\",\"y\":[5.1,6.2,6.2,6.65,5.9,5.2,5.7,6.5,6.8,5.8,6.2,6.2,6.15,6.0,6.1000000000000005,6.5,6.220000000000001,6.2,5.866666666666667,5.766666666666667,5.300000000000001,5.428571428571429,5.575,4.79,5.023076923076923,5.058333333333334,4.8,6.266666666666667,4.2,6.45,3.175,5.2,4.476470588235294,5.514814814814815,5.732352941176471,5.870833333333334,5.985714285714286,5.190476190476191,5.527272727272727,5.684615384615385,5.1499999999999995,5.1625,4.325,5.416666666666667,4.266666666666667,5.183333333333334,4.608333333333333,4.075,4.321428571428571,4.833333333333333,4.7299999999999995,5.7,6.0736842105263165,6.036206896551724,5.61,5.912000000000001,6.2],\"yaxis\":\"y\",\"type\":\"scatter\"},{\"hovertemplate\":\"Genre=Thriller\\u003cbr\\u003eYear=%{x}\\u003cbr\\u003eAverage Rating=%{y}\\u003cextra\\u003e\\u003c\\u002fextra\\u003e\",\"legendgroup\":\"Thriller\",\"line\":{\"color\":\"#FECB52\",\"dash\":\"solid\"},\"marker\":{\"symbol\":\"circle\"},\"mode\":\"lines\",\"name\":\"Thriller\",\"orientation\":\"v\",\"showlegend\":true,\"x\":[1935,1947,1949,1950,1951,1952,1954,1955,1956,1957,1958,1959,1960,1961,1962,1963,1964,1965,1966,1967,1968,1969,1970,1971,1972,1973,1974,1975,1976,1977,1978,1979,1980,1981,1982,1983,1984,1985,1986,1987,1988,1989,1990,1991,1992,1993,1994,1995,1996,1997,1998,1999,2000,2001,2002,2003,2004,2005,2006,2007,2008,2009,2010,2011,2012,2013,2014,2015,2016,2017,2018,2019,2020,2021,2022],\"xaxis\":\"x\",\"y\":[6.2,6.2,6.3,6.6,6.2,6.166666666666667,6.6,6.2,6.2,6.175,6.3,6.3428571428571425,6.3,6.2,6.283333333333334,6.2,6.42,6.557142857142857,6.133333333333333,6.56,6.6,6.4799999999999995,6.4375,6.3125,6.145454545454545,6.111764705882353,6.475,6.053846153846154,6.328571428571428,5.6499999999999995,6.409999999999999,6.133333333333334,5.841176470588235,6.218181818181819,5.7875,5.383333333333333,5.7823529411764705,6.207142857142857,6.094736842105263,5.983333333333333,5.463636363636364,5.985714285714286,5.987179487179487,5.993181818181818,5.9655172413793105,5.211764705882352,5.778947368421052,5.8,5.031578947368422,5.425,5.628571428571428,6.051515151515152,5.95,6.033846153846154,5.867796610169491,5.809523809523809,5.726865671641791,5.5884210526315785,5.548387096774194,4.83,5.361111111111111,5.975,5.010526315789474,5.625806451612903,5.160526315789474,5.4391304347826095,5.52,5.892,6.136956521739131,6.071153846153846,5.825,6.069078947368421,5.804166666666667,6.108823529411765,6.2],\"yaxis\":\"y\",\"type\":\"scatter\"}],                        {\"template\":{\"data\":{\"histogram2dcontour\":[{\"type\":\"histogram2dcontour\",\"colorbar\":{\"outlinewidth\":0,\"ticks\":\"\"},\"colorscale\":[[0.0,\"#0d0887\"],[0.1111111111111111,\"#46039f\"],[0.2222222222222222,\"#7201a8\"],[0.3333333333333333,\"#9c179e\"],[0.4444444444444444,\"#bd3786\"],[0.5555555555555556,\"#d8576b\"],[0.6666666666666666,\"#ed7953\"],[0.7777777777777778,\"#fb9f3a\"],[0.8888888888888888,\"#fdca26\"],[1.0,\"#f0f921\"]]}],\"choropleth\":[{\"type\":\"choropleth\",\"colorbar\":{\"outlinewidth\":0,\"ticks\":\"\"}}],\"histogram2d\":[{\"type\":\"histogram2d\",\"colorbar\":{\"outlinewidth\":0,\"ticks\":\"\"},\"colorscale\":[[0.0,\"#0d0887\"],[0.1111111111111111,\"#46039f\"],[0.2222222222222222,\"#7201a8\"],[0.3333333333333333,\"#9c179e\"],[0.4444444444444444,\"#bd3786\"],[0.5555555555555556,\"#d8576b\"],[0.6666666666666666,\"#ed7953\"],[0.7777777777777778,\"#fb9f3a\"],[0.8888888888888888,\"#fdca26\"],[1.0,\"#f0f921\"]]}],\"heatmap\":[{\"type\":\"heatmap\",\"colorbar\":{\"outlinewidth\":0,\"ticks\":\"\"},\"colorscale\":[[0.0,\"#0d0887\"],[0.1111111111111111,\"#46039f\"],[0.2222222222222222,\"#7201a8\"],[0.3333333333333333,\"#9c179e\"],[0.4444444444444444,\"#bd3786\"],[0.5555555555555556,\"#d8576b\"],[0.6666666666666666,\"#ed7953\"],[0.7777777777777778,\"#fb9f3a\"],[0.8888888888888888,\"#fdca26\"],[1.0,\"#f0f921\"]]}],\"heatmapgl\":[{\"type\":\"heatmapgl\",\"colorbar\":{\"outlinewidth\":0,\"ticks\":\"\"},\"colorscale\":[[0.0,\"#0d0887\"],[0.1111111111111111,\"#46039f\"],[0.2222222222222222,\"#7201a8\"],[0.3333333333333333,\"#9c179e\"],[0.4444444444444444,\"#bd3786\"],[0.5555555555555556,\"#d8576b\"],[0.6666666666666666,\"#ed7953\"],[0.7777777777777778,\"#fb9f3a\"],[0.8888888888888888,\"#fdca26\"],[1.0,\"#f0f921\"]]}],\"contourcarpet\":[{\"type\":\"contourcarpet\",\"colorbar\":{\"outlinewidth\":0,\"ticks\":\"\"}}],\"contour\":[{\"type\":\"contour\",\"colorbar\":{\"outlinewidth\":0,\"ticks\":\"\"},\"colorscale\":[[0.0,\"#0d0887\"],[0.1111111111111111,\"#46039f\"],[0.2222222222222222,\"#7201a8\"],[0.3333333333333333,\"#9c179e\"],[0.4444444444444444,\"#bd3786\"],[0.5555555555555556,\"#d8576b\"],[0.6666666666666666,\"#ed7953\"],[0.7777777777777778,\"#fb9f3a\"],[0.8888888888888888,\"#fdca26\"],[1.0,\"#f0f921\"]]}],\"surface\":[{\"type\":\"surface\",\"colorbar\":{\"outlinewidth\":0,\"ticks\":\"\"},\"colorscale\":[[0.0,\"#0d0887\"],[0.1111111111111111,\"#46039f\"],[0.2222222222222222,\"#7201a8\"],[0.3333333333333333,\"#9c179e\"],[0.4444444444444444,\"#bd3786\"],[0.5555555555555556,\"#d8576b\"],[0.6666666666666666,\"#ed7953\"],[0.7777777777777778,\"#fb9f3a\"],[0.8888888888888888,\"#fdca26\"],[1.0,\"#f0f921\"]]}],\"mesh3d\":[{\"type\":\"mesh3d\",\"colorbar\":{\"outlinewidth\":0,\"ticks\":\"\"}}],\"scatter\":[{\"fillpattern\":{\"fillmode\":\"overlay\",\"size\":10,\"solidity\":0.2},\"type\":\"scatter\"}],\"parcoords\":[{\"type\":\"parcoords\",\"line\":{\"colorbar\":{\"outlinewidth\":0,\"ticks\":\"\"}}}],\"scatterpolargl\":[{\"type\":\"scatterpolargl\",\"marker\":{\"colorbar\":{\"outlinewidth\":0,\"ticks\":\"\"}}}],\"bar\":[{\"error_x\":{\"color\":\"#2a3f5f\"},\"error_y\":{\"color\":\"#2a3f5f\"},\"marker\":{\"line\":{\"color\":\"#E5ECF6\",\"width\":0.5},\"pattern\":{\"fillmode\":\"overlay\",\"size\":10,\"solidity\":0.2}},\"type\":\"bar\"}],\"scattergeo\":[{\"type\":\"scattergeo\",\"marker\":{\"colorbar\":{\"outlinewidth\":0,\"ticks\":\"\"}}}],\"scatterpolar\":[{\"type\":\"scatterpolar\",\"marker\":{\"colorbar\":{\"outlinewidth\":0,\"ticks\":\"\"}}}],\"histogram\":[{\"marker\":{\"pattern\":{\"fillmode\":\"overlay\",\"size\":10,\"solidity\":0.2}},\"type\":\"histogram\"}],\"scattergl\":[{\"type\":\"scattergl\",\"marker\":{\"colorbar\":{\"outlinewidth\":0,\"ticks\":\"\"}}}],\"scatter3d\":[{\"type\":\"scatter3d\",\"line\":{\"colorbar\":{\"outlinewidth\":0,\"ticks\":\"\"}},\"marker\":{\"colorbar\":{\"outlinewidth\":0,\"ticks\":\"\"}}}],\"scattermapbox\":[{\"type\":\"scattermapbox\",\"marker\":{\"colorbar\":{\"outlinewidth\":0,\"ticks\":\"\"}}}],\"scatterternary\":[{\"type\":\"scatterternary\",\"marker\":{\"colorbar\":{\"outlinewidth\":0,\"ticks\":\"\"}}}],\"scattercarpet\":[{\"type\":\"scattercarpet\",\"marker\":{\"colorbar\":{\"outlinewidth\":0,\"ticks\":\"\"}}}],\"carpet\":[{\"aaxis\":{\"endlinecolor\":\"#2a3f5f\",\"gridcolor\":\"white\",\"linecolor\":\"white\",\"minorgridcolor\":\"white\",\"startlinecolor\":\"#2a3f5f\"},\"baxis\":{\"endlinecolor\":\"#2a3f5f\",\"gridcolor\":\"white\",\"linecolor\":\"white\",\"minorgridcolor\":\"white\",\"startlinecolor\":\"#2a3f5f\"},\"type\":\"carpet\"}],\"table\":[{\"cells\":{\"fill\":{\"color\":\"#EBF0F8\"},\"line\":{\"color\":\"white\"}},\"header\":{\"fill\":{\"color\":\"#C8D4E3\"},\"line\":{\"color\":\"white\"}},\"type\":\"table\"}],\"barpolar\":[{\"marker\":{\"line\":{\"color\":\"#E5ECF6\",\"width\":0.5},\"pattern\":{\"fillmode\":\"overlay\",\"size\":10,\"solidity\":0.2}},\"type\":\"barpolar\"}],\"pie\":[{\"automargin\":true,\"type\":\"pie\"}]},\"layout\":{\"autotypenumbers\":\"strict\",\"colorway\":[\"#636efa\",\"#EF553B\",\"#00cc96\",\"#ab63fa\",\"#FFA15A\",\"#19d3f3\",\"#FF6692\",\"#B6E880\",\"#FF97FF\",\"#FECB52\"],\"font\":{\"color\":\"#2a3f5f\"},\"hovermode\":\"closest\",\"hoverlabel\":{\"align\":\"left\"},\"paper_bgcolor\":\"white\",\"plot_bgcolor\":\"#E5ECF6\",\"polar\":{\"bgcolor\":\"#E5ECF6\",\"angularaxis\":{\"gridcolor\":\"white\",\"linecolor\":\"white\",\"ticks\":\"\"},\"radialaxis\":{\"gridcolor\":\"white\",\"linecolor\":\"white\",\"ticks\":\"\"}},\"ternary\":{\"bgcolor\":\"#E5ECF6\",\"aaxis\":{\"gridcolor\":\"white\",\"linecolor\":\"white\",\"ticks\":\"\"},\"baxis\":{\"gridcolor\":\"white\",\"linecolor\":\"white\",\"ticks\":\"\"},\"caxis\":{\"gridcolor\":\"white\",\"linecolor\":\"white\",\"ticks\":\"\"}},\"coloraxis\":{\"colorbar\":{\"outlinewidth\":0,\"ticks\":\"\"}},\"colorscale\":{\"sequential\":[[0.0,\"#0d0887\"],[0.1111111111111111,\"#46039f\"],[0.2222222222222222,\"#7201a8\"],[0.3333333333333333,\"#9c179e\"],[0.4444444444444444,\"#bd3786\"],[0.5555555555555556,\"#d8576b\"],[0.6666666666666666,\"#ed7953\"],[0.7777777777777778,\"#fb9f3a\"],[0.8888888888888888,\"#fdca26\"],[1.0,\"#f0f921\"]],\"sequentialminus\":[[0.0,\"#0d0887\"],[0.1111111111111111,\"#46039f\"],[0.2222222222222222,\"#7201a8\"],[0.3333333333333333,\"#9c179e\"],[0.4444444444444444,\"#bd3786\"],[0.5555555555555556,\"#d8576b\"],[0.6666666666666666,\"#ed7953\"],[0.7777777777777778,\"#fb9f3a\"],[0.8888888888888888,\"#fdca26\"],[1.0,\"#f0f921\"]],\"diverging\":[[0,\"#8e0152\"],[0.1,\"#c51b7d\"],[0.2,\"#de77ae\"],[0.3,\"#f1b6da\"],[0.4,\"#fde0ef\"],[0.5,\"#f7f7f7\"],[0.6,\"#e6f5d0\"],[0.7,\"#b8e186\"],[0.8,\"#7fbc41\"],[0.9,\"#4d9221\"],[1,\"#276419\"]]},\"xaxis\":{\"gridcolor\":\"white\",\"linecolor\":\"white\",\"ticks\":\"\",\"title\":{\"standoff\":15},\"zerolinecolor\":\"white\",\"automargin\":true,\"zerolinewidth\":2},\"yaxis\":{\"gridcolor\":\"white\",\"linecolor\":\"white\",\"ticks\":\"\",\"title\":{\"standoff\":15},\"zerolinecolor\":\"white\",\"automargin\":true,\"zerolinewidth\":2},\"scene\":{\"xaxis\":{\"backgroundcolor\":\"#E5ECF6\",\"gridcolor\":\"white\",\"linecolor\":\"white\",\"showbackground\":true,\"ticks\":\"\",\"zerolinecolor\":\"white\",\"gridwidth\":2},\"yaxis\":{\"backgroundcolor\":\"#E5ECF6\",\"gridcolor\":\"white\",\"linecolor\":\"white\",\"showbackground\":true,\"ticks\":\"\",\"zerolinecolor\":\"white\",\"gridwidth\":2},\"zaxis\":{\"backgroundcolor\":\"#E5ECF6\",\"gridcolor\":\"white\",\"linecolor\":\"white\",\"showbackground\":true,\"ticks\":\"\",\"zerolinecolor\":\"white\",\"gridwidth\":2}},\"shapedefaults\":{\"line\":{\"color\":\"#2a3f5f\"}},\"annotationdefaults\":{\"arrowcolor\":\"#2a3f5f\",\"arrowhead\":0,\"arrowwidth\":1},\"geo\":{\"bgcolor\":\"white\",\"landcolor\":\"#E5ECF6\",\"subunitcolor\":\"white\",\"showland\":true,\"showlakes\":true,\"lakecolor\":\"white\"},\"title\":{\"x\":0.05},\"mapbox\":{\"style\":\"light\"}}},\"xaxis\":{\"anchor\":\"y\",\"domain\":[0.0,1.0],\"title\":{\"text\":\"Year\"}},\"yaxis\":{\"anchor\":\"x\",\"domain\":[0.0,1.0],\"title\":{\"text\":\"Average Rating\"}},\"legend\":{\"title\":{\"text\":\"Genre\"},\"tracegroupgap\":0},\"title\":{\"text\":\"Average Rating by Year for Top Genres\"}},                        {\"responsive\": true}                    ).then(function(){\n",
              "                            \n",
              "var gd = document.getElementById('6c79e43e-fadf-4dfb-b4c2-31c675fc9979');\n",
              "var x = new MutationObserver(function (mutations, observer) {{\n",
              "        var display = window.getComputedStyle(gd).display;\n",
              "        if (!display || display === 'none') {{\n",
              "            console.log([gd, 'removed!']);\n",
              "            Plotly.purge(gd);\n",
              "            observer.disconnect();\n",
              "        }}\n",
              "}});\n",
              "\n",
              "// Listen for the removal of the full notebook cells\n",
              "var notebookContainer = gd.closest('#notebook-container');\n",
              "if (notebookContainer) {{\n",
              "    x.observe(notebookContainer, {childList: true});\n",
              "}}\n",
              "\n",
              "// Listen for the clearing of the current output cell\n",
              "var outputEl = gd.closest('.output');\n",
              "if (outputEl) {{\n",
              "    x.observe(outputEl, {childList: true});\n",
              "}}\n",
              "\n",
              "                        })                };                            </script>        </div>\n",
              "</body>\n",
              "</html>"
            ]
          },
          "metadata": {}
        }
      ]
    },
    {
      "cell_type": "code",
      "source": [
        "rating_fig=px.histogram(df,x='Rating',histnorm='probability density',nbins=40)\n",
        "rating_fig.update_layout(title='Distribution of Rating',title_x=0.5,title_pad=dict(t=20),title_font=dict(size=20),xaxis_title='Rating',yaxis_title='probability density')\n",
        "rating_fig.show()"
      ],
      "metadata": {
        "id": "t_7tI0osPgWY",
        "colab": {
          "base_uri": "https://localhost:8080/",
          "height": 542
        },
        "outputId": "f7be2efb-6091-49a5-c170-b7bfe876df2c"
      },
      "execution_count": 47,
      "outputs": [
        {
          "output_type": "display_data",
          "data": {
            "text/html": [
              "<html>\n",
              "<head><meta charset=\"utf-8\" /></head>\n",
              "<body>\n",
              "    <div>            <script src=\"https://cdnjs.cloudflare.com/ajax/libs/mathjax/2.7.5/MathJax.js?config=TeX-AMS-MML_SVG\"></script><script type=\"text/javascript\">if (window.MathJax && window.MathJax.Hub && window.MathJax.Hub.Config) {window.MathJax.Hub.Config({SVG: {font: \"STIX-Web\"}});}</script>                <script type=\"text/javascript\">window.PlotlyConfig = {MathJaxConfig: 'local'};</script>\n",
              "        <script charset=\"utf-8\" src=\"https://cdn.plot.ly/plotly-2.24.1.min.js\"></script>                <div id=\"49514a27-c931-479a-be28-c2a3a8d65efd\" class=\"plotly-graph-div\" style=\"height:525px; width:100%;\"></div>            <script type=\"text/javascript\">                                    window.PLOTLYENV=window.PLOTLYENV || {};                                    if (document.getElementById(\"49514a27-c931-479a-be28-c2a3a8d65efd\")) {                    Plotly.newPlot(                        \"49514a27-c931-479a-be28-c2a3a8d65efd\",                        [{\"alignmentgroup\":\"True\",\"bingroup\":\"x\",\"histnorm\":\"probability density\",\"hovertemplate\":\"Rating=%{x}\\u003cbr\\u003eprobability density=%{y}\\u003cextra\\u003e\\u003c\\u002fextra\\u003e\",\"legendgroup\":\"\",\"marker\":{\"color\":\"#636efa\",\"pattern\":{\"shape\":\"\"}},\"name\":\"\",\"nbinsx\":40,\"offsetgroup\":\"\",\"orientation\":\"v\",\"showlegend\":false,\"x\":[6.2,7.0,6.2,6.2,4.4,4.4,6.2,4.7,4.7,4.7,7.4,7.4,7.4,6.2,5.6,5.6,5.6,4.0,4.0,4.0,6.2,5.9,6.5,6.5,6.5,5.7,5.7,5.7,6.2,7.4,7.4,6.2,6.2,6.2,6.2,6.3,6.3,6.3,6.2,6.2,6.2,6.2,7.2,7.2,7.2,4.4,4.4,6.2,6.2,6.6,6.6,6.2,6.2,7.3,7.3,7.3,6.2,7.1,6.2,5.6,6.9,6.9,3.5,5.0,5.0,4.5,6.2,6.2,6.2,6.4,6.4,6.4,4.1,4.1,4.8,4.8,4.8,4.5,4.5,4.5,7.2,7.2,7.2,8.1,8.1,8.1,4.0,5.5,7.3,6.2,6.2,5.6,5.6,6.8,6.8,6.8,5.0,5.0,5.0,6.2,6.9,6.9,6.9,6.2,6.2,3.5,3.5,3.5,6.2,6.2,6.1,6.2,6.1,7.7,7.7,6.1,5.1,5.1,5.1,6.2,7.6,6.6,6.2,3.1,6.9,5.0,5.0,3.3,3.3,6.2,7.8,7.8,6.9,8.4,8.4,5.2,5.2,6.2,6.9,4.3,4.3,5.0,4.8,5.8,5.8,5.8,4.6,5.7,5.7,5.7,7.5,7.5,6.7,6.7,6.7,5.7,5.7,5.6,5.6,3.6,3.6,3.6,6.3,6.2,6.2,6.2,6.2,7.3,7.3,7.3,4.8,3.9,3.9,7.8,7.8,7.8,6.2,5.7,6.5,6.5,6.2,6.2,6.5,6.5,6.2,4.6,4.6,4.6,5.4,6.2,6.2,4.2,6.2,6.2,6.2,6.2,6.2,5.3,5.3,5.0,3.4,3.4,5.7,5.7,6.2,6.1,6.1,6.1,4.1,4.1,4.1,5.3,5.3,5.3,5.3,6.2,6.2,6.2,6.2,6.2,5.4,5.4,5.4,6.6,6.6,6.6,6.2,6.2,6.2,4.7,4.7,5.3,6.2,6.2,6.2,6.2,7.3,7.3,7.3,7.4,7.4,4.8,4.8,6.2,6.2,6.2,6.2,6.2,8.1,6.2,6.2,6.2,6.2,6.2,6.2,6.2,6.2,6.3,7.5,7.5,6.2,7.7,7.7,6.8,6.8,4.5,4.5,4.5,3.0,3.0,3.0,6.3,6.3,6.2,6.2,8.0,8.0,6.2,7.3,6.4,6.2,6.0,6.2,6.2,6.2,6.8,3.1,6.2,6.2,6.2,6.2,6.2,6.2,6.2,3.8,3.8,3.8,6.9,7.9,6.2,6.2,6.9,6.2,6.2,6.2,8.1,8.1,8.1,6.2,5.5,5.5,5.5,8.0,6.2,6.2,5.0,5.0,5.0,7.2,7.2,7.2,4.4,4.4,2.7,6.8,4.9,2.4,6.2,5.5,5.5,5.5,5.2,5.0,5.0,5.2,6.2,5.5,7.4,6.2,6.2,6.2,6.2,5.5,5.5,5.5,5.1,7.6,6.2,6.4,6.2,5.4,5.4,5.4,6.2,6.2,6.2,6.7,6.7,6.2,6.2,6.2,6.2,6.8,6.8,6.5,6.5,6.5,6.7,6.2,6.2,6.2,6.2,5.0,5.0,7.6,5.4,5.4,4.2,5.3,5.3,6.2,6.2,6.2,7.4,7.4,6.2,6.2,4.6,4.6,4.6,3.1,3.1,6.2,4.1,3.7,3.7,3.7,6.2,4.1,4.1,4.1,6.2,6.2,6.2,6.2,6.2,5.3,4.2,6.2,6.2,4.8,4.8,6.2,6.2,4.8,3.4,3.4,6.2,5.7,5.7,6.2,5.0,3.6,3.6,3.6,6.0,6.2,6.2,4.8,3.1,6.2,5.0,5.0,5.0,6.2,4.2,4.2,4.2,6.2,6.2,4.8,7.2,7.2,7.2,6.4,6.2,6.2,6.0,6.0,6.2,6.2,6.2,6.2,6.2,6.2,6.0,6.0,6.8,3.2,3.2,6.2,6.2,6.2,5.5,4.1,4.1,5.6,5.6,6.2,6.0,3.1,4.7,4.7,4.7,5.1,5.1,6.2,5.6,5.3,5.3,4.7,4.7,6.2,6.0,6.2,6.2,6.2,5.7,3.5,3.5,6.2,5.8,5.8,5.8,6.2,4.3,4.3,6.2,3.1,3.1,6.2,4.5,5.8,5.8,6.2,5.0,5.0,3.3,5.3,5.6,5.6,5.6,6.2,6.2,6.2,6.2,6.2,6.2,6.2,6.2,6.2,7.3,3.8,3.8,6.2,6.2,6.2,6.2,4.4,6.2,6.2,6.2,6.2,6.2,6.7,6.7,3.3,3.3,6.2,6.2,6.2,4.4,4.4,4.4,6.6,7.1,7.1,7.1,5.2,5.2,4.1,4.1,4.1,5.0,5.0,5.0,6.2,4.8,6.2,5.5,5.5,5.5,5.6,6.4,6.2,6.2,6.2,4.9,4.9,4.9,4.8,4.9,4.9,2.5,6.3,6.3,6.9,6.2,6.2,6.2,6.2,6.2,6.2,6.2,6.2,6.2,6.2,7.3,7.3,2.8,6.2,6.3,6.3,6.3,6.2,6.2,7.9,7.9,7.9,7.0,7.0,7.0,4.6,4.6,4.6,5.4,7.2,7.2,6.2,6.2,3.0,7.7,7.7,4.8,4.8,4.8,7.7,7.7,7.7,6.2,6.5,6.5,6.5,6.4,6.4,6.4,5.8,6.2,6.4,6.1,2.8,6.4,6.4,6.4,5.7,5.7,5.7,5.6,6.4,6.4,6.4,4.9,4.9,5.7,6.2,8.1,8.1,6.2,6.0,6.0,6.0,6.1,7.4,4.8,6.6,6.6,6.2,6.2,5.6,5.6,6.6,6.2,6.2,6.0,6.2,6.2,6.2,7.4,6.7,6.7,6.7,7.2,7.2,7.4,7.4,7.4,6.2,6.2,6.4,6.4,6.2,6.2,6.5,6.5,6.5,6.2,6.2,6.2,6.2,6.2,6.2,6.2,6.2,6.2,6.2,4.2,5.1,5.1,5.1,6.6,6.6,6.6,5.7,5.7,6.2,6.2,6.2,5.8,5.7,7.0,7.0,6.3,6.3,6.3,3.6,3.6,6.2,6.3,6.3,6.3,6.2,3.1,3.1,3.1,6.2,6.2,5.6,5.6,5.6,6.0,5.2,5.2,4.5,4.5,4.5,6.4,6.1,6.2,6.1,6.2,6.2,6.8,6.2,5.9,6.2,6.2,6.7,6.6,6.6,6.6,6.6,6.6,6.6,6.2,4.6,4.6,4.6,6.2,6.2,6.2,6.2,6.2,5.4,5.4,5.1,6.2,6.2,6.8,6.8,5.8,6.5,6.5,5.3,5.3,5.3,6.2,7.1,2.6,6.2,6.2,6.2,5.2,6.7,3.8,3.8,3.8,4.3,4.3,4.3,5.5,6.2,6.3,6.3,6.3,7.0,7.0,7.0,3.7,3.7,7.3,6.1,5.2,5.2,5.2,3.8,6.2,6.2,4.8,4.8,5.5,6.8,6.8,6.8,4.5,7.2,7.2,6.2,6.2,6.2,6.2,6.4,3.9,3.9,5.2,5.2,5.2,6.2,4.4,4.4,4.4,6.2,4.5,5.8,5.8,5.8,4.2,4.2,4.2,3.8,3.8,3.8,6.2,6.2,6.2,6.4,6.4,7.0,7.0,5.1,3.7,3.7,6.2,6.2,6.2,6.2,6.1,6.1,6.1,5.4,6.2,6.2,6.6,6.6,6.2,4.4,4.4,4.4,5.0,5.0,5.0,6.6,6.2,6.2,7.6,4.0,4.8,4.8,3.3,3.3,3.3,4.8,4.8,6.2,5.1,6.2,7.8,7.8,7.8,5.8,5.8,5.8,4.0,4.0,6.2,4.6,4.6,4.6,6.2,6.2,3.2,3.2,6.2,6.3,6.3,6.2,6.2,6.4,6.4,6.4,2.8,4.8,4.8,4.8,6.2,7.0,6.2,6.2,5.4,5.4,5.4,6.2,6.2,6.2,6.8,6.8,6.2,7.1,7.1,7.1,7.9,7.9,3.2,7.0,7.0,7.0,4.6,4.6,4.6,6.2,6.7,6.7,7.1,7.0,6.2,6.2,6.2,6.2,6.2,5.8,3.1,6.2,6.2,6.2,6.2,6.2,6.2,4.0,4.0,4.0,6.8,6.8,4.0,4.0,4.0,6.2,6.2,6.2,6.2,6.7,6.2,6.5,6.5,6.5,5.0,5.0,5.0,6.2,4.5,4.5,4.5,6.2,3.3,3.3,3.3,6.2,4.2,4.2,4.2,6.2,6.2,6.2,3.6,3.6,3.6,6.2,6.2,6.2,6.9,6.9,6.9,6.4,6.4,6.4,6.2,5.5,6.2,6.2,6.2,6.2,5.1,5.1,5.1,5.3,6.6,6.6,6.6,6.2,6.7,6.7,6.7,6.2,6.2,6.2,4.9,6.2,6.2,5.4,5.4,6.2,6.2,6.2,6.2,4.7,6.2,6.2,6.2,6.2,6.2,6.2,6.8,6.8,6.8,6.2,7.3,7.3,6.2,6.2,5.0,6.2,6.2,6.2,6.9,6.9,6.9,6.2,6.2,6.2,6.2,6.2,6.2,3.3,3.3,6.2,6.2,6.2,3.3,3.3,3.3,5.5,6.6,4.7,6.2,6.2,6.2,6.2,4.6,4.6,4.6,7.9,7.9,7.9,5.8,5.8,5.8,6.2,6.2,4.6,4.6,4.6,6.2,6.2,4.5,4.5,4.5,6.2,6.2,6.2,6.2,6.2,6.2,6.6,6.6,6.5,6.5,7.8,7.8,3.6,3.6,5.9,5.9,7.1,7.1,6.2,6.2,6.3,6.3,6.2,6.2,6.2,6.2,6.4,6.4,6.4,6.6,6.6,6.6,6.2,6.2,6.2,5.7,5.7,5.7,5.2,5.2,5.2,6.2,4.0,4.0,7.1,7.1,6.2,5.1,5.1,5.1,3.1,5.6,5.6,5.6,7.7,7.7,7.7,6.9,6.9,6.9,7.8,6.2,4.5,4.5,4.5,6.0,6.0,6.2,6.2,7.3,6.1,6.1,6.1,3.6,6.2,4.6,4.6,4.6,4.6,6.2,4.8,4.8,4.8,6.2,6.2,6.2,2.9,2.9,2.9,7.2,7.2,6.2,5.9,6.2,6.2,6.2,6.2,4.1,4.1,6.2,6.2,7.0,7.0,7.0,7.0,6.2,5.7,5.7,6.2,6.2,6.2,6.2,8.0,8.0,6.2,6.2,3.9,3.9,3.9,6.3,6.3,6.6,3.7,5.0,5.0,5.0,6.6,6.6,4.1,4.1,4.1,6.9,6.9,6.6,6.6,6.6,5.3,5.3,5.3,6.2,4.4,4.4,4.2,4.2,6.4,6.4,6.4,5.8,6.2,6.2,6.5,6.5,3.7,3.7,3.7,6.2,6.2,6.2,6.2,6.7,6.7,4.7,5.5,5.5,5.5,6.2,6.1,6.1,6.1,6.2,6.9,6.4,6.4,6.4,6.2,2.7,6.2,5.3,5.3,5.3,4.8,4.8,4.8,5.0,5.0,6.9,6.9,6.9,6.2,6.3,6.3,6.2,6.2,6.2,6.2,5.7,5.7,5.7,7.4,4.8,6.2,6.2,6.6,6.2,6.2,5.0,5.0,5.0,7.7,7.7,7.7,6.2,6.2,6.2,6.2,5.5,7.0,5.6,6.2,6.3,6.3,6.2,6.2,5.1,5.1,5.3,5.3,6.2,6.2,6.2,5.8,5.8,5.8,4.8,4.8,4.8,3.6,3.6,3.6,6.2,6.2,6.2,6.2,6.2,6.7,6.7,5.9,5.9,6.2,6.2,6.2,4.6,4.6,4.6,6.4,6.4,6.4,3.8,3.8,3.8,6.9,6.2,6.2,7.4,6.2,6.8,6.2,6.6,6.6,6.6,3.7,3.7,3.7,7.0,7.0,7.0,6.0,6.2,6.2,6.2,6.2,6.2,6.2,6.2,6.2,6.2,7.5,7.5,7.5,5.5,6.2,6.2,5.9,6.2,6.2,6.2,6.2,6.4,6.4,6.4,6.2,6.2,6.2,6.0,6.2,6.2,6.2,4.4,4.4,4.4,6.2,3.4,6.7,6.7,6.2,6.2,6.2,6.5,7.2,6.3,7.8,7.8,6.2,6.2,6.2,6.2,6.2,6.2,6.2,6.2,6.2,6.2,6.2,3.8,3.8,3.8,7.9,4.8,4.8,6.2,6.2,6.2,6.2,6.2,6.2,6.2,6.2,6.2,6.2,6.2,6.2,6.2,6.1,6.1,6.1,4.3,5.4,5.4,6.2,3.7,5.8,5.8,5.8,6.2,6.2,4.0,4.0,4.0,6.2,6.2,6.1,6.1,4.7,4.7,6.2,6.2,6.2,6.5,6.5,6.5,6.6,7.1,7.1,6.2,7.0,7.0,6.8,6.8,6.8,6.6,6.6,6.9,6.9,5.6,6.1,6.2,6.2,6.2,6.2,6.2,6.2,8.0,7.2,8.2,8.2,8.2,4.4,6.2,6.5,6.2,6.2,6.2,6.2,6.2,6.2,6.2,4.9,4.9,4.9,6.2,6.2,6.2,7.5,7.5,7.5,6.2,6.2,2.8,2.8,6.2,3.1,4.2,6.2,6.2,6.2,5.3,5.3,5.3,6.9,6.9,6.9,5.8,4.4,6.2,6.2,5.4,6.2,6.6,6.6,6.6,6.6,6.6,5.5,4.9,6.2,5.4,5.4,6.2,6.2,6.2,5.6,5.6,5.6,8.1,8.1,5.6,6.2,6.2,6.2,6.2,6.2,6.2,6.6,6.6,6.2,7.0,7.0,6.2,6.2,6.2,6.2,6.2,6.2,7.3,6.2,6.2,6.2,8.4,6.9,6.9,6.9,6.2,7.1,8.7,8.7,6.2,6.2,6.2,6.2,6.1,6.1,6.1,6.2,6.2,6.2,5.9,6.2,6.2,7.1,7.1,7.1,3.4,3.4,3.4,8.3,8.3,6.2,6.1,6.1,6.1,6.2,6.2,7.6,7.6,7.6,7.1,7.1,6.2,7.0,6.2,6.2,6.2,7.9,7.9,7.9,4.8,4.8,4.8,6.2,6.2,5.0,6.2,7.2,7.2,7.2,6.2,5.4,5.4,6.2,6.2,6.2,5.3,5.3,5.3,5.4,5.4,7.2,7.2,7.2,6.7,6.7,4.4,4.4,4.4,8.1,8.1,8.1,6.2,6.2,6.2,6.2,6.2,6.2,6.8,6.8,6.2,6.2,6.8,6.8,6.8,6.2,6.1,6.1,7.3,7.3,8.2,8.2,8.2,6.0,6.0,6.2,6.2,6.2,5.1,5.1,5.1,4.0,4.0,4.0,6.2,6.2,6.8,6.8,6.2,5.5,5.5,6.2,6.2,6.2,6.2,5.0,5.0,5.0,6.2,6.2,6.2,6.2,6.2,6.4,6.4,6.4,6.2,6.2,6.2,3.6,4.3,4.3,5.3,5.3,5.3,5.8,5.8,5.8,6.2,6.2,6.2,6.2,6.2,7.2,6.2,6.3,6.3,8.3,6.1,6.2,6.2,6.2,6.2,4.4,4.4,6.2,7.3,7.3,7.0,7.0,5.2,6.2,6.1,6.1,6.1,7.2,7.2,7.2,7.1,7.1,7.1,6.2,6.2,6.4,6.4,6.4,6.2,6.2,6.2,5.9,5.9,5.8,5.8,5.8,5.3,6.9,6.9,6.1,6.2,2.5,2.5,6.5,6.5,5.6,5.8,5.8,5.8,4.1,6.2,6.2,3.9,6.2,6.2,6.2,6.2,5.8,5.8,5.8,6.2,6.2,6.9,6.9,3.4,3.4,3.4,4.8,4.8,4.8,6.2,6.2,6.2,7.1,4.1,4.1,4.1,6.2,6.2,6.2,6.2,5.2,5.2,5.2,7.2,7.2,7.2,8.0,8.0,5.5,6.5,6.5,6.2,8.0,7.5,7.5,6.2,5.6,5.6,5.6,7.3,7.3,7.3,3.7,3.7,6.2,6.2,6.2,7.0,7.9,7.9,4.9,6.0,6.2,6.7,6.7,7.1,7.7,7.7,3.1,3.1,3.1,6.2,4.9,4.9,4.9,3.5,6.2,6.3,7.4,6.2,7.0,6.2,6.2,6.3,6.2,6.9,6.9,6.2,6.9,7.3,6.2,6.6,6.4,6.4,6.4,4.5,4.5,6.2,6.2,6.2,6.2,6.2,6.2,5.9,5.9,7.3,7.3,7.3,6.2,6.2,6.6,6.6,6.6,6.5,6.3,6.3,6.3,7.2,7.2,6.2,6.2,6.2,7.3,7.3,5.5,7.1,6.2,4.4,5.2,5.2,3.3,6.2,6.7,6.4,6.4,6.4,5.3,5.3,3.4,6.2,6.2,7.4,7.4,6.6,6.2,6.2,6.6,6.6,6.2,6.2,6.2,6.2,6.7,6.7,6.8,6.8,6.6,6.6,6.6,5.4,5.4,5.4,6.2,6.2,7.4,6.2,6.2,6.2,6.2,5.7,7.4,7.4,7.4,6.2,6.2,6.2,3.5,3.5,3.5,6.2,5.8,5.3,5.3,5.3,6.2,6.2,5.9,5.7,5.7,5.6,6.2,6.3,6.3,6.3,3.8,3.8,3.8,6.2,6.2,6.2,6.2,6.2,4.6,4.6,6.2,6.8,6.2,5.7,5.7,5.7,6.2,6.2,5.3,5.3,5.3,6.5,6.5,6.2,6.0,6.0,6.2,6.0,6.0,6.2,6.2,6.2,5.6,5.6,6.2,6.2,6.2,6.1,6.1,6.8,6.8,6.8,6.2,6.1,6.1,6.2,6.2,6.2,6.2,6.8,6.8,6.8,4.7,4.7,4.7,6.3,6.3,6.3,7.3,6.2,4.8,7.5,6.0,6.2,6.1,6.1,6.1,6.2,6.2,3.1,3.1,6.2,6.2,6.2,6.2,6.2,6.2,6.2,3.6,3.6,7.6,7.6,7.6,6.5,5.9,5.9,5.9,6.2,6.2,6.2,8.2,8.2,6.1,6.1,6.2,7.2,7.2,7.2,6.2,3.6,3.6,3.6,7.5,7.5,5.2,5.2,5.2,4.3,4.3,6.2,6.8,6.8,6.8,6.8,6.8,6.2,5.2,5.2,5.2,4.6,6.2,4.3,4.3,5.3,5.3,5.3,6.3,6.3,6.2,6.2,6.9,6.9,6.2,6.2,6.2,6.2,6.2,6.2,7.9,7.9,6.2,8.2,8.2,8.2,6.9,7.0,7.0,4.4,4.4,4.4,6.2,6.2,6.2,7.0,7.0,7.1,7.1,7.1,6.2,3.4,3.4,3.4,6.4,6.7,6.7,6.2,6.2,6.2,6.2,4.9,4.9,6.2,4.9,4.9,6.2,6.2,6.3,6.3,6.3,5.2,5.2,5.8,5.8,5.8,6.2,7.6,7.6,6.2,6.2,5.9,3.7,4.8,9.3,6.5,6.5,6.5,6.6,6.2,6.2,6.5,6.6,6.2,6.2,6.2,4.3,7.5,7.5,7.5,6.2,4.8,4.8,4.8,6.2,6.2,6.2,6.2,6.2,6.2,6.2,7.3,7.3,6.8,6.8,7.0,6.2,6.2,6.2,5.4,5.4,8.8,4.3,5.4,5.4,5.4,6.2,5.6,6.2,2.9,2.9,6.0,6.0,6.2,6.2,6.2,5.9,6.4,8.2,8.2,6.2,6.2,6.2,6.2,5.0,6.2,6.2,6.2,6.2,6.2,6.2,6.2,6.9,6.9,6.9,6.2,3.7,6.2,6.2,4.2,6.2,5.9,5.3,5.3,6.2,6.2,3.8,6.2,4.3,4.3,4.3,6.2,6.5,7.0,6.0,6.0,6.0,4.2,6.2,6.5,6.5,6.5,6.2,7.2,4.9,4.9,4.9,7.4,7.4,6.2,6.2,6.2,5.5,5.5,6.2,4.6,4.6,6.2,6.2,6.2,6.2,6.2,6.2,6.2,6.2,4.2,6.2,6.2,4.8,6.2,6.2,5.9,5.9,6.4,4.5,4.5,4.5,6.2,6.5,5.7,5.7,5.7,6.2,6.2,6.2,4.1,4.1,4.1,6.0,6.0,6.0,6.0,6.0,7.2,7.9,7.9,7.9,5.9,6.2,6.2,6.2,6.2,6.2,4.9,4.9,5.1,5.1,5.1,6.2,6.2,6.2,6.2,6.2,6.2,6.2,6.2,6.2,4.9,7.3,7.3,7.3,8.7,6.2,6.2,3.6,7.0,7.0,6.2,6.2,5.1,6.2,6.2,6.2,6.2,6.2,6.2,6.2,6.4,6.4,6.2,6.2,6.2,6.2,5.5,5.5,5.5,7.6,6.9,6.2,6.2,7.2,7.2,7.2,7.2,7.2,7.2,5.0,5.0,6.2,7.1,6.2,6.2,6.2,5.0,5.0,6.2,6.2,6.2,6.2,6.2,5.7,5.7,5.7,6.2,8.8,6.2,6.2,6.4,6.4,6.4,2.1,8.3,8.3,6.2,6.4,6.4,6.4,5.1,5.1,5.1,5.4,5.4,5.4,6.2,5.7,5.7,6.8,6.8,6.9,6.9,6.9,4.9,4.9,4.9,4.2,4.2,4.2,5.2,5.2,5.2,6.2,4.8,4.8,2.1,2.1,2.1,6.2,6.2,6.2,6.2,6.2,3.3,3.3,5.7,5.7,5.7,6.1,7.3,7.0,5.8,4.2,4.2,4.2,6.2,6.2,6.2,6.2,6.2,6.8,6.2,5.0,6.0,6.0,6.0,6.4,6.4,6.4,6.2,5.3,5.3,5.3,6.2,6.2,7.2,7.2,7.2,6.4,6.1,3.2,3.2,3.2,6.4,5.1,5.1,6.8,6.8,6.8,6.2,4.0,7.3,7.3,7.3,5.7,5.7,5.7,6.2,3.2,3.2,6.6,6.6,6.6,7.3,7.3,7.3,6.4,6.4,6.4,6.3,6.5,6.5,6.5,7.7,7.7,7.7,6.2,7.5,7.5,7.5,6.2,6.2,6.2,6.2,4.2,6.2,6.2,6.8,6.8,7.4,6.2,6.2,6.7,6.7,6.7,6.2,7.1,7.1,6.2,6.2,6.2,6.2,6.2,7.3,4.8,5.9,5.9,5.9,5.9,6.9,6.9,6.9,8.0,8.0,2.7,2.7,2.7,5.4,6.2,6.2,6.2,6.2,6.2,6.2,6.2,4.9,4.9,6.2,6.2,2.7,2.7,2.7,6.1,6.1,6.1,6.3,6.3,6.3,5.2,6.2,6.2,8.2,6.2,6.2,6.2,6.2,6.2,6.2,3.3,6.2,6.2,3.5,3.5,3.5,6.2,6.2,6.2,5.1,5.1,6.2,6.2,5.0,5.0,5.0,6.7,6.7,7.0,7.0,7.0,4.9,4.9,4.9,6.2,6.7,6.7,6.2,6.2,6.3,6.3,6.3,3.6,3.6,3.6,6.2,6.2,6.2,6.0,6.2,5.8,5.8,5.8,6.2,6.2,6.2,8.0,8.0,4.5,4.5,4.5,6.2,6.7,6.9,6.2,6.2,6.2,5.4,5.4,6.2,6.2,6.2,4.4,4.4,4.4,5.4,5.4,6.2,6.2,6.7,6.2,6.2,6.2,6.2,7.8,7.8,7.8,7.6,7.6,6.2,6.2,6.2,6.2,6.2,6.2,6.2,7.4,7.4,7.4,4.7,4.8,4.8,6.2,6.2,6.2,6.0,6.0,6.0,2.5,6.2,4.4,4.3,4.3,6.2,4.6,4.6,6.2,6.2,6.2,6.2,6.2,6.9,6.2,7.1,6.2,5.5,5.5,5.5,6.2,6.6,5.9,5.9,6.2,6.2,6.2,6.1,6.1,6.1,6.2,6.2,6.4,6.4,6.4,6.2,6.2,6.2,6.2,5.9,6.2,7.7,6.2,6.4,6.4,6.2,6.2,7.2,7.4,7.4,6.5,6.5,6.2,6.2,6.2,6.2,6.2,6.2,6.2,4.7,4.7,4.7,6.2,6.2,6.2,6.2,6.2,6.2,6.2,6.2,6.2,6.2,6.2,6.2,6.2,6.2,6.2,6.2,6.2,6.2,6.2,5.5,6.5,6.5,6.2,4.7,6.2,6.2,6.2,6.2,6.2,6.2,6.2,6.2,6.2,6.2,6.2,6.2,6.2,5.7,6.2,6.2,7.1,7.1,6.2,7.6,7.6,7.1,6.2,8.8,6.0,6.2,6.2,6.9,6.9,6.5,6.5,6.5,6.2,6.5,6.5,6.2,6.2,6.3,6.8,6.3,6.3,6.3,6.2,6.2,6.2,6.2,6.7,6.7,6.7,7.3,7.3,7.3,6.2,7.4,7.4,7.4,6.2,9.3,6.5,6.5,6.2,6.2,6.2,6.2,5.3,5.3,5.3,6.2,7.2,7.2,7.2,6.2,6.2,6.6,7.7,8.0,8.0,8.0,6.2,6.2,6.2,2.7,2.7,6.5,4.2,2.3,6.1,6.2,5.9,7.3,6.2,6.2,6.2,6.2,6.2,5.4,6.2,6.2,6.2,6.2,6.2,6.2,6.2,6.2,6.2,5.6,5.6,6.2,6.8,6.2,6.2,6.2,6.9,6.9,6.9,8.1,7.5,6.2,5.7,5.6,4.3,4.3,3.6,6.2,4.9,4.9,4.0,4.0,4.0,6.2,6.2,6.2,6.2,6.2,6.2,6.0,6.0,6.0,6.2,7.2,6.2,6.2,6.1,6.1,3.2,6.2,4.2,6.7,6.7,6.1,7.2,7.2,7.2,6.2,6.2,6.2,6.2,6.2,6.2,6.2,5.1,5.1,5.1,6.2,6.2,6.2,6.0,6.2,6.2,4.8,4.8,4.8,7.2,7.2,7.2,6.1,6.1,6.2,6.2,7.1,7.1,6.2,6.2,5.8,5.8,7.9,6.2,6.2,6.2,4.5,4.5,4.5,7.7,7.7,7.7,4.3,4.3,7.1,7.1,7.1,6.2,6.1,6.1,6.1,7.6,7.6,7.6,6.2,5.9,5.9,6.2,6.2,6.2,6.2,6.2,5.6,5.6,5.6,6.2,4.5,4.5,6.2,5.1,5.1,6.2,6.2,6.2,4.9,4.9,4.9,6.2,5.9,5.9,5.9,6.2,6.2,6.2,6.2,6.2,6.2,6.2,6.2,6.2,6.2,6.0,6.0,6.2,6.2,6.2,6.2,5.4,5.4,3.7,6.2,6.0,6.2,6.2,6.2,6.0,6.2,6.2,6.8,6.8,6.8,6.2,6.2,6.2,6.2,6.2,6.2,5.6,5.6,5.9,5.9,5.9,6.2,5.6,5.6,5.6,8.1,8.1,8.1,6.2,6.1,6.1,4.9,5.9,6.2,5.1,5.1,6.2,6.2,6.2,6.0,6.0,6.0,4.7,4.7,4.7,6.2,7.3,7.3,6.2,6.2,7.7,7.7,7.7,5.4,5.4,6.3,6.3,6.9,6.9,6.9,3.7,6.2,5.9,5.9,5.9,3.7,3.7,3.7,6.2,6.5,6.5,6.5,5.6,5.6,5.6,6.8,6.8,6.5,6.5,6.5,7.1,7.1,7.1,6.2,6.2,6.2,6.2,6.2,4.3,4.3,6.2,6.2,6.8,6.8,6.2,7.0,7.0,7.0,6.2,7.2,7.2,7.2,7.5,7.5,2.8,6.0,6.2,6.2,6.2,6.2,6.3,6.3,6.2,6.2,6.2,7.0,8.0,8.0,8.0,6.9,6.9,5.2,6.2,7.0,7.0,7.0,6.8,6.8,7.3,7.3,6.2,4.8,5.9,6.4,4.9,6.2,6.2,6.2,8.5,6.2,6.2,6.2,6.2,6.2,6.6,3.1,3.1,3.1,4.8,4.8,4.8,6.2,6.2,6.2,6.2,6.2,6.2,6.2,6.2,6.2,5.4,5.4,6.2,6.2,6.1,6.1,6.1,3.9,3.9,6.2,6.2,5.8,6.2,6.2,5.6,6.2,7.1,7.1,7.1,5.1,5.1,5.3,6.2,6.2,3.9,3.9,3.9,6.2,6.2,6.2,6.2,6.2,6.4,6.4,6.2,5.6,5.6,5.6,6.2,6.2,5.4,5.4,5.4,6.2,6.2,6.2,6.2,6.2,6.2,6.2,5.6,5.9,6.2,6.4,4.0,2.8,2.8,2.8,6.9,6.9,6.2,3.7,3.7,6.2,6.2,6.2,4.6,4.6,4.6,6.2,6.2,2.9,2.9,6.2,6.2,7.6,7.6,7.6,7.0,7.0,6.2,6.8,6.8,6.8,4.4,4.4,4.4,5.0,5.0,5.0,6.2,7.3,7.3,6.2,5.3,5.3,7.7,7.7,6.1,6.1,6.2,6.2,4.1,4.1,4.1,6.7,4.6,4.6,4.6,6.2,6.2,6.8,6.8,6.8,6.2,6.2,6.2,6.3,6.3,6.3,5.4,5.4,3.6,3.6,3.6,6.2,6.2,6.2,6.3,6.3,6.2,3.8,6.6,6.6,6.2,4.4,4.4,4.8,4.8,6.2,5.8,6.2,6.2,6.8,6.8,6.8,3.7,3.7,3.7,6.2,7.2,7.6,7.6,6.2,6.2,6.2,6.2,5.1,5.1,4.4,4.4,5.6,5.6,4.9,6.3,5.5,5.5,5.5,5.2,8.0,8.0,8.0,6.7,6.7,6.7,6.1,6.1,6.1,6.2,7.0,7.0,7.3,7.3,4.0,4.0,6.2,6.2,5.2,5.2,5.2,8.2,8.2,8.2,3.6,6.2,6.7,6.2,4.1,4.1,4.1,6.7,6.2,6.2,5.4,5.4,8.3,8.3,6.3,6.3,2.5,6.0,6.0,6.0,6.5,6.5,6.5,6.8,6.8,6.2,6.2,6.2,6.2,3.2,6.2,6.2,4.6,5.6,5.6,6.1,6.1,6.1,5.9,5.9,5.9,6.5,6.2,4.3,4.3,6.2,8.7,6.2,6.2,6.2,6.2,6.0,6.0,6.0,6.2,6.2,6.2,6.2,6.2,6.2,6.2,6.2,6.2,6.2,4.4,5.1,5.1,6.2,6.2,4.9,4.9,6.2,5.7,5.7,5.7,3.8,5.7,5.7,5.7,6.2,6.2,6.2,6.2,3.2,3.2,6.2,6.0,6.0,5.8,6.2,6.2,4.6,7.8,7.8,7.8,5.3,5.3,5.3,7.4,7.4,6.2,6.2,6.2,6.2,6.2,6.2,6.2,6.2,6.2,6.2,6.2,6.2,6.2,5.3,5.3,5.3,6.2,6.2,6.2,6.2,6.2,6.2,6.2,5.5,6.2,6.2,6.2,6.2,6.2,6.2,7.1,7.1,7.1,6.2,6.2,6.2,6.2,7.5,7.5,7.5,6.2,4.6,4.6,6.2,3.3,3.3,3.3,4.6,4.6,6.2,6.2,5.5,5.1,6.0,6.0,6.0,6.2,6.2,6.2,6.2,6.2,6.8,4.9,4.9,4.9,5.7,5.7,5.7,6.2,6.2,6.2,6.2,6.2,6.2,6.2,6.2,6.2,6.2,6.6,6.6,6.6,6.2,6.2,6.2,6.2,6.1,6.2,6.1,6.1,6.1,6.2,6.0,6.0,6.2,6.2,6.2,6.2,6.2,6.2,6.2,6.8,6.2,6.2,6.2,6.2,6.2,5.8,5.8,5.8,7.6,7.6,7.6,6.2,6.9,4.3,4.3,4.3,6.6,6.6,6.4,4.3,3.4,4.9,6.2,6.2,6.2,6.5,6.2,6.2,6.2,6.2,6.2,6.2,6.2,6.2,6.2,6.2,6.2,6.2,6.2,6.2,6.2,6.4,6.2,6.2,6.2,4.4,7.6,7.6,4.7,4.7,6.8,6.2,6.2,6.2,6.2,6.2,6.2,6.2,6.2,6.2,6.1,6.1,6.1,4.2,4.2,6.2,5.9,4.9,4.9,4.9,6.2,6.3,6.3,6.3,6.3,6.2,6.2,6.2,6.2,6.2,6.2,6.2,6.2,6.2,6.2,6.2,6.2,7.0,4.8,5.0,7.1,7.1,5.0,5.0,5.0,6.2,6.6,6.6,6.6,6.2,6.2,7.3,7.3,7.3,6.2,6.2,6.0,6.2,6.2,6.2,6.2,6.2,6.2,5.3,5.3,5.3,6.2,6.2,6.2,6.5,6.5,6.5,5.8,5.8,5.8,6.2,6.2,3.8,6.5,6.5,6.5,6.2,6.2,4.0,6.2,3.4,6.2,6.2,6.2,3.2,2.5,2.5,2.5,6.2,6.2,5.4,5.4,5.4,6.2,6.2,6.6,6.6,6.6,6.2,6.2,6.3,6.3,6.3,6.5,2.4,6.2,6.2,6.2,7.1,7.2,8.0,8.0,8.0,7.8,6.7,4.0,4.0,4.0,4.6,4.6,4.6,6.2,6.2,5.6,5.6,5.6,6.2,6.2,6.2,6.2,6.2,6.2,6.2,6.2,6.2,7.4,6.2,6.2,6.2,7.5,7.5,6.2,6.2,5.0,5.0,5.0,6.5,6.5,6.5,6.2,6.2,7.0,3.8,3.8,3.8,6.2,6.2,6.2,5.0,6.2,6.2,6.2,6.2,6.2,6.2,6.2,6.2,6.4,3.6,3.6,3.6,6.2,6.2,6.2,7.1,6.6,6.6,6.6,4.4,7.5,7.5,7.5,6.2,6.2,6.2,6.2,6.2,6.2,4.5,4.5,4.5,6.2,6.2,6.9,6.2,6.2,6.2,6.2,5.7,5.7,5.7,3.8,3.8,3.8,6.0,4.5,6.7,6.7,7.0,7.0,7.0,6.2,6.2,6.2,6.2,2.8,6.2,5.1,5.1,3.9,5.7,7.6,6.2,5.9,6.2,6.2,6.2,4.3,6.2,7.1,7.1,6.2,6.2,6.2,6.2,6.2,6.2,6.2,6.2,5.8,6.2,6.2,6.2,5.5,5.5,5.5,6.2,7.1,4.1,6.2,6.2,6.2,6.9,6.2,6.2,5.8,5.8,6.2,6.2,6.2,6.2,6.2,6.2,6.2,5.7,5.7,5.7,5.7,6.2,7.0,7.0,8.2,6.2,6.2,6.2,6.2,6.2,6.2,6.2,6.2,6.2,6.2,6.2,6.2,6.7,6.7,6.7,4.9,4.9,4.9,6.2,6.2,6.2,6.2,8.5,8.5,8.5,6.2,7.4,7.4,6.2,6.2,6.2,6.2,6.6,6.6,6.6,6.2,6.2,6.2,6.2,6.2,5.0,8.6,6.2,6.2,6.2,6.2,6.2,5.4,5.4,6.2,6.7,6.7,6.7,4.1,4.1,4.1,7.1,7.1,6.2,6.2,6.2,6.2,6.2,6.2,6.2,6.2,6.2,5.0,5.0,5.0,6.3,6.2,6.2,6.2,7.2,7.2,6.2,3.7,3.7,3.7,5.7,5.7,5.7,6.2,6.5,7.7,7.7,7.7,6.5,6.6,6.6,6.6,6.2,6.2,6.2,7.1,7.1,7.1,6.2,6.2,6.2,5.5,5.5,5.5,4.8,6.2,4.7,4.7,4.7,8.2,6.3,6.3,6.2,6.2,6.2,5.5,5.5,6.1,6.1,6.1,4.7,6.2,6.2,6.2,6.2,7.9,6.0,4.8,6.2,6.1,6.2,6.2,5.2,5.2,5.2,6.2,6.2,8.2,8.2,6.4,6.4,7.0,7.0,7.0,4.5,4.5,4.5,6.2,6.9,6.9,6.5,6.5,6.5,6.2,6.2,6.2,6.2,6.2,6.2,5.6,6.2,6.2,6.2,6.2,6.2,7.0,7.0,6.2,6.2,5.4,6.2,6.2,6.2,6.0,6.0,6.0,6.2,6.2,6.7,4.6,4.6,4.6,6.8,6.8,6.8,6.2,5.6,5.6,5.6,6.2,6.2,4.9,4.9,4.9,5.1,5.1,6.2,6.2,2.3,2.3,6.2,6.2,4.2,4.2,4.2,6.8,6.8,6.8,6.2,8.0,8.0,8.0,7.9,7.9,7.9,5.1,5.1,2.9,9.0,6.2,6.2,5.1,5.1,5.1,6.2,6.4,7.5,6.2,6.2,6.2,6.2,7.6,7.6,4.4,6.2,6.9,5.5,5.1,5.1,5.1,6.2,6.9,6.9,6.9,6.2,7.3,7.3,6.2,6.2,6.2,6.2,6.2,5.2,5.2,5.2,5.7,5.7,5.7,6.2,6.3,6.3,6.3,6.2,6.2,6.2,6.2,9.6,6.2,6.2,6.2,6.2,6.2,6.2,6.2,6.2,7.5,6.2,6.2,6.2,6.2,3.9,3.9,3.9,6.5,6.5,6.5,6.2,7.6,7.3,7.2,7.2,7.2,6.2,6.2,6.7,6.7,2.6,7.0,7.0,7.0,6.7,6.2,6.2,6.2,6.2,7.6,7.6,7.6,7.4,7.4,7.4,5.4,5.4,6.2,6.6,6.6,6.6,6.8,6.2,6.2,6.2,6.2,7.8,6.2,6.2,6.2,6.2,6.2,6.2,6.2,4.8,4.8,4.8,6.2,6.9,6.9,6.9,3.6,3.6,5.0,5.0,5.0,5.7,6.6,6.6,6.6,6.2,6.2,6.0,6.1,6.1,6.1,4.8,6.6,6.6,6.6,6.2,6.2,5.7,5.7,6.8,6.8,6.2,6.2,6.2,6.2,6.2,6.2,6.2,6.2,6.2,6.1,6.2,6.2,6.2,6.2,6.2,6.4,6.4,6.1,6.1,8.1,8.1,5.4,5.4,5.4,5.4,5.4,5.4,4.1,4.1,4.1,7.3,7.3,7.3,4.7,4.7,5.8,5.8,5.8,6.2,6.2,6.2,6.2,3.4,3.4,3.4,4.5,6.2,5.7,5.7,5.7,4.2,6.8,6.8,6.8,5.6,6.6,6.6,6.6,6.2,6.2,6.2,6.2,6.2,6.2,6.2,4.2,4.2,4.2,6.2,3.2,6.2,6.2,6.2,6.2,6.2,6.2,6.2,6.2,6.5,6.5,6.2,6.2,6.2,7.0,7.0,6.2,6.2,7.7,7.7,7.7,7.0,6.2,6.8,6.8,6.8,6.2,7.2,7.2,6.2,5.7,5.7,5.7,6.2,6.2,6.2,6.2,6.2,3.4,3.4,3.4,6.2,4.1,4.1,4.1,7.9,7.8,3.5,5.2,5.2,5.5,5.5,3.9,3.9,3.9,6.2,6.2,6.2,6.8,6.8,6.8,5.8,6.2,6.2,6.2,6.1,6.1,5.8,5.8,4.3,4.0,4.0,4.0,7.7,6.2,6.2,4.1,4.1,4.5,8.6,5.9,5.9,6.2,6.2,6.2,5.8,5.8,5.8,6.2,6.2,7.2,7.4,7.4,7.4,6.2,5.8,5.8,6.2,6.2,6.3,6.3,6.2,7.9,7.9,6.2,6.2,4.7,6.2,5.6,5.6,5.6,6.0,8.2,8.2,8.2,3.9,6.2,6.2,6.2,6.2,5.6,5.6,5.6,6.2,6.2,6.8,6.4,4.2,6.2,6.2,6.2,6.8,6.8,6.8,6.2,6.4,6.4,6.4,6.0,3.8,6.2,4.6,4.6,4.6,6.3,6.2,4.9,6.2,6.2,6.2,6.2,4.7,4.7,6.1,6.1,7.0,7.0,7.0,6.1,6.1,5.6,5.6,5.6,6.2,6.2,5.6,8.6,6.2,6.2,6.2,6.2,6.2,6.2,6.5,6.2,6.2,6.2,5.9,6.8,6.8,6.2,6.2,4.4,4.4,4.4,6.2,4.1,6.3,6.2,6.0,6.0,6.2,6.6,6.6,5.7,5.7,6.2,7.1,8.0,8.0,8.0,6.3,6.2,6.2,6.2,7.0,7.0,6.2,6.6,6.6,6.6,6.2,5.8,5.8,6.2,5.3,5.3,8.6,8.6,6.2,6.2,7.0,6.2,7.5,7.5,7.5,6.2,4.0,4.0,4.0,6.2,5.5,5.5,3.6,4.3,4.3,4.3,6.2,5.5,5.5,5.5,6.2,4.7,4.7,4.7,4.7,4.7,4.7,4.0,4.0,6.2,6.2,6.8,6.2,6.4,6.4,6.4,6.8,6.8,6.2,6.7,6.2,6.2,6.2,6.2,6.2,6.2,5.0,5.0,5.0,4.7,6.2,6.2,4.8,6.2,5.7,5.7,4.6,6.2,6.2,6.2,6.2,6.2,6.7,6.3,6.2,6.2,6.2,6.2,6.2,5.8,5.8,6.6,6.2,6.2,6.8,6.8,6.8,6.2,6.2,6.2,7.6,7.6,5.6,5.6,6.2,6.2,6.2,6.9,4.0,4.0,4.0,6.2,4.3,4.3,4.3,6.2,6.2,6.2,6.2,6.2,6.2,4.1,5.4,6.2,8.3,6.2,6.2,6.2,6.9,6.2,7.1,7.1,7.1,8.1,6.6,6.2,6.2,6.2,6.2,6.2,6.6,6.6,6.2,6.2,6.2,6.7,6.7,6.2,6.2,6.2,6.2,5.6,5.6,5.6,6.2,6.2,5.2,5.2,8.0,5.6,5.6,5.6,6.5,6.5,6.5,5.3,5.3,5.3,6.3,6.3,6.5,7.1,7.1,6.2,4.5,6.2,6.2,6.2,4.9,4.9,4.9,6.2,6.2,5.4,5.4,8.0,8.0,8.0,6.2,6.2,6.2,5.9,6.2,6.2,6.2,6.2,6.7,6.7,6.2,6.2,6.2,6.6,6.6,6.2,1.7,1.7,1.7,6.2,6.2,6.8,3.9,3.9,3.9,6.5,6.2,6.4,6.2,6.2,6.2,6.2,6.2,6.8,6.8,6.8,4.4,4.4,9.1,5.9,5.9,5.7,5.7,5.7,5.8,6.2,6.2,6.6,3.8,6.2,6.2,6.2,6.1,6.1,6.1,6.2,7.5,6.2,5.1,7.7,7.7,6.2,6.0,6.0,6.0,6.2,6.2,6.2,6.2,6.2,6.2,3.1,7.6,7.6,7.6,6.2,6.2,6.2,6.2,6.2,6.8,6.8,6.8,6.2,6.2,6.5,6.3,6.3,6.3,6.8,6.8,7.4,7.4,6.5,6.2,6.2,6.2,5.1,5.1,6.3,6.2,6.2,6.2,6.2,6.2,6.2,6.2,6.2,8.3,8.3,6.2,6.2,7.1,7.1,6.2,6.2,6.2,6.2,3.2,8.3,8.3,6.2,6.9,6.9,6.9,4.6,4.6,6.2,6.2,6.1,6.2,6.2,6.2,6.2,6.9,6.2,6.2,6.7,6.7,5.7,5.7,5.7,6.2,5.5,6.2,6.2,6.5,6.5,6.5,5.2,5.2,5.2,5.8,5.7,5.7,5.7,6.2,3.7,6.2,6.2,5.5,5.5,5.5,6.2,6.2,5.9,5.9,4.7,4.7,4.7,6.6,5.7,5.7,6.1,6.1,6.2,6.2,7.1,6.2,6.2,8.3,8.3,6.2,6.2,6.7,6.7,6.2,6.2,7.0,7.0,6.2,4.6,4.6,4.6,8.4,8.4,8.4,5.3,5.6,5.6,5.6,6.4,6.4,6.4,6.2,7.2,6.2,6.2,6.2,7.4,6.7,6.7,6.7,7.5,7.5,7.5,6.2,7.4,6.2,6.6,6.6,6.6,7.1,7.1,7.1,6.8,4.6,6.2,4.6,6.2,6.2,6.2,6.2,4.0,4.0,4.0,6.2,6.2,6.2,6.0,6.0,7.8,7.8,6.2,6.2,6.2,6.8,6.5,6.7,6.7,6.7,4.0,7.2,7.2,6.2,6.2,6.2,6.2,8.0,7.5,7.5,3.9,3.9,3.9,6.2,6.2,7.4,7.4,6.2,6.2,6.2,6.2,7.3,7.3,7.3,7.7,4.8,4.8,4.8,5.8,6.2,6.2,7.4,6.4,6.2,6.5,6.5,6.2,6.9,6.9,6.9,4.7,6.1,6.1,6.7,6.7,6.7,6.2,6.2,6.5,6.5,6.5,6.2,5.1,5.1,5.1,6.4,6.4,6.4,4.2,4.2,4.2,6.5,6.5,6.5,6.2,4.5,4.5,5.6,5.6,5.6,5.8,5.8,5.8,6.2,7.7,7.7,7.7,4.8,4.8,4.8,5.0,5.0,5.4,5.4,5.4,7.0,7.0,7.0,5.3,5.3,6.2,6.3,7.1,6.2,6.2,6.2,7.4,7.4,5.0,5.0,5.0,3.1,7.1,6.1,6.2,6.2,6.8,6.8,6.2,6.2,6.2,6.2,5.3,6.2,5.8,6.2,6.2,5.9,6.2,4.9,7.8,6.2,6.2,2.4,2.4,6.2,6.2,5.3,5.3,6.2,6.2,6.8,6.8,6.8,8.3,8.3,8.3,5.4,5.4,5.4,4.3,4.3,4.3,6.2,3.7,3.7,3.7,6.2,6.7,6.2,6.6,6.2,6.2,6.2,6.2,6.2,6.2,6.2,6.2,4.8,6.2,6.2,6.2,6.2,6.2,7.4,7.4,6.2,6.2,6.8,6.8,6.2,5.8,5.8,5.8,6.2,4.7,6.2,2.3,2.3,2.3,3.5,3.5,3.5,2.0,2.0,2.0,7.3,6.9,6.9,6.9,6.2,8.0,6.2,6.2,6.2,5.4,5.4,5.4,6.3,6.3,6.3,6.2,6.2,6.2,6.9,5.9,6.2,6.4,6.2,6.2,6.4,6.4,6.2,6.2,6.2,6.2,6.2,6.2,6.2,6.2,8.7,7.0,7.0,7.0,5.6,6.2,7.7,7.7,6.2,6.2,5.1,6.2,4.2,4.2,4.2,6.2,6.2,6.2,5.3,5.3,5.3,5.7,5.7,5.7,6.2,6.2,7.9,7.9,7.9,6.2,7.1,7.1,7.1,6.2,6.2,6.2,6.5,6.2,6.2,9.0,9.0,6.2,4.0,4.0,4.0,6.2,5.4,5.4,6.6,6.6,6.6,6.6,6.6,6.6,6.7,6.7,6.7,2.9,2.9,2.9,6.5,6.2,6.2,6.2,6.2,4.8,4.8,4.8,7.7,6.8,5.3,6.2,6.2,6.2,5.1,5.6,5.6,5.6,6.2,6.2,6.2,3.1,3.1,3.1,6.2,6.2,5.7,5.7,5.7,5.1,5.1,5.1,6.2,7.3,7.3,7.3,6.9,6.2,6.2,6.1,6.1,6.2,6.2,8.3,8.3,6.8,6.8,6.8,4.4,4.4,4.4,6.2,4.6,4.6,4.6,6.2,6.2,6.2,6.5,7.0,7.0,6.2,7.0,7.0,7.0,7.0,4.8,4.8,4.8,6.2,6.2,6.2,6.2,6.2,5.6,5.6,6.2,6.2,6.0,6.0,3.9,6.2,6.0,6.0,6.2,3.6,3.6,3.6,6.2,6.2,6.2,3.1,3.1,5.1,5.1,6.2,5.0,5.0,6.2,6.2,5.4,5.4,4.5,4.5,4.5,7.1,6.1,6.1,6.1,4.4,6.2,6.3,6.3,6.3,4.2,6.2,6.2,6.2,4.8,4.8,4.8,3.0,3.0,3.0,6.2,6.2,6.5,6.5,5.1,6.2,6.2,6.2,6.2,6.2,6.2,5.0,5.0,5.0,6.2,4.8,6.2,5.5,5.5,5.5,7.2,7.2,6.4,6.4,6.4,3.8,3.8,7.7,6.2,4.9,4.9,6.2,6.2,6.2,6.2,6.2,6.2,6.2,6.2,6.2,7.4,6.3,6.2,5.5,5.5,5.5,5.9,5.9,5.9,6.2,6.2,5.3,5.3,5.7,6.2,6.2,7.1,6.2,6.2,5.2,6.2,6.2,6.2,6.2,6.2,6.2,6.2,6.2,6.8,6.2,5.4,4.7,4.7,6.2,6.2,6.2,6.2,6.2,3.9,3.9,3.9,5.5,5.5,6.2,6.2,3.8,6.2,6.2,6.2,6.2,6.4,6.4,6.2,6.2,6.2,7.5,6.2,5.0,5.0,5.0,6.2,6.2,6.2,6.2,6.2,6.2,6.2,4.9,4.9,4.9,6.2,6.2,6.2,6.2,6.2,3.3,3.3,3.3,6.2,7.0,6.2,4.0,4.0,4.0,6.2,6.2,5.5,7.8,7.8,6.2,6.2,6.2,6.2,6.2,6.7,6.2,4.9,4.9,4.9,4.7,4.7,6.1,6.1,6.1,6.2,6.2,6.6,6.6,2.6,2.6,2.6,3.9,3.9,3.9,6.2,6.2,6.2,6.2,6.2,6.2,6.2,3.7,6.2,6.2,8.4,8.4,8.4,6.2,4.7,6.8,6.8,6.8,6.2,6.2,6.2,6.2,6.2,6.2,6.2,3.9,3.9,3.9,6.2,5.7,5.7,6.2,6.2,7.0,8.3,6.2,5.4,5.4,5.4,2.6,6.2,5.6,5.6,5.6,6.2,7.5,6.2,6.2,6.1,6.1,6.3,6.3,6.3,7.2,7.2,7.2,7.0,6.2,6.2,6.2,6.2,6.2,6.7,6.7,6.2,6.2,6.2,6.2,5.9,5.2,6.2,5.1,6.2,6.2,6.2,6.2,6.5,6.2,5.6,3.8,3.8,3.8,6.8,6.2,7.2,6.3,5.4,7.7,7.7,7.7,6.2,7.1,7.1,6.2,7.8,7.8,7.8,4.9,4.9,6.2,7.0,6.2,6.2,6.0,4.3,5.3,5.3,5.3,6.2,7.1,6.2,6.2,6.4,6.4,6.2,6.2,6.2,3.8,3.8,6.9,6.9,6.9,6.2,4.7,4.7,7.1,6.8,6.8,6.8,6.2,6.2,4.8,4.8,6.2,6.2,7.8,7.8,7.4,5.9,5.9,5.9,6.2,6.2,6.7,6.1,6.1,6.1,6.2,6.2,6.2,3.3,6.2,6.2,6.2,5.7,5.7,5.7,4.1,6.2,6.2,6.2,6.2,6.2,6.2,6.2,7.2,6.2,6.5,6.5,6.5,8.1,7.3,7.2,7.2,5.5,5.5,5.5,6.6,6.6,6.6,6.2,6.2,4.1,4.1,4.1,6.4,6.4,6.3,6.3,6.2,6.3,6.3,5.8,5.8,7.8,6.6,6.6,7.5,7.5,6.2,7.5,6.2,6.2,6.2,6.2,6.2,7.1,7.1,7.1,6.2,4.3,4.3,7.6,7.6,6.2,5.3,5.3,6.2,6.2,6.2,6.2,6.2,6.2,6.2,6.2,6.2,4.6,4.6,6.2,6.5,6.5,6.5,8.1,8.1,8.1,5.0,6.9,6.9,6.9,6.2,6.2,6.2,4.1,4.1,4.1,2.4,2.4,2.4,6.7,6.7,5.7,5.7,5.7,5.0,5.0,4.7,4.7,3.2,5.3,5.3,5.3,6.2,6.6,6.6,6.6,6.2,6.2,6.4,6.2,6.2,6.2,6.2,5.6,6.2,4.5,4.5,4.5,7.4,7.4,6.2,6.2,6.1,6.2,6.2,6.2,6.2,5.6,5.6,6.2,6.2,5.9,7.6,7.6,7.6,6.2,6.2,6.2,6.2,6.2,6.2,6.2,6.2,6.2,6.2,6.2,5.6,5.6,5.6,6.1,4.2,4.2,5.9,6.2,6.2,6.2,3.1,3.1,3.1,6.2,7.1,7.1,6.2,6.2,6.2,6.2,4.9,6.2,6.2,6.2,6.2,5.5,1.4,1.4,3.9,6.2,6.0,6.0,6.0,6.2,3.6,3.6,3.6,5.7,5.7,4.0,6.2,6.2,6.2,6.2,6.2,6.2,6.2,6.2,6.4,7.7,7.7,7.7,6.2,6.2,6.2,6.9,5.8,5.8,5.8,6.2,6.2,6.2,6.2,8.0,8.0,6.2,6.2,4.2,6.2,7.2,7.2,7.2,6.2,6.5,6.2,7.1,7.1,6.2,7.6,7.6,7.6,6.2,6.2,7.9,7.9,7.9,6.2,6.6,6.6,6.6,6.6,6.6,6.2,7.8,6.2,6.2,5.6,6.6,6.2,6.2,5.8,5.8,5.8,5.2,2.6,2.6,2.6,6.2,6.2,6.2,6.2,5.7,5.7,3.5,6.2,5.5,3.7,3.7,6.2,5.1,5.1,6.2,6.1,4.5,4.5,6.5,6.5,6.2,4.4,4.4,4.4,6.2,6.2,6.2,6.2,6.2,6.2,6.2,6.2,7.3,7.3,7.3,6.2,6.2,6.2,6.2,5.4,5.4,5.4,2.5,2.5,6.2,6.5,5.0,5.0,6.2,6.2,6.2,6.2,6.2,6.2,3.4,3.4,3.4,6.2,6.2,6.2,7.3,7.3,7.3,6.2,6.2,4.3,4.3,4.4,6.2,6.2,6.2,6.2,5.8,6.0,6.0,3.5,3.5,6.3,6.2,4.3,4.3,4.3,6.7,6.7,6.7,5.8,5.8,5.8,6.2,6.2,7.0,7.0,6.3,6.7,6.7,6.7,6.2,5.8,5.8,5.8,6.7,6.7,6.7,7.0,7.0,7.0,6.2,5.8,5.8,6.2,6.2,6.2,6.2,6.8,6.7,6.7,6.7,6.2,7.3,6.7,6.7,6.7,6.2,7.0,7.0,7.0,6.2,7.4,7.4,6.2,6.4,6.4,6.2,6.2,6.1,6.1,6.2,7.3,7.3,7.3,7.8,7.8,7.0,7.0,6.5,6.2,6.2,7.0,6.2,6.2,6.2,6.2,6.2,6.2,6.3,6.3,6.3,6.2,6.3,6.3,4.5,4.5,4.5,6.7,6.7,6.7,6.7,6.5,6.5,6.5,5.4,5.4,5.4,3.4,3.4,3.4,6.2,6.2,6.4,7.0,7.0,4.8,4.8,4.8,5.6,5.6,7.2,6.2,5.7,6.2,5.5,6.2,4.5,6.2,7.8,6.2,6.2,8.1,8.1,6.2,6.2,7.2,6.2,6.2,6.2,6.2,6.9,6.9,6.9,6.2,7.2,7.2,7.2,2.4,2.4,2.4,6.2,6.2,8.9,8.9,8.9,6.2,6.2,6.1,6.1,6.1,6.2,6.2,6.2,6.2,6.1,6.1,6.2,6.2,3.6,6.2,6.2,6.2,6.2,8.0,7.6,7.6,6.2,7.0,6.7,6.7,6.7,6.2,6.2,5.0,5.0,6.2,6.6,6.6,5.5,5.5,5.5,6.1,6.2,6.2,6.6,6.6,6.6,5.4,5.4,5.5,6.8,6.8,4.6,4.6,4.6,6.2,6.2,6.2,8.1,8.1,8.1,6.2,6.8,6.8,7.0,7.0,6.9,6.9,6.9,6.2,6.2,6.4,6.4,6.4,3.5,3.5,3.5,7.0,7.0,7.0,6.2,6.7,6.7,6.7,6.2,6.2,3.1,3.1,3.1,7.3,7.3,7.3,5.3,5.3,3.6,3.6,7.1,7.1,7.1,5.1,5.1,4.6,4.6,5.3,3.7,3.7,6.2,3.5,5.7,5.7,5.6,5.6,4.8,4.8,4.8,6.7,5.3,5.3,5.3,6.6,5.7,5.7,3.8,3.8,4.9,4.9,6.2,5.3,5.3,6.2,6.2,6.2,6.2,6.2,6.2,6.2,6.2,6.2,7.3,7.3,5.8,5.8,5.8,5.1,5.1,5.1,4.4,4.4,6.2,5.2,5.2,6.2,6.2,4.4,4.4,3.3,3.3,3.3,5.8,5.8,7.0,7.0,4.8,4.8,5.0,5.0,4.3,6.7,6.2,7.6,7.6,5.1,5.1,5.1,7.0,7.0,5.0,5.0,7.0,7.0,7.0,5.8,5.8,5.8,6.5,6.5,5.0,5.3,5.3,5.3,5.5,6.2,6.2,6.2,6.2,6.2,3.8,3.8,6.2,4.5,4.5,4.5,6.2,6.3,6.3,6.7,6.4,6.2,6.2,6.2,6.2,6.2,5.1,5.1,5.8,5.8,5.8,6.2,7.4,7.4,6.2,6.9,6.9,5.3,5.3,5.3,6.3,6.3,6.3,6.2,6.2,6.2,6.8,6.8,6.8,6.2,3.7,3.7,6.2,6.2,6.2,7.1,7.1,7.1,6.2,3.7,3.7,3.7,5.7,5.7,5.7,5.1,5.1,5.1,8.1,8.1,7.2,3.5,6.2,6.2,6.2,6.2,6.2,6.2,6.2,6.2,6.2,4.0,4.0,4.0,6.2,6.2,6.2,6.2,6.2,6.2,6.2,6.2,6.2,2.5,6.4,6.4,6.4,6.2,7.0,7.0,7.0,5.2,5.2,5.1,5.1,5.1,6.2,6.2,6.2,6.2,6.2,4.2,5.7,5.7,5.3,6.2,3.8,3.8,6.2,6.2,3.1,6.9,6.9,6.2,6.2,6.2,6.2,6.2,4.2,4.2,4.2,6.2,6.2,6.2,6.2,6.2,6.9,8.4,8.4,8.4,4.2,7.0,7.0,7.0,6.2,6.2,6.2,7.3,7.3,6.2,5.5,5.5,6.2,6.2,6.2,6.2,6.2,6.2,6.2,4.8,8.4,6.3,6.3,6.2,3.5,3.5,5.3,6.4,6.2,6.2,6.5,5.5,5.5,5.5,6.2,5.1,6.2,6.2,6.0,6.0,6.2,7.5,7.5,7.2,7.2,6.2,6.2,6.2,6.2,6.2,6.2,2.7,6.1,5.4,6.8,6.8,6.2,6.2,6.2,6.2,6.2,5.9,6.2,6.1,6.1,5.8,6.2,6.2,6.5,6.5,6.5,6.9,6.2,6.2,3.6,3.6,6.0,6.0,6.2,6.5,6.5,6.5,6.2,3.2,6.2,7.1,7.1,7.1,6.2,7.2,7.2,3.8,6.2,6.4,6.2,6.0,6.0,6.7,6.7,6.7,5.7,5.7,4.4,4.4,7.0,7.0,6.2,6.2,6.3,4.4,4.4,6.2,5.9,5.9,5.9,6.2,6.2,6.2,6.2,6.3,6.3,6.3,3.3,7.7,7.7,6.3,6.3,6.3,6.2,7.1,7.1,7.1,4.6,6.4,6.2,4.9,6.2,7.1,6.2,6.9,6.9,3.7,3.7,6.2,3.2,3.2,6.5,6.2,7.9,6.2,6.2,6.2,6.2,7.2,7.2,6.2,6.4,6.4,6.2,4.5,4.5,5.4,5.4,6.2,6.2,4.9,4.9,7.2,7.2,7.2,7.8,7.8,7.8,7.1,7.1,7.1,6.2,4.7,4.7,3.9,3.9,3.9,6.2,6.2,6.7,6.7,6.7,4.6,4.6,4.6,6.2,5.0,5.0,6.2,6.2,4.0,6.2,6.2,8.2,8.2,7.7,6.0,6.2,6.2,6.2,6.2,6.2,6.1,6.1,7.0,7.0,7.0,6.2,6.2,6.2,6.2,6.9,6.9,6.2,6.2,6.2,6.2,7.9,6.2,6.2,6.2,5.3,5.3,5.3,6.0,7.0,6.2,5.2,6.2,6.2,4.3,4.3,6.2,6.2,8.4,8.4,8.4,7.1,5.7,5.7,6.2,3.3,3.3,3.3,6.2,5.5,5.5,5.8,6.2,4.9,4.9,4.2,3.8,3.8,3.8,6.2,8.2,6.2,7.0,6.2,6.0,6.2,6.8,6.8,6.8,6.2,6.2,6.2,6.2,6.5,6.2,3.8,1.9,5.3,6.2,6.2,8.1,8.1,6.2,5.9,5.9,7.0,7.0,6.2,6.2,6.2,6.2,6.2,6.2,6.2,6.2,6.2,6.2,5.2,7.1,6.2,8.2,8.2,8.2,3.5,3.5,3.5,6.2,7.6,7.6,5.9,5.9,5.9,6.2,6.2,7.3,7.3,7.3,7.0,4.6,6.5,6.5,5.0,6.2,3.7,3.7,6.2,6.2,6.2,6.2,6.2,6.2,4.6,4.6,4.6,5.2,6.5,6.5,5.8,5.8,7.1,7.1,7.1,4.2,4.2,4.2,6.2,6.2,6.7,6.2,6.2,5.7,5.7,5.7,5.1,5.1,5.1,6.2,6.7,6.7,6.7,5.1,5.1,5.1,7.9,7.9,7.9,6.6,5.6,5.6,5.6,6.2,7.3,7.5,7.5,7.5,6.2,6.2,6.2,5.1,4.8,4.8,4.8,7.1,7.1,6.2,6.2,7.0,7.0,6.2,6.2,6.2,6.2,6.2,4.3,4.3,4.3,5.2,5.2,6.2,6.2,6.2,6.2,7.0,7.0,6.9,5.2,5.2,5.2,6.2,6.2,5.4,5.4,6.2,6.2,6.2,6.2,5.9,6.2,6.3,6.3,3.7,3.7,6.2,5.6,5.6,5.6,6.2,6.5,6.2,6.2,6.2,6.2,6.2,6.2,4.6,6.2,6.2,6.2,6.2,6.2,6.3,6.3,6.7,6.7,3.8,3.8,6.2,6.5,6.5,6.5,6.2,9.1,5.7,6.6,6.6,6.6,5.6,5.6,5.6,6.9,6.9,6.9,6.9,6.9,5.4,5.4,6.8,7.1,6.2,4.0,7.1,7.1,7.1,4.0,5.0,5.0,6.6,4.9,4.9,4.9,6.0,7.1,6.2,6.2,6.2,4.4,7.0,7.0,7.0,6.1,6.1,6.1,6.2,8.4,6.2,6.2,6.2,6.2,7.7,7.7,7.7,4.3,7.4,7.4,6.2,4.5,4.5,6.2,7.4,7.4,6.2,6.2,4.7,4.7,4.7,3.0,6.2,7.2,7.2,7.2,6.2,6.2,5.6,5.6,5.8,6.2,4.6,6.8,6.8,6.8,6.5,6.5,5.0,5.0,3.5,3.5,3.5,6.2,6.2,7.8,6.6,6.2,6.2,7.7,5.2,5.2,5.2,5.7,6.7,4.5,4.5,4.5,6.2,6.2,6.2,6.2,6.2,6.2,6.2,6.3,6.3,6.2,6.2,6.2,5.2,6.2,6.2,6.2,6.2,6.2,6.2,6.2,6.2,6.6,6.6,6.2,3.5,6.2,6.2,6.2,5.5,5.5,6.2,6.7,7.0,7.0,7.0,6.2,6.3,6.2,6.2,6.1,6.1,8.5,4.7,4.7,6.2,6.2,6.2,6.2,7.1,6.2,7.3,7.3,7.3,2.9,6.6,5.3,6.2,3.8,6.2,6.4,6.4,6.4,3.9,6.2,6.2,7.1,6.2,5.4,6.2,6.2,6.2,3.8,3.8,4.9,4.9,6.2,6.2,6.2,6.2,8.3,8.3,6.2,7.5,7.5,7.5,6.2,6.2,6.4,6.2,7.2,6.9,6.2,6.2,6.2,6.2,4.6,4.6,4.6,6.2,6.2,2.5,5.4,5.4,5.4,7.5,7.5,7.5,6.2,6.2,5.8,5.8,5.8,6.2,6.2,4.9,4.9,4.9,6.2,6.2,3.4,5.8,7.0,7.0,6.5,6.5,7.4,7.4,3.4,6.2,6.2,6.2,6.2,6.3,6.3,6.3,6.2,6.2,6.5,6.5,6.2,6.2,5.7,5.7,5.7,6.3,6.3,6.2,6.5,6.5,6.2,6.1,6.1,6.1,5.7,5.7,6.2,6.2,5.5,5.5,5.5,6.2,6.1,6.2,7.0,7.0,6.9,5.7,5.7,5.7,6.2,6.2,6.2,6.2,6.2,6.7,6.7,6.7,6.7,6.7,6.2,6.2,6.2,6.7,6.1,6.2,5.7,5.7,6.2,6.3,6.3,6.2,6.2,8.6,6.7,6.0,6.0,6.2,6.2,4.0,4.0,4.0,6.8,6.8,6.8,3.7,3.7,3.7,6.9,6.2,6.2,6.2,6.8,6.8,6.8,6.6,6.6,6.6,6.2,6.2,5.9,6.2,6.2,6.2,6.2,5.8,5.8,5.8,6.2,6.2,6.2,2.7,6.8,6.2,6.2,6.1,6.1,6.2,7.3,7.3,7.3,6.2,6.2,6.2,6.2,8.2,8.2,4.9,4.9,4.9,5.1,7.0,7.0,7.0,4.4,4.4,5.9,5.9,5.9,4.3,4.3,4.3,4.5,3.2,3.2,3.2,4.4,4.4,4.4,6.6,6.6,5.7,6.2,6.2,6.2,6.2,6.2,6.9,6.2,4.0,4.0,6.2,3.9,3.9,5.5,5.5,5.5,5.7,5.7,5.7,6.2,6.9,6.2,4.4,6.2,6.2,6.2,6.2,5.2,5.2,6.2,6.2,4.7,4.7,4.7,6.2,6.9,5.9,5.9,4.8,4.8,4.8,5.7,6.0,6.1,6.1,6.1,5.8,8.0,8.0,8.0,5.3,5.3,5.3,6.0,6.0,6.0,4.4,4.4,6.2,6.2,6.2,6.7,4.2,4.2,4.2,6.5,6.5,5.7,5.7,5.7,6.1,6.1,6.2,6.2,4.9,4.9,4.9,6.1,6.1,7.8,7.8,7.8,6.2,3.6,6.2,4.3,4.3,4.3,6.2,6.2,6.1,6.1,6.2,5.1,6.2,6.2,6.2,7.1,6.2,5.9,5.9,5.9,6.2,6.2,4.7,4.7,4.7,6.2,6.2,7.3,3.4,3.4,3.4,6.2,6.2,8.1,4.6,4.6,6.2,6.2,4.5,4.5,6.2,5.3,5.3,6.2,6.2,6.2,6.2,6.2,5.8,5.8,5.8,6.2,3.6,7.3,7.3,7.3,6.2,6.5,6.5,6.5,6.2,6.2,6.2,6.2,6.0,6.0,6.0,7.1,7.1,7.1,6.2,8.4,8.4,5.6,5.6,5.6,4.9,7.0,7.0,7.0,7.2,7.2,7.2,6.2,6.2,6.9,6.9,6.9,6.1,6.1,6.2,6.2,4.5,4.5,6.2,6.2,6.2,6.2,6.2,6.2,4.7,4.7,4.7,4.1,4.1,6.2,6.2,6.2,7.4,7.4,7.4,6.6,6.2,6.2,5.1,5.1,4.8,4.8,4.8,6.2,6.2,6.2,6.2,6.2,6.2,6.2,6.2,4.3,4.3,6.2,5.5,5.5,6.2,6.2,4.3,6.2,6.2,6.2,6.2,6.2,8.0,8.0,6.9,6.9,6.2,6.2,6.2,5.4,5.4,6.2,6.2,6.2,5.6,5.6,5.6,4.6,4.6,6.2,6.2,6.6,6.2,6.2,5.2,6.2,6.2,6.2,5.7,5.7,5.7,6.2,6.2,6.2,4.2,6.2,4.5,4.5,4.5,6.2,5.4,6.2,6.2,6.2,6.2,6.2,6.2,6.2,6.2,6.2,6.2,6.2,3.7,7.6,5.5,5.5,5.5,6.2,6.4,6.4,6.4,6.2,5.8,5.8,4.7,4.7,5.5,5.5,5.5,6.1,6.1,6.1,6.2,6.2,3.3,3.3,6.2,6.2,6.2,6.2,6.2,6.2,6.2,6.2,6.2,6.2,5.5,5.5,5.8,5.8,5.8,5.1,6.2,6.2,7.3,6.9,6.2,8.5,5.7,5.7,5.7,7.4,7.4,7.4,4.4,4.4,6.2,6.2,7.2,7.2,7.7,7.7,6.8,4.4,6.2,6.2,7.0,7.0,6.2,6.2,6.2,6.2,4.8,5.3,5.3,5.3,6.2,6.2,6.2,5.4,5.4,6.1,6.1,6.1,6.2,6.0,6.2,5.1,5.1,5.1,6.2,6.2,6.2,8.3,8.3,6.2,6.2,6.2,6.0,6.2,6.3,6.2,6.2,7.9,7.9,6.2,6.2,6.2,6.2,3.4,3.4,3.4,7.5,7.5,7.5,6.2,5.0,5.0,6.2,5.3,5.3,5.3,6.2,6.2,6.2,6.2,6.5,6.5,6.5,6.2,6.2,6.2,9.0,9.0,9.0,6.2,6.2,6.1,6.2,6.2,6.2,6.4,7.5,4.6,4.6,4.6,4.7,5.2,5.2,5.2,4.3,4.3,4.9,4.9,4.9,4.9,6.2,5.0,5.0,6.2,6.2,2.9,6.8,6.2,6.6,6.6,6.6,6.5,6.5,6.5,6.2,6.2,7.1,2.8,2.8,2.8,5.2,5.2,5.4,5.4,4.7,4.7,6.2,6.9,6.9,6.9,8.3,8.3,8.3,6.5,6.2,7.2,7.2,7.2,6.2,3.1,7.3,7.3,6.2,6.2,6.2,8.3,6.2,6.2,6.2,6.2,6.0,6.0,6.2,6.2,6.2,6.2,5.8,5.8,5.8,7.1,7.1,7.1,6.2,4.8,7.2,7.2,7.2,7.6,4.6,4.6,4.6,6.2,6.2,6.2,6.2,7.2,6.2,3.7,3.7,5.3,5.3,5.3,6.2,6.2,5.0,5.0,3.5,6.2,6.2,6.2,5.1,5.1,5.1,4.9,4.9,4.9,5.6,5.6,6.2,6.2,7.3,5.6,6.2,6.2,7.1,6.2,4.5,4.5,4.5,6.2,6.5,6.5,6.5,5.0,5.0,5.0,5.1,5.1,5.1,5.2,5.2,5.2,5.3,5.3,5.3,6.5,6.5,7.1,6.2,5.8,6.2,6.2,4.7,4.7,4.7,8.0,8.0,8.0,6.2,6.2,6.2,2.5,2.5,2.5,6.2,7.3,7.3,7.3,4.6,7.6,7.6,7.6,7.6,7.6,8.0,8.0,6.2,6.1,6.1,6.1,3.6,3.6,5.2,4.7,4.7,4.7,6.2,6.2,6.2,3.2,6.4,4.5,4.5,6.2,6.2,5.3,6.2,6.2,5.0,6.2,6.2,6.2,6.2,6.2,4.2,6.5,5.4,5.4,6.2,6.2,6.2,6.2,6.2,5.7,6.2,6.2,6.2,4.9,4.8,6.2,4.6,4.6,4.6,7.8,7.8,7.8,6.7,6.2,4.0,7.3,7.3,5.8,5.8,5.8,6.2,6.2,6.2,6.2,8.2,8.2,8.2,5.1,5.1,5.1,7.1,7.1,7.1,6.2,6.2,6.2,6.2,6.2,5.3,5.3,6.2,6.2,5.9,5.9,5.9,6.2,5.3,6.8,6.8,6.8,6.9,6.2,5.7,4.5,6.2,7.3,6.0,6.2,6.2,5.7,5.8,5.8,5.8,6.7,6.2,6.2,3.4,3.4,6.2,7.4,7.4,7.4,6.2,6.2,6.2,6.2,6.2,4.5,6.2,4.5,4.5,4.5,8.1,6.2,6.2,6.2,6.2,7.2,7.2,7.2,7.3,6.2,6.2,7.0,7.5,8.5,6.5,6.5,6.2,6.2,3.5,3.5,3.5,8.8,6.0,6.0,6.0,2.7,7.4,6.2,5.6,6.2,6.2,6.2,4.2,4.2,4.2,6.2,6.2,6.2,6.2,7.1,7.1,7.1,5.9,6.2,6.9,6.9,6.9,6.4,6.4,6.4,6.2,6.2,6.2,6.2,6.2,6.2,6.2,6.2,6.9,6.9,6.9,6.0,6.2,7.1,7.1,7.1,4.8,6.2,6.2,6.2,6.2,6.2,6.8,6.8,5.4,5.4,5.4,6.2,6.2,6.2,6.1,6.1,6.1,6.7,5.3,5.3,4.9,4.9,4.9,6.2,6.2,6.1,6.1,6.2,6.2,6.2,4.7,4.7,4.7,5.4,5.4,5.4,6.2,7.3,7.3,7.3,6.2,6.2,6.2,4.8,6.2,5.8,5.8,5.8,6.2,6.2,7.0,7.0,6.2,6.2,4.7,4.7,4.7,5.8,5.8,4.4,4.4,4.4,6.2,7.1,5.5,6.2,6.2,6.2,4.9,4.9,7.6,7.6,6.2,6.2,6.2,6.2,6.2,6.2,6.2,4.0,4.0,6.0,5.8,5.8,6.2,5.9,6.6,6.2,6.2,6.6,6.6,6.2,5.7,5.7,4.7,4.7,6.2,6.2,6.2,3.8,3.8,6.2,6.2,6.2,6.2,6.2,5.3,4.7,4.7,4.7,6.2,6.2,4.9,7.6,5.2,5.2,6.2,6.8,6.8,6.2,7.1,7.1,7.1,5.3,6.9,6.9,6.2,6.2,4.6,4.3,6.7,6.7,7.8,6.2,7.4,7.4,6.2,6.9,6.9,7.0,7.0,7.0,6.2,7.6,7.6,7.6,6.3,6.3,6.3,5.4,5.4,5.4,6.8,6.8,6.8,5.4,5.4,6.2,6.2,9.4,9.4,5.5,5.4,5.4,5.4,2.3,5.0,5.0,4.3,4.3,8.4,6.2,6.2,7.3,7.3,7.3,6.2,6.2,6.6,6.6,6.6,6.6,6.6,7.2,7.2,6.2,6.7,6.7,6.2,6.2,6.2,5.7,5.7,6.3,6.3,4.9,6.8,6.2,6.2,7.3,7.3,7.3,5.7,5.7,5.7,5.6,5.6,6.2,6.2,6.2,5.4,6.2,6.2,7.7,6.2,3.2,4.4,6.2,2.1,6.2,5.6,2.7,2.7,2.7,6.7,6.7,6.7,6.2,6.2,6.2,8.1,8.1,6.2,6.2,5.1,6.2,9.3,5.6,3.6,3.6,3.6,6.2,7.0,7.1,6.2,6.2,6.7,6.7,6.7,7.0,6.2,6.2,6.2,6.4,6.2,6.2,6.2,6.2,6.2,6.2,6.2,3.5,3.5,3.5,7.3,7.3,7.3,6.2,6.2,6.3,6.3,6.3,6.2,6.2,5.9,5.9,5.9,6.2,5.5,5.5,6.2,6.2,6.2,5.0,5.0,5.0,6.2,5.1,5.1,5.1,7.4,7.4,7.4,6.0,6.0,6.2,7.0,7.0,3.8,3.8,6.2,6.2,6.2,3.0,3.0,6.2,6.9,6.2,6.2,6.2,6.2,6.4,6.4,6.4,8.4,8.4,8.4,5.8,5.8,5.8,6.2,6.2,5.7,5.7,5.7,7.6,7.6,7.0,7.0,7.0,6.2,6.2,6.2,6.6,6.9,6.2,6.2,2.9,7.0,7.0,7.0,5.5,5.5,5.5,6.2,5.9,5.9,7.4,5.0,5.0,5.0,6.2,6.2,4.9,4.9,6.2,6.2,6.2,6.2,6.2,4.9,4.9,4.9,6.2,6.2,6.2,6.2,6.2,6.2,6.2,7.4,7.4,6.7,6.7,6.7,6.1,6.2,5.1,5.1,6.2,5.6,6.8,6.8,6.2,6.2,6.2,6.2,6.2,4.4,4.4,4.4,6.2,6.2,6.2,3.6,3.6,3.6,4.7,5.7,6.2,6.2,6.2,6.9,6.9,6.2,8.7,6.2,4.7,7.2,7.2,7.2,4.2,4.2,4.7,5.3,5.3,4.2,4.2,6.7,6.2,6.2,6.1,6.1,6.2,5.4,6.2,6.2,8.4,8.4,8.4,6.2,5.4,5.4,6.2,6.2,6.2,2.4,2.4,2.4,6.2,6.2,6.2,6.2,6.1,6.1,6.2,8.1,8.1,8.1,7.5,4.4,6.3,6.3,6.2,6.2,6.2,6.2,6.2,6.2,6.2,8.0,8.0,8.0,9.1,9.1,9.1,6.2,6.2,6.2,7.0,7.0,7.0,6.2,6.2,3.7,3.7,7.8,7.8,7.8,2.4,2.8,6.2,6.9,6.9,4.4,4.4,6.2,6.2,6.2,6.2,5.6,6.2,6.2,4.7,4.7,3.3,3.3,3.3,6.2,6.2,6.2,5.6,6.2,6.2,5.8,5.1,4.9,6.2,6.2,6.2,6.7,6.7,6.7,7.3,7.3,7.3,8.1,6.2,4.2,2.4,2.4,2.4,6.2,5.6,6.2,6.2,4.1,6.2,6.2,6.2,6.2,6.2,6.2,4.4,6.2,7.6,7.6,7.6,6.2,5.3,5.3,5.3,6.8,6.2,6.2,3.5,3.5,6.2,6.2,6.2,6.2,6.2,7.3,7.3,7.3,6.2,6.5,6.5,5.5,6.7,6.7,6.7,5.6,7.7,6.2,6.2,6.2,6.2,6.2,6.2,6.2,5.5,5.5,5.5,6.2,4.5,4.5,7.1,7.1,2.7,6.0,6.0,6.2,6.2,6.2,4.9,4.9,4.9,6.6,6.2,6.2,6.2,6.7,6.7,6.7,6.2,7.5,7.5,6.2,6.2,6.2,6.2,5.8,6.2,6.2,6.2,5.0,5.0,3.4,3.4,3.7,3.7,3.7,7.0,6.2,5.1,3.1,3.1,3.1,7.6,7.6,7.6,5.7,6.3,6.3,6.2,6.2,6.2,6.9,6.9,6.9,6.2,5.4,5.4,5.4,4.2,4.2,4.2,7.3,7.3,7.3,5.8,5.8,5.8,6.2,6.2,6.7,6.2,4.3,6.2,5.3,5.3,4.0,4.0,4.0,4.2,6.2,4.9,8.4,6.2,6.2,6.2,6.2,6.1,2.5,6.2,2.8,5.4,5.4,6.2,8.1,8.1,8.1,5.3,5.3,4.9,4.9,4.9,6.1,6.1,6.1,6.2,6.2,4.1,6.2,7.1,7.1,7.1,6.8,6.8,6.8,6.2,6.2,6.2,4.4,4.4,9.7,9.7,7.4,7.4,7.4,7.2,7.2,6.1,6.1,6.2,6.2,7.9,7.9,6.4,6.7,6.2,6.2,6.2,6.2,6.2,6.2,5.6,5.6,5.6,6.2,6.2,6.2,6.2,5.6,5.6,6.2,6.2,7.8,7.5,7.5,7.5,6.2,6.2,6.2,6.2,6.7,6.7,6.7,8.2,6.8,6.8,7.0,7.0,6.2,6.2,6.2,6.2,6.2,6.2,6.2,6.2,6.2,6.2,6.2,6.8,6.8,6.2,6.2,6.2,5.3,5.3,5.3,7.8,6.3,6.2,7.1,7.1,7.1,6.4,6.4,6.7,6.7,6.8,6.8,6.8,6.2,6.0,6.0,6.0,6.2,8.5,8.5,7.7,7.6,6.2,6.0,6.0,6.0,5.7,6.2,6.2,6.2,7.2,7.2,6.2,6.2,6.2,6.2,7.6,6.2,5.4,5.4,6.2,6.2,7.4,6.9,7.4,7.4,6.5,6.5,5.4,5.4,5.9,5.9,3.2,3.2,5.0,5.0,5.0,4.5,6.2,6.2,6.2,6.2,6.2,6.2,6.2,7.8,7.8,7.8,4.6,4.6,4.6,4.6,4.6,4.4,5.2,5.2,5.2,6.2,6.2,6.2,6.2,6.6,6.6,6.6,6.9,6.4,6.2,7.9,6.2,6.2,6.4,6.4,7.7,7.7,7.7,6.2,6.5,6.5,6.5,6.2,7.2,7.2,5.5,5.5,5.5,6.2,7.5,6.2,6.2,6.2,6.2,1.9,1.9,1.9,6.2,6.2,5.7,5.7,6.2,6.2,6.2,6.4,6.2,6.9,6.9,6.9,6.5,6.2,6.2,6.4,6.8,6.8,6.2,6.2,6.2,6.2,6.2,6.2,6.2,4.4,6.2,6.2,6.2,6.2,6.7,6.7,6.7,6.2,6.2,6.2,6.2,5.4,5.4,5.4,3.0,6.2,6.2,6.2,6.2,6.2,6.2,6.2,4.7,5.3,5.3,4.4,4.4,4.5,4.5,3.3,3.3,3.3,7.9,6.2,6.2,6.2,6.2,6.0,6.0,5.6,5.6,5.6,6.8,6.8,6.2,6.2,6.2,6.2,6.2,6.2,4.2,4.2,4.2,6.9,6.9,6.9,6.2,6.2,4.1,4.1,4.1,6.4,6.4,5.6,6.2,6.2,6.2,6.2,4.1,6.3,6.3,6.3,6.2,6.7,6.2,6.2,6.2,6.2,6.2,6.2,5.8,5.8,5.8,6.2,6.2,6.2,3.3,3.3,3.3,6.2,6.2,6.2,6.2,6.2,7.4,7.4,7.4,6.2,6.2,5.5,5.5,5.8,5.8,5.8,6.3,6.3,6.3,2.7,2.7,2.7,6.2,6.2,6.2,6.2,6.2,6.2,6.2,6.2,6.2,6.2,6.5,6.2,7.1,6.2,6.2,6.2,7.9,6.2,6.2,6.2,7.8,7.8,5.1,5.1,5.1,6.2,4.8,7.0,7.0,7.0,5.1,5.1,6.2,6.2,6.2,5.3,5.3,5.3,4.0,4.0,4.0,4.5,6.5,6.2,6.7,6.7,4.3,6.2,6.2,3.4,6.2,5.6,3.3,3.3,4.7,4.7,4.7,5.6,2.7,2.7,6.2,6.2,6.3,6.3,6.2,6.2,6.2,3.8,3.8,3.8,6.0,6.0,4.3,4.3,6.4,6.4,6.4,6.2,6.2,6.2,6.8,6.8,6.8,8.2,8.2,8.2,5.3,6.2,6.2,6.7,6.7,6.7,3.5,3.5,3.5,4.8,4.8,4.8,6.2,6.2,6.2,6.2,6.2,6.2,6.2,6.2,5.5,5.5,5.5,5.1,6.2,6.2,6.2,5.3,5.3,6.2,2.9,2.9,2.9,6.2,7.9,7.9,7.9,6.3,6.0,6.0,6.2,6.2,7.5,7.5,4.2,4.2,4.2,5.4,5.4,6.2,6.2,6.2,5.4,7.6,7.6,7.6,5.5,7.3,3.7,3.7,7.2,6.2,6.8,6.8,6.8,5.0,5.0,5.7,5.7,5.7,6.2,6.4,6.4,6.4,4.5,4.5,4.5,6.2,5.0,5.0,5.0,6.2,6.2,5.1,5.1,4.5,4.5,4.5,4.3,1.7,1.7,1.7,6.2,6.2,6.2,6.2,6.6,6.6,6.2,6.2,6.2,6.2,6.2,7.9,7.9,6.2,6.2,6.2,6.2,6.2,6.2,6.2,5.3,6.6,7.1,7.1,5.9,5.4,5.4,5.4,6.2,6.2,6.2,6.2,6.2,5.4,5.4,2.9,2.9,2.9,7.5,7.5,6.2,6.2,5.4,5.4,5.4,6.2,6.2,6.2,2.8,2.8,6.1,6.1,6.1,6.2,3.8,3.8,4.3,4.3,4.3,7.4,7.4,6.2,5.9,5.9,4.3,4.3,4.3,5.8,7.2,7.2,7.0,7.0,6.2,3.1,3.1,6.6,6.2,6.2,6.2,6.2,6.2,6.2,6.5,6.5,6.5,6.2,6.2,5.6,5.6,6.1,6.1,6.1,6.2,6.2,6.2,6.2,6.2,6.2,6.3,6.3,6.3,6.2,6.2,6.2,3.8,3.5,4.2,6.2,6.2,6.2,4.7,4.7,4.7,6.2,5.2,5.2,5.2,6.2,6.2,6.2,6.2,5.1,5.0,5.0,5.0,6.2,6.2,6.2,5.8,3.8,3.8,7.6,7.6,7.6,7.1,7.1,6.2,6.2,6.2,5.5,5.8,7.3,7.3,7.8,7.8,6.2,6.2,7.3,7.3,6.4,5.5,5.5,5.3,5.3,5.3,5.0,5.0,5.0,3.5,3.5,3.5,6.2,6.9,6.9,6.2,6.2,6.4,6.2,6.2,6.1,6.1,6.2,6.2,6.2,7.5,4.6,4.6,4.6,7.1,7.1,7.1,7.0,7.0,7.0,6.4,6.4,6.8,6.8,6.8,5.7,5.7,7.5,7.5,7.5,6.2,6.2,7.1,5.8,5.8,5.8,6.2,6.2,6.2,6.2,5.7,6.2,7.5,7.5,7.5,6.2,3.3,3.3,3.3,6.2,6.2,6.2,5.2,5.2,6.6,6.6,6.6,7.5,7.5,7.5,6.3,6.3,6.3,6.9,6.9,7.1,6.2,6.2,6.2,4.7,4.7,3.0,3.0,6.2,4.8,4.8,4.8,6.2,5.5,5.5,5.5,5.7,6.2,4.4,4.4,4.4,6.2,3.2,3.2,7.4,7.4,7.4,7.2,7.2,4.2,4.2,4.2,6.2,5.5,5.5,6.2,6.2,3.6,3.6,3.6,4.4,4.4,4.4,7.2,7.2,7.2,6.5,6.2,6.2,6.2,5.6,5.6,5.6,5.3,5.3,6.2,6.5,6.5,6.7,4.7,4.7,4.0,4.0,5.7,5.7,6.4,6.3,6.3,3.5,3.5,3.5,6.2,6.2,6.2,6.2,6.2,6.7,6.7,6.0,6.0,6.0,6.2,4.5,4.5,4.5,3.5,6.5,5.8,2.7,2.7,2.7,7.0,7.0,7.0,4.7,4.7,4.7,4.6,5.9,6.4,6.4,5.3,5.3,5.3,3.6,3.6,3.6,5.4,5.4,6.2,6.2,6.2,7.5,7.5,6.2,6.2,6.2,6.2,6.2,4.9,4.9,4.9,1.7,5.9,5.9,5.9,6.7,6.7,6.7,5.2,5.2,4.8,4.8,4.7,4.7,6.9,6.2,6.0,6.0,6.0,6.4,6.4,6.4,7.9,7.9,6.4,6.4,6.4,3.3,3.3,6.2,5.3,6.2,5.3,5.3,5.3,6.1,6.1,6.1,1.8,1.8,1.8,7.1,7.5,7.5,7.5,6.2,6.2,6.2,6.2,7.0,7.0,6.2,6.2,6.2,6.2,6.2,6.2,6.2,6.2,6.2,6.9,6.9,6.9,6.2,6.4,6.4,6.2,6.2,6.2,6.2,6.2,6.2,6.2,6.2,6.2,3.8,6.2,6.2,7.2,7.2,7.2,6.1,6.1,6.2,6.8,5.2,6.1,6.1,6.1,6.8,6.0,6.0,6.5,6.2,6.2,8.0,8.0,8.0,5.7,5.7,6.2,6.2,7.2,7.2,6.2,8.6,5.4,5.4,5.4,8.2,7.3,6.0,5.6,5.6,5.6,3.5,6.2,6.2,6.2,6.2,6.2,6.2,3.4,3.4,3.7,3.7,6.2,6.2,6.2,4.1,4.1,4.1,3.7,6.2,4.6,4.6,4.6,6.9,6.2,6.2,6.2,6.2,6.2,5.4,5.4,6.2,6.2,6.2,6.2,6.2,5.9,5.9,5.9,6.2,6.2,4.5,4.5,6.2,6.2,6.5,3.6,3.6,4.7,4.7,6.2,5.9,5.9,6.0,6.0,6.2,6.1,6.1,6.1,6.2,6.2,6.2,9.2,7.4,5.4,5.4,5.4,5.7,5.7,2.1,2.1,2.1,6.2,5.3,5.3,5.3,6.2,7.4,7.4,6.2,6.4,7.1,7.1,6.2,6.2,6.2,6.2,6.2,6.2,6.2,6.2,5.9,7.1,7.1,6.8,7.1,7.1,7.1,6.2,6.0,6.0,6.2,6.2,4.5,4.5,6.2,6.2,6.2,6.2,6.2,8.9,5.4,5.4,5.4,6.2,6.2,6.2,4.5,4.5,6.2,6.2,6.2,6.5,8.2,8.2,8.2,6.9,6.9,6.9,4.5,4.5,4.5,7.0,6.2,3.0,3.0,6.2,6.2,8.8,4.5,4.5,7.3,6.0,6.0,6.2,7.2,7.2,6.2,6.0,6.0,6.2,6.5,6.2,6.9,6.9,6.2,6.0,6.0,6.0,6.2,6.2,6.2,5.8,5.8,5.8,7.4,6.2,6.2,6.2,6.7,6.7,6.2,5.7,5.7,5.7,4.7,4.7,6.2,6.2,6.2,6.2,4.9,4.9,4.8,4.8,3.0,6.2,6.2,6.2,6.2,6.8,6.8,6.8,6.2,4.2,4.2,4.2,3.9,3.9,5.4,5.4,5.4,6.2,6.2,6.2,6.2,5.1,3.4,6.8,6.8,6.8,6.2,6.5,6.5,6.4,6.4,6.4,6.4,6.2,6.2,6.2,5.2,5.2,6.2,4.6,4.6,4.6,6.2,3.0,3.0,3.0,7.4,7.4,7.4,6.2,5.1,5.1,4.6,6.2,6.8,5.6,6.2,6.9,6.9,6.9,6.2,6.2,6.1,6.8,6.2,6.2,6.2,6.2,6.6,6.2,6.2,6.2,6.8,6.8,5.3,5.3,5.1,5.1,5.1,6.2,3.8,3.8,3.8,5.2,2.6,2.6,6.2,6.2,6.2,6.2,6.2,5.0,5.0,6.2,6.2,6.5,6.5,4.8,4.8,4.8,6.2,5.8,6.2,3.0,3.0,8.1,8.1,4.8,4.8,4.7,4.7,4.4,6.2,6.2,6.2,6.3,6.3,6.3,6.2,6.2,6.2,6.2,5.8,6.7,6.7,5.0,5.4,4.7,6.2,6.5,6.5,6.5,6.2,2.6,7.3,7.3,3.8,3.8,6.9,6.9,6.9,6.2,6.2,6.2,4.0,3.1,6.2,6.2,5.8,5.8,6.2,6.2,6.8,6.8,6.2,6.2,5.7,6.2,7.6,6.7,5.5,6.2,5.5,5.5,5.5,6.2,6.0,6.0,6.2,4.8,4.1,4.1,7.3,7.3,7.3,6.2,6.2,6.2,5.7,5.7,5.7,5.4,5.4,5.4,6.4,6.2,7.5,6.2,6.2,4.4,4.4,4.4,6.2,6.7,6.2,4.5,4.5,6.2,6.7,6.7,7.3,7.3,7.3,6.2,6.8,5.0,5.0,3.5,3.5,3.5,6.2,6.9,6.9,6.2,5.4,5.4,4.5,4.5,4.5,4.3,6.2,7.4,7.4,7.4,4.5,4.5,4.5,7.2,7.2,7.2,6.2,6.1,7.0,7.0,6.4,5.8,5.8,6.2,6.2,6.2,4.9,5.0,5.0,5.0,5.3,6.2,6.2,6.2,4.1,4.1,6.2,6.2,6.2,6.2,6.2,6.2,6.5,6.5,6.5,6.2,6.2,4.2,4.2,6.2,7.2,7.2,5.0,5.0,5.0,5.8,5.8,5.8,6.2,6.2,6.9,6.2,4.1,4.1,4.1,7.3,7.3,7.3,6.4,4.1,4.1,4.1,6.2,6.2,5.6,5.9,4.7,6.2,6.6,3.3,3.3,6.2,6.2,4.3,4.3,6.2,5.3,5.3,5.3,6.2,5.9,5.9,6.2,6.2,6.2,6.2,4.8,5.7,5.7,5.7,4.6,4.8,4.8,6.2,4.6,4.6,4.6,6.2,8.4,8.4,8.4,6.2,6.2,2.7,2.7,2.7,3.3,3.3,3.3,3.8,3.8,3.8,4.8,7.5,7.5,7.5,6.5,6.4,6.4,6.4,4.2,4.2,6.8,6.8,6.8,6.1,6.1,6.1,6.2,6.2,6.2,5.8,5.8,5.8,6.2,6.1,6.1,6.1,2.8,2.8,2.8,5.0,5.0,6.0,5.3,5.3,5.3,6.0,6.0,6.0,6.8,6.8,6.8,6.2,6.3,6.3,6.3,6.2,6.2,6.2,4.2,4.2,6.2,6.2,6.1,6.1,6.1,5.3,5.3,5.3,6.2,6.9,6.9,6.2,6.2,6.8,6.8,6.8,4.5,6.2,6.2,6.7,6.7,5.6,7.9,7.9,7.9,6.5,6.5,4.4,4.4,4.4,7.5,7.5,2.0,2.0,6.2,8.1,6.2,5.8,5.8,6.2,6.2,6.2,6.2,6.2,6.2,6.2,6.2,6.2,6.2,7.6,7.6,7.6,4.0,4.0,4.0,6.2,6.1,6.1,6.2,6.2,6.2,6.2,6.2,6.2,6.2,6.2,6.2,6.2,6.2,6.2,6.2,6.2,6.2,6.2,8.0,6.2,6.2,6.6,6.2,6.2,6.2,6.2,6.2,6.2,6.2,6.2,6.5,6.5,6.5,6.2,5.9,4.1,7.9,6.2,6.4,6.4,6.4,6.2,5.1,5.1,5.1,6.2,6.2,6.2,6.8,6.8,6.8,6.2,6.2,5.6,3.9,3.9,3.9,6.2,6.4,6.4,6.2,6.2,6.2,6.1,6.2,6.2,6.2,6.2,6.2,6.2,6.2,6.2,6.2,6.2,6.5,6.2,6.2,6.2,6.2,6.2,6.2,8.7,6.2,7.8,7.0,7.0,3.6,6.7,6.2,6.2,6.2,3.5,5.6,5.6,7.4,6.2,6.2,6.2,6.2,5.1,5.1,6.2,6.2,5.2,5.2,7.9,7.9,7.9,6.2,6.2,6.2,5.2,5.2,5.2,6.2,6.2,6.2,6.2,6.2,5.7,6.2,5.1,5.1,6.2,6.2,6.2,6.2,6.2,6.2,6.2,8.3,6.2,6.2,6.2,7.2,6.2,7.2,6.0,6.2,6.2,3.6,3.6,3.6,6.2,6.2,6.2,6.6,6.6,6.2,6.2,6.2,6.2,5.3,6.2,6.2,6.2,4.1,4.1,4.1,6.2,3.6,3.6,3.6,5.0,6.2,6.2,6.8,6.6,6.6,6.2,6.0,6.0,6.2,5.3,5.3,5.6,5.6,5.2,5.2,5.2,5.8,5.8,5.8,6.7,6.9,6.9,5.7,6.2,6.2,6.2,6.2,6.2,6.2,6.2,6.0,6.0,5.7,5.7,6.2,4.7,4.7,6.2,6.2,7.0,6.2,6.2,7.1,7.1,7.1,6.2,6.2,6.2,5.7,6.2,6.2,6.2,6.6,6.6,4.4,4.4,6.2,5.4,5.4,6.2,3.7,3.7,6.2,7.5,7.5,6.2,6.2,7.1,7.1,6.2,6.2,6.2,5.7,5.7,5.7,5.7,5.7,6.2,6.2,4.0,4.0,4.0,4.0,4.4,4.4,2.9,2.9,2.9,6.2,5.1,6.2,6.2,6.2,6.2,6.7,6.7,2.7,6.2,4.2,4.2,4.2,6.2,5.9,6.2,6.2,7.1,6.2,6.2,6.2,6.2,2.8,6.9,6.9,6.9,6.2,6.5,6.5,6.5,6.2,6.2,6.2,7.0,7.0,6.2,6.0,6.0,6.0,6.2,3.9,3.9,3.9,6.2,6.2,6.2,6.2,6.2,6.2,5.8,6.7,6.7,5.6,5.6,5.6,6.6,6.6,6.2,6.2,5.2,5.2,5.2,7.6,4.1,4.1,4.1,4.1,4.1,4.1,6.0,5.6,6.2,6.2,6.2,6.2,6.2,6.2,6.2,6.2,6.2,6.2,6.2,6.2,6.9,6.9,6.2,6.2,6.9,6.9,6.9,6.2,2.9,2.9,2.9,6.2,6.2,6.2,6.2,6.2,6.2,4.6,6.2,6.2,6.2,6.2,6.2,6.2,6.2,6.2,6.2,5.0,6.2,6.2,6.2,6.2,6.2,6.2,6.2,6.2,6.2,6.2,5.6,5.6,6.2,5.3,5.3,5.3,7.5,6.2,6.2,6.2,6.2,6.2,5.8,5.8,5.8,2.0,4.2,6.2,6.2,6.2,6.2,6.2,5.5,5.5,5.5,6.2,5.4,6.2,4.8,4.8,6.1,4.4,4.4,4.8,6.2,6.2,6.2,6.2,6.7,4.6,4.6,5.9,6.9,6.9,6.2,5.9,7.3,6.2,4.8,4.8,5.5,5.5,5.5,5.7,5.7,7.0,7.0,4.7,4.7,4.7,6.2,4.8,6.2,6.2,4.7,4.7,6.2,5.6,4.1,4.1,4.1,6.2,3.8,6.6,6.6,4.9,4.9,6.2,6.3,6.3,4.6,4.6,4.6,6.2,7.1,7.1,7.1,6.2,6.2,7.3,6.2,6.2,6.2,6.2,6.2,6.2,6.2,6.2,6.8,6.8,6.2,6.2,6.2,6.2,5.1,5.1,5.1,6.4,6.2,6.2,6.2,6.2,6.2,8.0,8.0,8.0,6.1,6.1,6.2,7.2,6.2,6.2,6.2,6.2,6.2,6.2,6.5,6.5,6.5,3.5,3.5,3.5,7.2,7.2,7.2,6.2,6.9,6.9,6.9,7.1,6.2,6.2,7.2,7.2,8.2,8.2,6.2,6.3,5.9,5.9,3.7,3.7,3.7,6.2,6.8,6.8,6.8,5.7,5.7,6.1,6.1,6.1,4.7,6.2,6.6,6.2,4.6,4.6,6.2,6.2,6.2,6.2,7.0,7.0,7.0,6.2,6.2,6.2,6.1,6.1,6.2,5.9,5.9,6.2,4.4,5.2,5.2,2.6,6.2,4.9,2.5,2.5,6.4,3.4,8.6,1.6,1.6,1.6,6.2,6.2,6.2,4.9,4.9,4.9,7.4,7.4,7.4,6.2,5.2,5.2,5.2,3.0,3.0,3.0,6.2,6.2,6.2,6.2,6.2,6.2,2.9,6.2,6.2,6.2,6.2,6.2,3.2,6.2,4.3,4.3,3.6,3.6,3.6,6.2,5.7,5.7,5.7,4.5,4.5,6.2,8.2,8.2,8.2,6.2,6.2,6.2,7.6,7.6,7.6,6.1,6.2,6.2,3.5,3.5,3.5,3.8,5.8,5.8,6.2,7.4,7.4,7.4,6.2,6.2,6.2,6.2,7.3,7.3,6.2,6.2,6.2,6.4,6.4,6.4,6.8,6.8,6.8,6.8,6.2,6.2,6.8,6.8,6.8,5.6,5.6,5.6,6.4,6.4,6.4,7.5,7.5,7.5,7.8,7.8,7.8,6.2,6.0,6.0,4.9,4.9,7.3,7.3,7.3,6.2,5.4,6.2,6.2,2.4,2.4,2.4,7.5,7.5,7.2,7.2,6.2,6.9,6.9,6.2,6.2,5.1,5.1,5.1,9.0,6.2,6.2,6.2,5.6,6.2,6.2,6.2,4.2,6.2,6.2,5.7,5.7,5.7,6.2,4.6,4.6,4.6,6.2,6.2,7.4,6.2,2.1,2.1,2.1,3.1,3.1,6.6,6.1,6.1,6.1,5.9,5.9,3.9,3.9,6.2,5.9,5.9,5.9,6.1,6.1,6.1,3.6,3.6,6.2,5.3,5.3,6.2,6.2,6.5,6.5,6.5,7.5,7.5,7.5,6.2,6.1,6.1,6.1,4.0,4.0,2.3,2.3,2.3,6.2,6.2,6.2,6.2,3.9,3.7,9.4,4.0,4.0,4.0,4.2,4.2,4.2,5.1,5.6,5.6,6.2,6.2,6.1,6.1,6.1,3.7,3.7,6.2,6.2,6.2,4.9,4.9,6.2,6.2,6.2,6.2,6.2,6.2,6.2,6.2,3.3,6.2,6.2,6.2,6.2,6.2,6.2,6.2,6.2,6.2,2.8,5.5,5.5,5.5,6.2,6.2,6.2,6.2,6.2,6.2,6.2,6.2,6.2,6.2,6.2,6.2,6.2,6.2,6.2,6.2,6.2,7.3,7.3,7.3,6.2,5.6,5.6,5.6,6.2,6.2,6.2,6.2,6.2,6.2,6.2,6.2,6.2,6.2,6.2,6.2,3.1,7.6,5.6,5.6,5.6,4.2,6.2,4.2,4.2,5.6,5.6,5.6,5.4,5.4,5.4,6.2,6.2,6.2,6.8,6.8,5.4,4.6,4.6,7.9,5.3,5.3,5.3,6.2,6.2,6.0,6.0,5.6,5.6,5.6,4.3,6.2,5.3,6.2,6.2,5.2,5.2,6.2,6.2,6.2,6.2,6.2,5.8,5.8,5.8,4.2,4.2,7.6,7.6,6.7,6.7,8.0,6.2,6.2,6.2,5.9,5.0,5.0,5.0,6.2,6.2,6.2,6.2,6.2,6.2,6.2,6.2,7.1,7.1,7.1,6.5,9.1,9.1,9.1,6.1,6.1,3.4,3.4,3.3,6.2,7.1,7.1,7.6,7.6,7.6,3.9,8.0,8.9,6.5,6.2,6.2,6.2,6.2,4.6,4.6,4.6,6.2,6.2,5.8,5.8,6.7,6.7,6.3,6.3,2.6,7.7,7.7,7.7,6.2,4.2,4.2,4.2,6.4,6.4,6.3,6.3,6.2,6.2,6.2,3.4,3.4,3.4,5.0,6.2,6.2,6.2,6.2,6.8,6.8,5.9,6.2,3.3,3.3,3.3,6.2,6.2,6.2,6.2,6.2,2.7,6.2,6.2,6.2,6.2,6.2,6.2,6.2,6.4,6.2,6.2,4.6,4.6,6.6,6.6,6.6,6.6,6.6,6.2,6.2,6.2,6.2,6.2,5.5,4.5,4.5,4.2,4.2,4.2,7.3,6.2,3.8,3.8,6.2,6.2,6.5,6.5,6.5,6.2,6.2,4.8,6.3,5.0,5.7,6.2,3.6,5.4,6.2,5.8,6.2,6.8,6.8,6.8,6.6,6.2,6.2,6.2,6.2,6.2,6.2,6.5,6.5,6.5,5.0,5.0,6.1,6.1,6.2,6.2,6.2,6.2,6.2,6.2,6.2,6.2,6.2,7.8,7.8,7.8,6.2,7.4,7.4,7.4,6.2,4.3,4.3,4.3,6.2,6.2,6.2,6.2,7.4,7.4,4.4,4.4,4.4,7.1,7.1,7.1,6.2,4.8,4.8,3.7,3.1,6.8,6.8,6.8,7.8,6.2,6.2,5.9,5.9,5.9,6.4,6.4,4.4,6.0,6.0,6.0,5.3,6.2,6.2,6.2,6.1,6.1,6.2,6.2,6.2,7.0,7.0,7.0,6.2,6.6,5.3,5.3,5.3,6.2,6.4,6.4,6.2,6.8,6.8,6.8,7.1,7.1,6.8,8.1,5.8,6.2,6.2,5.7,5.7,8.1,8.1,6.6,6.6,5.8,5.8,6.2,6.9,6.2,3.9,3.9,6.2,6.2,5.4,5.4,5.3,6.2,6.2,5.2,5.2,6.2,6.2,3.1,3.1,6.2,6.0,6.0,4.9,6.2,6.2,6.2,6.2,6.2,6.2,6.2,6.2,6.9,5.6,5.6,5.6,5.7,5.7,5.7,7.5,6.9,6.9,6.9,5.2,5.2,6.3,6.3,7.8,7.8,6.2,6.2,5.4,6.2,6.2,6.2,6.6,6.2,3.3,3.3,6.2,6.2,6.2,4.9,6.2,6.2,6.6,2.8,2.8,2.8,6.0,6.2,6.2,7.9,7.9,7.9,6.9,6.9,6.9,6.7,6.2,6.2,5.9,7.9,7.9,7.9,6.2,6.2,6.2,3.6,3.6,3.6,6.2,6.2,6.2,6.3,6.3,6.3,6.0,6.0,6.0,5.5,5.5,7.4,7.4,7.4,6.2,6.2,6.2,6.2,3.3,3.3,3.3,6.2,5.7,5.7,6.2,6.2,6.2,6.2,6.2,3.3,6.2,6.2,7.1,7.1,7.1,5.6,6.2,6.2,6.2,6.2,4.3,4.3,6.2,6.2,6.2,6.2,6.4,6.4,6.4,6.3,6.3,6.3,6.2,6.2,6.2,5.4,3.6,3.6,6.2,6.2,6.2,6.2,6.2,6.2,6.2,6.2,6.2,6.2,4.0,6.3,6.3,5.8,5.8,5.8,6.2,6.2,6.2,5.7,5.7,6.2,6.2,8.0,6.7,6.7,6.7,4.9,6.2,6.2,6.2,6.2,6.2,6.0,6.2,5.1,5.1,6.2,6.2,7.1,6.7,6.2,7.2,6.2,6.2,7.8,6.5,6.5,6.5,6.2,6.2,4.4,6.2,3.2,3.2,6.2,6.2,5.2,6.2,6.2,4.1,4.1,6.2,6.2,6.2,6.2,6.2,6.5,6.5,3.9,3.9,3.9,6.2,6.2,6.2,6.2,7.4,7.4,7.4,6.2,6.2,7.1,7.2,7.6,6.2,6.2,6.2,6.2,6.2,5.1,5.8,5.8,5.8,6.2,6.0,6.0,6.2,4.7,4.7,6.2,6.2,6.2,6.2,8.2,6.2,6.2,6.2,6.2,6.8,6.6,6.7,6.7,6.7,5.4,5.4,5.4,6.2,6.2,3.7,3.7,5.8,6.2,7.9,7.9,7.9,3.1,3.1,5.6,5.6,5.6,6.2,6.2,6.2,6.2,6.2,6.2,6.2,6.2,6.2,4.0,6.2,6.2,4.2,4.2,6.2,6.6,6.2,6.2,6.3,4.6,4.6,6.2,6.2,6.2,7.3,7.3,6.9,6.2,6.2,6.2,8.2,8.2,8.2,7.7,7.7,7.7,6.2,6.2,5.5,5.5,5.5,7.1,7.1,7.1,5.7,6.2,4.0,6.8,6.8,6.8,4.2,6.2,6.2,6.2,6.2,6.2,6.5,6.5,6.2,4.8,4.1,6.2,6.1,6.1,6.2,6.5,6.5,2.7,2.7,6.2,6.7,6.7,6.2,7.4,7.4,7.4,6.2,6.2,6.2,6.2,2.9,5.0,5.0,5.0,6.0,6.0,6.2,7.6,6.2,6.2,6.2,4.4,6.2,6.2,6.2,6.2,6.2,6.2,6.2,6.2,6.2,4.4,4.4,6.2,6.3,5.0,5.0,5.0,7.0,7.0,6.2,7.1,7.1,7.1,5.1,5.1,6.2,3.0,3.0,6.2,7.7,7.7,7.7,6.2,6.2,6.2,7.6,7.6,7.6,6.2,6.2,3.8,7.5,7.5,7.5,5.5,3.9,3.9,3.9,2.1,2.1,2.1,6.6,5.1,5.1,4.5,5.1,5.1,5.1,2.9,2.9,6.2,6.2,6.2,6.2,6.4,6.2,6.2,6.2,6.2,6.2,6.2,6.2,5.3,5.3,5.7,5.7,4.9,4.9,4.9,5.6,4.3,4.3,6.2,4.3,4.3,5.9,5.9,6.2,7.0,5.0,5.0,5.0,5.4,5.4,5.4,6.2,6.2,6.2,6.7,6.7,7.1,7.1,7.1,6.2,2.7,6.6,6.6,6.6,6.6,6.0,6.0,6.0,8.7,6.2,6.2,5.6,6.9,6.9,7.8,7.8,6.2,6.2,6.2,5.6,6.2,6.9,6.9,6.2,7.2,7.2,7.2,6.2,6.2,6.2,6.2,6.4,6.4,6.4,7.8,7.8,5.6,6.2,4.9,4.9,4.9,6.2,4.7,4.7,6.2,5.1,6.2,6.2,6.2,6.2,5.9,5.9,3.2,3.2,3.2,6.2,6.2,6.1,6.1,6.1,6.4,6.4,6.2,6.2,3.8,3.8,5.5,5.5,5.5,6.2,7.8,7.8,6.4,6.2,6.2,3.6,7.1,7.1,6.2,6.2,6.2,6.2,6.7,6.7,6.2,5.0,5.0,5.0,6.2,6.9,6.9,6.2,6.8,6.2,5.7,5.7,5.7,6.2,6.2,6.2,6.2,6.2,6.2,3.3,3.3,4.7,4.7,4.7,5.7,7.4,7.4,7.4,8.1,8.1,6.2,2.3,2.3,2.3,5.6,5.6,5.6,6.2,5.9,6.2,6.2,6.2,6.2,6.2,6.2,5.6,6.2,6.2,6.2,6.2,6.2,7.4,7.4,7.4,7.2,7.2,7.2,5.7,5.7,5.7,4.0,4.0,4.0,5.8,5.8,5.2,5.2,3.7,3.7,3.7,6.3,6.2,4.6,4.6,7.5,7.5,6.2,7.7,6.2,6.2,3.3,3.3,7.7,7.7,6.2,3.5,3.5,7.5,7.5,7.5,4.0,4.0,4.0,6.2,5.9,5.9,5.9,6.2,6.2,6.2,6.2,6.5,6.5,4.0,4.0,6.9,6.9,6.2,7.2,5.8,3.2,5.1,5.0,5.0,6.2,6.2,7.7,6.2,6.2,6.2,6.2,6.2,5.2,5.2,5.2,2.8,2.8,4.8,4.8,3.6,7.5,7.5,5.7,5.7,5.7,4.4,4.4,4.4,6.2,6.2,6.2,6.6,6.6,6.2,6.2,6.2,5.1,5.1,5.1,5.8,7.0,6.2,6.2,6.2,8.1,6.4,6.4,6.4,7.8,4.0,4.0,4.0,6.2,6.2,6.2,6.2,7.5,7.5,7.5,6.2,6.2,6.2,6.2,6.2,6.2,6.2,6.2,6.2,6.2,5.2,5.2,7.2,7.2,5.8,5.8,5.8,7.2,7.2,6.2,5.3,5.3,5.3,6.2,6.2,6.2,7.2,7.2,7.2,6.2,5.2,5.2,5.2,4.3,4.3,6.6,6.0,6.0,6.0,6.8,6.8,6.2,6.2,7.2,7.2,7.2,6.2,6.7,6.7,6.2,6.2,6.2,6.2,2.5,6.2,5.5,7.1,7.1,6.8,6.8,6.8,5.1,5.1,5.1,5.1,6.2,5.3,5.3,5.3,6.4,6.4,6.2,6.2,6.2,5.7,5.7,7.2,6.2,6.6,6.6,6.6,6.3,6.3,6.2,4.8,4.8,4.8,6.2,4.1,6.2,6.2,5.5,5.2,5.2,5.2,6.2,6.1,6.1,5.7,5.7,5.7,2.7,6.2,6.2,6.2,6.2,6.2,6.2,6.2,6.2,6.2,6.2,5.6,3.9,6.2,6.2,6.2,5.9,6.2,6.2,6.2,6.2,6.2,6.2,5.8,6.2,6.2,6.2,4.1,6.2,5.5,5.2,6.2,6.2,6.2,6.2,6.2,6.2,6.2,6.2,6.2,2.8,8.3,8.3,8.3,6.2,6.2,4.7,6.2,6.2,6.2,4.7,6.2,6.2,6.2,7.5,6.3,6.3,7.6,7.6,7.6,6.2,6.2,6.2,6.2,6.2,6.5,6.5,6.5,7.4,7.4,7.4,6.2,6.2,8.1,6.2,6.2,5.5,5.5,5.5,3.2,3.2,3.2,6.2,6.2,6.2,5.9,6.2,6.2,6.9,6.9,5.1,5.1,5.1,5.8,5.8,5.8,5.8,5.6,6.2,5.8,3.5,4.1,6.2,6.2,6.2,6.2,6.2,6.2,6.2,6.2,6.2,6.2,7.1,7.1,6.2,6.2,3.7,3.7,3.7,4.4,4.4,4.4,6.2,4.6,5.5,5.5,5.5,5.9,5.9,5.9,6.2,7.8,4.1,4.1,4.1,6.2,5.8,5.8,6.2,5.3,5.3,5.3,6.2,7.6,6.8,7.8,7.6,4.6,4.6,4.6,6.2,6.2,4.3,4.3,4.3,6.2,6.3,6.3,6.3,6.2,6.2,6.7,6.7,7.1,7.1,6.1,6.2,6.3,6.3,6.3,6.2,5.1,5.1,5.1,6.2,6.2,6.2,6.2,7.6,6.3,6.3,6.2,6.2,7.5,7.5,6.2,6.2,6.2,6.2,5.7,6.2,2.5,2.5,2.5,5.7,5.7,5.6,6.2,5.3,5.3,5.3,6.1,6.1,6.1,6.3,5.9,5.9,5.9,6.2,6.2,6.2,6.2,6.2,6.2,6.2,6.2,5.9,5.9,5.9,5.1,5.1,5.1,3.7,3.7,6.2,6.2,5.2,5.2,5.2,5.2,7.4,6.2,4.9,4.9,4.9,6.1,6.1,6.1,6.2,4.2,4.2,4.2,6.2,4.2,4.2,6.2,4.5,4.5,4.5,4.6,6.2,6.2,6.2,7.1,3.3,3.3,3.3,4.6,4.6,4.6,7.4,7.4,7.4,6.2,6.2,6.1,6.1,6.1,6.0,6.0,4.5,4.5,6.2,2.7,2.7,2.7,6.2,5.5,6.0,6.0,6.0,7.9,5.8,6.2,6.2,6.8,6.8,6.8,4.5,4.5,6.7,6.7,6.7,5.5,5.4,5.4,5.4,5.2,5.2,5.2,6.2,6.2,2.4,2.4,6.2,6.2,3.5,7.9,7.9,6.3,6.3,6.3,4.7,4.7,3.5,3.5,3.5,6.2,3.1,7.1,7.1,7.1,6.2,6.2,6.2,6.8,6.3,6.3,7.4,6.2,6.2,6.2,6.2,6.2,6.2,6.2,6.2,7.4,7.4,7.4,7.3,6.2,8.6,6.2,7.5,6.2,6.2,6.2,3.8,6.9,6.9,6.9,6.0,6.0,6.0,5.4,5.4,6.2,6.2,6.2,6.2,7.2,7.2,7.2,3.8,3.8,5.0,5.0,5.0,6.3,6.3,6.3,6.2,7.4,7.4,7.4,4.6,4.6,4.6,4.2,4.2,4.2,5.8,7.8,5.7,4.7,4.7,4.7,6.6,6.2,6.2,6.2,6.5,6.5,6.5,6.2,6.2,6.2,6.2,5.2,5.2,6.2,6.4,6.2,6.2,6.2,6.2,6.2,6.2,6.2,6.2,6.2,6.5,6.5,6.5,5.1,5.1,5.1,4.4,4.4,4.4,6.2,6.2,6.5,6.5,6.5,5.9,5.9,5.9,6.4,6.4,6.4,5.2,5.2,5.2,6.2,6.2,6.2,5.9,5.9,5.9,6.7,6.2,6.2,6.2,4.3,4.2,4.2,6.6,8.5,6.2,3.8,4.6,4.6,4.6,7.6,7.6,7.6,2.5,2.5,6.2,5.4,5.4,5.4,4.3,7.4,5.6,5.6,5.6,7.5,6.2,4.1,4.1,4.1,3.4,3.4,3.7,6.9,6.9,6.9,4.5,4.5,4.5,5.1,6.2,6.2,8.5,5.3,5.3,6.2,6.2,6.6,6.6,6.6,6.2,6.2,6.2,6.2,6.2,6.2,6.5,6.5,5.8,5.8,6.2,6.2,5.1,5.1,5.1,6.2,7.2,7.2,6.2,5.7,6.2,6.2,6.2,6.2,4.2,4.2,4.2,5.7,5.7,5.7,6.6,6.0,6.0,6.0,6.2,6.2,7.8,7.8,7.8,6.2,6.2,6.2,4.7,4.7,4.7,6.2,4.3,6.2,6.2,8.9,6.2,6.2,6.2,6.2,6.2,7.4,7.4,7.4,6.2,5.9,5.9,3.6,3.6,3.6,6.2,6.2,6.2,6.1,6.1,6.1,6.2,3.9,3.9,3.0,3.0,6.2,6.1,6.1,1.9,4.9,5.4,5.4,5.4,5.6,5.6,3.4,6.2,6.2,4.2,4.2,4.2,6.2,5.8,5.8,6.2,6.2,6.2,6.2,8.8,5.8,5.4,5.4,5.4,6.2,5.0,6.0,6.0,6.2,6.2,6.2,6.2,7.3,7.3,7.3,6.6,8.0,8.0,8.0,5.7,6.6,3.4,3.4,3.4,2.1,3.2,3.2,3.2,6.2,6.2,6.2,6.2,6.2,7.1,7.1,7.1,4.4,4.4,4.4,6.4,6.2,6.2,6.2,6.2,6.2,6.2,6.2,6.2,6.2,6.2,6.2,3.6,6.2,6.2,6.0,5.8,3.6,6.0,6.0,6.0,6.4,6.2,5.0,5.0,5.0,5.9,6.2,6.2,6.2,6.2,6.2,6.2,6.2,6.2,5.0,5.0,6.2,6.2,6.2,6.2,6.2,6.2,6.2,6.2,6.2,6.2,6.2,6.2,6.2,6.2,6.2,6.2,5.4,5.4,4.9,4.9,6.2,6.2,6.2,6.2,5.2,5.2,5.2,6.2,6.2,6.2,8.1,8.1,8.1,6.2,6.2,7.0,7.0,6.2,6.2,8.0,8.0,8.0,6.2,6.2,6.2,6.2,6.5,7.2,7.2,7.2,6.2,6.2,6.2,6.2,6.2,6.2,6.2,6.2,4.5,4.5,7.8,6.3,6.3,6.3,2.8,2.8,2.8,6.2,6.2,6.2,6.1,6.1,6.2,3.5,3.5,3.5,4.3,6.2,4.5,4.5,6.2,3.4,3.4,6.2,8.0,6.2,6.2,7.8,7.8,6.2,6.2,6.7,6.2,6.7,6.7,6.7,6.2,7.3,7.3,6.2,6.9,6.9,4.4,4.4,5.4,6.2,6.2,6.2,6.2,6.0,6.0,6.0,6.2,6.2,6.8,6.8,6.8,7.0,7.0,6.2,6.2,6.2,6.2,4.7,5.0,7.9,6.2,6.2,6.2,6.2,7.9,7.9,7.9,3.2,3.2,5.7,6.2,6.2,6.6,6.2,6.2,6.2,6.2,6.2,6.2,6.2,6.6,6.6,6.2,6.2,6.2,6.2,4.6,4.6,6.5,6.3,6.7,6.7,6.7,7.4,6.2,6.2,6.2,5.8,5.8,6.2,6.2,6.2,6.2,6.2,6.2,6.2,6.2,6.2,6.2,6.3,6.3,6.3,7.8,7.8,7.8,6.2,6.2,6.2,6.2,6.2,6.2,6.2,4.6,4.6,4.6,5.0,5.0,5.0,7.4,7.4,7.4,7.3,5.8,5.8,5.8,6.7,6.7,6.7,6.2,6.2,5.4,5.4,6.2,6.2,6.2,5.8,5.8,5.8,6.2,6.0,6.2,6.2,6.2,8.8,8.8,6.2,6.2,3.4,3.4,3.4,6.6,6.3,6.2,6.5,6.5,6.5,6.2,6.2,6.0,6.0,6.0,6.2,5.6,5.6,6.6,6.2,5.2,6.2,5.9,5.9,5.9,6.2,6.2,6.2,6.2,6.2,6.2,6.2,2.4,2.4,2.4,3.7,6.2,5.3,5.3,5.3,6.5,6.5,7.3,7.3,7.3,6.6,6.6,8.9,8.9,6.2,6.3,6.2,6.2,4.9,4.9,6.2,6.2,7.5,7.5,7.5,6.7,6.7,6.7,6.2,5.1,5.1,5.1,6.1,6.1,6.1,6.2,6.2,6.2,5.7,5.7,5.7,6.3,6.2,6.2,6.2,5.7,5.7,6.8,6.8,6.8,8.2,5.9,5.9,5.9,6.2,4.4,7.4,7.4,7.4,5.4,5.4,5.5,5.3,5.3,5.8,5.8,7.1,7.1,6.2,6.6,7.9,7.9,7.9,6.4,6.4,5.9,5.9,6.2,6.2,6.2,6.2,6.2,6.2,6.2,7.1,8.4,8.4,6.2,6.2,6.2,6.2,6.2,5.6,5.6,5.6,8.0,8.0,6.2,6.8,6.8,6.6,6.2,8.6,6.2,6.2,6.2,6.2,6.2,5.1,5.1,5.1,6.1,6.1,5.8,6.2,6.1,5.1,5.1,5.1,6.5,6.5,6.2,5.2,5.2,5.2,6.2,6.1,6.1,5.8,5.8,7.1,6.1,6.1,5.1,6.0,6.0,6.0,5.5,7.8,6.2,7.0,7.0,6.1,6.1,6.1,6.2,6.2,6.2,6.2,6.2,6.2,6.2,4.4,4.4,4.4,3.8,3.8,3.8,6.4,6.4,6.4,5.3,5.3,6.2,5.7,7.7,7.7,7.7,6.8,6.8,6.8,6.2,6.2,6.2,6.2,3.3,3.3,3.3,7.6,7.6,7.3,7.3,6.6,6.6,6.6,6.2,5.1,5.1,5.1,6.2,6.2,6.2,6.4,7.0,7.0,3.0,3.0,3.0,6.2,5.9,5.9,5.9,6.2,6.2,5.7,5.7,6.2,4.7,4.7,6.8,6.8,6.8,6.2,7.4,6.2,6.2,6.2,6.2,7.4,7.4,7.4,6.2,3.8,3.8,5.1,5.8,5.8,5.8,6.2,3.5,6.2,6.2,6.2,5.2,5.3,5.3,6.0,4.3,4.3,6.0,6.2,6.2,6.2,6.2,6.2,6.2,6.2,6.4,6.5,6.5,3.1,3.1,3.1,6.2,6.2,3.6,3.6,3.6,7.3,7.3,7.3,4.7,6.8,6.8,6.8,4.7,4.7,4.2,6.6,6.0,6.0,6.0,5.7,5.7,5.7,5.5,5.5,6.2,4.9,4.9,7.6,7.2,7.2,10.0,10.0,4.4,6.2,6.2,6.2,4.4,4.4,7.4,9.3,9.3,9.3,6.5,6.5,6.5,2.6,2.6,2.6,6.2,5.8,2.9,5.3,5.3,6.2,3.0,3.0,3.0,4.2,5.1,5.9,5.9,5.9,6.2,6.2,5.3,5.3,6.2,6.2,6.2,6.2,6.0,6.0,4.1,4.1,4.8,4.8,4.8,4.5,4.5,5.1,6.2,7.1,7.1,7.1,6.2,6.2,6.2,6.2,6.2,6.2,6.2,6.2,7.5,7.5,7.5,4.8,4.8,4.8,7.1,7.1,6.2,6.2,6.2,6.2,6.2,6.2,5.1,6.2,4.7,4.7,4.7,7.6,7.6,7.6,6.3,6.3,6.2,6.2,5.6,5.6,6.4,6.4,6.2,6.2,6.2,6.2,6.2,4.8,4.8,6.2,6.2,6.2,4.7,6.6,5.3,5.3,5.5,5.5,6.2,5.6,5.6,5.6,3.9,3.9,5.1,5.1,7.9,7.9,7.9,6.2,6.2,5.0,5.0,5.0,5.9,5.9,7.2,7.2,6.5,6.5,6.2,6.2,7.5,6.2,6.6,6.6,6.2,6.2,6.2,5.1,6.2,6.2,6.2,6.2,6.2,6.2,6.2,6.2,6.2,6.2,4.4,4.6,6.2,5.4,5.4,6.2,6.2,6.2,6.2,6.2,6.2,6.2,7.5,6.2,6.2,8.9,6.2,6.2,3.5,3.5,6.2,6.2,6.2,7.8,7.8,7.8,3.1,7.0,6.2,6.2,6.2,5.7,6.2,6.8,6.8,6.2,6.2,5.4,5.4,5.5,3.1,3.1,3.1,6.0,3.7,6.2,4.7,5.4,6.3,6.3,6.3,6.2,6.2,4.2,6.2,6.2,8.6,6.2,6.2,5.4,5.4,6.2,4.5,6.2,5.8,5.8,5.8,8.6,8.6,6.2,6.2,6.2,6.2,6.2,6.2,6.2,6.2,2.3,2.7,2.7,2.7,7.2,6.2,6.2,6.2,6.2,7.6,7.6,7.6,5.2,5.2,5.2,4.6,6.2,6.2,3.7,3.7,3.7,6.2,6.2,6.2,6.2,6.2,6.2,6.2,5.3,5.3,6.2,6.2,7.1,6.2,6.2,6.2,6.2,6.2,6.2,6.2,6.2,6.2,6.2,6.2,6.3,6.3,6.3,6.8,6.8,6.8,6.8,4.6,4.6,4.6,6.2,6.2,6.2,6.2,3.2,7.4,6.2,8.0,8.0,8.0,6.2,6.2,6.2,6.2,6.2,6.2,6.2,6.2,6.2,6.2,5.4,5.4,7.0,7.0,7.0,3.6,3.6,6.2,6.2,7.7,7.7,7.7,6.2,5.1,5.0,3.3,6.2,6.2,6.2,6.2,6.2,6.2,6.5,5.4,5.4,5.4,6.2,5.9,5.9,5.9,6.2,6.2,6.2,6.2,6.4,6.4,6.4,5.3,5.3,5.3,6.2,6.2,5.7,5.7,6.1,6.1,6.1,4.4,4.4,4.4,6.2,6.9,6.9,6.9,7.3,7.3,7.3,6.2,5.3,5.3,5.3,6.8,6.8,6.8,6.2,6.2,4.9,4.9,4.9,9.3,6.2,8.8,6.2,6.2,6.2,6.2,6.2,6.2,7.1,7.1,7.1,4.5,6.6,6.6,6.6,6.2,6.2,6.2,6.2,6.2,6.2,7.6,6.2,6.2,6.2,6.2,4.1,4.1,4.1,5.6,6.2,6.2,7.0,5.0,5.0,6.2,6.2,6.2,6.2,7.1,7.1,7.1,5.5,5.5,5.5,6.2,6.2,5.6,5.6,5.6,6.2,6.2,6.2,6.2,6.2,6.2,6.2,6.2,6.2,6.2,6.2,6.2,6.2,6.2,6.2,6.3,6.0,6.0,6.0,6.2,6.2,6.2,6.2,6.2,6.2,6.2,4.9,6.2,6.2,6.2,7.7,6.2,8.0,6.2,6.2,6.3,6.2,6.2,6.2,6.2,6.2,6.2,9.0,6.2,6.2,6.2,6.2,6.7,6.7,6.8,6.8,6.2,6.2,6.2,4.3,4.3,6.2,6.2,6.2,6.2,6.2,4.8,4.8,4.8,6.3,6.3,6.3,6.2,6.6,6.6,6.2,5.2,5.2,6.0,5.2,5.2,7.2,5.8,6.2,6.2,6.2,6.2,6.2,6.2,7.4,7.4,6.2,6.2,6.2,6.2,4.3,6.2,6.2,6.2,6.2,6.2,5.9,6.2,6.2,6.2,6.2,6.2,6.2,6.2,8.8,6.2,6.2,6.2,7.0,7.0,7.0,6.2,7.3,6.2,6.2,6.2,6.2,6.2,5.1,5.1,6.2,6.5,6.5,6.2,6.2,6.2,6.2,5.3,5.3,5.3,6.2,6.0,6.0,4.2,6.7,6.7,6.7,2.6,6.2,4.0,4.0,4.0,6.2,6.2,5.8,5.8,6.5,4.5,4.5,5.2,5.2,6.5,6.5,6.5,6.2,5.1,5.1,5.1,5.1,5.1,5.1,6.8,6.8,4.7,6.7,6.7,6.8,6.2,5.2,4.1,4.1,7.8,6.2,7.2,7.2,7.2,6.2,3.7,3.7,6.2,6.2,3.3,3.3,6.2,5.5,5.5,5.5,2.7,6.2,6.2,5.1,5.4,6.2,6.2,5.2,6.1,6.1,6.2,6.2,2.8,6.2,6.2,6.2,7.7,8.1,6.2,6.2,6.2,6.2,6.2,5.3,5.3,5.3,5.2,5.2,5.2,6.2,7.0,6.2,6.2,6.2,6.2,6.2,6.2,6.2,6.0,6.0,6.0,7.0,6.2,6.5,6.5,6.5,6.2,6.2,4.9,4.9,6.2,6.2,6.2,6.6,6.6,6.6,6.2,6.2,6.2,6.2,6.2,6.2,6.2,7.6,4.6,4.6,4.6,6.2,6.7,6.7,6.7,6.2,6.2,5.5,5.5,6.2,7.7,6.2,6.2,6.8,6.8,6.2,6.2,6.2,6.2,6.2,6.2,6.2,6.2,6.2,6.2,6.2,6.2,5.7,5.7,6.6,6.2,6.2,5.2,5.2,4.8,4.7,8.7,6.4,6.4,6.2,6.2,6.2,6.2,6.2,6.9,6.2,7.3,7.3,6.2,5.2,6.5,6.5,6.5,6.2,6.2,6.2,6.2,6.2,6.2,6.2,6.2,6.2,6.2,7.5,7.5,6.2,6.2,6.2,6.2,6.2,6.2,6.2,6.2,6.2,6.2,6.2,5.9,5.9,5.9,6.6,6.6,6.6,6.2,6.2,6.2,6.2,6.5,6.5,6.2,6.2,6.2,6.2,6.2,6.2,6.2,6.2,6.2,6.2,6.2,3.6,3.6,3.6,6.4,6.4,6.4,6.2,6.2,8.0,8.0,8.0,6.2,7.2,7.2,6.2,6.7,6.7,6.7,7.1,7.1,6.2,6.2,6.2,6.2,6.2,6.2,6.2,6.2,7.3,6.2,6.2,7.1,7.1,6.2,7.6,7.6,7.6,6.8,6.8,6.8,6.2,6.2,6.2,6.2,6.2,6.2,6.2,6.2,6.2,6.2,3.4,3.4,3.4,7.4,7.4,6.0,6.0,6.2,6.2,6.2,6.2,6.2,6.0,6.0,6.9,6.9,6.9,4.2,6.2,6.2,6.2,8.1,8.1,8.1,5.9,5.9,4.5,6.2,6.2,6.2,6.2,4.2,6.2,6.2,4.5,7.4,7.4,7.3,7.3,7.3,7.4,7.4,7.4,6.2,6.2,6.2,6.4,6.4,6.4,6.2,6.2,5.0,5.0,5.0,4.9,4.9,4.9,7.2,6.2,6.2,4.8,4.8,4.8,6.2,6.4,6.4,6.4,3.6,3.6,3.6,6.2,3.5,3.5,6.2,6.3,6.3,6.3,6.8,4.9,5.1,4.2,5.4,4.9,4.9,8.5,6.1,6.1,7.9,7.9,7.9,6.2,6.8,6.8,6.8,7.1,7.1,8.2,8.2,5.2,5.2,6.2,4.1,4.1,4.1,6.2,7.3,7.3,7.3,6.2,5.3,5.3,5.3,5.3,5.3,5.8,5.8,5.8,5.2,5.2,5.2,6.2,6.2,8.4,7.3,6.2,5.8,5.8,5.8,6.2,7.2,5.4,5.4,5.4,6.2,6.2,5.2,5.2,5.2,6.2,6.2,4.4,6.2,6.2,6.2,6.7,6.7,6.8,6.8,6.8,6.2,6.2,6.2,6.2,6.2,4.8,6.2,6.5,6.5,6.5,6.2,6.2,6.2,6.2,5.1,5.1,5.1,6.2,6.2,3.3,2.4,4.8,4.8,6.2,6.2,6.2,6.2,6.2,5.4,7.7,7.7,6.2,6.2,6.2,6.2,6.2,5.6,5.6,6.2,7.7,6.2,6.2,6.2,6.2,6.2,6.2,6.2,6.2,6.2,6.2,6.2,6.2,6.2,6.2,8.1,8.1,4.7,4.7,4.7,6.2,2.8,6.2,6.2,4.3,6.2,6.2,6.2,6.2,6.2,6.2,7.0,6.2,6.2,6.2,4.2,6.2,6.2,6.2,6.2,4.4,4.4,6.2,6.2,6.2,6.2,6.2,6.2,6.2,5.4,5.4,4.7,3.5,4.7,4.7,4.7,6.2,6.2,6.2,7.0,5.4,5.4,5.4,7.5,7.5,6.2,6.2,6.2,6.5,6.5,6.2,6.2,6.9,6.2,6.2,6.2,6.2,6.2,6.2,6.2,5.8,7.9,6.2,6.2,6.2,6.2,6.2,6.2,6.2,6.2,7.9,8.6,6.2,5.9,5.9,5.9,6.2,6.2,6.2,6.2,2.7,6.2,6.2,6.7,8.5,6.2,6.5,6.5,5.7,6.2,6.2,4.8,4.8,4.8,3.6,3.6,3.6,7.9,6.7,6.9,6.9,6.2,7.9,4.8,7.9,7.2,6.2,6.2,6.2,6.2,6.2,6.2,6.2,6.2,6.2,6.6,6.6,7.7,5.5,6.2,6.2,6.2,6.2,3.9,3.9,3.9,6.6,7.2,7.2,5.3,5.3,6.2,6.2,5.0,5.0,6.2,6.2,6.6,3.7,6.4,6.2,6.2,6.2,4.8,5.7,6.2,6.1,6.2,6.7,6.7,6.7,5.7,7.4,7.4,6.5,6.5,3.5,3.5,6.2,9.3,6.2,6.7,6.7,6.2,5.7,5.7,5.7,6.2,6.2,3.4,5.3,5.3,7.2,7.2,7.2,5.9,5.9,5.9,5.5,5.5,7.2,6.2,6.2,6.2,6.6,6.2,6.2,6.2,6.2,2.9,2.9,2.9,7.5,7.5,7.5,6.8,6.8,3.8,3.8,3.8,6.4,6.4,7.2,7.2,7.2,7.4,7.4,7.6,7.6,7.2,6.2,6.1,6.2,6.2,3.6,3.6,5.1,6.2,8.2,8.2,3.8,6.2,6.2,6.2,4.4,4.4,6.2,5.6,4.1,4.1,7.9,6.6,6.6,4.8,6.2,6.2,6.2,6.2,3.9,3.6,5.4,6.2,6.2,7.0,7.0,6.2,6.2,6.2,6.2,6.2,4.7,6.2,6.2,6.6,6.2,5.6,6.2,6.2,5.5,6.2,6.2,6.2,5.4,5.4,5.4,6.2,6.2,6.2,6.2,5.8,5.8,8.0,8.0,4.1,6.2,3.8,3.8,6.2,6.2,6.2,6.2,4.6,4.6,4.6,6.2,8.8,4.9,7.6,7.6,7.6,6.2,6.2,6.2,6.2,3.9,6.2,6.2,6.2,6.2,6.2,6.2,6.2,5.6,6.2,6.2,6.2,4.3,5.2,4.7,4.7,5.5,7.4,6.2,6.6,5.4,5.4,5.4,6.2,5.6,5.6,5.8,5.8,5.8,6.4,6.4,6.4,6.2,6.2,5.0,3.5,4.0,6.2,6.2,6.2,6.9,6.9,6.9,6.7,6.7,7.0,7.0,6.4,6.4,6.9,6.9,6.9,3.5,3.5,3.5,6.2,5.6,5.6,5.6,6.4,6.4,6.2,6.2,6.2,6.9,6.9,6.9,6.2,6.1,6.2,6.2,6.2,5.6,6.2,6.3,6.3,6.2,6.2,7.3,7.3,4.3,4.3,4.3,6.2,6.2,6.2,5.3,5.3,5.3,6.2,6.2,6.2,4.1,4.1,4.1,6.2,4.8,6.6,6.6,6.6,5.1,5.1,4.6,6.9,6.2,7.8,6.2,5.1,5.1,6.2,3.9,3.9,3.9,6.5,6.5,6.2,6.2,5.6,6.2,6.2,6.2,6.2,6.2,6.2,6.2,7.3,7.3,4.8,6.2,6.2,6.2,4.2,4.9,4.9,3.2,3.2,3.2,3.0,7.1,3.3,3.3,6.2,3.6,5.0,6.0,6.0,6.0,6.2,6.2,6.2,6.2,7.8,7.8,7.8,5.7,5.7,5.7,6.2,3.7,6.5,6.2,6.2,6.2,5.3,5.3,6.0,6.0,6.2,6.2,6.2,6.2,6.2,6.2,6.2,6.2,6.2,3.3,3.3,3.3,4.5,6.2,6.2,4.8,4.8,6.2,6.8,6.8,6.8,5.1,5.1,5.1,6.2,6.2,6.2,6.2,4.4,4.4,5.0,5.0,7.4,7.4,6.0,6.0,6.0,6.2,4.1,4.1,6.6,2.5,2.5,2.5,7.5,7.5,7.5,8.6,6.2,6.2,5.8,6.2,6.2,6.2,6.2,6.2,6.2,6.2,6.2,6.2,6.2,6.2,6.2,6.5,6.5,6.5,7.7,7.7,3.9,6.1,6.1,6.1,7.0,7.0,7.0,4.1,6.2,5.5,5.5,6.2,7.3,4.6,4.6,4.6,5.2,4.2,5.4,5.4,7.1,7.1,6.2,6.2,6.2,4.3,4.3,4.3,6.2,6.2,6.2,6.2,6.2,6.2,6.2,6.2,6.1,6.2,6.2,6.2,7.5,3.6,6.2,6.2,6.4,6.4,6.4,6.1,6.1,6.3,6.8,6.2,4.5,6.2,5.4,5.4,5.4,3.2,6.2,6.2,7.6,7.6,5.8,5.8,5.8,4.3,6.2,6.3,3.4,3.4,3.4,6.7,6.7,6.7,6.2,6.2,6.5,6.5,3.8,4.7,5.4,5.4,6.2,3.2,6.2,7.1,7.1,7.1,6.8,6.2,6.9,4.2,6.2,5.3,5.3,6.2,4.7,4.7,6.2,6.2,6.2,6.2,6.2,8.3,6.4,6.4,6.2,6.2,6.2,6.5,6.2,6.2,8.0,7.8,6.5,6.5,6.5,6.2,6.2,4.5,6.2,6.2,6.2,6.2,6.2,6.2,6.2,5.6,5.6,5.6,4.6,4.6,5.5,5.3,5.3,6.2,4.5,6.2,6.2,6.2,6.7,6.7,6.2,6.2,5.0,5.0,3.5,3.5,6.2,5.3,5.3,5.3,6.2,6.2,5.8,5.8,6.2,3.3,6.2,5.3,5.3,5.3,6.2,7.1,7.1,7.1,6.2,6.2,6.8,6.8,8.7,7.1,7.1,6.8,6.2,6.2,5.7,5.7,5.7,6.2,6.2,6.2,6.2,6.2,6.2,7.0,7.0,7.0,5.3,5.3,4.2,6.2,6.2,6.2,4.8,4.8,7.3,7.3,7.3,5.9,5.9,5.9,6.2,6.2,6.2,6.2,6.2,4.1,6.2,2.7,2.7,5.5,5.5,5.5,6.2,6.2,6.2,6.2,3.3,3.3,3.3,6.6,6.6,6.6,7.4,7.4,7.4,6.2,5.8,4.4,4.4,4.4,6.2,6.2,6.2,6.2,6.2,6.2,6.2,9.0,3.9,3.9,3.9,6.2,6.2,6.2,6.2,6.7,6.7,4.7,7.9,7.6,6.2,4.3,4.3,8.0,8.0,8.0,9.0,6.2,6.2,6.2,6.2,6.2,6.2,6.2,6.2,6.7,6.7,6.7,4.8,4.8,4.8,6.2,4.8,4.8,7.9,7.0,7.0,7.0,6.2,6.2,6.2,3.6,3.6,3.6,6.2,5.3,5.2,3.6,3.6,7.2,7.2,7.2,6.4,6.4,6.4,4.5,4.5,6.2,6.2,4.2,4.2,4.2,5.4,4.3,4.3,4.3,6.2,4.0,4.0,4.0,7.8,7.8,7.8,6.8,6.8,6.8,6.2,6.2,6.2,4.8,6.2,6.2,6.2,6.2,6.2,6.6,6.6,6.6,6.2,6.2,6.2,6.2,6.2,5.5,5.5,5.5,6.7,6.7,7.4,4.2,6.2,3.3,3.3,3.3,5.5,5.5,5.5,6.2,7.0,3.8,3.8,3.8,6.3,6.3,6.3,6.2,5.8,6.2,6.6,6.2,2.5,2.5,2.5,7.3,7.3,6.2,6.2,6.2,6.5,6.5,4.8,4.8,4.8,6.2,6.6,6.6,6.6,6.7,6.7,6.7,5.8,5.8,5.8,2.5,2.5,5.5,5.5,5.9,6.0,6.0,8.6,8.6,7.2,3.9,6.2,6.0,6.0,6.0,6.2,6.2,6.2,6.2,6.3,6.2,6.2,6.2,6.2,6.2,6.5,6.5,6.6,6.6,6.6,6.2,6.2,6.2,6.2,5.0,5.0,4.2,4.2,4.2,6.2,6.2,6.2,6.2,5.6,5.6,6.2,6.1,6.9,6.9,6.9,6.7,6.7,5.3,5.3,6.2,6.6,6.6,6.2,6.2,6.9,6.9,6.9,6.9,7.0,7.2,7.2,7.2,6.2,6.2,6.2,2.9,2.9,6.2,6.2,6.9,6.2,6.2,4.8,6.8,6.8,6.8,6.2,2.7,2.7,2.7,1.6,4.8,6.2,5.9,5.7,5.7,6.2,3.4,3.4,3.4,6.2,5.4,5.4,5.4,5.2,5.2,7.7,6.2,4.9,4.9,4.9,6.1,6.1,4.8,4.8,3.3,3.3,3.3,6.2,6.6,6.2,6.2,6.2,6.4,6.2,6.2,5.2,5.2,5.2,6.2,6.2,4.9,4.9,6.2,6.2,6.2,6.2,6.2,6.2,6.2,7.4,7.4,7.4,5.3,6.2,6.2,6.2,8.1,8.1,3.2,3.3,3.3,3.3,7.0,4.0,4.0,4.0,6.2,6.2,5.8,6.5,6.5,6.5,4.2,4.2,4.2,6.2,6.2,6.2,6.2,5.5,6.2,5.6,5.5,5.5,6.2,3.6,4.8,4.8,4.8,7.5,7.5,6.2,6.2,6.2,6.2,6.2,6.2,6.2,6.2,7.0,6.2,5.4,5.4,5.4,6.2,6.2,6.2,4.9,4.9,4.9,6.2,6.2,6.2,6.2,6.2,6.2,3.7,3.7,3.7,6.2,6.2,7.4,6.2,6.2,5.5,5.5,5.5,6.2,6.2,4.8,6.2,6.2,6.2,6.2,6.3,6.3,7.5,4.4,4.4,6.2,7.0,7.0,5.7,4.2,4.2,4.2,7.1,7.1,4.3,7.6,7.6,7.6,6.2,6.2,6.2,5.5,6.7,6.5,7.3,7.3,5.5,7.2,7.2,6.2,6.2,7.4,7.4,7.4,6.2,7.4,7.5,7.5,7.5,6.2,6.2,6.2,6.2,4.7,4.7,4.7,6.2,6.2,4.6,4.4,4.4,4.4,4.4,4.4,6.2,5.3,5.3,5.3,6.4,6.2,3.1,6.9,3.5,3.5,3.5,8.0,6.2,6.2,6.2,6.2,6.2,6.2,6.2,6.2,6.2,6.2,6.1,6.1,6.1,6.2,6.5,5.7,5.7,4.3,7.2,7.2,7.2,6.2,6.2,6.1,6.1,6.2,5.4,5.0,5.0,5.0,3.8,6.2,4.2,4.2,4.2,6.2,4.1,5.8,7.2,7.2,6.2,6.2,6.2,6.2,6.2,6.2,6.2,6.2,6.2,6.2,3.4,6.2,6.5,6.5,6.2,6.2,6.2,6.2,6.2,6.2,6.2,6.2,5.6,5.6,5.6,6.2,6.2,6.2,6.2,6.2,4.4,6.2,6.2,5.5,5.5,4.3,4.3,4.3,6.2,6.2,6.2,6.0,6.0,7.5,7.5,7.5,6.2,5.9,5.9,5.9,5.9,4.3,4.3,6.3,6.3,4.5,4.5,5.8,4.5,4.5,4.5,6.2,6.2,6.7,6.7,6.2,6.2,7.5,7.5,7.5,6.2,6.2,6.2,6.2,6.2,6.2,6.2,6.2,6.2,6.2,6.2,4.8,3.9,3.9,6.2,6.9,6.2,6.7,6.2,6.2,6.2,6.2,6.2,7.1,6.2,6.2,7.9,7.9,6.8,6.2,6.2,5.5,6.2,4.9,4.9,4.9,6.2,6.2,6.2,7.2,6.2,5.6,5.6,6.2,6.2,6.2,6.2,6.2,6.7,6.7,6.7,6.3,6.3,6.3,6.2,6.2,6.2,6.2,6.2,6.2,6.2,6.2,6.2,6.2,6.2,6.2,6.5,6.5,6.2,6.2,6.2,4.8,4.8,4.8,6.2,6.2,6.2,6.2,6.2,6.2,6.2,6.2,6.2,6.2,7.4,6.2,6.2,6.2,6.2,6.2,6.3,6.3,6.3,6.3,6.3,6.2,6.2,6.2,7.4,6.2,6.2,6.3,6.3,4.3,4.3,4.3,6.2,4.1,4.1,6.8,6.8,7.5,6.2,6.2,6.2,6.4,6.4,6.4,7.0,6.2,5.9,5.9,3.3,3.3,3.3,5.0,5.0,5.0,6.2,6.2,7.2,7.2,6.1,6.1,6.1,4.1,4.1,4.1,6.2,7.3,7.3,7.3,7.3,6.2,6.2,2.2,2.2,2.2,6.2,6.2,7.1,7.1,7.1,7.4,7.6,7.6,6.2,6.2,5.0,5.4,5.4,5.4,7.1,7.1,6.6,6.6,4.9,8.2,6.2,6.2,6.2,6.2,6.2,6.0,6.2,6.6,6.2,6.0,6.0,6.0,6.2,6.2,6.2,6.6,6.2,6.2,6.2,6.2,5.9,5.9,5.9,6.2,6.2,5.4,5.4,5.4,8.6,4.4,4.4,6.2,6.2,6.2,6.2,6.2,6.2,6.2,6.2,6.2,6.2,6.2,6.2,7.4,7.4,6.2,5.5,5.5,6.2,6.8,6.2,8.1,6.2,6.2,6.2,6.2,6.2,6.2,6.5,6.2,7.0,6.5,6.2,6.5,6.5,7.1,7.1,7.1,5.3,5.3,5.3,5.6,5.6,3.8,6.2,6.2,3.2,3.2,6.2,6.2,6.2,9.0,6.2,6.2,6.2,4.5,6.2,6.2,5.1,5.1,6.2,5.5,5.5,6.2,6.2,6.2,5.8,6.2,6.2,4.9,4.9,6.2,6.2,6.2,6.2,5.1,6.2,6.6,6.6,6.8,6.8,6.8,2.5,2.5,5.4,3.7,6.2,5.6,6.2,6.6,6.2,6.3,6.3,6.3,6.6,7.4,7.4,6.4,6.4,6.9,6.9,6.2,6.2,6.3,6.3,6.3,6.5,6.5,6.5,5.8,5.8,5.8,6.2,6.2,7.1,6.2,6.2,6.2,3.4,7.1,6.5,6.5,6.5,6.2,6.2,6.2,6.2,6.2,4.4,4.4,6.2,6.2,6.2,5.8,6.2,6.2,6.2,5.4,6.2,6.2,6.2,6.2,8.0,8.0,8.0,5.5,5.5,5.5,7.0,7.0,6.2,6.2,6.2,6.1,6.1,6.1,6.1,6.1,6.1,6.2,6.2,5.7,5.7,4.4,6.2,4.7,4.7,4.7,6.2,6.2,6.2,6.2,6.2,6.2,6.2,6.2,6.2,6.2,6.2,6.2,6.2,6.2,6.2,6.2,6.2,6.9,6.9,6.2,6.2,6.2,6.2,6.2,6.2,7.8,7.8,7.8,5.4,6.3,3.9,4.7,4.7,4.7,6.2,6.2,6.2,6.1,6.2,6.9,6.9,6.9,6.2,6.2,6.2,4.9,6.2,7.8,3.2,3.2,3.2,6.2,6.2,6.8,7.7,7.7,7.7,6.8,6.8,6.8,6.1,6.2,6.2,6.7,6.7,6.2,6.2,6.2,7.4,6.2,5.1,6.2,6.2,6.2,6.5,6.5,7.6,7.6,7.6,6.2,5.5,5.5,6.2,5.4,5.4,5.4,3.8,3.8,3.8,5.4,3.2,6.2,6.2,6.2,6.2,6.2,6.2,6.2,6.2,6.2,6.2,6.2,5.3,6.2,6.2,7.6,7.6,7.6,7.7,7.7,6.2,6.2,6.2,7.4,7.4,7.4,7.7,7.7,6.2,6.2,6.8,6.8,6.8,7.7,7.7,2.7,6.1,6.1,6.2,6.2,6.2,6.2,5.2,5.2,5.2,6.2,2.5,6.2,4.3,4.3,6.2,6.2,6.2,6.2,6.2,6.6,6.6,6.6,6.2,6.2,6.2,6.2,6.2,6.2,6.2,6.2,6.2,8.3,8.3,7.7,6.2,7.5,7.5,7.5,7.2,7.2,7.5,6.6,6.6,6.6,6.2,6.2,6.2,6.2,4.9,4.9,6.3,6.2,4.0,4.0,3.9,3.9,3.9,6.2,6.2,6.2,6.2,6.2,7.7,6.2,9.1,5.5,6.2,6.2,6.0,6.0,6.0,6.2,5.9,9.1,6.3,6.3,6.3,6.2,5.4,4.9,5.2,6.2,7.5,7.5,5.9,5.9,5.0,5.0,6.2,2.9,2.9,2.9,6.2,7.6,7.6,4.2,4.2,4.2,6.2,6.2,6.2,6.0,6.6,6.6,6.6,6.3,6.3,6.3,6.2,6.2,6.2,6.2,6.2,7.2,7.2,7.2,6.2,4.3,4.3,4.3,7.3,7.3,7.3,6.2,6.2,6.2,6.2,6.2,5.8,7.2,7.2,3.9,3.9,3.9,6.2,6.2,6.2,4.8,4.8,6.2,6.2,6.2,6.2,6.2,6.2,6.2,6.2,6.0,6.0,6.0,6.0,6.0,6.0,6.2,6.2,6.2,6.2,5.0,5.0,5.0,6.2,6.2,6.9,6.9,6.2,6.2,7.6,7.6,6.2,5.6,5.6,6.2,6.3,6.3,6.3,4.3,4.3,4.3,6.2,6.2,5.7,6.2,5.1,5.3,5.3,5.3,6.2,6.2,6.2,6.2,3.3,3.3,6.2,6.2,6.2,6.2,6.2,6.6,5.1,7.5,7.5,8.2,6.2,5.4,4.2,4.2,4.2,8.0,8.0,6.3,3.4,3.4,4.2,6.2,6.2,6.2,5.4,5.4,5.2,5.2,6.2,6.2,5.4,3.7,3.7,5.2,6.2,6.2,6.2,7.1,5.5,5.5,6.2,6.2,6.7,6.7,6.7,6.2,6.2,6.2,7.2,7.2,7.2,8.1,8.1,8.1,8.1,8.1,8.1,4.9,4.9,6.2,6.2,6.2,6.2,7.0,7.0,6.2,6.2,6.2,6.7,7.4,7.4,7.4,4.6,4.6,4.6,5.4,5.4,5.4,4.2,4.2,4.2,8.3,7.5,7.5,5.0,5.0,5.0,5.6,6.8,6.8,6.2,6.2,7.0,3.1,3.1,6.2,6.2,5.3,5.3,5.1,5.1,5.1,6.1,6.1,6.2,6.2,6.2,6.4,6.4,5.9,5.9,7.4,7.4,7.4,6.2,6.2,6.9,6.9,6.2,6.2,6.2,3.5,3.5,6.2,5.5,5.5,5.5,8.0,8.0,4.7,4.7,4.7,6.6,6.6,7.0,7.0,7.0,6.2,6.2,6.6,7.0,7.0,7.0,5.6,6.2,6.2,8.5,3.3,3.3,3.3,6.2,6.2,6.2,6.2,6.2,6.2,6.2,4.8,6.2,7.7,7.7,7.7,3.9,3.9,6.8,6.8,6.8,7.2,7.2,6.2,6.5,8.0,8.2,8.2,8.2,7.7,7.7,6.2,6.2,6.2,6.2,4.2,4.2,6.2,3.6,6.2,6.2,6.2,6.2,6.2,4.1,4.1,6.2,6.2,6.2,6.2,5.1,5.1,5.1,7.1,7.1,3.9,3.9,3.9,3.7,3.7,5.0,5.0,5.0,5.2,6.2,6.2,5.4,6.2,6.2,7.3,7.3,7.3,3.8,6.2,6.2,6.2,5.4,6.2,4.5,4.5,7.6,4.9,4.9,3.3,3.3,3.3,6.7,6.2,6.2,7.9,7.9,7.1,6.2,6.2,7.1,7.0,7.0,7.0,2.4,6.2,8.1,8.1,8.1,7.2,6.2,6.2,3.3,6.2,6.2,6.2,3.2,3.2,6.2,5.8,5.8,3.9,3.9,7.3,6.9,6.9,7.2,7.2,6.2,6.7,6.2,6.2,6.2,6.2,6.2,6.2,6.2,6.2,6.2,6.2,4.5,4.5,4.5,6.2,7.6,7.6,6.5,6.5,6.5,6.2,6.2,6.2,6.2,6.2,6.2,7.0,7.0,6.2,6.4,6.4,6.4,3.6,6.3,6.2,6.2,6.2,6.2,6.5,6.2,6.2,4.1,4.1,4.1,4.9,4.9,4.9,5.0,5.0,5.0,6.2,6.1,6.1,6.2,6.2,6.2,6.2,6.2,6.5,6.5,6.2,6.2,6.2,6.2,4.6,4.6,4.6,4.3,6.2,6.5,6.5,5.5,5.5,5.5,6.2,6.2,7.6,7.6,5.3,5.3,5.3,6.2,6.5,6.5,6.4,6.4,6.4,5.9,3.9,3.9,3.9,8.6,7.3,6.8,6.8,6.2,8.4,6.9,6.9,6.2,6.2,6.1,4.3,4.3,4.3,4.2,5.2,5.2,5.4,5.4,5.4,8.3,6.8,6.8,6.2,6.2,6.2,6.2,6.2,6.2,6.2,6.2,6.2,5.3,5.3,5.3,6.2,3.7,6.2,6.2,6.2,6.2,4.6,6.2,5.5,6.2,7.6,7.6,7.6,2.2,2.2,6.2,6.2,6.5,6.5,6.5,6.0,6.2,6.2,6.2,6.2,6.2,6.2,6.2,6.2,6.2,6.2,5.9,5.9,5.9,6.2,6.7,6.5,6.5,6.5,5.7,5.7,5.7,4.0,6.2,5.0,5.0,7.0,6.2,6.2,6.4,6.4,6.4,6.2,6.2,6.2,4.3,4.3,6.4,6.4,6.2,6.2,6.2,6.2,6.2,6.2,6.2,4.6,4.6,6.7,7.6,6.2,5.8,5.8,6.2,6.4,6.2,7.1,7.1,7.1,5.9,7.0,7.0,7.0,7.8,7.8,6.2,7.0,7.0,7.0,6.2,6.2,4.8,5.1,5.1,5.1,6.2,6.2,6.2,6.2,6.2,6.2,6.2,8.1,6.2,4.8,4.8,6.2,6.6,6.6,6.6,6.2,6.2,7.5,7.5,7.5,6.2,7.2,6.2,7.8,7.8,7.8,6.2,6.2,6.2,7.2,7.2,7.2,6.2,6.2,6.2,7.0,7.0,7.4,7.4,7.4,6.3,6.3,6.2,6.2,6.2,6.2,6.2,7.6,7.6,7.6,4.7,4.7,4.7,6.2,6.6,6.2,6.2,5.8,5.8,5.8,7.2,6.2,6.8,6.8,6.9,6.9,6.9,6.2,6.8,6.8,7.5,7.5,2.2,2.2,2.2,6.2,5.2,5.2,5.2,7.6,7.6,7.0,6.2,6.2,6.2,6.2,6.2,6.2,6.2,6.9,6.9,7.2,7.2,7.2,5.7,5.7,6.2,6.2,6.2,6.2,7.1,6.4,6.4,6.4,6.2,5.5,5.5,5.5,6.4,6.4,4.1,4.0,4.0,6.2,6.2,6.2,5.0,5.0,5.0,6.2,3.9,4.6,6.2,6.2,6.2,3.2,3.2,6.2,6.2,6.2,6.2,6.2,6.2,6.2,6.2,4.3,4.3,7.1,7.1,5.7,5.7,6.2,4.0,5.6,5.6,6.2,6.2,7.8,5.8,6.2,7.8,6.2,4.3,6.2,6.2,6.2,6.2,3.8,4.6,6.6,6.6,5.4,5.2,5.2,6.2,6.2,6.2,6.2,5.6,5.6,5.6,6.6,6.6,6.6,6.2,6.2,6.2,6.2,6.2,6.2,6.2,6.2,6.2,8.0,6.2,6.2,6.2,7.0,6.2,6.1,6.1,5.6,4.4,4.4,4.4,6.2,4.6,4.6,5.5,5.5,5.5,7.1,7.1,7.1,4.2,4.2,2.8,2.8,6.2,6.2,6.2,7.2,7.2,7.0,7.0,6.2,6.2,6.4,6.4,6.2,6.2,6.2,6.2,6.2,7.4,7.4,6.2,6.2,4.4,4.4,4.4,5.7,6.2,5.0,5.0,5.0,7.1,7.1,8.0,6.2,6.2,6.2,4.9,4.9,4.9,5.1,5.1,5.1,6.2,6.2,7.0,7.0,6.2,6.4,6.4,6.4,6.2,4.4,6.2,6.2,6.2,6.2,6.2,6.2,5.5,6.2,6.2,6.2,6.2,6.2,6.8,6.2,6.2,6.2,4.8,4.8,4.8,8.3,8.3,8.3,6.2,6.2,6.2,7.1,7.1,6.3,6.3,6.2,6.6,6.6,6.2,6.2,6.2,6.0,6.6,6.6,6.6,7.3,7.3,7.3,3.8,3.8,3.8,6.7,6.7,5.9,5.9,5.9,6.2,7.5,7.5,7.5,4.8,4.8,6.2,5.0,5.0,5.0,6.1,6.1,6.1,6.2,7.2,7.8,6.2,6.2,6.2,6.2,6.2,6.2,6.2,6.2,6.2,6.2,6.2,6.2,6.2,7.0,7.0,6.2,6.2,6.2,6.8,6.8,6.2,6.1,5.4,7.5,7.5,2.7,5.8,5.8,6.2,6.2,6.2,6.9,6.9,6.6,6.6,6.6,6.9,6.9,6.9,6.2,6.2,6.5,4.8,4.9,4.9,4.9,5.4,5.4,6.2,6.2,5.8,5.8,5.8,6.2,6.2,6.2,6.3,6.3,6.3,6.0,6.0,4.6,4.6,6.2,6.2,6.2,6.2,6.2,6.2,4.4,6.2,5.7,5.7,6.2,3.9,3.9,3.9,3.2,3.2,3.2,7.6,6.9,6.9,6.2,6.0,6.0,5.4,5.8,5.8,6.2,6.2,6.2,6.2,6.2,6.2,6.2,6.2,6.2,6.3,6.3,6.1,6.1,6.1,6.7,6.7,7.6,7.6,6.2,6.2,8.0,7.9,5.8,5.8,8.1,8.1,8.1,8.4,8.7,6.2,5.9,4.3,4.3,4.3,7.0,6.3,6.3,6.2,8.6,8.6,5.0,5.0,6.2,6.7,6.7,6.7,6.2,6.2,4.5,4.5,4.5,6.2,8.3,6.2,2.7,2.7,6.2,6.2,8.1,8.1,8.1,5.5,5.5,7.7,7.7,7.7,4.1,4.1,4.1,3.7,3.7,3.7,6.2,5.4,6.2,4.1,4.1,4.1,6.2,5.7,3.1,3.1,6.5,6.5,7.3,7.3,7.3,6.6,6.6,6.6,6.2,6.2,5.2,5.2,5.2,6.2,6.2,6.2,6.2,6.2,4.5,4.5,4.5,6.2,4.6,6.2,6.2,4.2,4.2,4.2,3.4,6.6,6.6,6.2,6.2,6.2,6.2,4.1,4.1,4.1,4.1,5.0,5.0,6.5,6.5,6.5,6.2,6.2,6.2,4.6,4.6,6.2,6.2,6.2,6.2,7.0,7.0,7.0,5.2,6.2,6.2,6.8,6.8,6.8,6.2,6.2,7.8,7.8,7.8,6.2,6.2,6.2,6.2,4.0,4.0,4.0,6.4,6.4,6.2,6.2,5.4,6.2,6.2,6.2,8.3,8.3,8.3,6.2,6.9,6.6,6.2,6.2,6.2,6.2,6.2,6.2,6.2,5.6,5.6,5.6,8.0,8.0,8.0,6.2,4.9,6.2,6.2,6.2,6.2,6.0,6.0,6.0,4.3,4.3,4.3,6.0,6.0,6.2,6.8,6.2,6.2,6.2,5.9,5.9,5.2,5.2,5.5,6.2,6.2,6.2,6.2,6.2,6.0,6.0,6.2,6.2,6.2,6.2,7.8,7.8,7.8,6.2,5.0,6.2,7.2,7.2,7.2,7.0,7.0,7.0,5.5,4.9,4.9,4.9,6.2,6.2,6.2,6.2,7.4,7.4,6.5,6.2,6.7,6.2,6.2,6.2,6.2,6.2,6.2,6.2,5.8,5.8,5.8,6.5,6.2,6.2,6.2,6.2,6.2,6.2,4.1,4.1,4.1,1.7,1.7,6.2,6.2,6.6,6.6,6.6,6.2,8.0,5.2,5.2,5.2,7.7,6.2,6.2,6.2,6.5,4.9,6.2,3.4,3.4,5.9,5.9,5.9,6.6,6.6,6.6,6.2,6.2,6.2,6.2,6.2,6.2,6.2,6.2,6.2,6.2,6.3,6.3,6.3,6.2,6.2,6.0,6.0,6.2,7.6,7.6,5.9,5.9,6.2,6.9,6.9,6.9,2.1,2.1,6.2,4.4,4.4,4.4,6.2,7.2,7.2,7.2,6.2,6.2,6.2,6.2,6.2,6.2,3.9,3.9,3.9,6.5,6.5,6.2,6.2,6.1,6.1,6.2,6.2,6.2,6.2,6.0,6.0,6.1,6.1,6.2,5.6,5.6,5.6,6.2,6.2,6.2,6.6,6.6,5.1,5.7,5.7,5.7,6.2,6.2,6.2,6.2,6.2,6.2,6.2,3.5,5.5,5.5,5.5,7.1,7.1,4.2,4.2,4.2,5.8,5.8,5.8,6.2,6.2,7.0,6.2,6.2,4.4,4.4,4.4,6.2,7.7,6.2,6.2,6.2,6.2,6.2,6.2,6.2,5.8,6.2,5.4,5.4,6.2,6.2,4.0,5.7,4.6,4.6,4.6,6.7,6.7,6.7,7.4,7.4,7.4,7.0,7.0,7.0,6.2,6.2,6.6,6.6,6.6,6.2,6.2,6.2,6.2,6.2,6.4,6.2,6.6,6.2,7.4,7.4,7.4,6.2,6.2,6.2,6.2,4.7,4.7,4.7,6.2,6.2,6.2,6.2,6.2,6.0,6.0,6.0,6.3,6.3,6.3,6.2,6.2,6.2,6.2,6.2,6.2,6.0,6.2,6.2,6.2,6.2,6.2,6.2,7.8,7.8,7.8,4.3,4.3,4.3,7.4,7.4,6.2,6.5,6.4,6.4,6.4,8.4,8.4,8.4,5.2,6.3,6.3,4.6,6.2,4.6,4.6,4.6,6.2,6.2,8.1,8.1,8.1,6.2,6.5,6.5,6.2,6.5,6.2,6.2,6.2,7.1,7.1,6.2,6.2,6.2,6.2,6.2,6.2,6.2,6.2,6.2,5.9,3.9,3.9,3.9,6.2,6.2,4.6,4.6,4.0,4.0,4.0,6.2,6.2,6.2,7.6,7.6,7.6,7.2,7.2,7.2,6.1,6.5,6.5,6.5,4.1,4.0,4.0,4.3,4.3,6.2,6.2,6.2,6.2,6.4,6.4,3.6,6.2,6.2,6.2,6.7,6.7,6.7,6.2,6.2,6.2,6.2,6.2,6.2,6.2,6.2,6.1,6.1,6.7,6.7,6.7,7.0,7.0,7.0,3.3,3.3,3.3,4.4,4.4,4.4,6.2,6.2,6.1,6.1,6.1,3.6,3.6,4.8,6.7,6.7,6.7,5.7,5.7,5.7,5.9,6.5,6.5,6.5,4.6,6.2,4.3,6.2,6.2,7.2,6.2,8.4,8.4,8.4,3.3,3.3,6.2,6.2,5.3,6.2,7.4,7.4,6.2,6.2,6.2,6.2,6.2,6.1,5.9,6.2,6.2,6.2,6.2,6.2,6.2,5.6,8.5,6.2,6.2,6.3,6.3,6.2,6.2,6.2,6.2,6.2,6.9,3.6,6.2,6.3,6.2,6.3,6.3,6.2,4.6,4.6,4.6,3.8,3.8,3.8,6.2,6.2,6.1,6.5,6.5,6.8,6.8,6.8,6.2,6.2,4.0,4.0,4.0,6.2,6.2,6.2,4.4,6.2,6.2,6.2,6.2,6.2,6.2,6.2,6.2,5.6,5.6,5.6,6.2,5.6,5.6,5.6,6.2,6.2,5.9,6.2,6.2,6.2,2.5,2.5,6.2,7.4,7.4,7.4,6.2,6.1,6.1,6.2,6.2,6.2,6.2,6.2,5.8,6.2,6.2,6.2,6.2,3.6,3.6,7.1,7.1,6.2,6.2,6.2,6.2,6.7,6.7,6.7,6.2,4.6,4.6,4.6,6.2,6.2,6.2,6.2,6.2,7.4,7.4,6.2,3.3,3.3,3.3,6.8,6.8,6.8,6.2,6.2,6.2,4.9,6.2,5.0,6.2,6.2,6.2,6.2,4.7,6.2,6.2,6.2,6.2,3.5,6.2,6.2,6.2,6.2,6.2,6.2,6.2,6.2,6.9,6.9,6.9,6.2,6.0,6.0,6.2,6.2,6.2,3.8,3.8,3.8,5.7,5.7,5.7,2.8,2.8,6.2,6.2,6.1,6.1,6.2,6.2,6.2,6.2,6.2,7.1,7.1,4.0,6.2,2.9,6.0,6.0,6.0,6.2,6.2,6.2,6.2,6.2,6.2,6.2,6.2,5.2,6.2,3.1,6.2,6.2,6.2,6.2,6.2,4.2,7.0,7.0,6.2,6.1,6.0,6.0,6.0,6.2,6.2,4.6,6.2,7.5,7.5,7.5,4.7,4.7,4.7,6.2,6.2,5.1,5.1,5.1,6.2,8.2,8.2,8.2,6.2,5.9,5.4,5.4,5.8,5.8,5.8,7.0,7.0,7.0,5.5,5.5,6.2,3.2,6.2,5.2,5.2,5.2,4.7,4.7,4.7,5.1,5.1,5.1,5.4,5.4,6.2,8.1,8.1,8.1,6.2,6.2,6.5,6.5,5.5,5.5,5.5,7.4,6.2,5.9,5.9,6.2,6.2,6.2,6.2,6.2,6.2,6.2,6.2,7.5,7.5,7.5,6.2,3.6,3.6,3.6,6.2,6.3,6.2,6.2,6.2,6.3,6.3,7.6,7.6,6.2,6.2,4.9,4.9,6.2,5.7,5.7,4.3,4.3,7.1,7.3,7.3,7.3,6.2,7.6,7.6,5.2,5.2,6.2,6.3,6.3,6.2,4.3,4.3,6.2,6.2,6.2,6.7,6.7,6.7,6.2,6.2,3.6,6.2,6.2,6.2,6.2,6.2,6.2,4.4,7.1,7.1,5.4,5.4,5.4,6.2,6.2,5.2,5.2,5.2,6.5,6.5,6.5,4.0,4.0,4.0,6.2,6.2,6.2,4.4,4.4,4.4,5.6,5.6,5.6,7.8,7.8,7.8,7.2,7.2,7.2,4.3,4.3,6.2,6.7,6.7,6.7,5.4,5.4,5.4,1.9,1.9,1.9,4.8,7.3,6.2,5.0,5.0,6.2,7.9,6.2,6.2,1.8,1.8,1.8,3.8,6.2,6.2,2.9,2.9,2.9,6.2,6.2,6.8,6.8,6.8,3.6,6.2,3.4,3.4,3.4,4.0,4.0,4.0,6.0,5.9,6.2,6.2,7.1,6.2,6.2,4.5,6.4,6.9,6.9,4.3,4.3,6.2,4.9,4.9,4.9,3.8,6.2,6.2,6.2,7.6,7.6,6.2,6.2,6.2,6.2,5.6,6.2,6.2,6.8,6.2,7.0,6.4,6.2,5.8,6.2,5.4,6.2,7.4,7.4,7.4,6.2,8.0,8.0,8.0,7.2,7.2,7.2,7.5,7.5,6.2,3.2,3.2,3.2,7.9,7.9,7.6,7.6,6.2,6.2,6.2,6.2,6.2,6.2,6.2,6.2,6.1,6.1,6.2,6.2,6.2,6.2,6.2,6.2,6.2,6.2,6.2,6.2,6.2,6.2,6.2,6.2,6.2,6.2,6.2,6.1,5.3,5.3,5.3,6.2,6.2,6.2,4.3,6.4,6.4,6.4,8.4,8.4,6.9,6.9,6.9,6.3,6.3,6.3,6.2,2.9,3.7,3.7,6.2,6.0,9.0,9.0,6.2,6.2,6.2,6.6,6.6,6.6,6.2,5.1,5.1,4.0,4.0,4.0,3.7,3.7,3.4,3.4,3.4,6.7,6.7,6.7,6.2,6.1,6.1,6.7,6.7,6.2,6.2,6.3,6.3,6.2,6.2,6.2,6.3,6.2,4.3,6.2,6.2,4.6,4.6,6.2,6.2,6.2,6.2,6.2,2.9,2.9,2.9,6.2,6.2,2.3,2.3,4.5,4.5,4.5,6.2,7.0,7.0,7.0,6.2,6.2,6.2,6.2,6.2,6.2,6.2,6.2,5.8,5.8,5.8,6.2,6.2,7.1,7.1,7.1,7.3,7.3,6.2,3.3,6.5,6.5,6.5,6.4,6.4,3.1,6.2,6.2,6.2,6.2,6.8,6.8,6.8,5.1,5.1,5.1,6.8,6.2,6.2,6.2,6.2,6.5,6.5,6.6,6.6,6.6,6.2,3.7,3.7,7.6,7.6,7.6,6.5,6.5,6.5,3.1,5.9,5.9,5.9,4.9,2.9,4.7,5.8,5.8,6.2,6.2,7.6,4.7,4.7,5.3,5.3,5.3,6.9,6.5,6.2,6.2,7.4,7.4,7.4,4.1,4.1,4.1,6.3,6.3,6.3,6.2,7.2,7.2,7.2,6.2,6.2,6.7,6.2,1.7,1.7,1.7,6.2,5.4,5.4,5.4,6.2,5.4,8.9,5.7,6.6,6.8,6.8,6.8,6.2,6.0,6.2,6.2,6.2,5.7,6.2,7.2,7.2,7.2,6.2,6.2,6.2,3.7,6.2,4.1,4.1,8.0,5.8,6.0,6.7,6.7,6.7,6.2,5.4,5.4,5.4,3.9,3.9,3.9,3.4,3.4,3.4,7.5,7.5,5.7,5.7,5.7,6.2,4.5,4.5,4.5,6.2,6.2,6.2,6.2,5.9,5.9,5.9,6.2,6.2,6.2,6.2,6.2,6.2,6.2,6.2,6.2,6.2,6.2,6.2,6.2,6.2,6.2,4.7,4.7,4.7,6.2,6.7,6.7,6.7,5.4,5.9,6.4,6.4,6.4,6.2,6.2,9.4,7.6,7.6,5.1,6.2,6.8,6.2,6.9,4.8,6.2,6.2,6.1,6.1,6.1,2.9,6.2,6.2,6.2,6.2,6.2,6.2,6.2,3.6,4.2,4.2,6.2,7.3,4.8,4.8,7.1,8.1,8.1,8.1,6.2,6.2,6.2,6.2,6.2,6.2,3.1,3.1,3.1,5.8,5.9,6.2,6.2,6.6,6.2,7.5,7.5,7.5,6.2,6.2,6.2,6.2,5.6,6.2,2.3,5.0,5.0,5.0,6.2,6.2,6.2,6.2,6.2,6.2,6.2,6.2,6.2,6.2,6.2,6.2,6.2,6.2,6.0,7.2,5.6,5.6,5.6,6.2,5.1,5.1,6.2,6.2,6.2,6.7,6.7,6.7,4.1,4.1,6.2,3.4,5.1,6.2,5.8,5.8,6.2,7.2,6.2,6.9,6.9,6.9,6.2,6.2,6.2,6.2,6.2,6.2,6.2,6.2,6.2,6.2,6.2,7.7,7.7,7.7,5.7,5.7,6.2,4.2,4.2,4.2,4.3,4.3,4.3,6.2,7.6,7.6,8.5,8.5,8.5,6.2,2.9,2.9,2.9,6.2,6.2,6.2,6.2,6.2,6.2,5.7,5.7,5.7,6.2,6.2,6.2,6.2,6.2,6.2,6.2,7.2,7.2,6.2,6.2,6.6,6.6,7.1,7.1,6.2,6.2,3.5,6.2,6.2,6.2,6.2,6.2,6.2,6.2,5.9,5.9,5.9,6.2,6.2,4.8,4.8,6.2,6.2,6.5,6.2,6.2,6.2,4.8,4.8,4.8,6.2,9.1,6.8,6.8,6.2,6.4,6.4,6.4,7.2,6.2,6.2,6.2,6.2,6.2,6.2,6.2,6.3,6.3,6.3,6.2,6.2,2.8,2.8,2.8,3.3,3.3,3.3,9.0,3.9,9.3,5.4,5.4,5.4,6.2,5.5,6.2,5.9,7.6,7.6,6.2,6.2,6.2,3.2,8.0,8.0,7.7,6.2,6.2,6.2,6.2,5.2,5.2,5.2,4.5,6.2,7.0,7.0,6.2,6.8,6.8,6.8,4.9,6.3,4.9,6.2,6.2,6.2,6.2,6.2,7.2,7.2,7.2,4.6,4.6,6.2,3.9,3.9,3.9,6.2,7.0,6.2,6.2,6.2,6.0,6.0,8.4,5.1,8.5,6.2,4.5,4.5,4.5,6.2,6.2,3.7,3.7,6.9,6.9,5.7,6.2,6.2,5.4,5.4,6.2,6.2,6.2,6.2,6.2,6.2,6.4,6.4,6.4,6.7,6.2,7.6,6.2,6.2,6.2,6.2,6.2,3.5,3.5,3.5,6.2,6.2,6.3,6.3,6.2,6.2,6.5,6.5,4.6,4.6,6.2,6.2,6.6,6.6,6.6,7.0,6.2,6.2,6.8,6.8,6.2,6.7,6.2,6.2,4.6,4.6,4.6,6.2,6.4,6.2,6.2,8.7,5.6,6.2,6.2,6.2,6.1,7.4,7.4,6.2,6.8,6.8,6.8,5.2,5.2,5.2,7.8,5.6,5.6,5.6,6.2,4.2,4.2,4.2,5.0,5.0,7.7,7.7,6.2,6.2,6.2,6.2,6.2,7.5,7.5,6.2,6.2,6.2,6.2,7.4,7.4,7.7,7.7,7.7,6.9,6.9,3.9,3.9,3.9,6.8,6.8,6.8,6.2,6.2,5.2,5.2,5.2,4.3,4.3,4.3,4.2,4.2,4.2,6.2,6.9,6.2,6.2,6.2,6.6,6.6,6.6,6.2,6.2,4.2,6.2,6.2,6.2,6.2,6.2,6.2,3.9,4.3,4.3,2.6,2.6,2.6,6.2,6.2,6.2,3.5,6.2,6.2,6.2,6.2,6.8,4.9,4.9,4.9,6.2,6.2,6.2,6.2,6.2,6.2,6.2,6.2,6.4,6.4,6.2,6.1,6.1,6.1,6.2,6.2,6.2,6.2,6.2,6.2,6.2,6.2,6.2,6.2,6.2,6.2,6.8,6.8,6.8,6.3,6.2,6.9,6.9,6.9,5.8,5.8,5.8,6.8,6.9,6.0,6.0,6.2,5.7,5.7,5.7,3.3,3.3,3.3,6.2,6.2,6.2,6.2,6.2,5.5,5.5,5.5,7.2,6.2,6.2,6.2,2.7,2.7,2.7,6.5,6.5,6.5,7.7,6.4,6.4,6.2,6.2,6.2,6.2,7.2,6.2,6.3,6.2,6.4,6.4,4.8,4.8,4.8,6.2,5.7,7.5,7.5,7.5,6.5,6.5,6.5,6.6,6.6,4.0,4.0,4.0,6.2,6.2,7.7,5.4,5.4,5.4,3.7,3.7,6.2,6.3,7.1,7.1,7.1,6.2,6.2,6.2,6.2,6.2,5.8,5.8,6.8,6.4,6.4,6.4,6.2,6.2,6.2,6.2,6.2,6.2,5.7,5.7,6.2,5.4,7.2,6.2,7.1,7.1,6.2,6.2,6.2,7.2,6.2,7.2,7.2,7.2,6.2,6.4,6.4,6.4,6.0,6.0,4.9,6.2,4.1,4.1,4.1,5.7,5.7,6.2,5.9,5.9,6.2,6.2,6.2,6.2,6.2,7.6,7.6,7.6,6.2,6.2,6.2,3.8,6.3,6.3,7.7,7.7,8.2,8.2,5.8,3.1,3.1,8.2,7.1,7.1,5.6,5.1,5.1,6.5,6.5,6.5,6.5,6.5,6.2,5.9,5.9,6.2,3.2,3.2,3.2,6.2,6.2,6.2,6.2,6.2,6.2,6.2,5.7,7.1,7.2,7.2,6.2,6.2,6.2,6.2,6.2,6.2,6.8,6.8,6.8,5.1,6.7,2.8,2.8,2.8,5.2,5.2,5.2,6.2,5.1,5.8,5.8,5.8,6.2,6.2,5.1,5.1,5.1,6.2,5.0,5.7,5.7,5.7,4.8,6.2,4.9,4.4,6.2,6.2,6.2,6.2,6.2,6.2,3.5,3.5,6.5,6.5,3.4,3.4,6.9,4.6,6.2,6.0,6.0,6.0,6.2,6.2,6.8,6.1,6.1,2.6,2.9,7.5,7.5,7.5,6.2,5.9,6.2,6.7,6.7,6.7,7.3,7.3,7.3,4.5,4.5,6.2,6.2,6.2,6.2,6.2,5.7,5.7,6.2,8.6,8.6,6.2,6.2,5.8,4.8,6.5,6.5,6.5,1.1,1.1,4.2,4.2,7.1,7.1,7.1,6.2,7.2,6.2,6.2,6.8,6.8,6.8,6.6,6.6,6.2,3.9,4.5,4.5,8.4,8.4,6.2,6.2,6.2,6.2,6.2,7.2,7.2,6.2,4.5,4.5,4.5,7.3,7.3,7.3,5.5,5.5,5.5,5.3,5.3,5.3,6.1,6.4,7.1,7.1,7.1,6.1,5.6,5.6,6.2,6.0,6.0,6.0,6.6,6.6,6.2,7.2,7.2,7.2,4.4,4.4,4.4,6.8,6.8,6.8,4.3,4.3,4.3,6.4,4.7,4.8,4.8,4.8,7.0,8.3,8.3,5.7,5.7,6.2,6.2,8.4,6.2,6.2,7.9,7.9,5.4,5.4,6.2,4.2,4.2,4.2,6.1,6.1,6.1,6.7,6.7,6.2,6.2,6.2,6.2,6.9,6.9,6.9,6.2,7.1,7.1,7.1,6.2,6.2,6.2,4.0,4.0,4.0,6.2,6.2,6.2,6.2,6.4,4.1,6.2,6.6,6.6,6.6,6.2,6.2,6.2,6.2,6.2,6.2,6.2,6.2,6.2,6.2,6.2,5.4,5.4,5.8,5.8,5.8,5.8,8.0,8.0,6.2,6.2,6.2,5.5,5.5,5.5,6.2,6.2,6.2,6.4,5.1,5.1,5.1,6.7,6.2,6.2,6.2,6.2,6.2,6.2,7.6,7.6,3.6,5.6,6.2,6.2,6.2,6.2,6.2,6.2,6.2,6.2,6.2,6.2,6.2,6.2,7.3,6.9,6.6,6.6,6.6,6.2,6.2,6.2,6.2,6.2,6.2,6.2,6.2,7.5,7.1,7.1,6.7,6.7,6.7,6.2,6.2,6.8,6.9,6.9,6.9,6.6,6.6,6.2,6.0,5.4,3.8,3.8,6.1,6.1,6.2,6.7,6.2,7.8,7.8,7.8,6.2,6.2,6.2,6.2,7.4,7.4,7.4,6.2,6.2,6.2,6.2,6.2,5.8,5.8,5.8,4.2,4.2,4.2,6.2,6.2,6.2,6.2,6.2,6.1,6.1,6.1,6.2,6.2,6.2,6.0,6.0,6.2,6.6,6.6,6.6,5.5,5.5,5.5,6.2,6.4,6.2,6.2,6.2,6.2,6.2,6.2,6.2,6.7,6.7,6.7,4.8,4.8,4.8,6.2,5.4,5.4,4.8,4.8,5.5,5.5,3.2,3.2,6.2,6.2,6.2,6.2,6.0,6.0,6.0,4.8,4.8,4.8,7.4,7.4,7.4,6.2,6.2,6.9,6.3,6.3,6.3,6.2,6.2,6.2,6.2,5.8,6.2,6.2,6.2,6.2,6.2,6.2,5.4,5.4,7.5,7.5,7.5,6.2,6.2,6.2,6.2,6.2,6.2,6.2,6.2,6.2,6.2,6.2,6.2,6.2,7.3,7.3,7.3,6.2,6.2,4.2,4.2,6.2,8.1,6.2,5.6,5.6,6.2,6.7,6.7,6.7,6.2,6.8,6.8,6.8,7.1,4.5,4.5,4.5,6.2,6.2,6.7,3.2,3.2,3.5,2.8,7.0,7.0,6.2,6.2,6.9,6.9,5.9,5.9,5.9,6.2,6.2,6.2,7.0,7.7,7.7,7.7,6.2,6.2,6.2,6.2,6.2,6.2,6.2,5.0,5.0,6.4,6.4,6.6,6.6,6.2,6.2,4.9,6.7,6.7,6.9,6.2,7.3,6.2,6.2,6.2,6.2,6.2,6.2,7.9,8.1,8.0,6.5,6.5,6.2,6.2,6.2,8.5,6.2,6.2,6.7,6.2,6.2,6.2,2.8,2.8,2.8,5.8,5.8,6.2,6.2,6.7,6.7,6.2,7.1,7.1,6.2,6.2,6.2,6.8,4.8,6.2,6.2,6.2,6.2,6.2,6.2,6.2,6.2,6.2,6.2,6.2,3.3,3.3,4.6,6.2,4.3,4.3,4.3,7.2,6.2,6.2,5.2,5.2,5.2,6.7,6.7,6.2,6.4,6.2,3.1,2.5,2.5,7.2,6.2,6.8,6.2,6.4,4.5,4.5,4.5,7.3,7.3,7.3,6.2,6.4,6.4,7.3,7.3,4.7,4.7,4.7,6.2,7.9,7.9,7.9,7.3,7.3,8.0,4.1,4.1,4.1,6.2,6.2,6.6,4.4,4.4,4.4,5.2,8.1,8.1,6.2,6.2,6.2,6.2,6.8,6.8,6.9,6.9,6.2,6.2,6.2,6.2,6.2,7.5,3.9,3.9,6.2,3.3,3.3,3.3,6.2,7.0,6.2,7.6,7.6,7.6,4.9,4.9,4.9,6.7,6.7,6.7,4.8,4.8,6.2,6.2,6.2,4.8,6.2,6.2,6.2,6.2,6.2,5.3,6.2,6.2,6.4,6.4,6.4,5.4,5.4,6.2,6.2,6.2,6.7,6.3,6.3,6.2,5.0,5.0,5.3,5.3,5.3,6.2,6.2,6.2,6.2,6.2,6.2,6.2,6.2,6.2,6.2,6.2,5.6,5.6,5.6,6.2,6.2,6.2,6.2,6.9,6.2,6.2,6.2,6.2,6.2,6.2,6.2,6.2,6.2,6.2,6.2,6.2,6.2,6.2,6.2,6.2,5.3,5.3,5.3,6.8,6.8,6.5,7.2,7.2,7.2,8.2,8.2,8.2,5.9,5.9,5.9,6.2,3.8,3.8,5.9,7.2,7.2,8.2,7.1,7.1,6.7,6.7,5.2,5.2,5.7,5.7,5.7,6.2,6.2,6.2,6.2,6.2,6.2,8.2,6.2,4.0,4.0,6.0,7.2,7.2,6.2,6.2,6.2,3.4,6.2,6.2,6.2,6.2,6.2,6.2,3.8,6.2,6.2,7.2,7.2,6.8,6.8,6.8,6.2,6.2,6.2,6.2,5.8,5.8,5.8,6.2,3.8,6.2,4.7,7.3,7.3,6.0,6.2,6.2,6.2,6.2,6.2,7.2,7.2,6.2,6.2,6.2,6.2,6.2,6.2,6.2,6.1,6.1,6.1,6.2,6.2,6.2,6.2,6.2,6.5,6.5,6.5,6.2,6.2,6.3,6.3,7.6,7.6,7.6,6.3,6.3,5.5,6.2,6.2,7.6,7.6,7.6,6.2,6.2,6.2,5.0,5.0,7.0,7.0,6.2,6.2,6.2,6.2,6.2,6.6,6.2,6.2,6.2,8.0,6.2,6.2,7.0,6.2,6.2,2.5,5.3,6.2,6.0,6.0,6.2,6.2,6.2,4.1,4.1,4.1,6.5,3.8,3.8,6.2,7.5,6.2,6.2,6.2,8.6,6.2,6.2,6.2,6.2,6.2,6.2,6.2,7.8,7.8,6.2,6.2,6.2,6.2,9.3,9.3,3.8,3.8,3.8,8.1,8.1,8.1,6.2,6.2,6.2,6.8,6.8,6.2,7.5,7.5,6.2,6.0,6.0,6.2,6.2,6.2,6.8,6.8,6.4,6.8,6.8,6.8,6.2,6.2,6.2,6.2,4.4,4.4,4.4,6.8,6.8,7.7,7.7,7.7,6.2,6.0,6.0,6.2,6.2,6.2,6.2,6.2,6.2,6.9,6.8,6.8,6.2,5.3,6.2,6.2,6.2,6.2,6.2,6.2,6.7,6.2,6.2,6.2,6.2,7.2,7.2,7.2,5.2,6.2,6.2,5.1,6.2,4.1,4.1,4.1,5.1,6.9,6.2,5.6,5.6,7.6,7.6,3.5,6.2,4.1,4.1,4.1,6.2,4.9,6.0,6.0,6.2,7.1,7.1,7.1,6.2,6.2,6.2,6.2,6.2,6.2,3.5,3.5,3.5,6.2,6.2,5.4,5.4,5.4,6.2,5.3,6.2,5.5,5.5,5.1,5.1,6.2,6.2,6.2,6.2,6.6,6.6,6.6,5.4,5.4,5.4,6.2,6.2,6.2,6.2,6.2,6.2,5.6,5.6,5.6,7.4,6.2,6.2,5.1,6.2,6.2,6.2,6.2,4.9,4.9,4.9,5.3,5.3,5.3,7.0,7.0,7.0,7.1,7.1,7.1,6.2,6.2,6.2,6.2,6.2,6.2,6.0,7.2,7.2,7.9,7.9,7.9,6.8,6.8,6.2,6.1,6.2,7.5,6.8,6.8,6.8,6.2,6.2,6.2,6.2,6.3,6.3,4.6,6.2,6.2,6.2,6.2,6.2,6.2,6.2,6.2,6.2,6.2,6.2,6.2,6.2,6.2,6.2,8.2,8.2,6.9,6.9,6.9,7.4,6.2,6.2,6.2,5.0,5.0,6.2,6.2,6.2,6.2,6.2,7.1,5.4,5.4,5.4,6.2,7.2,7.2,7.2,6.2,6.2,6.2,6.2,6.2,6.2,6.2,6.2,6.2,6.2,6.2,3.2,6.2,6.2,4.3,4.8,6.2,6.2,6.2,5.4,4.9,4.9,4.9,2.3,2.3,2.3,6.2,3.2,3.2,6.8,6.8,5.4,6.0,6.0,7.7,7.7,7.7,6.2,6.2,6.2,2.6,2.6,2.6,6.2,6.2,6.2,6.7,6.1,6.1,6.3,6.3,6.3,6.2,3.5,3.5,6.2,6.2,6.9,6.9,6.9,6.5,6.5,6.5,6.6,6.6,6.2,6.2,6.2,6.2,6.8,6.2,6.2,6.2,6.2,6.2,6.2,6.2,6.2,6.2,6.2,6.2,4.4,6.8,6.8,5.2,5.2,5.2,6.2,6.2,6.2,7.2,7.2,7.2,6.2,6.5,6.2,6.5,5.6,5.6,5.6,6.2,6.2,6.2,6.2,5.5,5.5,5.5,6.2,6.2,6.2,6.2,5.4,6.2,6.2,6.2,6.0,6.0,6.0,4.3,5.5,7.1,7.4,7.4,7.4,7.5,7.5,7.5,6.2,6.2,6.6,6.6,6.6,7.1,7.1,5.8,4.9,4.9,4.9,6.2,6.8,6.2,6.7,6.2,4.6,4.6,4.6,6.2,6.2,5.6,5.6,5.5,5.5,4.4,6.8,6.8,6.8,6.2,6.2,6.2,4.9,6.2,7.0,7.0,7.0,6.7,6.7,5.8,5.8,6.4,6.4,6.4,3.5,3.5,6.2,6.2,4.6,4.6,6.2,6.2,6.2,6.2,6.3,6.3,6.3,6.7,6.7,6.1,6.1,6.2,6.2,6.9,6.9,6.9,6.2,6.2,7.2,6.2,6.1,6.1,6.2,7.3,7.3,7.3,6.2,6.2,6.2,6.2,6.2,6.2,6.2,6.2,6.2,6.2,6.2,7.4,7.2,6.2,3.4,3.4,3.4,6.0,6.0,6.0,6.2,6.2,3.9,6.2,6.2,6.2,6.5,6.2,6.2,6.2,5.7,5.7,4.2,8.5,8.5,4.7,6.6,6.6,6.2,6.2,5.4,5.4,5.4,6.2,6.2,4.0,6.2,6.2,6.2,4.6,4.6,6.2,6.2,6.2,6.2,6.2,6.2,6.2,6.2,6.2,6.2,5.4,6.2,5.1,6.2,4.1,4.1,8.1,6.2,6.2,6.2,5.0,6.2,4.6,4.6,6.2,6.2,6.8,6.8,6.2,6.2,6.2,6.2,4.5,4.5,4.5,6.2,5.3,5.3,4.9,4.9,4.9,3.6,3.6,6.6,6.6,6.2,6.2,3.8,3.8,3.8,4.6,4.6,4.6,6.2,5.7,5.7,5.7,6.2,6.2,5.6,5.6,7.0,6.2,4.9,6.2,5.6,5.6,6.2,6.2,6.2,4.6,4.6,6.2,8.1,7.0,7.0,4.8,4.8,7.2,7.2,7.2,6.2,6.2,6.2,6.2,4.2,6.2,6.2,6.2,6.2,6.4,6.2,6.2,6.2,6.2,6.2,6.2,4.3,4.3,4.3,6.2,6.2,6.2,6.2,6.2,8.1,8.1,8.1,3.9,3.9,3.9,5.8,4.6,4.6,4.6,6.2,6.2,6.2,4.7,4.7,4.7,6.2,6.2,6.2,6.2,6.2,6.2,6.2,6.2,6.2,6.2,6.2,4.2,4.2,6.2,6.2,6.2,6.9,6.2,6.2,6.2,6.4,6.4,5.2,6.2,6.2,6.2,7.3,7.3,6.5,6.5,6.5,2.8,6.2,6.2,6.2,6.2,6.2,8.2,8.2,8.2,6.2,6.2,6.2,7.1,7.7,7.7,7.7,6.8,6.2,5.0,6.2,6.2,6.2,6.2,6.2,6.2,7.1,7.1,7.1,5.9,5.9,5.9,7.2,7.2,7.2,6.6,5.7,2.3,2.3,2.3,6.4,6.4,6.4,3.4,3.4,6.5,6.2,6.2,6.2,6.2,3.6,3.6,3.6,6.2,6.2,6.2,6.2,6.2,7.3,7.3,6.2,6.2,7.5,6.2,6.2,6.2,6.3,6.3,8.0,8.0,8.0,7.5,7.5,7.5,6.2,6.2,7.0,7.0,7.0,6.2,6.2,7.6,7.6,6.2,6.2,6.2,7.2,4.8,4.8,6.0,6.0,6.0,6.8,6.2,8.2,8.2,6.2,6.2,6.2,6.2,6.2,6.2,6.2,6.2,6.2,6.2,7.3,7.3,7.3,6.2,6.2,6.2,6.2,6.2,6.5,6.2,6.2,4.3,4.3,4.3,6.2,6.2,7.0,7.0,7.0,6.4,6.4,6.4,6.2,6.6,6.6,6.2,4.1,4.1,5.0,5.0,6.2,6.2,6.2,6.3,6.3,6.9,6.9,5.8,5.8,4.5,6.0,6.0,6.0,7.9,7.9,7.9,6.8,7.8,7.8,7.8,6.2,6.4,6.2,6.2,5.1,5.1,5.1,6.2,6.2,6.2,6.2,7.2,6.6,7.1,7.1,6.2,6.2,6.2,6.2,6.2,6.2,6.2,7.5,6.2,7.3,6.6,6.6,6.6,6.2,6.2,6.4,6.4,6.4,7.9,7.9,7.9,6.2,3.9,3.9,4.5,4.5,6.2,6.2,6.2,2.9,6.2,6.6,6.6,6.2,6.2,4.0,7.3,7.3,7.3,2.5,2.5,2.5,7.1,7.1,6.2,6.2,6.2,6.2,6.2,6.2,8.5,8.5,6.0,6.0,6.0,5.6,5.6,5.6,5.1,5.1,5.1,6.2,4.0,3.7,3.7,3.7,6.2,9.3,9.3,9.3,6.2,5.1,5.1,6.2,6.2,6.2,6.2,6.2,6.2,6.8,6.8,6.5,6.5,5.0,5.0,5.7,5.7,5.7,5.6,5.6,6.8,6.8,6.8,5.5,5.5,5.7,5.7,5.7,5.1,5.1,5.1,6.2,7.5,7.5,7.5,6.2,6.2,6.2,4.2,4.2,4.2,6.2,6.2,6.2,6.2,6.2,6.2,6.2,7.7,7.7,6.2,6.2,6.2,6.2,6.2,3.4,5.8,6.2,5.1,5.1,6.2,6.2,6.2,6.2,6.2,8.2,8.2,8.2,6.0,6.0,2.6,6.2,6.7,6.2,6.2,5.5,5.5,6.2,6.2,6.2,6.5,6.5,6.2,5.7,5.7,5.7,6.1,6.1,6.2,7.5,7.5,7.5,5.5,6.2,6.2,6.9,6.2,6.3,6.3,6.3,5.3,6.2,3.1,5.8,5.8,7.0,6.6,6.6,6.6,6.2,7.1,7.1,6.2,6.2,6.2,6.2,6.2,6.2,4.3,4.3,6.7,6.7,6.2,6.2,6.5,6.5,6.5,6.2,6.5,6.5,6.2,5.9,5.9,5.9,4.7,4.7,4.3,4.3,4.3,6.5,6.5,6.5,7.4,7.4,7.4,6.2,6.2,6.2,6.2,6.2,5.6,6.2,7.2,7.2,6.1,6.1,6.1,6.2,6.2,5.9,5.9,6.2,6.2,6.2,6.2,6.2,6.9,6.2,6.2,6.2,6.2,6.2,6.0,6.2,7.0,7.0,7.0,6.0,6.2,5.1,5.1,5.1,6.2,6.2,6.2,6.2,5.5,5.5,6.2,2.8,5.8,4.0,4.0,2.3,8.2,6.2,3.5,3.5,3.5,6.2,5.3,5.3,6.2,6.2,6.3,6.3,6.3,8.1,8.1,8.1,6.5,6.2,6.2,6.0,6.0,5.7,6.2,6.2,6.2,4.8,4.8,6.2,6.2,6.2,7.2,7.2,6.2,6.7,6.7,6.7,6.2,6.2,6.2,7.1,7.1,6.6,4.3,6.2,9.1,7.2,7.2,7.4,7.4,7.4,5.6,6.3,6.3,6.2,6.2,6.2,6.1,6.1,6.1,4.7,6.2,6.2,5.8,3.5,6.2,5.6,5.6,5.6,6.2,6.2,7.1,7.1,5.8,5.8,5.7,5.7,5.7,5.3,5.3,4.7,6.2,6.1,5.9,6.2,6.2,8.0,8.0,8.0,2.9,2.9,2.9,6.2,6.2,5.8,5.8,6.5,6.5,6.2,6.2,6.2,6.2,6.2,4.9,4.9,4.9,6.2,6.2,6.2,6.2,6.2,6.2,6.2,6.2,6.2,7.8,7.8,4.6,4.6,6.2,6.2,6.2,6.2,6.2,6.2,6.2,7.7,8.5,8.5,6.2,9.1,4.4,4.4,5.0,5.0,5.0,6.2,3.5,6.3,6.3,6.3,7.8,7.8,7.8,7.7,7.7,6.2,6.2,6.2,6.3,6.3,6.3,6.2,6.2,6.2,7.1,7.1,7.5,7.5,7.5,6.2,8.2,8.2,6.2,6.2,5.6,6.2,7.5,7.5,7.5,6.2,6.2,6.2,4.4,4.4,6.2,5.8,5.8,6.2,4.9,4.9,4.9,6.2,6.2,7.8,7.5,6.2,7.6,7.6,6.2,6.2,3.6,3.6,5.2,3.7,3.7,3.7,6.3,6.2,6.2,6.9,6.9,6.9,6.2,6.2,6.2,6.5,6.2,6.0,6.2,6.2,5.3,5.3,5.3,2.2,2.2,2.2,2.6,2.6,2.6,6.2,6.2,4.8,4.8,4.8,6.2,6.7,6.7,6.7,6.2,6.5,6.5,6.2,5.4,6.2,8.0,6.2,6.2,6.2,6.2,6.2,6.2,6.2,6.5,6.5,6.5,8.2,8.2,8.2,6.2,3.1,3.1,3.1,6.2,6.2,7.2,3.7,3.7,3.7,4.0,4.0,4.0,6.2,6.2,6.2,6.7,6.7,6.7,5.7,5.7,5.7,6.2,6.2,4.8,4.8,6.2,6.2,5.0,6.2,6.3,6.3,6.2,6.2,6.1,6.2,6.2,6.2,6.2,6.4,6.4,6.8,6.8,7.3,7.3,6.2,6.2,6.2,6.2,6.2,6.2,6.2,6.2,7.1,7.1,3.2,3.2,3.2,6.2,5.6,5.6,7.0,7.0,7.0,6.2,6.2,6.2,6.2,6.2,8.7,5.2,6.2,6.2,5.9,5.9,5.9,6.2,6.2,6.2,7.1,7.1,6.2,6.2,6.9,6.2,6.3,6.3,6.3,6.2,5.4,5.4,5.9,5.9,5.9,6.2,6.2,6.2,5.3,5.3,5.3,6.7,6.2,6.2,6.2,6.2,6.2,6.2,5.4,5.4,6.6,6.2,6.8,6.8,6.8,5.4,5.4,5.4,6.2,6.2,5.7,6.2,6.1,6.1,5.6,5.6,4.5,2.5,2.5,2.5,6.2,8.6,6.5,6.8,4.3,4.3,4.3,5.9,8.0,8.0,5.8,5.8,5.5,1.9,1.9,1.9,4.6,4.6,4.6,5.5,5.5,4.8,4.8,4.5,4.5,4.5,8.0,6.0,6.0,6.4,6.4,6.4,6.0,6.8,6.8,6.8,7.3,7.3,6.2,6.2,6.2,6.7,6.7,6.7,3.3,5.7,5.7,6.2,6.2,5.9,6.2,6.2,7.3,7.3,7.3,4.1,4.1,4.1,6.2,6.3,6.3,6.3,5.4,5.4,5.4,5.6,5.6,6.2,6.2,6.5,6.5,6.2,6.2,4.5,4.5,6.2,6.2,7.3,6.2,6.2,6.3,7.1,7.1,7.1,6.2,8.2,6.2,3.7,3.7,3.7,6.5,6.2,6.8,6.2,7.6,7.6,7.6,6.3,6.3,6.5,6.2,6.2,6.2,6.9,5.1,6.2,6.7,6.2,2.8,2.8,6.2,5.5,5.5,5.5,5.9,6.2,6.2,6.2,6.2,6.2,6.2,6.2,6.2,6.2,6.7,3.9,7.4,7.4,7.4,6.9,6.1,6.1,6.2,6.2,6.2,6.2,6.2,3.4,3.4,3.4,6.2,4.2,4.2,8.7,5.6,5.6,5.6,6.2,6.2,6.2,6.7,6.7,6.7,6.2,7.3,7.3,2.9,6.2,6.2,6.2,5.9,5.9,4.8,4.8,6.2,5.5,6.2,4.5,4.5,4.5,4.4,7.2,7.2,7.2,4.7,5.6,6.2,6.2,6.2,6.2,6.2,6.2,6.2,6.2,6.2,4.7,4.7,6.2,6.2,5.7,5.7,5.7,5.4,5.4,5.4,6.2,5.3,5.3,7.5,7.5,6.6,6.6,6.2,6.2,6.2,6.7,6.7,6.7,5.0,5.0,5.0,6.2,5.7,5.7,6.2,7.4,6.2,6.2,6.2,6.2,6.1,4.6,4.6,4.6,5.4,6.2,6.7,6.2,6.2,7.2,7.2,7.2,4.7,4.7,4.7,4.3,4.3,6.2,6.2,6.6,6.6,6.8,6.2,5.5,5.5,5.5,6.3,6.2,6.2,5.4,5.4,5.4,8.2,8.2,8.2,6.2,6.2,6.2,4.0,4.0,4.4,4.4,6.2,6.2,6.8,6.2,6.2,7.6,6.2,7.3,7.3,7.3,6.5,6.2,6.2,6.2,5.1,5.6,5.6,5.6,8.4,8.4,6.0,6.0,6.0,6.2,6.2,6.2,6.2,7.6,7.6,7.6,6.2,8.7,6.2,7.5,7.5,7.5,6.2,6.8,6.8,6.8,7.6,7.6,7.6,6.2,7.2,7.2,6.2,6.0,6.2,6.2,5.8,5.8,5.8,6.3,6.3,6.2,6.2,4.9,4.9,6.2,5.1,4.2,4.2,4.2,6.2,6.2,6.5,6.5,6.5,6.2,6.2,7.3,6.2,6.2,6.2,5.5,6.2,6.9,6.9,7.1,7.1,6.2,6.9,6.2,6.2,4.5,4.5,4.5,6.2,7.6,4.6,4.6,4.6,5.0,5.0,7.2,7.2,8.1,6.2,3.8,6.2,6.2,6.2,5.6,5.6,5.6,6.2,6.2,6.2,6.2,6.2,6.2,3.8,6.7,6.7,6.2,6.2,6.2,4.5,4.5,4.5,3.9,3.9,3.9,6.2,6.2,6.2,6.0,6.2,6.2,6.2,6.2,6.2,6.2,6.2,6.9,6.9,4.4,4.4,4.4,6.2,6.2,2.6,2.6,6.2,6.2,6.2,7.4,7.1,7.1,7.1,6.2,6.2,6.2,5.2,5.2,6.9,6.9,6.3,2.5,2.5,6.2,7.3,7.3,7.3,6.2,6.4,6.4,6.4,7.3,7.3,7.3,4.0,4.0,6.2,6.2,6.2,6.2,6.8,7.3,6.2,6.2,5.8,5.8,5.8,6.9,6.9,6.2,3.3,3.3,3.3,6.2,4.1,4.1,4.1,6.3,6.3,6.3,6.2,6.4,7.5,6.2,4.2,4.2,6.2,6.2,6.2,6.2,4.9,6.2,6.2,6.2,6.2,6.2,6.2,2.6,2.6,6.2,6.3,6.3,6.3,5.2,5.2,6.8,6.2,6.2,6.2,6.2,6.4,6.4,2.6,2.6,2.6,7.9,7.9,7.9,7.7,7.7,7.7,6.2,5.9,4.5,4.5,6.2,6.3,6.3,3.9,3.9,3.9,6.2,6.3,6.2,2.5,2.5,2.5,5.5,5.5,5.5,6.2,5.4,6.2,1.8,1.8,3.0,3.0,6.2,6.0,6.0,6.0,6.2,6.2,6.2,6.2,4.9,4.0,6.2,6.2,6.2,6.2,2.6,2.6,2.6,7.2,7.2,4.3,5.1,6.2,7.4,7.4,7.4,6.2,2.4,6.2,6.2,5.3,5.3,5.3,6.2,6.2,6.2,5.3,5.3,5.3,7.2,7.2,6.2,6.2,6.2,5.8,5.8,5.8,5.9,6.2,6.2,6.2,6.1,3.1,3.1,7.0,5.7,5.7,5.7,6.2,6.7,6.2,5.0,5.4,5.4,5.4,4.7,4.7,4.7,6.2,6.2,5.3,5.3,6.2,3.0,3.0,3.0,6.2,6.2,6.2,6.2,6.8,6.8,6.8,6.2,6.2,6.2,4.0,4.0,4.0,7.0,7.0,7.0,6.2,6.2,6.2,3.9,3.9,3.9,5.2,5.2,5.9,5.9,5.9,6.2,5.0,6.2,6.2,5.7,5.7,5.6,5.6,5.6,6.2,6.1,6.1,5.0,6.2,4.7,7.9,7.9,6.8,6.2,6.7,6.7,6.7,7.0,7.0,4.2,4.8,4.8,4.8,6.3,6.3,6.2,6.2,6.2,6.2,6.2,6.2,6.0,6.0,6.2,7.3,7.1,7.1,5.7,6.8,6.8,6.8,6.4,6.2,6.2,6.9,6.9,6.9,6.2,6.2,6.2,6.2,6.2,6.2,6.2,6.2,6.2,6.2,6.4,6.4,6.4,6.6,6.6,6.1,6.1,6.1,6.2,6.2,6.2,6.2,6.2,7.4,7.4,7.4,5.6,5.6,5.4,5.4,6.2,6.2,6.2,6.2,6.2,8.0,8.0,8.0,6.2,5.9,6.2,6.2,6.2,6.8,6.8,7.5,6.1,6.1,8.3,6.2,6.3,6.2,7.6,7.6,7.6,7.7,7.7,6.2,6.2,4.9,6.2,6.2,6.2,6.2,6.2,6.2,6.2,6.2,6.4,6.2,6.2,6.2,7.2,7.2,7.2,6.2,6.2,6.2,6.2,5.9,6.2,6.2,6.2,6.2,6.2,6.1,6.1,6.1,6.2,6.2,7.3,6.2,6.2,2.4,6.6,6.6,6.6,3.6,6.0,6.0,6.0,6.2,7.5,7.5,7.5,6.2,8.9,6.2,5.1,6.9,6.9,6.2,6.2,6.2,6.2,6.4,6.4,6.4,6.0,6.0,6.0,3.4,3.4,3.4,6.2,5.4,9.2,5.0,5.0,5.0,6.2,6.2,6.2,5.2,5.2,7.6,7.6,7.6,4.4,4.4,4.4,7.1,7.1,7.1,4.3,4.3,6.2,6.2,6.2,6.2,6.1,6.2,6.5,6.5,6.5,6.2,6.2,7.1,7.1,7.1,6.5,6.5,6.5,6.2,6.2,6.2,6.2,2.8,7.0,6.2,6.2,6.2,6.2,6.2,6.5,6.5,6.2,6.2,6.2,6.2,6.2,6.2,4.1,4.1,4.1,5.3,5.3,5.3,3.5,6.2,8.0,8.0,7.2,8.0,6.2,6.8,6.2,6.2,6.2,6.2,6.2,6.8,7.3,7.3,7.2,6.4,6.4,6.2,6.2,6.2,6.2,6.2,6.4,6.2,6.2,6.2,4.2,6.2,6.2,6.2,6.2,6.2,6.2,6.2,6.2,6.0,6.6,6.1,6.2,6.9,6.9,6.9,6.2,6.2,4.7,4.7,4.7,6.2,6.2,6.2,6.2,5.0,7.9,5.3,6.2,6.2,6.2,6.2,6.2,6.2,6.2,6.2,6.2,6.2,5.9,6.2,7.3,7.3,7.3,6.2,8.1,8.1,8.1,2.0,2.0,2.0,6.2,6.2,6.2,6.2,6.2,7.2,7.2,6.2,6.2,7.8,7.8,6.2,6.2,7.9,7.9,7.9,4.9,4.9,6.2,4.6,4.6,4.6,7.8,7.8,6.2,6.2,6.2,6.2,6.2,6.2,6.2,6.2,6.2,6.2,6.2,6.2,6.2,4.4,4.4,7.0,6.2,6.2,4.0,4.0,5.8,5.8,6.2,6.2,6.4,6.4,6.4,6.2,6.8,6.2,6.2,6.2,6.2,6.2,6.2,5.3,6.2,6.2,6.2,6.2,3.5,3.5,5.7,8.7,8.7,8.7,6.2,6.2,6.2,6.2,5.7,5.7,5.7,6.2,6.2,6.8,6.2,6.8,6.8,6.8,4.5,4.5,6.2,8.6,6.2,6.2,7.3,7.3,7.3,6.2,6.4,6.4,6.2,6.2,6.2,6.2,6.2,6.2,6.2,6.2,9.4,6.2,2.9,6.2,6.2,6.2,5.2,6.2,6.2,6.9,7.2,7.2,7.2,6.2,6.2,6.2,7.0,7.0,7.0,6.6,6.6,6.6,6.2,6.2,6.2,8.0,8.0,7.0,4.9,6.7,6.2,7.7,7.7,7.7,7.3,6.4,6.4,6.4,6.8,6.8,7.6,7.6,6.2,6.2,6.2,5.9,6.2,5.7,5.7,5.7,7.2,7.2,7.2,6.2,7.4,7.4,7.4,6.2,6.2,7.1,7.8,7.8,7.8,6.2,6.2,6.2,6.9,6.9,6.9,6.0,6.0,6.0,6.2,6.2,7.3,8.1,8.1,6.2,6.4,6.4,6.4,4.4,4.3,4.3,4.3,6.2,5.7,5.7,6.2,5.2,6.2,6.2,9.0,4.6,5.7,5.7,5.7,6.2,6.2,6.2,6.5,6.5,6.5,6.9,6.9,6.0,6.0,6.0,6.7,6.7,6.2,6.2,7.4,7.4,7.4,5.2,6.2,7.1,7.1,4.5,4.5,4.5,7.0,7.0,7.2,6.2,6.8,6.8,6.2,6.2,6.2,5.9,5.9,3.3,3.3,6.5,7.3,7.3,7.3,4.2,4.2,4.2,6.6,6.6,6.6,6.2,6.6,5.5,5.5,4.4,4.4,4.4,2.2,4.1,4.1,4.9,4.9,4.9,4.6,4.6,7.0,7.0,7.0,3.9,6.2,5.9,5.9,5.9,6.2,7.3,7.3,5.6,5.6,5.6,7.5,7.5,6.4,6.2,6.6,5.9,6.2,6.2,6.2,6.2,6.2,6.2,5.8,5.8,5.8,7.6,7.1,7.1,7.1,4.1,4.1,5.4,4.8,6.2,6.2,6.2,6.2,6.4,6.2,5.9,5.9,5.9,7.3,6.2,6.2,7.9,5.6,6.2,6.2,6.2,6.2,6.2,5.9,5.9,5.9,4.1,1.8,1.8,5.4,6.2,6.2,6.2,6.2,6.2,6.2,6.3,3.2,6.9,6.9,6.9,5.0,5.0,5.0,4.1,4.1,7.6,7.6,7.6,4.3,4.3,6.7,6.7,6.7,4.4,4.4,4.4,6.2,6.2,6.2,6.9,6.9,5.1,5.1,5.2,5.2,6.2,5.5,5.5,7.2,7.2,6.2,3.2,3.2,3.2,6.2,8.0,8.0,6.2,7.9,6.2,6.2,6.2,4.9,4.9,5.7,5.7,6.2,6.2,6.2,6.2,6.7,6.7,6.2,6.2,6.2,6.2,6.2,6.2,6.2,6.2,6.2,6.2,6.2,6.2,3.4,6.2,6.2,6.2,6.2,6.2,6.2,4.2,4.2,4.2,6.2,6.2,6.2,5.7,6.2,6.0,5.4,6.2,6.2,2.6,2.6,6.2,6.8,6.8,6.8,5.8,5.8,5.8,4.2,4.2,4.2,5.0,5.0,5.0,7.6,6.2,6.3,6.3,6.2,6.2,5.2,5.2,5.2,6.2,6.2,6.2,6.2,6.7,6.7,6.7,6.5,6.2,8.0,6.2,5.6,5.6,5.6,6.7,6.7,7.6,7.6,6.2,6.2,6.2,5.3,5.3,5.3,6.2,6.1,6.1,6.2,6.3,6.3,6.3,7.0,6.5,6.5,8.4,6.0,6.0,6.2,4.8,4.8,5.1,6.2,2.4,2.4,6.2,6.2,6.2,6.2,7.3,4.3,4.3,4.3,6.2,7.2,6.0,7.7,7.7,7.7,6.2,6.2,5.2,5.2,5.2,6.2,7.3,6.2,6.2,6.2,6.2,3.0,3.0,3.0,6.2,8.0,6.2,6.2,6.2,4.7,5.2,5.2,5.2,6.2,6.2,6.2,6.0,6.2,6.2,6.2,6.2,6.2,4.3,5.4,5.4,6.2,6.2,6.2,3.8,3.8,4.5,4.5,4.5,6.2,6.2,6.2,6.4,4.7,6.2,6.2,6.2,6.2,6.2,6.2,6.2,6.5,6.3,6.6,6.6,6.0,6.2,6.6,6.6,6.6,6.2,4.8,4.8,7.5,7.5,7.0,7.0,3.9,3.9,3.9,3.9,5.3,6.2,6.2,6.4,6.2,4.7,4.7,4.7,6.2,6.2,5.0,5.0,5.6,5.6,6.2,4.6,4.6,4.6,4.9,2.4,2.4,2.4,8.3,8.3,8.3,6.3,6.3,5.6,5.6,6.0,6.0,6.2,6.2,6.1,7.0,7.0,5.6,5.6,5.6,7.0,7.0,4.5,4.5,6.5,6.5,6.5,3.4,3.4,3.4,5.9,5.9,6.2,5.1,5.1,5.1,6.2,6.2,6.2,8.6,8.1,6.2,5.5,5.5,6.2,6.2,6.2,5.0,4.6,6.9,6.2,6.2,6.2,7.2,7.2,6.2,4.8,6.2,6.2,6.2,6.8,6.2,5.9,5.9,5.8,6.9,6.6,4.5,4.5,4.5,8.1,6.2,3.5,6.2,6.2,6.2,6.2,6.2,8.9,5.7,8.2,8.2,8.2,5.0,5.0,6.2,6.2,6.2,6.2,7.8,7.8,7.8,6.2,6.2,6.2,4.7,4.7,4.7,8.0,8.0,8.0,3.7,3.7,6.1,6.8,6.8,6.8,6.2,6.2,6.2,6.9,6.2,5.0,6.2,6.5,4.5,5.3,6.2,6.2,6.2,7.0,7.0,7.0,4.4,4.4,6.2,6.2,6.2,5.5,5.5,5.5,4.2,4.2,4.2,5.6,5.6,6.6,4.9,6.2,6.2,6.2,6.2,5.5,5.5,6.2,6.2,5.5,5.5,6.6,6.6,8.2,8.2,6.2,6.2,8.2,6.2,6.2,6.2,6.2,6.6,6.6,5.8,6.2,6.2,5.1,5.1,5.1,6.2,5.7,5.7,5.7,4.2,4.2,7.3,3.9,3.9,3.9,6.2,6.2,5.4,5.4,8.3,6.5,6.5,6.5,3.3,3.3,3.3,7.0,7.0,6.2,6.2,6.2,6.2,6.2,6.2,6.2,6.2,6.2,6.2,6.2,6.2,6.2,6.2,6.2,6.2,6.2,6.2,6.2,6.2,6.2,6.2,6.2,6.7,6.7,6.2,7.8,7.2,7.5,7.5,7.5,6.2,6.2,6.7,7.4,7.4,7.4,6.2,8.2,8.2,8.2,6.2,6.2,7.1,7.1,6.2,6.2,6.2,6.2,6.2,6.2,6.9,6.2,6.8,6.8,6.8,6.5,6.5,6.5,6.2,5.2,6.2,6.2,6.2,6.2,6.2,6.2,6.2,6.2,3.8,3.8,3.8,7.4,7.4,7.4,4.4,4.4,6.2,6.2,6.2,5.6,6.9,6.9,6.9,6.0,6.0,4.2,4.2,6.2,6.2,6.2,4.1,4.1,4.1,6.2,4.8,4.8,4.9,4.9,6.9,6.9,6.9,6.9,6.2,6.2,6.2,5.6,5.6,5.6,4.8,4.8,4.8,4.8,4.5,4.5,4.5,5.8,5.8,5.8,6.2,6.2,8.0,8.0,8.0,5.0,5.0,6.2,5.3,6.8,6.8,8.5,8.5,8.5,6.2,6.2,6.1,6.1,6.2,6.2,6.2,6.9,7.7,7.7,7.7,6.2,6.2,6.2,6.2,4.8,7.3,7.3,6.2,6.2,1.9,2.3,2.3,6.2,5.5,5.5,5.5,7.0,7.0,7.0,7.0,6.2,6.2,4.7,6.2,6.2,7.5,7.8,7.8,6.2,6.2,6.2,6.2,6.2,6.2,8.2,6.0,6.0,6.0,6.2,6.2,6.2,6.2,7.4,4.5,4.5,4.5,5.1,6.2,6.2,6.2,6.2,6.2,6.2,6.2,6.2,6.2,6.2,2.5,6.2,6.2,6.2,6.2,5.1,6.2,6.8,6.8,6.2,3.7,3.7,6.2,3.7,4.5,4.5,4.5,6.2,6.2,6.2,7.0,7.0,7.0,6.2,8.1,4.3,6.2,6.2,6.2,6.2,6.2,6.2,6.2,6.2,4.8,4.8,6.2,6.2,6.2,6.2,4.9,4.9,4.9,6.8,6.2,6.2,6.2,6.2,4.6,6.2,6.2,6.2,6.2,6.8,6.8,7.2,7.2,7.2,6.6,6.6,6.5,6.8,6.8,6.4,6.4,6.4,6.6,6.6,6.6,6.2,6.2,5.3,5.3,5.3,6.2,3.2,2.8,2.8,4.7,5.7,5.7,6.0,5.8,4.6,4.6,4.6,5.0,7.8,7.8,7.8,6.2,6.2,6.2,6.7,6.7,6.2,6.2,6.2,6.0,6.2,4.7,6.2,6.2,6.7,6.7,6.7,6.2,6.2,6.2,5.4,5.4,5.4,6.2,6.7,6.7,6.7,6.2,6.9,6.9,7.8,7.8,6.2,6.2,6.2,6.2,7.1,7.1,7.1,3.5,3.5,3.5,5.3,5.3,5.3,3.8,3.8,5.5,5.5,5.5,6.2,7.2,7.2,6.2,6.2,5.2,5.2,6.5,7.7,7.7,6.2,6.2,8.0,9.2,7.1,7.2,5.6,5.6,5.6,6.2,6.2,6.2,6.2,6.2,6.2,6.2,6.2,6.2,6.2,6.2,5.0,5.0,5.0,6.2,7.3,4.1,6.1,6.1,6.1,6.2,6.2,6.2,7.3,7.3,7.3,7.1,7.1,7.1,5.3,6.1,6.2,6.2,6.8,6.2,6.2,6.2,6.2,6.2,6.2,3.7,3.7,6.2,6.2,5.0,5.3,5.3,5.3,6.2,5.6,8.9,6.2,6.2,6.2,7.5,7.5,7.5,2.9,2.9,6.2,4.3,6.2,7.1,7.1,4.9,4.9,4.9,6.2,6.2,6.2,6.2,6.2,6.2,6.2,4.2,6.2,6.2,6.2,6.2,6.2,6.2,5.1,5.1,5.1,6.2,7.2,7.2,7.2,6.2,6.2,6.2,6.3,6.3,6.3,8.1,8.1,5.9,5.9,5.5,5.5,5.5,6.2,6.2,5.1,5.1,5.1,5.3,6.5,6.5,6.5,4.9,6.6,6.6,6.6,6.2,6.2,6.2,6.6,6.6,6.2,6.2,5.6,5.6,5.4,5.4,5.4,6.2,6.2,6.6,6.6,6.6,6.2,6.2,6.2,6.2,3.7,3.7,3.7,5.6,6.7,6.2,6.2,3.8,3.8,3.8,3.7,3.7,3.7,6.2,4.5,4.5,6.2,5.4,6.2,5.5,5.5,5.5,5.0,6.2,6.2,6.2,7.2,7.2,6.2,4.4,4.4,4.4,4.3,6.9,6.9,6.9,6.7,7.6,7.6,7.6,6.2,6.2,6.6,6.2,6.2,6.6,6.6,6.6,6.2,6.5,6.5,6.5,4.5,4.5,7.4,7.4,6.2,6.2,6.2,7.8,7.8,6.0,6.0,6.0,3.9,6.2,4.8,6.2,3.6,6.2,6.3,6.3,6.3,5.9,5.9,5.9,5.9,5.9,5.9,6.2,6.8,6.8,6.8,7.5,7.5,7.5,6.5,6.5,6.5,6.2,8.0,8.0,5.4,5.4,6.8,6.8,5.9,5.9,6.4,6.4,4.6,4.6,7.1,7.1,4.7,6.2,4.1,4.1,6.2,6.2,6.2,6.2,6.2,6.2,6.2,6.2,5.7,5.7,5.7,6.2,6.2,6.2,6.2,7.7,6.3,6.2,7.1,7.1,7.1,5.6,5.6,5.6,6.2,4.8,6.2,6.2,4.9,3.8,3.8,6.2,6.2,6.2,6.9,6.9,4.3,4.3,4.3,4.2,4.2,4.2,7.5,7.5,7.5,6.0,6.0,6.0,7.9,6.2,5.2,5.2,5.2,1.6,1.6,6.9,6.9,6.2,7.3,6.2,5.4,6.2,6.5,5.0,5.0,5.0,6.2,6.2,4.6,4.6,4.6,7.0,7.0,4.9,4.9,7.3,7.3,7.3,4.9,5.8,5.8,5.8,6.2,5.5,7.5,7.5,7.5,6.2,6.8,5.1,5.1,6.2,6.2,3.9,3.9,6.0,6.0,6.2,6.2,6.2,6.2,6.2,6.2,4.5,9.0,9.0,6.4,6.4,6.4,6.2,6.2,6.2,4.8,6.2,6.2,6.2,6.2,6.2,6.2,6.2,4.4,4.4,4.4,6.2,6.2,7.6,7.6,6.2,6.2,6.2,6.2,6.2,6.2,6.2,6.2,4.6,6.2,6.2,7.6,7.6,7.6,6.0,6.0,6.0,6.2,6.4,6.4,6.4,7.1,6.2,6.2,6.2,6.2,6.2,6.4,6.2,3.3,6.2,6.2,7.8,7.8,7.6,7.6,6.2,6.2,6.2,6.2,6.2,3.3,3.3,3.3,6.2,3.5,3.5,3.5,5.7,6.2,8.1,6.2,3.9,3.9,6.2,6.2,6.2,3.4,2.7,5.2,5.2,5.2,6.2,5.7,6.2,6.2,7.7,7.7,7.7,5.9,5.9,5.9,6.2,6.2,6.5,6.5,6.2,4.4,4.4,4.4,6.3,6.3,6.3,6.4,6.4,6.4,6.2,5.0,5.4,3.5,3.5,6.2,6.2,3.7,3.7,6.6,4.2,4.2,4.2,4.8,4.8,4.8,6.3,6.3,6.3,7.2,7.2,7.2,5.6,6.2,7.1,7.1,7.1,6.2,2.7,2.7,7.0,6.2,6.2,6.2,6.0,6.6,6.2,5.1,6.2,6.2,6.6,6.2,7.2,7.2,7.2,6.2,6.2,6.2,6.2,7.0,7.0,7.0,5.1,5.1,6.5,3.3,3.3,3.3,6.2,6.2,6.2,5.4,5.4,5.4,6.7,3.2,3.2,3.4,3.4,4.5,4.5,4.5,5.6,5.6,6.2,6.2,4.7,4.7,4.7,6.2,4.9,4.9,5.4,6.1,4.4,4.4,4.4,6.2,6.2,5.9,5.9,5.0,5.0,6.2,6.3,6.3,6.4,8.8,4.1,4.1,4.1,6.2,6.2,6.2,6.2,6.2,6.2,6.2,6.2,6.2,6.2,4.6,3.4,3.4,3.4,5.8,7.6,6.2,6.2,5.8,5.8,3.9,3.9,4.3,4.3,6.2,5.4,5.4,6.4,6.4,6.4,6.0,6.0,6.0,4.7,4.7,6.2,5.8,5.8,5.8,6.8,6.8,6.2,3.6,3.6,6.6,6.2,5.2,5.2,5.2,4.7,4.7,4.7,6.0,7.5,7.5,4.4,4.4,4.4,6.2,6.2,3.3,6.2,6.2,6.2,6.2,6.2,6.2,6.3,5.8,5.8,7.1,7.1,7.1,5.2,6.2,6.2,6.2,4.4,6.2,6.1,6.2,6.2,6.2,3.8,3.8,3.8,6.2,6.2,6.8,4.6,4.6,6.2,3.7,3.7,3.7,4.9,4.9,6.2,5.0,5.0,6.2,6.5,6.5,6.2,6.2,6.2,6.2,6.2,6.2,6.2,4.1,4.1,4.1,6.2,6.2,6.2,6.2,3.4,6.8,6.8,6.8,6.0,6.0,6.0,5.3,5.3,8.0,8.0,8.0,7.5,7.5,7.5,6.2,6.2,6.2,8.6,6.2,6.5,6.5,6.5,7.2,7.2,7.2,7.7,3.0,3.0,5.2,5.2,5.2,4.8,6.4,6.4,5.4,5.4,5.4,6.2,6.2,6.8,6.8,6.8,7.2,7.2,7.2,6.2,4.6,4.6,6.6,7.8,7.8,6.2,6.2,6.2,5.1,5.1,5.4,5.7,5.7,5.9,7.0,6.2,6.2,6.2,6.2,6.2,6.2,6.2,6.2,6.2,6.2,7.7,7.7,7.7,7.0,7.0,7.0,6.1,5.5,5.5,6.2,6.2,7.4,7.4,7.4,6.2,4.8,4.8,4.8,4.1,4.1,4.1,4.9,4.9,6.2,5.9,5.9,5.9,6.2,5.3,5.3,4.5,6.2,6.2,6.2,6.2,4.7,4.6,4.6,7.9,4.4,4.4,6.2,6.2,6.2,4.9,4.9,6.2,6.2,6.2,4.0,4.0,4.0,6.2,6.2,6.2,6.2,5.0,4.5,4.5,6.2,3.2,5.5,6.2,5.1,5.1,5.1,4.7,4.7,4.7,6.2,6.2,6.2,7.6,5.6,5.6,6.2,6.2,6.2,6.4,6.2,7.6,7.6,6.0,6.0,6.2,4.9,4.9,4.9,3.8,3.8,3.8,6.2,6.2,6.2,6.8,6.8,6.2,6.3,6.3,6.3,6.2,6.2,6.2,5.5,5.5,5.5,6.2,6.3,4.6,5.3,5.3,5.3,6.2,6.2,6.0,6.0,6.0,5.5,5.5,6.2,6.2,6.2,5.9,5.9,6.2,6.2,3.0,3.0,3.7,3.3,6.2,6.2,4.7,7.6,7.6,7.6,6.0,6.2,3.2,3.2,3.2,6.2,7.6,7.6,7.6,6.2,6.2,6.3,7.7,7.7,7.7,6.2,6.2,6.2,6.2,6.4,6.2,6.2,6.4,6.2,6.8,6.8,6.2,6.2,6.2,5.4,5.4,5.4,6.2,7.1,7.1,6.2,6.2,6.2,5.4,5.4,5.4,6.2,6.7,6.7,6.7,6.2,6.2,6.2,3.1,6.2,4.7,4.7,4.4,4.4,4.4,6.9,6.9,5.8,5.8,7.8,6.2,3.6,3.6,3.6,4.8,4.8,4.8,6.2,6.2,6.2,6.2,5.3,3.0,3.0,4.9,4.9,4.9,6.2,7.1,7.1,6.2,6.2,6.2,3.9,7.1,4.0,4.0,6.5,6.5,6.5,7.0,6.8,6.8,6.2,2.8,6.2,2.7,2.7,6.2,6.2,6.9,6.0,6.2,6.2,5.4,8.2,8.2,8.2,3.7,6.8,6.2,5.5,5.5,6.2,8.2,8.2,6.2,4.4,6.0,6.2,6.3,5.7,6.5,6.5,6.2,6.2,6.2,6.2,6.2,4.0,4.0,4.0,5.7,6.1,6.1,6.1,4.3,4.3,4.3,4.7,5.6,5.6,5.6,6.1,6.2,6.2,6.2,6.2,6.2,6.2,4.9,4.9,4.9,6.2,6.2,5.3,5.3,5.3,6.2,5.8,5.8,5.8,4.6,4.5,4.5,6.2,6.2,6.2,6.2],\"xaxis\":\"x\",\"yaxis\":\"y\",\"type\":\"histogram\"}],                        {\"template\":{\"data\":{\"histogram2dcontour\":[{\"type\":\"histogram2dcontour\",\"colorbar\":{\"outlinewidth\":0,\"ticks\":\"\"},\"colorscale\":[[0.0,\"#0d0887\"],[0.1111111111111111,\"#46039f\"],[0.2222222222222222,\"#7201a8\"],[0.3333333333333333,\"#9c179e\"],[0.4444444444444444,\"#bd3786\"],[0.5555555555555556,\"#d8576b\"],[0.6666666666666666,\"#ed7953\"],[0.7777777777777778,\"#fb9f3a\"],[0.8888888888888888,\"#fdca26\"],[1.0,\"#f0f921\"]]}],\"choropleth\":[{\"type\":\"choropleth\",\"colorbar\":{\"outlinewidth\":0,\"ticks\":\"\"}}],\"histogram2d\":[{\"type\":\"histogram2d\",\"colorbar\":{\"outlinewidth\":0,\"ticks\":\"\"},\"colorscale\":[[0.0,\"#0d0887\"],[0.1111111111111111,\"#46039f\"],[0.2222222222222222,\"#7201a8\"],[0.3333333333333333,\"#9c179e\"],[0.4444444444444444,\"#bd3786\"],[0.5555555555555556,\"#d8576b\"],[0.6666666666666666,\"#ed7953\"],[0.7777777777777778,\"#fb9f3a\"],[0.8888888888888888,\"#fdca26\"],[1.0,\"#f0f921\"]]}],\"heatmap\":[{\"type\":\"heatmap\",\"colorbar\":{\"outlinewidth\":0,\"ticks\":\"\"},\"colorscale\":[[0.0,\"#0d0887\"],[0.1111111111111111,\"#46039f\"],[0.2222222222222222,\"#7201a8\"],[0.3333333333333333,\"#9c179e\"],[0.4444444444444444,\"#bd3786\"],[0.5555555555555556,\"#d8576b\"],[0.6666666666666666,\"#ed7953\"],[0.7777777777777778,\"#fb9f3a\"],[0.8888888888888888,\"#fdca26\"],[1.0,\"#f0f921\"]]}],\"heatmapgl\":[{\"type\":\"heatmapgl\",\"colorbar\":{\"outlinewidth\":0,\"ticks\":\"\"},\"colorscale\":[[0.0,\"#0d0887\"],[0.1111111111111111,\"#46039f\"],[0.2222222222222222,\"#7201a8\"],[0.3333333333333333,\"#9c179e\"],[0.4444444444444444,\"#bd3786\"],[0.5555555555555556,\"#d8576b\"],[0.6666666666666666,\"#ed7953\"],[0.7777777777777778,\"#fb9f3a\"],[0.8888888888888888,\"#fdca26\"],[1.0,\"#f0f921\"]]}],\"contourcarpet\":[{\"type\":\"contourcarpet\",\"colorbar\":{\"outlinewidth\":0,\"ticks\":\"\"}}],\"contour\":[{\"type\":\"contour\",\"colorbar\":{\"outlinewidth\":0,\"ticks\":\"\"},\"colorscale\":[[0.0,\"#0d0887\"],[0.1111111111111111,\"#46039f\"],[0.2222222222222222,\"#7201a8\"],[0.3333333333333333,\"#9c179e\"],[0.4444444444444444,\"#bd3786\"],[0.5555555555555556,\"#d8576b\"],[0.6666666666666666,\"#ed7953\"],[0.7777777777777778,\"#fb9f3a\"],[0.8888888888888888,\"#fdca26\"],[1.0,\"#f0f921\"]]}],\"surface\":[{\"type\":\"surface\",\"colorbar\":{\"outlinewidth\":0,\"ticks\":\"\"},\"colorscale\":[[0.0,\"#0d0887\"],[0.1111111111111111,\"#46039f\"],[0.2222222222222222,\"#7201a8\"],[0.3333333333333333,\"#9c179e\"],[0.4444444444444444,\"#bd3786\"],[0.5555555555555556,\"#d8576b\"],[0.6666666666666666,\"#ed7953\"],[0.7777777777777778,\"#fb9f3a\"],[0.8888888888888888,\"#fdca26\"],[1.0,\"#f0f921\"]]}],\"mesh3d\":[{\"type\":\"mesh3d\",\"colorbar\":{\"outlinewidth\":0,\"ticks\":\"\"}}],\"scatter\":[{\"fillpattern\":{\"fillmode\":\"overlay\",\"size\":10,\"solidity\":0.2},\"type\":\"scatter\"}],\"parcoords\":[{\"type\":\"parcoords\",\"line\":{\"colorbar\":{\"outlinewidth\":0,\"ticks\":\"\"}}}],\"scatterpolargl\":[{\"type\":\"scatterpolargl\",\"marker\":{\"colorbar\":{\"outlinewidth\":0,\"ticks\":\"\"}}}],\"bar\":[{\"error_x\":{\"color\":\"#2a3f5f\"},\"error_y\":{\"color\":\"#2a3f5f\"},\"marker\":{\"line\":{\"color\":\"#E5ECF6\",\"width\":0.5},\"pattern\":{\"fillmode\":\"overlay\",\"size\":10,\"solidity\":0.2}},\"type\":\"bar\"}],\"scattergeo\":[{\"type\":\"scattergeo\",\"marker\":{\"colorbar\":{\"outlinewidth\":0,\"ticks\":\"\"}}}],\"scatterpolar\":[{\"type\":\"scatterpolar\",\"marker\":{\"colorbar\":{\"outlinewidth\":0,\"ticks\":\"\"}}}],\"histogram\":[{\"marker\":{\"pattern\":{\"fillmode\":\"overlay\",\"size\":10,\"solidity\":0.2}},\"type\":\"histogram\"}],\"scattergl\":[{\"type\":\"scattergl\",\"marker\":{\"colorbar\":{\"outlinewidth\":0,\"ticks\":\"\"}}}],\"scatter3d\":[{\"type\":\"scatter3d\",\"line\":{\"colorbar\":{\"outlinewidth\":0,\"ticks\":\"\"}},\"marker\":{\"colorbar\":{\"outlinewidth\":0,\"ticks\":\"\"}}}],\"scattermapbox\":[{\"type\":\"scattermapbox\",\"marker\":{\"colorbar\":{\"outlinewidth\":0,\"ticks\":\"\"}}}],\"scatterternary\":[{\"type\":\"scatterternary\",\"marker\":{\"colorbar\":{\"outlinewidth\":0,\"ticks\":\"\"}}}],\"scattercarpet\":[{\"type\":\"scattercarpet\",\"marker\":{\"colorbar\":{\"outlinewidth\":0,\"ticks\":\"\"}}}],\"carpet\":[{\"aaxis\":{\"endlinecolor\":\"#2a3f5f\",\"gridcolor\":\"white\",\"linecolor\":\"white\",\"minorgridcolor\":\"white\",\"startlinecolor\":\"#2a3f5f\"},\"baxis\":{\"endlinecolor\":\"#2a3f5f\",\"gridcolor\":\"white\",\"linecolor\":\"white\",\"minorgridcolor\":\"white\",\"startlinecolor\":\"#2a3f5f\"},\"type\":\"carpet\"}],\"table\":[{\"cells\":{\"fill\":{\"color\":\"#EBF0F8\"},\"line\":{\"color\":\"white\"}},\"header\":{\"fill\":{\"color\":\"#C8D4E3\"},\"line\":{\"color\":\"white\"}},\"type\":\"table\"}],\"barpolar\":[{\"marker\":{\"line\":{\"color\":\"#E5ECF6\",\"width\":0.5},\"pattern\":{\"fillmode\":\"overlay\",\"size\":10,\"solidity\":0.2}},\"type\":\"barpolar\"}],\"pie\":[{\"automargin\":true,\"type\":\"pie\"}]},\"layout\":{\"autotypenumbers\":\"strict\",\"colorway\":[\"#636efa\",\"#EF553B\",\"#00cc96\",\"#ab63fa\",\"#FFA15A\",\"#19d3f3\",\"#FF6692\",\"#B6E880\",\"#FF97FF\",\"#FECB52\"],\"font\":{\"color\":\"#2a3f5f\"},\"hovermode\":\"closest\",\"hoverlabel\":{\"align\":\"left\"},\"paper_bgcolor\":\"white\",\"plot_bgcolor\":\"#E5ECF6\",\"polar\":{\"bgcolor\":\"#E5ECF6\",\"angularaxis\":{\"gridcolor\":\"white\",\"linecolor\":\"white\",\"ticks\":\"\"},\"radialaxis\":{\"gridcolor\":\"white\",\"linecolor\":\"white\",\"ticks\":\"\"}},\"ternary\":{\"bgcolor\":\"#E5ECF6\",\"aaxis\":{\"gridcolor\":\"white\",\"linecolor\":\"white\",\"ticks\":\"\"},\"baxis\":{\"gridcolor\":\"white\",\"linecolor\":\"white\",\"ticks\":\"\"},\"caxis\":{\"gridcolor\":\"white\",\"linecolor\":\"white\",\"ticks\":\"\"}},\"coloraxis\":{\"colorbar\":{\"outlinewidth\":0,\"ticks\":\"\"}},\"colorscale\":{\"sequential\":[[0.0,\"#0d0887\"],[0.1111111111111111,\"#46039f\"],[0.2222222222222222,\"#7201a8\"],[0.3333333333333333,\"#9c179e\"],[0.4444444444444444,\"#bd3786\"],[0.5555555555555556,\"#d8576b\"],[0.6666666666666666,\"#ed7953\"],[0.7777777777777778,\"#fb9f3a\"],[0.8888888888888888,\"#fdca26\"],[1.0,\"#f0f921\"]],\"sequentialminus\":[[0.0,\"#0d0887\"],[0.1111111111111111,\"#46039f\"],[0.2222222222222222,\"#7201a8\"],[0.3333333333333333,\"#9c179e\"],[0.4444444444444444,\"#bd3786\"],[0.5555555555555556,\"#d8576b\"],[0.6666666666666666,\"#ed7953\"],[0.7777777777777778,\"#fb9f3a\"],[0.8888888888888888,\"#fdca26\"],[1.0,\"#f0f921\"]],\"diverging\":[[0,\"#8e0152\"],[0.1,\"#c51b7d\"],[0.2,\"#de77ae\"],[0.3,\"#f1b6da\"],[0.4,\"#fde0ef\"],[0.5,\"#f7f7f7\"],[0.6,\"#e6f5d0\"],[0.7,\"#b8e186\"],[0.8,\"#7fbc41\"],[0.9,\"#4d9221\"],[1,\"#276419\"]]},\"xaxis\":{\"gridcolor\":\"white\",\"linecolor\":\"white\",\"ticks\":\"\",\"title\":{\"standoff\":15},\"zerolinecolor\":\"white\",\"automargin\":true,\"zerolinewidth\":2},\"yaxis\":{\"gridcolor\":\"white\",\"linecolor\":\"white\",\"ticks\":\"\",\"title\":{\"standoff\":15},\"zerolinecolor\":\"white\",\"automargin\":true,\"zerolinewidth\":2},\"scene\":{\"xaxis\":{\"backgroundcolor\":\"#E5ECF6\",\"gridcolor\":\"white\",\"linecolor\":\"white\",\"showbackground\":true,\"ticks\":\"\",\"zerolinecolor\":\"white\",\"gridwidth\":2},\"yaxis\":{\"backgroundcolor\":\"#E5ECF6\",\"gridcolor\":\"white\",\"linecolor\":\"white\",\"showbackground\":true,\"ticks\":\"\",\"zerolinecolor\":\"white\",\"gridwidth\":2},\"zaxis\":{\"backgroundcolor\":\"#E5ECF6\",\"gridcolor\":\"white\",\"linecolor\":\"white\",\"showbackground\":true,\"ticks\":\"\",\"zerolinecolor\":\"white\",\"gridwidth\":2}},\"shapedefaults\":{\"line\":{\"color\":\"#2a3f5f\"}},\"annotationdefaults\":{\"arrowcolor\":\"#2a3f5f\",\"arrowhead\":0,\"arrowwidth\":1},\"geo\":{\"bgcolor\":\"white\",\"landcolor\":\"#E5ECF6\",\"subunitcolor\":\"white\",\"showland\":true,\"showlakes\":true,\"lakecolor\":\"white\"},\"title\":{\"x\":0.05},\"mapbox\":{\"style\":\"light\"}}},\"xaxis\":{\"anchor\":\"y\",\"domain\":[0.0,1.0],\"title\":{\"text\":\"Rating\"}},\"yaxis\":{\"anchor\":\"x\",\"domain\":[0.0,1.0],\"title\":{\"text\":\"probability density\"}},\"legend\":{\"tracegroupgap\":0},\"margin\":{\"t\":60},\"barmode\":\"relative\",\"title\":{\"text\":\"Distribution of Rating\",\"x\":0.5,\"pad\":{\"t\":20},\"font\":{\"size\":20}}},                        {\"responsive\": true}                    ).then(function(){\n",
              "                            \n",
              "var gd = document.getElementById('49514a27-c931-479a-be28-c2a3a8d65efd');\n",
              "var x = new MutationObserver(function (mutations, observer) {{\n",
              "        var display = window.getComputedStyle(gd).display;\n",
              "        if (!display || display === 'none') {{\n",
              "            console.log([gd, 'removed!']);\n",
              "            Plotly.purge(gd);\n",
              "            observer.disconnect();\n",
              "        }}\n",
              "}});\n",
              "\n",
              "// Listen for the removal of the full notebook cells\n",
              "var notebookContainer = gd.closest('#notebook-container');\n",
              "if (notebookContainer) {{\n",
              "    x.observe(notebookContainer, {childList: true});\n",
              "}}\n",
              "\n",
              "// Listen for the clearing of the current output cell\n",
              "var outputEl = gd.closest('.output');\n",
              "if (outputEl) {{\n",
              "    x.observe(outputEl, {childList: true});\n",
              "}}\n",
              "\n",
              "                        })                };                            </script>        </div>\n",
              "</body>\n",
              "</html>"
            ]
          },
          "metadata": {}
        }
      ]
    },
    {
      "cell_type": "markdown",
      "source": [
        "# Feature Engineering\n"
      ],
      "metadata": {
        "id": "_lu6XS_iQdE6"
      }
    },
    {
      "cell_type": "code",
      "source": [
        "from sklearn.model_selection import train_test_split,cross_val_score\n",
        "from sklearn.linear_model import LinearRegression\n",
        "from sklearn.metrics import accuracy_score,mean_absolute_error,mean_squared_error,r2_score"
      ],
      "metadata": {
        "id": "AvTrjQHGPgT1"
      },
      "execution_count": 48,
      "outputs": []
    },
    {
      "cell_type": "code",
      "source": [
        "# Group by 'Genre' and calculate the mean rating, then create a new column for genre mean rating\n",
        "genre_mean_rating = df.groupby('Genre')['Rating'].transform('mean')\n",
        "df['Genre_mean_rating'] = genre_mean_rating\n",
        "\n",
        "# Group by 'Director' and calculate the mean rating, then create a new column for director mean rating\n",
        "director_mean_rating = df.groupby('Director')['Rating'].transform('mean')\n",
        "df['Director_encoded'] = director_mean_rating\n",
        "\n",
        "# Group by 'Actor 1' and calculate the mean rating, then create a new column for actor1 mean rating\n",
        "actor1_mean_rating = df.groupby('Actor 1')['Rating'].transform('mean')\n",
        "df['Actor1_encoded'] = actor1_mean_rating\n",
        "\n",
        "# Group by 'Actor 2' and calculate the mean rating, then create a new column for actor2 mean rating\n",
        "actor2_mean_rating = df.groupby('Actor 2')['Rating'].transform('mean')\n",
        "df['Actor2_encoded'] = actor2_mean_rating\n",
        "\n",
        "# Group by 'Actor 3' and calculate the mean rating, then create a new column for actor3 mean rating\n",
        "actor3_mean_rating = df.groupby('Actor 3')['Rating'].transform('mean')\n",
        "df['Actor3_encoded'] = actor3_mean_rating"
      ],
      "metadata": {
        "id": "lRSdQhMSPgRH"
      },
      "execution_count": 49,
      "outputs": []
    },
    {
      "cell_type": "code",
      "source": [
        "x=df[['Year','Votes','Duration','Genre_mean_rating','Director_encoded','Actor1_encoded','Actor2_encoded','Actor3_encoded']]\n",
        "y=df['Rating']"
      ],
      "metadata": {
        "id": "ah3mZbVfPgOi"
      },
      "execution_count": 50,
      "outputs": []
    },
    {
      "cell_type": "code",
      "source": [
        "x_train,x_test,y_train,y_test=train_test_split(x,y,test_size=0.2,random_state=42)"
      ],
      "metadata": {
        "id": "uURVMpTqPgL-"
      },
      "execution_count": 51,
      "outputs": []
    },
    {
      "cell_type": "markdown",
      "source": [
        "# Model Building"
      ],
      "metadata": {
        "id": "3EQ6ao4QQsta"
      }
    },
    {
      "cell_type": "code",
      "source": [
        "#building machine learning model and training them\n",
        "model = LinearRegression()\n",
        "model.fit(x_train, y_train)\n",
        "model_pred = model.predict(x_test)"
      ],
      "metadata": {
        "id": "VK95rD4UPgJb"
      },
      "execution_count": 52,
      "outputs": []
    },
    {
      "cell_type": "code",
      "source": [
        "# Evaluate the performance of the model\n",
        "print('The performance evaluation of Linear Regression is below:')\n",
        "print(\"Mean squared error:\", mean_squared_error(y_test, model_pred))\n",
        "print(\"Mean absolute error:\", mean_absolute_error(y_test, model_pred))\n",
        "print('R2 score:', r2_score(y_test, model_pred))"
      ],
      "metadata": {
        "id": "D5qicllhPgG7",
        "colab": {
          "base_uri": "https://localhost:8080/"
        },
        "outputId": "e2277a7d-3a17-480a-fe48-3403afa3d37d"
      },
      "execution_count": 53,
      "outputs": [
        {
          "output_type": "stream",
          "name": "stdout",
          "text": [
            "The performance evaluation of Linear Regression is below:\n",
            "Mean squared error: 0.3643976303106706\n",
            "Mean absolute error: 0.40983138122537066\n",
            "R2 score: 0.6942327413243506\n"
          ]
        }
      ]
    },
    {
      "cell_type": "markdown",
      "source": [
        "# Model Testing"
      ],
      "metadata": {
        "id": "W7zi_S9OQ3hH"
      }
    },
    {
      "cell_type": "code",
      "source": [
        "x.head(5)"
      ],
      "metadata": {
        "id": "OEXO_3D7PgEI",
        "colab": {
          "base_uri": "https://localhost:8080/",
          "height": 206
        },
        "outputId": "e9db22a6-e1d2-4794-a828-14673bd0eefe"
      },
      "execution_count": 54,
      "outputs": [
        {
          "output_type": "execute_result",
          "data": {
            "text/plain": [
              "   Year  Votes  Duration  Genre_mean_rating  Director_encoded  Actor1_encoded  \\\n",
              "0  2019    8.0       120           6.088991              5.95            6.20   \n",
              "1  2019    8.0       109           6.088991              7.00            6.85   \n",
              "2  2021    8.0        90           6.088991              6.20            6.52   \n",
              "2  2021    8.0        90           6.163328              6.20            6.52   \n",
              "3  2019   35.0       110           5.833070              4.40            5.25   \n",
              "\n",
              "   Actor2_encoded  Actor3_encoded  \n",
              "0        5.742857            6.20  \n",
              "1        7.000000            7.00  \n",
              "2        6.775000            6.20  \n",
              "2        6.775000            6.20  \n",
              "3        4.400000            4.46  "
            ],
            "text/html": [
              "\n",
              "  <div id=\"df-f2c47ec7-b9e9-4576-b5e6-31b1579c9d70\" class=\"colab-df-container\">\n",
              "    <div>\n",
              "<style scoped>\n",
              "    .dataframe tbody tr th:only-of-type {\n",
              "        vertical-align: middle;\n",
              "    }\n",
              "\n",
              "    .dataframe tbody tr th {\n",
              "        vertical-align: top;\n",
              "    }\n",
              "\n",
              "    .dataframe thead th {\n",
              "        text-align: right;\n",
              "    }\n",
              "</style>\n",
              "<table border=\"1\" class=\"dataframe\">\n",
              "  <thead>\n",
              "    <tr style=\"text-align: right;\">\n",
              "      <th></th>\n",
              "      <th>Year</th>\n",
              "      <th>Votes</th>\n",
              "      <th>Duration</th>\n",
              "      <th>Genre_mean_rating</th>\n",
              "      <th>Director_encoded</th>\n",
              "      <th>Actor1_encoded</th>\n",
              "      <th>Actor2_encoded</th>\n",
              "      <th>Actor3_encoded</th>\n",
              "    </tr>\n",
              "  </thead>\n",
              "  <tbody>\n",
              "    <tr>\n",
              "      <th>0</th>\n",
              "      <td>2019</td>\n",
              "      <td>8.0</td>\n",
              "      <td>120</td>\n",
              "      <td>6.088991</td>\n",
              "      <td>5.95</td>\n",
              "      <td>6.20</td>\n",
              "      <td>5.742857</td>\n",
              "      <td>6.20</td>\n",
              "    </tr>\n",
              "    <tr>\n",
              "      <th>1</th>\n",
              "      <td>2019</td>\n",
              "      <td>8.0</td>\n",
              "      <td>109</td>\n",
              "      <td>6.088991</td>\n",
              "      <td>7.00</td>\n",
              "      <td>6.85</td>\n",
              "      <td>7.000000</td>\n",
              "      <td>7.00</td>\n",
              "    </tr>\n",
              "    <tr>\n",
              "      <th>2</th>\n",
              "      <td>2021</td>\n",
              "      <td>8.0</td>\n",
              "      <td>90</td>\n",
              "      <td>6.088991</td>\n",
              "      <td>6.20</td>\n",
              "      <td>6.52</td>\n",
              "      <td>6.775000</td>\n",
              "      <td>6.20</td>\n",
              "    </tr>\n",
              "    <tr>\n",
              "      <th>2</th>\n",
              "      <td>2021</td>\n",
              "      <td>8.0</td>\n",
              "      <td>90</td>\n",
              "      <td>6.163328</td>\n",
              "      <td>6.20</td>\n",
              "      <td>6.52</td>\n",
              "      <td>6.775000</td>\n",
              "      <td>6.20</td>\n",
              "    </tr>\n",
              "    <tr>\n",
              "      <th>3</th>\n",
              "      <td>2019</td>\n",
              "      <td>35.0</td>\n",
              "      <td>110</td>\n",
              "      <td>5.833070</td>\n",
              "      <td>4.40</td>\n",
              "      <td>5.25</td>\n",
              "      <td>4.400000</td>\n",
              "      <td>4.46</td>\n",
              "    </tr>\n",
              "  </tbody>\n",
              "</table>\n",
              "</div>\n",
              "    <div class=\"colab-df-buttons\">\n",
              "\n",
              "  <div class=\"colab-df-container\">\n",
              "    <button class=\"colab-df-convert\" onclick=\"convertToInteractive('df-f2c47ec7-b9e9-4576-b5e6-31b1579c9d70')\"\n",
              "            title=\"Convert this dataframe to an interactive table.\"\n",
              "            style=\"display:none;\">\n",
              "\n",
              "  <svg xmlns=\"http://www.w3.org/2000/svg\" height=\"24px\" viewBox=\"0 -960 960 960\">\n",
              "    <path d=\"M120-120v-720h720v720H120Zm60-500h600v-160H180v160Zm220 220h160v-160H400v160Zm0 220h160v-160H400v160ZM180-400h160v-160H180v160Zm440 0h160v-160H620v160ZM180-180h160v-160H180v160Zm440 0h160v-160H620v160Z\"/>\n",
              "  </svg>\n",
              "    </button>\n",
              "\n",
              "  <style>\n",
              "    .colab-df-container {\n",
              "      display:flex;\n",
              "      gap: 12px;\n",
              "    }\n",
              "\n",
              "    .colab-df-convert {\n",
              "      background-color: #E8F0FE;\n",
              "      border: none;\n",
              "      border-radius: 50%;\n",
              "      cursor: pointer;\n",
              "      display: none;\n",
              "      fill: #1967D2;\n",
              "      height: 32px;\n",
              "      padding: 0 0 0 0;\n",
              "      width: 32px;\n",
              "    }\n",
              "\n",
              "    .colab-df-convert:hover {\n",
              "      background-color: #E2EBFA;\n",
              "      box-shadow: 0px 1px 2px rgba(60, 64, 67, 0.3), 0px 1px 3px 1px rgba(60, 64, 67, 0.15);\n",
              "      fill: #174EA6;\n",
              "    }\n",
              "\n",
              "    .colab-df-buttons div {\n",
              "      margin-bottom: 4px;\n",
              "    }\n",
              "\n",
              "    [theme=dark] .colab-df-convert {\n",
              "      background-color: #3B4455;\n",
              "      fill: #D2E3FC;\n",
              "    }\n",
              "\n",
              "    [theme=dark] .colab-df-convert:hover {\n",
              "      background-color: #434B5C;\n",
              "      box-shadow: 0px 1px 3px 1px rgba(0, 0, 0, 0.15);\n",
              "      filter: drop-shadow(0px 1px 2px rgba(0, 0, 0, 0.3));\n",
              "      fill: #FFFFFF;\n",
              "    }\n",
              "  </style>\n",
              "\n",
              "    <script>\n",
              "      const buttonEl =\n",
              "        document.querySelector('#df-f2c47ec7-b9e9-4576-b5e6-31b1579c9d70 button.colab-df-convert');\n",
              "      buttonEl.style.display =\n",
              "        google.colab.kernel.accessAllowed ? 'block' : 'none';\n",
              "\n",
              "      async function convertToInteractive(key) {\n",
              "        const element = document.querySelector('#df-f2c47ec7-b9e9-4576-b5e6-31b1579c9d70');\n",
              "        const dataTable =\n",
              "          await google.colab.kernel.invokeFunction('convertToInteractive',\n",
              "                                                    [key], {});\n",
              "        if (!dataTable) return;\n",
              "\n",
              "        const docLinkHtml = 'Like what you see? Visit the ' +\n",
              "          '<a target=\"_blank\" href=https://colab.research.google.com/notebooks/data_table.ipynb>data table notebook</a>'\n",
              "          + ' to learn more about interactive tables.';\n",
              "        element.innerHTML = '';\n",
              "        dataTable['output_type'] = 'display_data';\n",
              "        await google.colab.output.renderOutput(dataTable, element);\n",
              "        const docLink = document.createElement('div');\n",
              "        docLink.innerHTML = docLinkHtml;\n",
              "        element.appendChild(docLink);\n",
              "      }\n",
              "    </script>\n",
              "  </div>\n",
              "\n",
              "\n",
              "<div id=\"df-4bbb3118-3600-4e06-a284-26e676041b5a\">\n",
              "  <button class=\"colab-df-quickchart\" onclick=\"quickchart('df-4bbb3118-3600-4e06-a284-26e676041b5a')\"\n",
              "            title=\"Suggest charts\"\n",
              "            style=\"display:none;\">\n",
              "\n",
              "<svg xmlns=\"http://www.w3.org/2000/svg\" height=\"24px\"viewBox=\"0 0 24 24\"\n",
              "     width=\"24px\">\n",
              "    <g>\n",
              "        <path d=\"M19 3H5c-1.1 0-2 .9-2 2v14c0 1.1.9 2 2 2h14c1.1 0 2-.9 2-2V5c0-1.1-.9-2-2-2zM9 17H7v-7h2v7zm4 0h-2V7h2v10zm4 0h-2v-4h2v4z\"/>\n",
              "    </g>\n",
              "</svg>\n",
              "  </button>\n",
              "\n",
              "<style>\n",
              "  .colab-df-quickchart {\n",
              "      --bg-color: #E8F0FE;\n",
              "      --fill-color: #1967D2;\n",
              "      --hover-bg-color: #E2EBFA;\n",
              "      --hover-fill-color: #174EA6;\n",
              "      --disabled-fill-color: #AAA;\n",
              "      --disabled-bg-color: #DDD;\n",
              "  }\n",
              "\n",
              "  [theme=dark] .colab-df-quickchart {\n",
              "      --bg-color: #3B4455;\n",
              "      --fill-color: #D2E3FC;\n",
              "      --hover-bg-color: #434B5C;\n",
              "      --hover-fill-color: #FFFFFF;\n",
              "      --disabled-bg-color: #3B4455;\n",
              "      --disabled-fill-color: #666;\n",
              "  }\n",
              "\n",
              "  .colab-df-quickchart {\n",
              "    background-color: var(--bg-color);\n",
              "    border: none;\n",
              "    border-radius: 50%;\n",
              "    cursor: pointer;\n",
              "    display: none;\n",
              "    fill: var(--fill-color);\n",
              "    height: 32px;\n",
              "    padding: 0;\n",
              "    width: 32px;\n",
              "  }\n",
              "\n",
              "  .colab-df-quickchart:hover {\n",
              "    background-color: var(--hover-bg-color);\n",
              "    box-shadow: 0 1px 2px rgba(60, 64, 67, 0.3), 0 1px 3px 1px rgba(60, 64, 67, 0.15);\n",
              "    fill: var(--button-hover-fill-color);\n",
              "  }\n",
              "\n",
              "  .colab-df-quickchart-complete:disabled,\n",
              "  .colab-df-quickchart-complete:disabled:hover {\n",
              "    background-color: var(--disabled-bg-color);\n",
              "    fill: var(--disabled-fill-color);\n",
              "    box-shadow: none;\n",
              "  }\n",
              "\n",
              "  .colab-df-spinner {\n",
              "    border: 2px solid var(--fill-color);\n",
              "    border-color: transparent;\n",
              "    border-bottom-color: var(--fill-color);\n",
              "    animation:\n",
              "      spin 1s steps(1) infinite;\n",
              "  }\n",
              "\n",
              "  @keyframes spin {\n",
              "    0% {\n",
              "      border-color: transparent;\n",
              "      border-bottom-color: var(--fill-color);\n",
              "      border-left-color: var(--fill-color);\n",
              "    }\n",
              "    20% {\n",
              "      border-color: transparent;\n",
              "      border-left-color: var(--fill-color);\n",
              "      border-top-color: var(--fill-color);\n",
              "    }\n",
              "    30% {\n",
              "      border-color: transparent;\n",
              "      border-left-color: var(--fill-color);\n",
              "      border-top-color: var(--fill-color);\n",
              "      border-right-color: var(--fill-color);\n",
              "    }\n",
              "    40% {\n",
              "      border-color: transparent;\n",
              "      border-right-color: var(--fill-color);\n",
              "      border-top-color: var(--fill-color);\n",
              "    }\n",
              "    60% {\n",
              "      border-color: transparent;\n",
              "      border-right-color: var(--fill-color);\n",
              "    }\n",
              "    80% {\n",
              "      border-color: transparent;\n",
              "      border-right-color: var(--fill-color);\n",
              "      border-bottom-color: var(--fill-color);\n",
              "    }\n",
              "    90% {\n",
              "      border-color: transparent;\n",
              "      border-bottom-color: var(--fill-color);\n",
              "    }\n",
              "  }\n",
              "</style>\n",
              "\n",
              "  <script>\n",
              "    async function quickchart(key) {\n",
              "      const quickchartButtonEl =\n",
              "        document.querySelector('#' + key + ' button');\n",
              "      quickchartButtonEl.disabled = true;  // To prevent multiple clicks.\n",
              "      quickchartButtonEl.classList.add('colab-df-spinner');\n",
              "      try {\n",
              "        const charts = await google.colab.kernel.invokeFunction(\n",
              "            'suggestCharts', [key], {});\n",
              "      } catch (error) {\n",
              "        console.error('Error during call to suggestCharts:', error);\n",
              "      }\n",
              "      quickchartButtonEl.classList.remove('colab-df-spinner');\n",
              "      quickchartButtonEl.classList.add('colab-df-quickchart-complete');\n",
              "    }\n",
              "    (() => {\n",
              "      let quickchartButtonEl =\n",
              "        document.querySelector('#df-4bbb3118-3600-4e06-a284-26e676041b5a button');\n",
              "      quickchartButtonEl.style.display =\n",
              "        google.colab.kernel.accessAllowed ? 'block' : 'none';\n",
              "    })();\n",
              "  </script>\n",
              "</div>\n",
              "\n",
              "    </div>\n",
              "  </div>\n"
            ],
            "application/vnd.google.colaboratory.intrinsic+json": {
              "type": "dataframe",
              "variable_name": "x",
              "summary": "{\n  \"name\": \"x\",\n  \"rows\": 24950,\n  \"fields\": [\n    {\n      \"column\": \"Year\",\n      \"properties\": {\n        \"dtype\": \"number\",\n        \"std\": 24,\n        \"min\": 1913,\n        \"max\": 2022,\n        \"num_unique_values\": 102,\n        \"samples\": [\n          1974,\n          1963,\n          1971\n        ],\n        \"semantic_type\": \"\",\n        \"description\": \"\"\n      }\n    },\n    {\n      \"column\": \"Votes\",\n      \"properties\": {\n        \"dtype\": \"number\",\n        \"std\": 10734.123516496134,\n        \"min\": 5.0,\n        \"max\": 591417.0,\n        \"num_unique_values\": 2034,\n        \"samples\": [\n          837.0,\n          101.0,\n          2566.0\n        ],\n        \"semantic_type\": \"\",\n        \"description\": \"\"\n      }\n    },\n    {\n      \"column\": \"Duration\",\n      \"properties\": {\n        \"dtype\": \"number\",\n        \"std\": 21,\n        \"min\": 2,\n        \"max\": 321,\n        \"num_unique_values\": 182,\n        \"samples\": [\n          168,\n          99,\n          179\n        ],\n        \"semantic_type\": \"\",\n        \"description\": \"\"\n      }\n    },\n    {\n      \"column\": \"Genre_mean_rating\",\n      \"properties\": {\n        \"dtype\": \"number\",\n        \"std\": 0.21563924994083788,\n        \"min\": 5.443893129770992,\n        \"max\": 6.727676240208877,\n        \"num_unique_values\": 23,\n        \"samples\": [\n          6.414285714285715,\n          5.687778718600057,\n          6.088991228070175\n        ],\n        \"semantic_type\": \"\",\n        \"description\": \"\"\n      }\n    },\n    {\n      \"column\": \"Director_encoded\",\n      \"properties\": {\n        \"dtype\": \"number\",\n        \"std\": 0.8264338847803083,\n        \"min\": 1.7,\n        \"max\": 10.0,\n        \"num_unique_values\": 914,\n        \"samples\": [\n          7.42,\n          7.400000000000001,\n          5.82\n        ],\n        \"semantic_type\": \"\",\n        \"description\": \"\"\n      }\n    },\n    {\n      \"column\": \"Actor1_encoded\",\n      \"properties\": {\n        \"dtype\": \"number\",\n        \"std\": 0.7600863282921019,\n        \"min\": 1.4,\n        \"max\": 10.0,\n        \"num_unique_values\": 759,\n        \"samples\": [\n          5.246478873239437,\n          6.334615384615384,\n          6.972727272727273\n        ],\n        \"semantic_type\": \"\",\n        \"description\": \"\"\n      }\n    },\n    {\n      \"column\": \"Actor2_encoded\",\n      \"properties\": {\n        \"dtype\": \"number\",\n        \"std\": 0.7684556286317358,\n        \"min\": 1.6,\n        \"max\": 10.0,\n        \"num_unique_values\": 837,\n        \"samples\": [\n          6.059259259259259,\n          7.05,\n          5.791666666666667\n        ],\n        \"semantic_type\": \"\",\n        \"description\": \"\"\n      }\n    },\n    {\n      \"column\": \"Actor3_encoded\",\n      \"properties\": {\n        \"dtype\": \"number\",\n        \"std\": 0.7789170818447572,\n        \"min\": 1.7,\n        \"max\": 10.0,\n        \"num_unique_values\": 852,\n        \"samples\": [\n          6.555555555555555,\n          5.08,\n          5.977777777777778\n        ],\n        \"semantic_type\": \"\",\n        \"description\": \"\"\n      }\n    }\n  ]\n}"
            }
          },
          "metadata": {},
          "execution_count": 54
        }
      ]
    },
    {
      "cell_type": "code",
      "source": [
        "y.head(5)"
      ],
      "metadata": {
        "id": "ddwArCrOPgBj",
        "colab": {
          "base_uri": "https://localhost:8080/"
        },
        "outputId": "2b69ef1a-988f-4f51-a133-196da719b427"
      },
      "execution_count": 55,
      "outputs": [
        {
          "output_type": "execute_result",
          "data": {
            "text/plain": [
              "0    6.2\n",
              "1    7.0\n",
              "2    6.2\n",
              "2    6.2\n",
              "3    4.4\n",
              "Name: Rating, dtype: float64"
            ]
          },
          "metadata": {},
          "execution_count": 55
        }
      ]
    },
    {
      "cell_type": "code",
      "source": [
        "# For testing we create a new dataframe with values close to the any of our existing data to evaluate\n",
        "data={'Year':[2019],'Votes':[36],'Duration':[111],'Genre_mean_rating':[5.8],'Director_encoded':[4.5],'Actor1_encoded':[5.3],'Actor2_encoded':[4.5],'Actor3_encoded':[4.5]}\n",
        "trail=pd.DataFrame(data)"
      ],
      "metadata": {
        "id": "FZdJv4-hPf-3"
      },
      "execution_count": 56,
      "outputs": []
    },
    {
      "cell_type": "code",
      "source": [
        "# Predict the movie rating ny entered data\n",
        "rating_predicted=model.predict(trail)\n",
        "\n",
        "# Display the preddicted result from the Model\n",
        "print(\"Predicted Rating:\",rating_predicted[0])"
      ],
      "metadata": {
        "id": "NLTPh-mAPf8L",
        "colab": {
          "base_uri": "https://localhost:8080/"
        },
        "outputId": "b20485ef-2c86-4dd9-913a-d7ef4e657fc3"
      },
      "execution_count": 57,
      "outputs": [
        {
          "output_type": "stream",
          "name": "stdout",
          "text": [
            "Predicted Rating: 4.131295153197346\n"
          ]
        }
      ]
    }
  ]
}